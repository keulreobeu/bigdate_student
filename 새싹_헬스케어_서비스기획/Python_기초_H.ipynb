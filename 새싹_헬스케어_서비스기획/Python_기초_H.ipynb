{
  "cells": [
    {
      "cell_type": "markdown",
      "metadata": {
        "id": "view-in-github",
        "colab_type": "text"
      },
      "source": [
        "<a href=\"https://colab.research.google.com/github/keulreobeu/bigdate_student/blob/main/%EC%83%88%EC%8B%B9_%ED%97%AC%EC%8A%A4%EC%BC%80%EC%96%B4_%EC%84%9C%EB%B9%84%EC%8A%A4%EA%B8%B0%ED%9A%8D/Python_%EA%B8%B0%EC%B4%88_H.ipynb\" target=\"_parent\"><img src=\"https://colab.research.google.com/assets/colab-badge.svg\" alt=\"Open In Colab\"/></a>"
      ]
    },
    {
      "cell_type": "markdown",
      "metadata": {
        "id": "Mq8F19SPMdh7"
      },
      "source": [
        "# Python 기초 문법\n",
        "\n",
        "`작성자: 최원칠 강사`   \n",
        "`traveler4d@gmail.com`\n"
      ]
    },
    {
      "cell_type": "markdown",
      "source": [
        "## 파이썬 정의\n",
        "파이썬은 크게 **변수, 함수, 객체, 모듈** 4가지의 정의를 가지고 있습니다.  11\n",
        "파이썬은 이러한 정의를 통해 데이터의 기본 규칙을 만들어 냅니다."
      ],
      "metadata": {
        "id": "ODbpsPtwNI5B"
      }
    },
    {
      "cell_type": "markdown",
      "metadata": {
        "id": "Tr4ndUoYMdiA"
      },
      "source": [
        "### 변수\n",
        "\n",
        "파이썬에서 데이터를 활용하기 위해서는 기본적으로 **변수**라는 정의를 사용합니다.\n",
        "\n",
        "컴퓨터에서 데이터란 메모리라는 하드웨어에 존재합니다. 하드웨어는 수많은 주소를 가지고 있으며 데이터는 이 주소에 저장이 됩니다. 저장된 데이터를 찾아가기 위해서는 주소를 알아야 하며 데이터가 저장된 주소를 참조하는 주소명 역할을 하는것이 바로 변수입니다.  \n",
        "\n",
        "\n",
        "- **변수**\n",
        "    - 프로그래머가 컴퓨터에 보관된 데이터를 찾고 활용 할 수 있게 해주는 **참조** 주소명\n",
        "    - 데이터 생성 시 변수에 **할당** 하여 이후에 지속적으로 데이터를 사용\n",
        "    - 변수는 하나의 주소에만 참조가 가능\n",
        "\n",
        "\n",
        "<center><img src=\"https://drive.google.com/thumbnail?id=1E40fFpSY_Uzzen6s9IeTnTHME3k7TNm5&sz=w1000\" width=\"400\"/></center>\n",
        "\n",
        "- 변수 이름 규칙\n",
        "    - 소문자 영단어\n",
        "    - 2개이상의 단어 사용시 _ 로 단어구분 ex) my_num\n",
        "    - _ 를 제외한 특수문자 사용 금지\n",
        "    - 숫자 사용시 영단어 뒤에 배치 ex) num1"
      ]
    },
    {
      "cell_type": "markdown",
      "source": [
        "#### 변수 할당\n",
        "변수에 데이터를 할당 하기 위해선 적절한 표현의 변수이름을 지정하고 `=` 기호를 작성하고 데이터를 입력합니다."
      ],
      "metadata": {
        "id": "daO0jwuAM3uJ"
      }
    },
    {
      "cell_type": "code",
      "execution_count": null,
      "metadata": {
        "id": "-Te3iHrIMdiB",
        "outputId": "ea9ac8b6-2bd0-4ffb-f9ea-b65a5e7553e4",
        "colab": {
          "base_uri": "https://localhost:8080/"
        }
      },
      "outputs": [
        {
          "output_type": "execute_result",
          "data": {
            "text/plain": [
              "10"
            ]
          },
          "metadata": {},
          "execution_count": 1
        }
      ],
      "source": [
        "# 할당(assign), 저장의 의미를 가짐\n",
        "num = 10\n",
        "num"
      ]
    },
    {
      "cell_type": "markdown",
      "source": [
        "이미 할당된 변수에 = 을 사용하면 재할당이 이루어집니다."
      ],
      "metadata": {
        "id": "ZPYBp1Z5Nr3_"
      }
    },
    {
      "cell_type": "code",
      "execution_count": null,
      "metadata": {
        "id": "Hfu0W_JvMdiD",
        "outputId": "fc5b468d-c3af-42da-ccf7-8361e4beb0a6",
        "colab": {
          "base_uri": "https://localhost:8080/"
        }
      },
      "outputs": [
        {
          "output_type": "execute_result",
          "data": {
            "text/plain": [
              "11"
            ]
          },
          "metadata": {},
          "execution_count": 2
        }
      ],
      "source": [
        "# 변수 재할당\n",
        "num = 10\n",
        "num = 11\n",
        "num"
      ]
    },
    {
      "cell_type": "markdown",
      "source": [
        "변수(a)에 할당이 이루어진 또다른 변수(b)를 할당 하면 변수(b)에 할당된 데이터가 변수(a)에 할당됩니다."
      ],
      "metadata": {
        "id": "BlwPCAsSOD_Z"
      }
    },
    {
      "cell_type": "code",
      "execution_count": null,
      "metadata": {
        "id": "A3IAVoJWMdiE",
        "outputId": "77bb4119-eb95-48ac-f84c-c909396241db"
      },
      "outputs": [
        {
          "name": "stdout",
          "output_type": "stream",
          "text": [
            "10\n",
            "10\n"
          ]
        }
      ],
      "source": [
        "# 변수에 변수 할당\n",
        "num1 = 10\n",
        "num2 = num1\n",
        "print(num1)\n",
        "print(num2)"
      ]
    },
    {
      "cell_type": "markdown",
      "metadata": {
        "id": "s5xqBPQ-MdiE"
      },
      "source": [
        " > 여러줄을 동시에 출력하기 위해 `print()`를 활용하여 데이터를 출력 가능"
      ]
    },
    {
      "cell_type": "markdown",
      "source": [
        "할당은 참조의 개념임이므로 할당 순서에 따라 최종 변수에 할당된 데이터가 무엇일지를 잘 생각해야 합니다."
      ],
      "metadata": {
        "id": "Q5n1XLfXOOhF"
      }
    },
    {
      "cell_type": "code",
      "execution_count": null,
      "metadata": {
        "id": "e4nNfN8oMdiF",
        "outputId": "8f53e65e-aa23-4244-c19c-6d4ea548437c"
      },
      "outputs": [
        {
          "name": "stdout",
          "output_type": "stream",
          "text": [
            "11\n",
            "10\n"
          ]
        }
      ],
      "source": [
        "# 할당은 참조의 개념임을 유의할 것\n",
        "num1 = 10\n",
        "num2 = num1\n",
        "num1 = 11\n",
        "print(num1)\n",
        "print(num2)"
      ]
    },
    {
      "cell_type": "markdown",
      "metadata": {
        "id": "FWFOmRGGMdiF"
      },
      "source": [
        "\n",
        "\n",
        "<left><img src=\"https://drive.google.com/thumbnail?id=1hT5wxrEPysJY0L7nh-e8xarAU3gO4A4Q&sz=w1000\" width=\"400\"/></left>"
      ]
    },
    {
      "cell_type": "markdown",
      "metadata": {
        "id": "zgZkT6OHMdiF"
      },
      "source": [
        "\n",
        "### 변수의 타입(데이터 타입)\n",
        "\n",
        "파이썬에서 데이터는 모두 객체로 이루어져 있습니다. 이때 이 객체가 가지는 특성에 따라 데이터의 **타입(type)** 이 결정됩니다.\n",
        "\n",
        "다음은 파이썬에서 제공하는 가장 기본적인 데이터 타입(자료형) 입니다.   \n",
        "\n",
        "* int : 정수\n",
        "* float : 소수점, 비율을 포함한 실수\n",
        "* str : 문자열\n",
        "* bool : True와 False\n",
        "\n",
        "해당 데이터타입들은 직접 숫자나 특수 기호를 이용하여 데이터를 만들수 있으며, 이를 **리터럴(Literal)**이라 합니다.\n",
        "\n",
        "\n",
        "데이터 타입에 따라 활용할 수 있는 연산과 기능이 달라지기 때문에 항상 변수의 데이터타입을 잘 파악해주어야 합니다.\n"
      ]
    },
    {
      "cell_type": "markdown",
      "metadata": {
        "id": "q-LDoPI5MdiG"
      },
      "source": [
        "#### int(정수형), float(실수형)\n",
        "\n",
        "숫자를 의미하는 `int`와 `float` 타입은 직접 숫자를 입력하여 데이터를 만들수 있습니다."
      ]
    },
    {
      "cell_type": "code",
      "execution_count": null,
      "metadata": {
        "id": "o6qFtNIWMdiG",
        "outputId": "741594a0-f8c7-4579-d8d4-a19fc9c094f4"
      },
      "outputs": [
        {
          "data": {
            "text/plain": [
              "int"
            ]
          },
          "execution_count": 4,
          "metadata": {},
          "output_type": "execute_result"
        }
      ],
      "source": [
        "# 정수형 타입\n",
        "num = 10\n",
        "type(num)"
      ]
    },
    {
      "cell_type": "markdown",
      "metadata": {
        "id": "z6Uo-dbtMdiG"
      },
      "source": [
        "> `type()` 을 활용하여 데이터의 타입 확인 가능"
      ]
    },
    {
      "cell_type": "code",
      "execution_count": null,
      "metadata": {
        "id": "iQLGB7wLMdiH",
        "outputId": "157a1e33-74ed-4576-ccca-c3a5e6ae6c7e"
      },
      "outputs": [
        {
          "data": {
            "text/plain": [
              "float"
            ]
          },
          "execution_count": 7,
          "metadata": {},
          "output_type": "execute_result"
        }
      ],
      "source": [
        "# 실수형 타입\n",
        "num = 10.1\n",
        "type(num)"
      ]
    },
    {
      "cell_type": "markdown",
      "metadata": {
        "id": "5KH-0H1bMdiI"
      },
      "source": [
        "#### str(문자열)\n",
        "문자의 집합인 텍스트를 나타내는 타입으로 `' '`,`\" \"`,`''' '''` 등 따옴표 기호안에 텍스트를 입력해 만들수 있습니다."
      ]
    },
    {
      "cell_type": "code",
      "execution_count": null,
      "metadata": {
        "id": "dWRDTVqtMdiI",
        "outputId": "cfb425b6-cdb3-47f6-8ff8-4737e96055ef"
      },
      "outputs": [
        {
          "name": "stdout",
          "output_type": "stream",
          "text": [
            "<class 'str'>\n",
            "<class 'str'>\n"
          ]
        }
      ],
      "source": [
        "# 문자열 타입\n",
        "name1 = '파이썬'\n",
        "name2 = \"기초\"\n",
        "print(type(name1))\n",
        "print(type(name2))"
      ]
    },
    {
      "cell_type": "markdown",
      "source": [
        "`'''` 를 이용하면 여러줄의 텍스트를 한번에 문자열로 만들 수 있습니다\n",
        "\n"
      ],
      "metadata": {
        "id": "ScXxfn2lR2qB"
      }
    },
    {
      "cell_type": "code",
      "source": [
        "text = '''\n",
        "파이썬 기초 수업\n",
        "오늘도 화이팅 입니다.\n",
        "'''\n",
        "print(text)\n",
        "print(type(text))"
      ],
      "metadata": {
        "colab": {
          "base_uri": "https://localhost:8080/"
        },
        "id": "zuQAtOLbRoB0",
        "outputId": "a9f3c0fa-f430-443b-9422-7798ccad582c"
      },
      "execution_count": null,
      "outputs": [
        {
          "output_type": "stream",
          "name": "stdout",
          "text": [
            "\n",
            "파이썬 기초 수업\n",
            "오늘도 화이팅 입니다.\n",
            "\n",
            "<class 'str'>\n"
          ]
        }
      ]
    },
    {
      "cell_type": "markdown",
      "source": [
        "문자열을 만들때 `f` 기호를 앞에 붙이고 문자열 안에 `{}` 기호를 통해 변수에 할당된 데이터를 문자열에 포함 시킬 수 있습니다."
      ],
      "metadata": {
        "id": "euvMdbXurDIS"
      }
    },
    {
      "cell_type": "code",
      "execution_count": null,
      "metadata": {
        "colab": {
          "base_uri": "https://localhost:8080/",
          "height": 35
        },
        "id": "Y7TSl3OYMdiJ",
        "outputId": "cbdd39e7-d4d9-49c4-976d-db279dd2287b"
      },
      "outputs": [
        {
          "output_type": "execute_result",
          "data": {
            "text/plain": [
              "'1일차 데이터분석 수업에 오신걸 환영합니다'"
            ],
            "application/vnd.google.colaboratory.intrinsic+json": {
              "type": "string"
            }
          },
          "metadata": {},
          "execution_count": 3
        }
      ],
      "source": [
        "# 문자열의 포맷 - 다양한 변수를 하나의 문자열로 생성\n",
        "\n",
        "num = 1\n",
        "name = '데이터분석'\n",
        "\n",
        "ftext = f'{num}일차 {name} 수업에 오신걸 환영합니다'\n",
        "ftext"
      ]
    },
    {
      "cell_type": "markdown",
      "metadata": {
        "id": "RspbgfjzMdiJ"
      },
      "source": [
        "#### bool 타입\n",
        "`True`와 `False` 두가지의 데이터만 표현가능하며, 참과 거짓을 의미하는 데이터로 논리적 구조를 짜는데 주로 활용합니다."
      ]
    },
    {
      "cell_type": "code",
      "execution_count": null,
      "metadata": {
        "id": "C0jQFfX3MdiJ",
        "outputId": "b7fbfc55-fdbb-48eb-af0d-21395df2ed3c"
      },
      "outputs": [
        {
          "data": {
            "text/plain": [
              "bool"
            ]
          },
          "execution_count": 16,
          "metadata": {},
          "output_type": "execute_result"
        }
      ],
      "source": [
        "# bool 타입\n",
        "t = True\n",
        "f = False\n",
        "type(t)"
      ]
    },
    {
      "cell_type": "markdown",
      "metadata": {
        "id": "L5cM-HlhMdiK"
      },
      "source": [
        "#### NoneType(None 타입)\n",
        "NoneType은 변수에 할당된 데이터가 없음을 의미하는 데이터인 `None` 데이터만 표현하는 타입니다.    \n",
        "주로 상황에 따라 데이터가 할당되는것이 나중에 정해지는 변수에 초기 값으로 사용됩니다."
      ]
    },
    {
      "cell_type": "code",
      "execution_count": null,
      "metadata": {
        "id": "5QGeZ7eVMdiK",
        "outputId": "07aa547e-2903-463f-a1f7-9cc73455bbfb"
      },
      "outputs": [
        {
          "name": "stdout",
          "output_type": "stream",
          "text": [
            "None\n",
            "<class 'NoneType'>\n"
          ]
        }
      ],
      "source": [
        "is_on = None\n",
        "print(is_on)\n",
        "print(type(is_on))"
      ]
    },
    {
      "cell_type": "markdown",
      "source": [
        "### 변수와 연산자\n",
        "\n",
        "파이썬에서는 연산자를 활용해 변수간의 연산을 만들수 있습니다.  \n",
        "이때 데이터 타입에 따라 사용할 수 있는 연산자가 정해지며, 동일한 연산자라도 활용 방식이 달라지게 됩니다."
      ],
      "metadata": {
        "id": "bHOpasiQXZgd"
      }
    },
    {
      "cell_type": "markdown",
      "metadata": {
        "id": "Tjnv_fiHMdiH"
      },
      "source": [
        "#### 산술연산\n",
        "산술연산은 숫자를 의미하는 `int`와 `float`타입의 두 피연산자 사이에 사용하여 산술 연산을 진행합니다.\n",
        "\n",
        " - `+`: 더하기   \n",
        " - `-`: 빼기   \n",
        " - `*`: 곱하기   \n",
        " - `/` : 나누기   \n",
        " - `//` : 몫   \n",
        " - `%` : 나머지    \n",
        " - `**` : 제곱   "
      ]
    },
    {
      "cell_type": "code",
      "execution_count": null,
      "metadata": {
        "id": "rtJNyq-PMdiH",
        "outputId": "b949c867-696d-4b04-c29b-c1ffe7d750f5"
      },
      "outputs": [
        {
          "data": {
            "text/plain": [
              "30"
            ]
          },
          "execution_count": 8,
          "metadata": {},
          "output_type": "execute_result"
        }
      ],
      "source": [
        "# 정수형 간의 연산자 활용\n",
        "num1 = 10\n",
        "num2 = 20\n",
        "num1 + num2"
      ]
    },
    {
      "cell_type": "markdown",
      "source": [
        "정수와 실수간의 연산에서 결과는 반드시 `float` 타입이 나오게 됩니다."
      ],
      "metadata": {
        "id": "PkcFPSXZYri_"
      }
    },
    {
      "cell_type": "code",
      "execution_count": null,
      "metadata": {
        "id": "9x-l5ph5MdiH",
        "outputId": "24a9cf1b-745c-4353-fb72-a66d17ef4c41"
      },
      "outputs": [
        {
          "data": {
            "text/plain": [
              "20.1"
            ]
          },
          "execution_count": 9,
          "metadata": {},
          "output_type": "execute_result"
        }
      ],
      "source": [
        "# 실수형 혼합 연산\n",
        "num1 = 10\n",
        "num2 = 10.1\n",
        "num1 + num2"
      ]
    },
    {
      "cell_type": "markdown",
      "source": [
        "나누기 연산 또한 실수형으로 변환됩니다."
      ],
      "metadata": {
        "id": "yZ4tcQVpY14Y"
      }
    },
    {
      "cell_type": "code",
      "execution_count": null,
      "metadata": {
        "id": "YHk8A43cMdiI",
        "outputId": "63ea100a-3632-409b-93d8-df66ecb40b4a"
      },
      "outputs": [
        {
          "data": {
            "text/plain": [
              "2.0"
            ]
          },
          "execution_count": 10,
          "metadata": {},
          "output_type": "execute_result"
        }
      ],
      "source": [
        "# 나누기 연산시 실수형으로 변환\n",
        "num1 = 10\n",
        "num2 = 20\n",
        "num2 / num1"
      ]
    },
    {
      "cell_type": "markdown",
      "source": [
        "문자열에서 산술 연산자를 사용하면 산술 연산이 아닌 문자열 붙임 연산 결과가 나옵니다."
      ],
      "metadata": {
        "id": "sQPkw1WuquiS"
      }
    },
    {
      "cell_type": "code",
      "execution_count": null,
      "metadata": {
        "scrolled": true,
        "id": "SkW_8cNNMdiJ",
        "outputId": "ebd384dd-cc15-4f11-99fe-0cc5a18699a2"
      },
      "outputs": [
        {
          "data": {
            "text/plain": [
              "'파이썬기초'"
            ]
          },
          "execution_count": 19,
          "metadata": {},
          "output_type": "execute_result"
        }
      ],
      "source": [
        "# 문자열 간의 연산 활용\n",
        "name1 = '파이썬'\n",
        "name2 = '기초'\n",
        "name1 + name2"
      ]
    },
    {
      "cell_type": "code",
      "execution_count": null,
      "metadata": {
        "scrolled": true,
        "id": "lIAM1dX7MdiJ",
        "outputId": "05169e77-dd5d-4ac0-d0ba-140d36bb7067",
        "colab": {
          "base_uri": "https://localhost:8080/",
          "height": 35
        }
      },
      "outputs": [
        {
          "output_type": "execute_result",
          "data": {
            "text/plain": [
              "'101010'"
            ],
            "application/vnd.google.colaboratory.intrinsic+json": {
              "type": "string"
            }
          },
          "metadata": {},
          "execution_count": 4
        }
      ],
      "source": [
        "# 문자열과 숫자형 연산 가능\n",
        "name = '10'\n",
        "num = 3\n",
        "name * num"
      ]
    },
    {
      "cell_type": "markdown",
      "metadata": {
        "id": "9RCX370cMdiI"
      },
      "source": [
        "#### 대입연산\n",
        "대입 연산은 산술 연산의 결과를 다시 동일한 변수에 대입(할당)하는 연산자 입니다.\n",
        "\n",
        "- `a += b` : `a = a+b`   \n",
        "- `a +- b` : `a = a-b`\n"
      ]
    },
    {
      "cell_type": "code",
      "execution_count": null,
      "metadata": {
        "id": "MKsTm8B5MdiI",
        "outputId": "3bfc12ba-a033-4c14-ea31-0de5a772693e",
        "colab": {
          "base_uri": "https://localhost:8080/"
        }
      },
      "outputs": [
        {
          "output_type": "execute_result",
          "data": {
            "text/plain": [
              "30"
            ]
          },
          "metadata": {},
          "execution_count": 6
        }
      ],
      "source": [
        "# += 을 활용하여 누적 연산 가능\n",
        "num = 10\n",
        "num += 10 # num = num + 10\n",
        "num += 10\n",
        "num"
      ]
    },
    {
      "cell_type": "markdown",
      "metadata": {
        "id": "_BqFX6HXMdiJ"
      },
      "source": [
        "#### 비교연산\n",
        "비교 연산은 두 피연산자간의 비교를 통해 `bool` 타입의 결과를 만드는 연산자입니다.\n",
        "\n",
        " - `==` : 값이 같으면 True  \n",
        " - `!=` : 값이 다르면 True  \n",
        " - `>, >=, <, <=` : 대소비교 성립시 True  \n",
        " - `is` : 타입과 값이 같으면 True  \n"
      ]
    },
    {
      "cell_type": "code",
      "execution_count": null,
      "metadata": {
        "id": "t18Np_FDMdiK",
        "outputId": "d4de70d1-0674-4637-991e-86f479081443",
        "colab": {
          "base_uri": "https://localhost:8080/"
        }
      },
      "outputs": [
        {
          "output_type": "stream",
          "name": "stdout",
          "text": [
            "False\n",
            "True\n",
            "True\n",
            "False\n",
            "False\n"
          ]
        },
        {
          "output_type": "stream",
          "name": "stderr",
          "text": [
            "<>:9: SyntaxWarning: \"is\" with a literal. Did you mean \"==\"?\n",
            "<>:9: SyntaxWarning: \"is\" with a literal. Did you mean \"==\"?\n",
            "/tmp/ipython-input-7-4143713207.py:9: SyntaxWarning: \"is\" with a literal. Did you mean \"==\"?\n",
            "  print(num1 is 100.0)\n"
          ]
        }
      ],
      "source": [
        "# 비교연산자의 활용\n",
        "num1 = 100\n",
        "num2 = 10\n",
        "\n",
        "print(num1 == num2)\n",
        "print(num1 != num2)\n",
        "print(num1 > num2)\n",
        "print(num1 <= num2)\n",
        "print(num1 is 100.0)"
      ]
    },
    {
      "cell_type": "markdown",
      "source": [
        "#### 논리연산\n",
        "논리연산은 두 피연산자가 모두 `bool` 타입이여야 하며, 논리 연산 결과를 다시 `bool` 타입으로 제공합니다.\n",
        "\n",
        " `and` : 둘다 True이면 True   \n",
        " `or`: 둘중 하나라도 True 이면 True  \n",
        " `not`: True 이면 False (역변환)  "
      ],
      "metadata": {
        "id": "XpZM3yevsloB"
      }
    },
    {
      "cell_type": "code",
      "execution_count": null,
      "metadata": {
        "scrolled": true,
        "id": "_PR5c_h_MdiK",
        "outputId": "bb2a4ba2-e7b9-46a6-d6c8-33d477da5b03"
      },
      "outputs": [
        {
          "name": "stdout",
          "output_type": "stream",
          "text": [
            "False\n",
            "True\n",
            "False\n",
            "True\n",
            "False\n"
          ]
        }
      ],
      "source": [
        "# 논리 연산 활용\n",
        "print(not True)\n",
        "print(True and True)\n",
        "print(True and False)\n",
        "print(True or False)\n",
        "print(False or False)"
      ]
    },
    {
      "cell_type": "markdown",
      "source": [
        "논리연산의 피연산자는 `bool` 타입이므로 주로 비교연산자와 같이 활용되는경우가 많습니다."
      ],
      "metadata": {
        "id": "RdUWq4butJqD"
      }
    },
    {
      "cell_type": "code",
      "source": [
        "num1 = 100\n",
        "num2 = 10\n",
        "\n",
        "b1 = num1 == num2\n",
        "b2 = num1 > num2\n",
        "\n",
        "print(b1 and b2)\n",
        "print(num1 != num2 or num1 < num2)"
      ],
      "metadata": {
        "colab": {
          "base_uri": "https://localhost:8080/"
        },
        "id": "XL2SiA6vs24C",
        "outputId": "ee1cbf91-bd66-4b23-e408-6ba2bdea0471"
      },
      "execution_count": null,
      "outputs": [
        {
          "output_type": "stream",
          "name": "stdout",
          "text": [
            "False\n",
            "True\n"
          ]
        }
      ]
    },
    {
      "cell_type": "markdown",
      "metadata": {
        "id": "1cjQQ9vpMdiL"
      },
      "source": [
        "### 데이터 타입 변환 (형변환)\n",
        "앞서 살펴보았듯이 데이터타입에 따라 활용 가능한 연산자가 다르고 연산의 결과 또한 다르다는 특징이 있습니다. 연산자 뿐만 아니라 이후에 배울 정의나 제어문에도 타입에 따라 결과가 다르기 때문에 상황에 맞는 데이터타입이 필요할 수 있습니다.\n",
        "\n",
        "파이썬에서는 다음 제공되는 명령어를 통해 기본 타입간의 변환이 가능합니다.\n",
        "\n",
        "- `int()`: () 안의 변수 또는 데이터를 int 객체로 변환\n",
        "- `float()`: () 안의 변수 또는 데이터를 float 객체로 변환\n",
        "- `str()`: () 안의 변수 또는 데이터를 str 객체로 변환\n",
        "- `bool()`: () 안의 변수 또는 데이터를 bool 객체로 변환"
      ]
    },
    {
      "cell_type": "code",
      "execution_count": null,
      "metadata": {
        "id": "g01vQ3CLMdiL",
        "outputId": "516edb6f-206c-4ada-cf3f-cb3d9f056845"
      },
      "outputs": [
        {
          "name": "stdout",
          "output_type": "stream",
          "text": [
            "10 10.0 10 10\n",
            "<class 'int'> <class 'float'> <class 'int'> <class 'str'>\n"
          ]
        }
      ],
      "source": [
        "# 파이썬에서 int(),float(),str()등 내장함수로 제공\n",
        "num1 = int(10.1)\n",
        "num2 = float(10)\n",
        "num3 = int('10')\n",
        "num4 = str(10)\n",
        "print(num1, num2, num3, num4)\n",
        "print(type(num1), type(num2), type(num3), type(num4))"
      ]
    },
    {
      "cell_type": "markdown",
      "metadata": {
        "id": "wT9s5tnkMdiR"
      },
      "source": [
        "> int => float 변환시 데이터의 손실이 생김     \n",
        "> 정수 숫자만 입력된 str은 정수로 변환 가능"
      ]
    },
    {
      "cell_type": "markdown",
      "source": [
        "다음과 같이 불가능한 타입변환을 시도하면 에러가 발생하게 됩니다."
      ],
      "metadata": {
        "id": "4xffm5nrDiV-"
      }
    },
    {
      "cell_type": "code",
      "execution_count": null,
      "metadata": {
        "scrolled": true,
        "id": "2to9i-WjlHoS",
        "outputId": "b6d03557-9d4b-412b-bb33-67ddf6146d0f"
      },
      "outputs": [
        {
          "ename": "ValueError",
          "evalue": "invalid literal for int() with base 10: '안녕'",
          "output_type": "error",
          "traceback": [
            "\u001b[1;31m---------------------------------------------------------------------------\u001b[0m",
            "\u001b[1;31mValueError\u001b[0m                                Traceback (most recent call last)",
            "Cell \u001b[1;32mIn[14], line 1\u001b[0m\n\u001b[1;32m----> 1\u001b[0m num5 \u001b[38;5;241m=\u001b[39m \u001b[38;5;28;43mint\u001b[39;49m\u001b[43m(\u001b[49m\u001b[38;5;124;43m'\u001b[39;49m\u001b[38;5;124;43m안녕\u001b[39;49m\u001b[38;5;124;43m'\u001b[39;49m\u001b[43m)\u001b[49m\n",
            "\u001b[1;31mValueError\u001b[0m: invalid literal for int() with base 10: '안녕'"
          ]
        }
      ],
      "source": [
        "num5 = int('안녕')"
      ]
    },
    {
      "cell_type": "markdown",
      "metadata": {
        "id": "HaoOXipklHoS"
      },
      "source": [
        ">이처럼 코드의 문법적인 문제는 없지만 실행중 문제가 생기는경우 원인에 따른 Error 문구를 출력하게 됩니다."
      ]
    },
    {
      "cell_type": "markdown",
      "metadata": {
        "id": "ruSfOqPNMdiS"
      },
      "source": [
        "### 함수\n",
        "파이썬에서 변수가 데이터를 대변할 수있다면 함수는 기능(알고리즘)을 대변할 수 있는 정의입니다.\n",
        "\n",
        "**함수의 특징**\n",
        "- 미리 기능을 정의하여 반복적으로 사용 (코드의 재사용성 증가)\n",
        "- 기능이 수행되는 과정에 생긴 데이터는 기능이 끝나면 제거됨 (메모리 활용성 증가)"
      ]
    },
    {
      "cell_type": "markdown",
      "source": [
        "\n",
        "#### 함수 정의 하기\n",
        "먼저 함수를 사용하기위해선 함수를 만드는 정의 과정의 필요합니다.   \n",
        "함수를 정의하기 위해서는 다음과 같이 `def` 명령어를 사용하여 필요한 요소를 만들어줍니다.\n",
        "\n",
        "    def 함수이름(인자1,인자2):\n",
        "        실행 코드\n",
        "        return 반환\n",
        "    \n",
        "- **인자** : 함수 실행시 필요한 입력 데이터(input)\n",
        "- **반환** : 함수 실행후 결과로 제공될 출력 데이터(output)\n",
        "\n",
        "1. 함수 헤더 만들기\n",
        "    - `def`명령어 옆에 이름 정의. (변수 이름과 동일한 규칙)\n",
        "    - 이름옆 `()`안에 인자를 정의 `,` 구분으로 여러개 정의 가능. 이렇게 정의한 인자는 함수 바디 영역 에서 변수로 활용.\n",
        "2. 함수 바디 만들기\n",
        "    - 함수 바디 영역은 함수가 호출될때 실행되는 코드 `:` 이후 `들여쓰기(TAB)`으로 작성.  \n",
        "    - 함수 바디 영역에서 `return` 명령어 뒤에 출력할 데이터 또는 변수를 작성. `return` 명령어가 나오면 함수실행 종료   \n"
      ],
      "metadata": {
        "id": "Q1Sm3tlxvO1s"
      }
    },
    {
      "cell_type": "code",
      "execution_count": null,
      "metadata": {
        "id": "9vSlLA-0MdiS"
      },
      "outputs": [],
      "source": [
        "# def 을 통한 함수 정의\n",
        "\n",
        "def concat(arg1, arg2, arg3=10): # 함수 헤더 정의\n",
        "    # 함수 바디 정의\n",
        "    cat1 = arg1 + arg2\n",
        "    cat2 = cat1 + arg3\n",
        "    return cat2"
      ]
    },
    {
      "cell_type": "markdown",
      "metadata": {
        "id": "Eds0ofYjMdiS"
      },
      "source": [
        "> 인자를 정의할때 대입(`=`)을 통해 기본값을 미리 세팅 가능"
      ]
    },
    {
      "cell_type": "markdown",
      "metadata": {
        "id": "K3vOkJ_MMdiS"
      },
      "source": [
        "#### 함수 사용(실행)\n",
        "정의된 함수를 실행을 통해 반복적으로 사용할 수 있습니다.   \n",
        "인자를 통해 전달된 데이터에 따라 함수 실행의 결과도 달라지게 됩니다.\n",
        "\n",
        "- 정의된 함수의 이름을 호출하여 함수 실행 가능\n",
        "- 정의된 인자를 입력하여 데이터를 전달\n",
        "- 인자를 입력은 인자의 순서를 따르거나 인자 이름에 대입 (`인자=데이터`)"
      ]
    },
    {
      "cell_type": "code",
      "execution_count": null,
      "metadata": {
        "colab": {
          "base_uri": "https://localhost:8080/"
        },
        "id": "YH1OQ4W1MdiS",
        "outputId": "dc1df2ed-e748-4884-e6f4-05e4037ea2c9"
      },
      "outputs": [
        {
          "output_type": "stream",
          "name": "stdout",
          "text": [
            "40\n",
            "60\n",
            "60\n"
          ]
        }
      ],
      "source": [
        "# 순서 대입, 세번째 인자는 기본값 활용\n",
        "out1 = concat(10,20)\n",
        "print(out1)\n",
        "\n",
        "# 세번째 인자까지 순서 대입\n",
        "out2 = concat(10, 20, 30)\n",
        "print(out2)\n",
        "\n",
        "# 인자 이름 대입\n",
        "out3 = concat(arg1=10, arg3=30, arg2=20)\n",
        "print(out3)\n"
      ]
    },
    {
      "cell_type": "markdown",
      "source": [
        "> 기본값이 정의된 인자는 함수 사용시 할당이 안되면 기본값으로 사용"
      ],
      "metadata": {
        "id": "c8XTSX52yTT0"
      }
    },
    {
      "cell_type": "markdown",
      "metadata": {
        "id": "OHNv4S0IMdiS"
      },
      "source": [
        "#### 함수 내부 변수\n",
        "함수 바디에서 생성된 변수는 로컬 변수로 함수 외부 영역인 글로벌영역에서 접근이 불가능 합니다. 로컬변수는 해당 함수 영역 실행이 끝나는순간 사라지기 때문입니다.\n",
        "\n",
        "- 글로벌 -> 로컬 읽기 불가능\n",
        "- 로컬 -> 글로벌 읽기 가능\n",
        "- 로컬 -> 글로벌 쓰기 불가능\n",
        "\n"
      ]
    },
    {
      "cell_type": "code",
      "execution_count": null,
      "metadata": {
        "id": "XNoE_8LmMdiT",
        "outputId": "2abc10b3-08a9-442f-fbfe-4e6e540db8f0",
        "colab": {
          "base_uri": "https://localhost:8080/",
          "height": 184
        }
      },
      "outputs": [
        {
          "output_type": "error",
          "ename": "NameError",
          "evalue": "name 'data1' is not defined",
          "traceback": [
            "\u001b[0;31m---------------------------------------------------------------------------\u001b[0m",
            "\u001b[0;31mNameError\u001b[0m                                 Traceback (most recent call last)",
            "\u001b[0;32m/tmp/ipython-input-10-2162133954.py\u001b[0m in \u001b[0;36m<cell line: 0>\u001b[0;34m()\u001b[0m\n\u001b[1;32m      5\u001b[0m \u001b[0;34m\u001b[0m\u001b[0m\n\u001b[1;32m      6\u001b[0m \u001b[0mfun1\u001b[0m\u001b[0;34m(\u001b[0m\u001b[0;34m)\u001b[0m\u001b[0;34m\u001b[0m\u001b[0;34m\u001b[0m\u001b[0m\n\u001b[0;32m----> 7\u001b[0;31m \u001b[0mprint\u001b[0m\u001b[0;34m(\u001b[0m\u001b[0mdata1\u001b[0m\u001b[0;34m)\u001b[0m \u001b[0;31m# 글로벌 영역\u001b[0m\u001b[0;34m\u001b[0m\u001b[0;34m\u001b[0m\u001b[0m\n\u001b[0m",
            "\u001b[0;31mNameError\u001b[0m: name 'data1' is not defined"
          ]
        }
      ],
      "source": [
        "# 함수 내부의 변수는 외부에서 접근 불가\n",
        "\n",
        "def fun1():\n",
        "    data1 = 100 # 로컬 영역\n",
        "\n",
        "fun1()\n",
        "print(data1) # 글로벌 영역"
      ]
    },
    {
      "cell_type": "markdown",
      "source": [
        "이러한 로컬 변수의 특징 때문에 함수를 활용할땐 항상 인자(parameter)와 반환(return)을 적절히 활용해야 합니다."
      ],
      "metadata": {
        "id": "dYYapT9n0oRi"
      }
    },
    {
      "cell_type": "code",
      "execution_count": null,
      "metadata": {
        "id": "v__UBU-PMdiT",
        "outputId": "050c4d05-ad2b-4020-a200-6e068f3e5f97"
      },
      "outputs": [
        {
          "data": {
            "text/plain": [
              "30"
            ]
          },
          "execution_count": 11,
          "metadata": {},
          "output_type": "execute_result"
        }
      ],
      "source": [
        "# 인자와 반환을 활용\n",
        "def local(a , b):  # 로컬 변수(인자)\n",
        "    c = a+b        # 로컬 변수\n",
        "    return c\n",
        "\n",
        "d = local(10,20)   # 글로벌 변수\n",
        "d"
      ]
    },
    {
      "cell_type": "markdown",
      "metadata": {
        "id": "92ASpBaaMdiT"
      },
      "source": [
        "### 객체\n",
        "객체는 프로그램 내에서 다양한 '기능'과 '부속 데이터'를 포함하여 만들어낸 데이터 구조체 입니다.\n",
        "즉 우리 주변의 사물처럼 '속성'과 '행동'을 가지는 하나의 독립적인 존재가 되는것 입니다.\n",
        "\n",
        "\n",
        "**자동차가 객체라면?**\n",
        "\n",
        "- 속성(부속 데이터): 엔진, 색상, 크기, 기어, 시트, 타이어, 핸들, 엑셀, 브레이크\n",
        "- 행동(기능): 출발, 멈추기, 속도 높히기, 속도 줄이기, 비상등, 핸들링, 경적\n",
        "\n",
        "<center><img src=\"https://drive.google.com/thumbnail?id=18w_-Gu9AdZPAqgwxZ6q-hKSMkZgzGDz7&sz=w1000\" width=\"500\"/></center>\n",
        "\n",
        "- **클래스** : 각종 데이터와 기능을 내포시킨 객체의 정의(코드상태)\n",
        "- **인스턴스** : 정의상태인 클래스가 실행되어 실질적으로 존재하는 상태(지속 활용 가능한 데이터)\n",
        "- **self 변수** : 클래스 내부에서 지속되는 변수(부속 데이터)\n",
        "- **메소드** : 클래스 내부에서 정의된 함수(기능)\n",
        "\n",
        "\n",
        "**객체 특징**\n",
        "\n",
        "- 데이터와 기능의 캡슐화: 데이터(속성)와 기능(행동, 메소드)을 하나의 단위로 묶어 관리\n",
        "- 재사용성: 한번 잘 정의된 클래스는 필요에 따라 여러 곳에서 인스턴스를 생성하여 재사용\n",
        "- 유지보수: 객체 단위로 코드를 관리하면 특정 기능이나 데이터를 수정할 때 해당 객체 내부만 변경하면 되므로 전체 코드의 유지보성이 높아짐.\n",
        "\n",
        "\n",
        "결국 변수에 할당되는 데이터는 클래스로 생성한 인스턴스이며, 이에 포함된 부속 데이터와 기능을 활용하여 다양한 작업을 쉽게 프로그래밍적으로 처리를 할수 있게 됩니다.\n"
      ]
    },
    {
      "cell_type": "markdown",
      "source": [
        "#### 클래스의 생김새 (class 정의)\n",
        "객체를 정의하는 것을 데이터를 설계하는 작업입니다. 이렇게 객체를 정의하는 개념을 **클래스(class)**라고 합니다.\n",
        "\n",
        "    class 객체이름:\n",
        "        함수:\n",
        "            셀프변수\n",
        "            로컬변수\n",
        "\n",
        "- class 명령어를 통해 객체(클래스)의 이름을 정의\n",
        "\n",
        "    * 맨 앞글자를 대문자로 지정\n",
        "    * 두개 이상 단어 구분을 대문자로 구분\n",
        "    * 특수기호 올수 없음(`_`제외)\n",
        "    * 맨 앞에 숫자 사용 불가\n",
        "\n",
        "- 객체 내부 영역에는 함수(메소드)와 변수(셀프 변수)를 정의하여 구조를 만듬\n",
        "\n",
        "    * 클래스 영역 내부에 정의한 함수(메소드)는 객체 생성 후 사용 가능\n",
        "    * `__init__` : 클래스가 새로운 객체를 생성할 때 무조건 실행되는 생성자 메소드 (반드시 정의)\n",
        "    * 메소드의 인자 정의 부분에는 항상 `self`인자를 맨앞으로 배치\n",
        "    * `self.변수` 로 정의된 변수는 셀프 변수로 클래스 내부의 함수끼리는 공용으로 사용가능 (함수 실행이 끝나도 제거X)"
      ],
      "metadata": {
        "id": "Bo2V-19f1Zah"
      }
    },
    {
      "cell_type": "code",
      "execution_count": null,
      "metadata": {
        "id": "7xOVAUrpMdiT"
      },
      "outputs": [],
      "source": [
        "# class를 통해 객체 정의\n",
        "# 클래스 이름은 맨앞글자 대문자 단어구분 대문자\n",
        "class Product:\n",
        "\n",
        "    # 생성자 (클래스->인스턴스 과정에 실행되는 함수)\n",
        "    def __init__(self, name, price):\n",
        "        self.name = name # self.name 변수와 name 지역변수는 다른 변수\n",
        "        self.price = price\n",
        "        self.cate = 'Ai'\n",
        "\n",
        "    # 기능 함수\n",
        "    def get_name(self):\n",
        "        return self.name # self 변수는 클래스내 모든 함수가 공유\n",
        "\n",
        "    def set_price(self, price):\n",
        "        self.price = price\n"
      ]
    },
    {
      "cell_type": "markdown",
      "source": [
        "> `self.name = name`: 셀프 변수에 로컬 변수의 데이터를 할당하는 방식"
      ],
      "metadata": {
        "id": "USDQlCu72YGo"
      }
    },
    {
      "cell_type": "markdown",
      "metadata": {
        "id": "GMJ-rD-UMdiT"
      },
      "source": [
        "#### 인스터스 생성 하기 (데이터화)\n",
        "정의된 클래스를 통해 실제 데이터를 만들기 위해 클래스를 실행해야 합니다.\n",
        "\n",
        "- 정의된 클래스를 실행하여 하나의 데이터를 만들고 변수에 할당하면 **인스턴스**\n",
        "- 인스턴스의 데이터타입은 곧 클래스의 이름\n",
        "- 인스턴스에서 `.`(도트연산)을 통해 클래스에서 정의된 메소드, self변수 사용"
      ]
    },
    {
      "cell_type": "code",
      "execution_count": null,
      "metadata": {
        "scrolled": true,
        "id": "4laE8Q6OMdiT",
        "outputId": "596214de-d13c-4ba6-ce2b-74d3639ed59e",
        "colab": {
          "base_uri": "https://localhost:8080/"
        }
      },
      "outputs": [
        {
          "output_type": "stream",
          "name": "stdout",
          "text": [
            "<class '__main__.Product'>\n",
            "스마트 로봇\n",
            "스마트 로봇\n",
            "600000\n"
          ]
        }
      ],
      "source": [
        "# 클래스 이름을 호출하여 실행, 변수에 할당하여 인스턴스화\n",
        "\n",
        "\n",
        "product = Product('스마트 홈캠', 500000) # 클래스 실행 인자는 __init__ 함수의 인자\n",
        "print(type(product))\n",
        "name = product.get_name() # 인스턴스 변수에서 .(도트연산) 활용\n",
        "print(name)\n",
        "print(product.name) # 셀프 변수 사용\n",
        "\n",
        "product.set_price(600000)\n",
        "print(product.price)\n"
      ]
    },
    {
      "cell_type": "markdown",
      "metadata": {
        "id": "qp5MEUDpMdiU"
      },
      "source": [
        "> 활용하는 변수가 어떤 클래스 타입인지를 파악하여 내부 기능(함수)를 적절히 사용하는 것이 객체지향 언어의 기본적인 메커니즘"
      ]
    },
    {
      "cell_type": "markdown",
      "metadata": {
        "id": "1-35DFB1MdiU"
      },
      "source": [
        "### 모듈\n",
        "모듈은 파이썬에 존재하는 특수한 구조체로 파이썬에서 정의되는 모든 정의와 명령어를 담을 수 있는 가장 큰 단위의 정의입니다.\n",
        "이는 작성한 소스를 패키징 하기에 매우 유리하며, 배포를 통해 소스를 공유하는 오픈소스의 기반이 됩니다.\n",
        "\n",
        "**모듈의 특징**\n",
        "- 변수, 함수, 객체를 모두 포함하는 파이썬에서 가장 큰 단위의 정의\n",
        "- 기본적으로 코드를 작성하고 있는 스크립트 페이지가 모듈 영역\n",
        "- .py 파일 확장자를 가짐\n",
        "- 모듈에서 생성된 변수는 글로벌 변수로 취급됨\n",
        "- 모듈 내에서 다른 소스코드가 작성된 모듈을 가져올 수 있음 수 있음\n"
      ]
    },
    {
      "cell_type": "code",
      "execution_count": null,
      "metadata": {
        "id": "IOnZnSwZMdiU"
      },
      "outputs": [],
      "source": [
        "# 모듈 가져오기\n",
        "# import 명령어 활용\n",
        "import os\n",
        "# as 명령어로 모듈을 특정 변수이름에 할당\n",
        "import collections as ct\n",
        "# from 명령어로 모듈내 특정 정의만 import\n",
        "from pathlib import Path\n",
        "\n",
        "# 모듈 사용하기\n",
        "cwd = os.getcwd()\n",
        "dq = ct.deque()\n",
        "path = Path('/.')"
      ]
    },
    {
      "cell_type": "markdown",
      "metadata": {
        "id": "7tKH_K08MdiU"
      },
      "source": [
        "> 모듈을 사용하기 위해서는 파이썬 내부 패키지에 모듈이 설치되어 있어야함     \n",
        "> 파이썬 설치시 기본적으로 포함되어 설치되는 모듈은 추가 설치가 필요없음"
      ]
    },
    {
      "cell_type": "markdown",
      "metadata": {
        "id": "KsGoJnwcMdiU"
      },
      "source": [
        "### 1. 실습"
      ]
    },
    {
      "cell_type": "markdown",
      "metadata": {
        "id": "Pr1JH6_bMdiU"
      },
      "source": [
        "#### [실습1]\n",
        "x에 10.1을 저장하고, y에 101을 저장한 다음 더한후 정수로 출력"
      ]
    },
    {
      "cell_type": "code",
      "execution_count": null,
      "metadata": {
        "id": "wBse8UWaMdiU",
        "colab": {
          "base_uri": "https://localhost:8080/"
        },
        "outputId": "0bf7f47a-2dd8-498f-fe68-d275d7cf9f2e"
      },
      "outputs": [
        {
          "output_type": "stream",
          "name": "stdout",
          "text": [
            "111\n"
          ]
        }
      ],
      "source": [
        "x = 10.1\n",
        "y = 101\n",
        "z = x+y\n",
        "print(int(z))"
      ]
    },
    {
      "cell_type": "markdown",
      "metadata": {
        "id": "IzOAreLOMdiU"
      },
      "source": [
        "#### [실습2]\n",
        "a=1, b=5로 할당하고 문자열 포맷으로 'a + b는'과 a+b 계산 결과를 print( )로 함께 출력\n",
        "\n",
        "출력 결과 예시:  \n",
        "`1 + 5는 6`"
      ]
    },
    {
      "cell_type": "code",
      "execution_count": null,
      "metadata": {
        "id": "2IWcpOi8MdiV",
        "colab": {
          "base_uri": "https://localhost:8080/"
        },
        "outputId": "fc775535-1a44-4e74-f895-857f708ed41d"
      },
      "outputs": [
        {
          "output_type": "stream",
          "name": "stdout",
          "text": [
            "a + b는 6\n"
          ]
        }
      ],
      "source": [
        "a = 1\n",
        "b = 5\n",
        "print(f'a + b는 {a+b}')"
      ]
    },
    {
      "cell_type": "markdown",
      "metadata": {
        "id": "KIHjNoN5MdiV"
      },
      "source": [
        "#### [실습3]\n",
        "체중(kg)과 키(cm)를 변수로 만들고 두 변수를 활용하여 bmi를 계산하여 다음과 같은 문자열 포맷으로 출력\n",
        "\n",
        "- bmi : 체중에서 키의 제곱을 나눈후 10000을 곱한값\n",
        "\n",
        "    \n",
        "    당신의 키는 172cm 체중은 69kg bmi는 입니다."
      ]
    },
    {
      "cell_type": "code",
      "execution_count": null,
      "metadata": {
        "id": "-Pba9GZIMdiV",
        "colab": {
          "base_uri": "https://localhost:8080/"
        },
        "outputId": "bd683c12-e374-4502-8739-265687ba78ae"
      },
      "outputs": [
        {
          "output_type": "stream",
          "name": "stdout",
          "text": [
            "당신의 키는 172cm 체중은 69kg bmi는 23.32 입니다.\n"
          ]
        }
      ],
      "source": [
        "t = 172\n",
        "w = 69\n",
        "\n",
        "bmi = (w / (t**2)) * 10000\n",
        "\n",
        "print(f'당신의 키는 {t}cm 체중은 {w}kg bmi는 {bmi:.2f} 입니다.')"
      ]
    },
    {
      "cell_type": "markdown",
      "metadata": {
        "id": "FZorA6sMMdiV"
      },
      "source": [
        "#### [실습4]\n",
        "다음 정의된 함수를 실행하고, 반환된 값을 출력"
      ]
    },
    {
      "cell_type": "code",
      "execution_count": null,
      "metadata": {
        "id": "GJHbJb9EMdiV",
        "colab": {
          "base_uri": "https://localhost:8080/",
          "height": 35
        },
        "outputId": "f120edc9-c14b-4f12-e0ab-e41ecb15bd78"
      },
      "outputs": [
        {
          "output_type": "execute_result",
          "data": {
            "text/plain": [
              "'어서오세요 user님'"
            ],
            "application/vnd.google.colaboratory.intrinsic+json": {
              "type": "string"
            }
          },
          "metadata": {},
          "execution_count": 11
        }
      ],
      "source": [
        "def info(name):\n",
        "    text = f'어서오세요 {name}님'\n",
        "    return text\n",
        "\n",
        "info('user')"
      ]
    },
    {
      "cell_type": "markdown",
      "metadata": {
        "id": "Q75QrN6WMdiV"
      },
      "source": [
        "#### [실습5]\n",
        "[실습3]의 bmi 계산 기능을 함수로 정의할 것.\n",
        "\n",
        "이때 신장과 체중이 입력되는 height, weight 인자을 정의하고 만들어진 문자열이 반환되는 return이 정의되어야 함.\n",
        "\n",
        "만든 함수 이름을 통해 신장과 체중을 입력하고 결과를 출력\n",
        "\n"
      ]
    },
    {
      "cell_type": "code",
      "execution_count": null,
      "metadata": {
        "id": "f4rhkl9vMdiV",
        "colab": {
          "base_uri": "https://localhost:8080/"
        },
        "outputId": "c9484ecf-9a51-4dbb-e33c-7ad381edf057"
      },
      "outputs": [
        {
          "output_type": "stream",
          "name": "stdout",
          "text": [
            "18.94\n"
          ]
        }
      ],
      "source": [
        "def bmi_f(h, w, n):\n",
        "    '''\n",
        "    키 = h(cm), 몸무게 = w(kg), n = 자리수\n",
        "    '''\n",
        "    bmi = (w / (h**2)) * 10000\n",
        "    return f'{bmi:.{n}f}'\n",
        "\n",
        "print(bmi_f(178, 60, 2))\n"
      ]
    },
    {
      "cell_type": "markdown",
      "metadata": {
        "id": "dZQZzXLfMdiV"
      },
      "source": [
        "#### [실습6]\n",
        "다음 클래스(Member)를 활용해 자신의 이름과 나이가 들어간 인스턴스 생성하고, print_info() 함수를 통해 다음 문구 출력\n",
        "\n",
        "`저의 이름은 000, 나이는 00 입니다.`"
      ]
    },
    {
      "cell_type": "code",
      "execution_count": null,
      "metadata": {
        "id": "etMEoyvKMdiV"
      },
      "outputs": [],
      "source": [
        "class Member:\n",
        "    def __init__(self, name, age):\n",
        "        self.name = name\n",
        "        self.age = age\n",
        "\n",
        "    def print_info(self):\n",
        "        return f'저의 이름은 {self.name} 나이는 {self.age} 입니다.'"
      ]
    },
    {
      "cell_type": "code",
      "source": [
        "my_member = Member('jinho', 29)\n",
        "\n",
        "my_member.print_info()"
      ],
      "metadata": {
        "id": "rEij37Rcwb58",
        "colab": {
          "base_uri": "https://localhost:8080/",
          "height": 35
        },
        "outputId": "899eaaf5-4478-47af-b6b0-4b593f74c0c4"
      },
      "execution_count": null,
      "outputs": [
        {
          "output_type": "execute_result",
          "data": {
            "text/plain": [
              "'저의 이름은 jinho 나이는 29 입니다.'"
            ],
            "application/vnd.google.colaboratory.intrinsic+json": {
              "type": "string"
            }
          },
          "metadata": {},
          "execution_count": 24
        }
      ]
    },
    {
      "cell_type": "markdown",
      "metadata": {
        "id": "byLzIcyaMdiW"
      },
      "source": [
        "#### [심화1]\n",
        "\n",
        "다음 요구사항을 만족하는 클래스를 직접 정의\n",
        "\n",
        "**Customer 클래스 정의**  \n",
        "\n",
        "- 생성자    \n",
        "    - 인자: 고객 이름(name)과 고객 번호(c_id)\n",
        "    - 인자로 입력된 데이터를 셀프변수에 저장\n",
        "    - 0이 할당된 계좌금액 셀프변수 생성\n",
        "- add_amount 함수 생성\n",
        "    - 인자: 입금 금액\n",
        "    - 계좌금액 셀프변수에 입금 금액 추가\n",
        "    - self.a = self.a + inp => self.a += inp\n",
        "- sub_amount 함수 생성\n",
        "    - 인자: 출금 금액\n",
        "    - 계좌금액 셀프변수에 출금 금액 차감\n",
        "- get_info 함수 생성\n",
        "    - 고객이름, 고객번호, 계좌금액을 포함한 문자열 포맷 반환\n",
        "\n"
      ]
    },
    {
      "cell_type": "code",
      "execution_count": null,
      "metadata": {
        "id": "h6eMrurBMdiW",
        "colab": {
          "base_uri": "https://localhost:8080/",
          "height": 35
        },
        "outputId": "2189b587-391b-4974-bb23-b965a6b1429b"
      },
      "outputs": [
        {
          "output_type": "execute_result",
          "data": {
            "text/plain": [
              "'jinho, 12, 900'"
            ],
            "application/vnd.google.colaboratory.intrinsic+json": {
              "type": "string"
            }
          },
          "metadata": {},
          "execution_count": 31
        }
      ],
      "source": [
        "class Customer:\n",
        "    def __init__(self, name, c_id):\n",
        "        self.name = name\n",
        "        self.c_id = c_id\n",
        "        self.a = 0\n",
        "\n",
        "    def add_amount(self, inp):\n",
        "        self.a += inp\n",
        "\n",
        "    def sub_amount(self, out):\n",
        "        self.a -= out\n",
        "\n",
        "    def get_info(self):\n",
        "        return f'{self.name}, {self.c_id}, {self.a}'\n",
        "\n",
        "\n",
        "cut = Customer('jinho', 12)\n",
        "cut.add_amount(1000)\n",
        "cut.sub_amount(100)\n",
        "cut.get_info()"
      ]
    },
    {
      "cell_type": "markdown",
      "metadata": {
        "id": "lbZbgLFyMdiW"
      },
      "source": [
        "#### [심화2]\n",
        "Customer 인스턴스를 생성하여 다음과 같은 구성을 코드로 작성\n",
        "\n",
        "- 임의의 고객명과 고객번호를 가지는 Customer 인스턴스를 2개 생성하고 변수에 각각 할당하세요\n",
        "- 첫번째 고객의 계좌금액을 5000 추가하세요\n",
        "- 두번째 고객의 계좌금액을 3000 추가하세요\n",
        "- 두 고객의 정보를 출력하세요\n",
        "- 첫번째 고객의 계좌금액을 2000 차감하세요\n",
        "- 두번째 고객의 계좌금액을 1000 차감하세요\n",
        "- 두 고객의 정보를 출력하세요"
      ]
    },
    {
      "cell_type": "code",
      "execution_count": null,
      "metadata": {
        "id": "WxEOsa5fMdiW",
        "colab": {
          "base_uri": "https://localhost:8080/"
        },
        "outputId": "d550b38e-dae6-477e-bf9d-7ad541e0825c"
      },
      "outputs": [
        {
          "output_type": "stream",
          "name": "stdout",
          "text": [
            "A, 1, 5000\n",
            "B, 2, 3000\n",
            "A, 1, 3000\n",
            "B, 2, 2000\n"
          ]
        }
      ],
      "source": [
        "cst1 = Customer('A', 1)\n",
        "cst2 = Customer('B', 2)\n",
        "\n",
        "cst1.add_amount(5000)\n",
        "cst2.add_amount(3000)\n",
        "\n",
        "print(cst1.get_info())\n",
        "print(cst2.get_info())\n",
        "\n",
        "cst1.sub_amount(2000)\n",
        "cst2.sub_amount(1000)\n",
        "\n",
        "print(cst1.get_info())\n",
        "print(cst2.get_info())"
      ]
    },
    {
      "cell_type": "markdown",
      "metadata": {
        "id": "vZ_zsW1kMdiW"
      },
      "source": [
        "<br>\n",
        "\n",
        "## 흐름 제어문의 활용\n",
        "\n",
        "\n",
        "프로그램이 완성되기 위해서는 데이터 뿐만 아니라 데이터를 상황에 맞게 제어가 필요합니다.    \n",
        "파이썬에서 데이터를 제어하는 문법은 크게 두가지로 조건문과 반복문 존재합니다.\n",
        "\n"
      ]
    },
    {
      "cell_type": "markdown",
      "source": [
        "\n",
        "### 조건문  \n",
        "\n",
        "조건문은 프로그램의 진행 흐름에 있어 분기점을 제공합니다.\n",
        "이런 조건문은 파이썬에선 `if`,`elif`,`else` 명령어로 구성할 수 있습니다."
      ],
      "metadata": {
        "id": "TxXFQMAn53ti"
      }
    },
    {
      "cell_type": "markdown",
      "source": [
        "#### if 조건문\n",
        "\n",
        "**if** 조건문은 **else**명령어와 함께 사용될 수 있으며, **if**명령어 옆에 오는 **bool** 데이터를 체크하여 특정 영역의 코드 실행여부를 판단합니다.   \n",
        "\n",
        "    if bool데이터 :\n",
        "        code\n",
        "    else:\n",
        "        code\n",
        "    \n",
        "- `True`인 경우: `if`문의 `: 들여쓰기` 영역의 코드를 실행\n",
        "- `False`인 경우: `else`문의 `: 들여쓰기` 영역 코드를 실행"
      ],
      "metadata": {
        "id": "GbIsD80sLhzu"
      }
    },
    {
      "cell_type": "code",
      "execution_count": null,
      "metadata": {
        "id": "KoD0Z0KOMdiW",
        "outputId": "99a88fc0-eb6f-4ad7-d822-8f1f933484cf"
      },
      "outputs": [
        {
          "name": "stdout",
          "output_type": "stream",
          "text": [
            "vip\n"
          ]
        }
      ],
      "source": [
        "# 변수 할당 (int)\n",
        "point=110\n",
        "\n",
        "# if else문 구성\n",
        "if point >=100:\n",
        "    print('vip') # True인 경우 실행\n",
        "else:\n",
        "    print('일반회원') # False인 경우 실행"
      ]
    },
    {
      "cell_type": "markdown",
      "source": [
        "#### 중첩 조건문\n",
        "`if` 또는 `else` 명령어 안에 추가적인 조건이 중첩되는 경우를 중첩 조건문이라 하며, `else` 안에 조건문이 중첩되는 경우 **elif** 문으로 축약하여 사용 가능합니다."
      ],
      "metadata": {
        "id": "wNh3yMFvMAAu"
      }
    },
    {
      "cell_type": "code",
      "execution_count": null,
      "metadata": {
        "id": "oilLNeKGMdiW",
        "outputId": "91b41cc1-9b60-4fd0-f85d-1761a46bbe30"
      },
      "outputs": [
        {
          "name": "stdout",
          "output_type": "stream",
          "text": [
            "비회원\n"
          ]
        }
      ],
      "source": [
        "# if와 elif와 else의 활용\n",
        "\n",
        "point = None # 결측 (데이타 없음을 의미)\n",
        "\n",
        "if point is None: # is : 타입까지 동일해야 True\n",
        "    print('비회원')\n",
        "else:\n",
        "    if point >=100:\n",
        "        print('vip')\n",
        "    else:\n",
        "        print('일반회원')"
      ]
    },
    {
      "cell_type": "code",
      "execution_count": null,
      "metadata": {
        "id": "sz7rQn5CMdiW",
        "outputId": "cbd2340f-75f0-45d4-ea27-b337b148589b"
      },
      "outputs": [
        {
          "name": "stdout",
          "output_type": "stream",
          "text": [
            "vip\n"
          ]
        }
      ],
      "source": [
        "point = 140\n",
        "\n",
        "if point is None:\n",
        "    print('비회원')\n",
        "elif point >=200:\n",
        "    print('vvip')\n",
        "elif point >=100:\n",
        "    print('vip')\n",
        "else:\n",
        "    print('일반회원')"
      ]
    },
    {
      "cell_type": "markdown",
      "metadata": {
        "id": "kB_GCWGTMdiX"
      },
      "source": [
        "<br>\n",
        "\n",
        "### 반복문\n",
        "반복문은 프로그램 내에서 반복적인 데이터의 흐름을 만들기 위한 명령어로 조건문과 더불어 데이터의 흐름을 만들고 효율적인 알고리즘을 만드는데 핵심 역할을 합니다.\n",
        "\n",
        "- 파이썬에서 반복문은 for 문과  while 문을 사용\n",
        "- 여러개의 데이터를 제어하기 위해 사용하므로 데이터분석에 있어 필수 명령어\n"
      ]
    },
    {
      "cell_type": "markdown",
      "metadata": {
        "id": "P_D1I1FDMdiX"
      },
      "source": [
        "#### for 반복문\n",
        " for문은 파이썬에서 기본적으로 사용되는 반복문으로, 가지고있는 반복 대상(여러 데이터)을 하나씩 순서대로 접근하여 필요한 작업을 반복적으로 적용합니다.  \n",
        "\n",
        "    for 변수 in 이터러블:\n",
        "        반복코드\n",
        "\n",
        "- **이터러블**: 여러개의 데이터를 가지고있으며, 데이터를 순서대로 출력가능한 구조\n",
        "- **변수**: 이터러블에서 가져온 특정 순서의 데이터가 할당되는 변수\n",
        "- **반복코드**: `for`문의 들여쓰기 영역으로 변수에 적용될 작업 코드를 작성\n",
        "\n",
        "<center><img src=\"https://drive.google.com/thumbnail?id=1lXI0if9aDUsTnzHZwbxdUj8Iui2xOJuK&sz=w1000\" width=\"400\"/></center>"
      ]
    },
    {
      "cell_type": "code",
      "execution_count": null,
      "metadata": {
        "id": "2mmsdDOPMdiX",
        "outputId": "6f4045f6-ebdb-4631-a28f-e789dff80462"
      },
      "outputs": [
        {
          "name": "stdout",
          "output_type": "stream",
          "text": [
            "데이터:10\n",
            "데이터:20\n",
            "데이터:30\n",
            "데이터:40\n",
            "데이터:50\n"
          ]
        }
      ],
      "source": [
        "# 대표적인 이터러블인 리스트를 활용\n",
        "\n",
        "datas = [10,20,30,40,50]\n",
        "\n",
        "for data in datas:\n",
        "    print(f'데이터:{data}')"
      ]
    },
    {
      "cell_type": "markdown",
      "metadata": {
        "id": "aVqqOwdsMdiX"
      },
      "source": [
        "#### range() 함수 활용\n",
        "`range()` 함수 결과를 이터러블로 활용하면 원하는 반복 횟수를 만들 수 있습니다.\n",
        "\n",
        "- `range(s, e, step)`: s값부터 e-1값까지의 step 간격을 가지는 수열 이터러블을 생성"
      ]
    },
    {
      "cell_type": "code",
      "execution_count": null,
      "metadata": {
        "id": "ZXOMxqVjMdiX",
        "outputId": "e616f702-aa87-4252-b086-0e8aa1701b32"
      },
      "outputs": [
        {
          "name": "stdout",
          "output_type": "stream",
          "text": [
            "0번째 반복\n",
            "1번째 반복\n",
            "2번째 반복\n",
            "3번째 반복\n",
            "4번째 반복\n"
          ]
        }
      ],
      "source": [
        "# 0~4까지의 1의 간격을 가지는 수열 이터러블\n",
        "for i in range(0,5):\n",
        "    print(f'데이터: {i}')"
      ]
    },
    {
      "cell_type": "code",
      "execution_count": null,
      "metadata": {
        "id": "JRCFoXgFMdiX",
        "outputId": "926122c5-6556-460c-dcbf-0db23cb87213"
      },
      "outputs": [
        {
          "name": "stdout",
          "output_type": "stream",
          "text": [
            "데이터: 0\n",
            "데이터: 2\n",
            "데이터: 4\n",
            "데이터: 6\n",
            "데이터: 8\n"
          ]
        }
      ],
      "source": [
        "# 0~9까지의 2의 간격을 가지는 수열 이터러블\n",
        "for i in range(0,10,2):\n",
        "    print(f'데이터: {i}')"
      ]
    },
    {
      "cell_type": "code",
      "execution_count": null,
      "metadata": {
        "id": "OEhs06GDMdiY",
        "outputId": "848d842d-09d6-4cf1-80ab-1cbe73efadc3"
      },
      "outputs": [
        {
          "name": "stdout",
          "output_type": "stream",
          "text": [
            "0를 더한 값은 0\n",
            "1를 더한 값은 1\n",
            "2를 더한 값은 3\n",
            "3를 더한 값은 6\n",
            "4를 더한 값은 10\n"
          ]
        }
      ],
      "source": [
        "count = 0\n",
        "\n",
        "for d in [0,1,2,3,4]:\n",
        "    count += d ## 반복할 때마다 i를 더함\n",
        "    print(f'{d}를 더한 값은 {count}')"
      ]
    },
    {
      "cell_type": "markdown",
      "metadata": {
        "id": "P11Xk8MeMdiY"
      },
      "source": [
        "#### 반복 제어\n",
        "파이썬에는 반복문과 조건문을 같이 활용하여 반복문을 중단하거나 건너 뛸수 있습니다.\n",
        "\n",
        "- `break` : 포함된 반복문을 중단시킴  \n",
        "- `continue` : 이후 반복문 내의 코드를 실행하지 않고 다음 반복으로 넘김\n",
        "\n",
        "주로 반복문 안에 조건문을 주어 특정 상황에 `break`를 통해 반복을 중지하거나 `continue`를 통해 반복을 건너뜁니다."
      ]
    },
    {
      "cell_type": "code",
      "execution_count": null,
      "metadata": {
        "id": "_P-Tp9W8MdiY",
        "outputId": "7890548f-edba-4e98-d165-e0c41f3d12f0",
        "colab": {
          "base_uri": "https://localhost:8080/"
        }
      },
      "outputs": [
        {
          "output_type": "stream",
          "name": "stdout",
          "text": [
            "1\n",
            "2\n",
            "3\n",
            "4\n",
            "5\n",
            "6\n",
            "반복끝\n"
          ]
        }
      ],
      "source": [
        "# for문 안에서 if문을 활용\n",
        "for a in range(1,10):\n",
        "    if a >= 7: # 5보다 크면 반복 중단\n",
        "        break\n",
        "    print(a)\n",
        "\n",
        "print('반복끝')"
      ]
    },
    {
      "cell_type": "code",
      "execution_count": null,
      "metadata": {
        "id": "UIk5mDWxMdiY",
        "outputId": "d7fb2c72-251b-438e-cbc1-78e1cb2b2267",
        "colab": {
          "base_uri": "https://localhost:8080/"
        }
      },
      "outputs": [
        {
          "output_type": "stream",
          "name": "stdout",
          "text": [
            "1\n",
            "2\n",
            "4\n",
            "5\n",
            "7\n",
            "8\n"
          ]
        }
      ],
      "source": [
        "#\n",
        "for a in range(1,10):\n",
        "    if a % 3 == 0: # 3로 나눈 나머지가 0이면\n",
        "        continue\n",
        "    print(a)"
      ]
    },
    {
      "cell_type": "markdown",
      "source": [
        "> 조건문과 `%` 연산자를 통해 특정 숫자의 배수를 찾을 수 있습니다."
      ],
      "metadata": {
        "id": "-TyUf57ta7Um"
      }
    },
    {
      "cell_type": "markdown",
      "metadata": {
        "id": "jTqLHVE5MdiZ"
      },
      "source": [
        "#### while 반복문\n",
        "**while** 반복문은 오로지 특정 상황만을 보고 반복을 진행하는 반복문으로, `while` 명령어 옆의 `bool`값을 통해 반복을 결정합니다."
      ]
    },
    {
      "cell_type": "code",
      "execution_count": null,
      "metadata": {
        "id": "8bZbTwa5MdiZ",
        "outputId": "98b24acb-0b88-46c7-b24a-90286ea27de7",
        "colab": {
          "base_uri": "https://localhost:8080/"
        }
      },
      "outputs": [
        {
          "output_type": "stream",
          "name": "stdout",
          "text": [
            "1\n",
            "2\n",
            "3\n",
            "4\n",
            "5\n",
            "6\n",
            "7\n",
            "8\n",
            "9\n",
            "10\n"
          ]
        }
      ],
      "source": [
        "i = 0\n",
        "\n",
        "# i값이 10보다 작으면 반복\n",
        "# i값이 10보다 커지는순간 반복정지\n",
        "while i<10:\n",
        "# 반복마다 i값이 1씩증가\n",
        "    i += 1\n",
        "    print(i)\n"
      ]
    },
    {
      "cell_type": "code",
      "execution_count": null,
      "metadata": {
        "id": "XrkHF_6HMdiZ",
        "outputId": "c22407c2-bf26-4273-bbef-52fb77d7014b"
      },
      "outputs": [
        {
          "name": "stdout",
          "output_type": "stream",
          "text": [
            "1\n",
            "2\n",
            "3\n",
            "4\n",
            "5\n",
            "6\n",
            "7\n",
            "8\n",
            "9\n",
            "10\n"
          ]
        }
      ],
      "source": [
        "i = 0\n",
        "\n",
        "# if와 break 활용한 반복정지\n",
        "while True:\n",
        "    i += 1\n",
        "    if i > 10:\n",
        "        break\n",
        "    print(i)\n"
      ]
    },
    {
      "cell_type": "markdown",
      "metadata": {
        "id": "Nc5EcWFbMdiZ"
      },
      "source": [
        "#### 중첩 반복문\n",
        "조건문이 중첩되듯이 반복문 또한 두번이상 중첩이 될수 있습니다. 특히, 이후에 배우게 될 2차원 구조를 가진 데이터구조에서 많이 활용됩니다.   "
      ]
    },
    {
      "cell_type": "code",
      "execution_count": null,
      "metadata": {
        "id": "SjkZqJYfMdiZ",
        "outputId": "f48a4ffc-a66d-4ef9-8e46-0acdc5f0ce10"
      },
      "outputs": [
        {
          "name": "stdout",
          "output_type": "stream",
          "text": [
            "-----\n",
            "<05>\n",
            "<04>\n",
            "<03>\n",
            "<02>\n",
            "<01>\n",
            "-----\n",
            "<15>\n",
            "<14>\n",
            "<13>\n",
            "<12>\n",
            "<11>\n",
            "-----\n",
            "<25>\n",
            "<24>\n",
            "<23>\n",
            "<22>\n",
            "<21>\n",
            "-----\n",
            "<35>\n",
            "<34>\n",
            "<33>\n",
            "<32>\n",
            "<31>\n",
            "-----\n",
            "<45>\n",
            "<44>\n",
            "<43>\n",
            "<42>\n",
            "<41>\n"
          ]
        }
      ],
      "source": [
        "# 0~4 반복\n",
        "for i in range(5):\n",
        "    print('-----')\n",
        "\n",
        "    # 0~4 반복안에 4~0 반복하여 25번 반복\n",
        "    for j in range(5,0,-1):\n",
        "        print(f'<{i}{j}>')\n"
      ]
    },
    {
      "cell_type": "markdown",
      "metadata": {
        "id": "f8ot6xVMMdia"
      },
      "source": [
        "### 오류 제어\n",
        "소스코드를 작성하여 실행하다 보면 오류가 발생하는 경우가 생깁니다.   \n",
        "이때 파이썬은 몇가지 오류에 대한 정의를 만들어 놓아 개발자가 쉽게 오류를 컨드롤 할 수 있게 도와줍니다."
      ]
    },
    {
      "cell_type": "markdown",
      "source": [
        "#### 오류 종류\n",
        "- SyntaxError: Python 코드가 잘못된 문법으로 작성된 경우 발생\n",
        "- NameError: 정의되지 않은 변수나 함수에 접근하려고 할 때 발생\n",
        "- TypeError: 잘못된 데이터 타입 간 연산 또는 함수 호출 시 발생\n",
        "- ValueError: 함수의 인자가 적절하지 않을 때 발생\n",
        "- ZeroDivisionError: 0으로 나누는 연산시 발생\n",
        "- IndexError: 유효하지 않은 인덱스에 접근하려고 할 때 발생(리스트, 튜플등)\n",
        "- KeyError: 존재하지 않는 키를 사용하려고 할 때 발생(딕셔너리)"
      ],
      "metadata": {
        "id": "tvhzuCrnfGJb"
      }
    },
    {
      "cell_type": "code",
      "execution_count": null,
      "metadata": {
        "id": "SVVCm0MQMdia",
        "outputId": "f5d1967a-a2b2-48db-9724-6fbd0b89188d"
      },
      "outputs": [
        {
          "ename": "SyntaxError",
          "evalue": "incomplete input (2426696027.py, line 2)",
          "output_type": "error",
          "traceback": [
            "\u001b[1;36m  Cell \u001b[1;32mIn[1], line 2\u001b[1;36m\u001b[0m\n\u001b[1;33m    print(\"Hello World!\"  # 괄호가 닫히지 않음\u001b[0m\n\u001b[1;37m                                      ^\u001b[0m\n\u001b[1;31mSyntaxError\u001b[0m\u001b[1;31m:\u001b[0m incomplete input\n"
          ]
        }
      ],
      "source": [
        "# SyntaxError\n",
        "print(\"Hello World!\""
      ]
    },
    {
      "cell_type": "markdown",
      "metadata": {
        "id": "Qer4y9FxMdia"
      },
      "source": [
        "> 괄호가 닫히지 않아 SyntaxError 발생"
      ]
    },
    {
      "cell_type": "code",
      "execution_count": null,
      "metadata": {
        "id": "HUmdY_PdMdia",
        "outputId": "51a9c064-f479-4e85-b6e3-1ecd9a7efecc"
      },
      "outputs": [
        {
          "ename": "NameError",
          "evalue": "name 'variable' is not defined",
          "output_type": "error",
          "traceback": [
            "\u001b[1;31m---------------------------------------------------------------------------\u001b[0m",
            "\u001b[1;31mNameError\u001b[0m                                 Traceback (most recent call last)",
            "Cell \u001b[1;32mIn[2], line 2\u001b[0m\n\u001b[0;32m      1\u001b[0m \u001b[38;5;66;03m# NameError\u001b[39;00m\n\u001b[1;32m----> 2\u001b[0m \u001b[38;5;28mprint\u001b[39m(\u001b[43mvariable\u001b[49m)  \u001b[38;5;66;03m# variable이 정의되지 않음\u001b[39;00m\n",
            "\u001b[1;31mNameError\u001b[0m: name 'variable' is not defined"
          ]
        }
      ],
      "source": [
        "# NameError\n",
        "print(variable)"
      ]
    },
    {
      "cell_type": "markdown",
      "metadata": {
        "id": "tm2vGL8rMdia"
      },
      "source": [
        "> variable이름의 변수가 정의되지 않아 NameError 발생"
      ]
    },
    {
      "cell_type": "code",
      "execution_count": null,
      "metadata": {
        "id": "nthwBxWsMdid",
        "outputId": "c3b23053-9697-4649-f4aa-4c07dea4295e"
      },
      "outputs": [
        {
          "ename": "TypeError",
          "evalue": "can only concatenate str (not \"int\") to str",
          "output_type": "error",
          "traceback": [
            "\u001b[1;31m---------------------------------------------------------------------------\u001b[0m",
            "\u001b[1;31mTypeError\u001b[0m                                 Traceback (most recent call last)",
            "Cell \u001b[1;32mIn[3], line 2\u001b[0m\n\u001b[0;32m      1\u001b[0m \u001b[38;5;66;03m# TypeError\u001b[39;00m\n\u001b[1;32m----> 2\u001b[0m result \u001b[38;5;241m=\u001b[39m \u001b[38;5;124;43m\"\u001b[39;49m\u001b[38;5;124;43mHello\u001b[39;49m\u001b[38;5;124;43m\"\u001b[39;49m\u001b[43m \u001b[49m\u001b[38;5;241;43m+\u001b[39;49m\u001b[43m \u001b[49m\u001b[38;5;241;43m5\u001b[39;49m  \u001b[38;5;66;03m# 문자열과 숫자는 더할 수 없음\u001b[39;00m\n",
            "\u001b[1;31mTypeError\u001b[0m: can only concatenate str (not \"int\") to str"
          ]
        }
      ],
      "source": [
        "# TypeError\n",
        "result = \"Hello\" + 5"
      ]
    },
    {
      "cell_type": "markdown",
      "metadata": {
        "id": "F9SddeVaMdie"
      },
      "source": [
        "> 문자열과 숫자는 타입이 동일하지 않아 더할 수 없음"
      ]
    },
    {
      "cell_type": "markdown",
      "metadata": {
        "id": "NCSqSVy-Mdie"
      },
      "source": [
        "#### 예외 처리\n",
        "필요 상황에 따라 오류발생시 오류를 무시하거나 오류를 처리해야 하는 작업이 필요한 경우 오류를 미리 체크하여 예외상황을 만드는 `try-except` 명령어를 활용할 수 있습니다.  \n",
        "\n",
        "    try:\n",
        "        오류 발생 가능이 있는 코드\n",
        "    except 검출오류:\n",
        "        오류 발생시 실행될 코드\n",
        "\n",
        "- `try` 영영에 작성된 코드에서 오류 발생시 `except` 영영의 코드 실행\n",
        "- `except` 문에 검출하고자 하는 오류를 명시하면 명시된 오류만 검출\n",
        "- `except`문에 오류가 입력되지 않으면 모든 오류를 검출\n"
      ]
    },
    {
      "cell_type": "code",
      "execution_count": null,
      "metadata": {
        "id": "d91qWXOHMdie",
        "outputId": "39b18ee5-9bbd-4929-8cb2-3acce090541d"
      },
      "outputs": [
        {
          "name": "stdout",
          "output_type": "stream",
          "text": [
            "0으로 나눌 수 없습니다.\n"
          ]
        }
      ],
      "source": [
        "try:\n",
        "    result = 10 / 0\n",
        "except ZeroDivisionError:\n",
        "    print(\"0으로 나눌 수 없습니다.\")"
      ]
    },
    {
      "cell_type": "markdown",
      "metadata": {
        "id": "nIjd2Vh2Mdie"
      },
      "source": [
        "> `except`문에 `ZeroDivisionError` 를 입력하여 ZeroDivisionError만 검출"
      ]
    },
    {
      "cell_type": "markdown",
      "metadata": {
        "id": "HBUaYE_QMdie"
      },
      "source": [
        "### 실습"
      ]
    },
    {
      "cell_type": "markdown",
      "metadata": {
        "id": "StIFmVUfMdif"
      },
      "source": [
        "\n",
        "#### [실습1]\n",
        "구구단 19단 출력하기  \n",
        "\n",
        "    -출력예시-\n",
        "    19 X 1 = 19\n",
        "    19 X 2 = 38 ...\n"
      ]
    },
    {
      "cell_type": "code",
      "execution_count": null,
      "metadata": {
        "id": "VojVazd4Mdif",
        "outputId": "1d11afcc-1486-4dd2-915f-8dfcd2735026"
      },
      "outputs": [
        {
          "name": "stdout",
          "output_type": "stream",
          "text": [
            "19 X 1 = 19\n"
          ]
        }
      ],
      "source": [
        "#1. 참고\n",
        "print(f'{19} X {1} = {19}')"
      ]
    },
    {
      "cell_type": "code",
      "execution_count": null,
      "metadata": {
        "id": "ESnU46wHMdif",
        "colab": {
          "base_uri": "https://localhost:8080/"
        },
        "outputId": "27fcec32-6f35-4a13-a1a9-3ed44dc0c582"
      },
      "outputs": [
        {
          "output_type": "stream",
          "name": "stdout",
          "text": [
            "19 X 1 = 19\n",
            "19 X 2 = 38\n",
            "19 X 3 = 57\n",
            "19 X 4 = 76\n",
            "19 X 5 = 95\n",
            "19 X 6 = 114\n",
            "19 X 7 = 133\n",
            "19 X 8 = 152\n",
            "19 X 9 = 171\n",
            "19 X 10 = 190\n",
            "19 X 11 = 209\n",
            "19 X 12 = 228\n",
            "19 X 13 = 247\n",
            "19 X 14 = 266\n",
            "19 X 15 = 285\n",
            "19 X 16 = 304\n",
            "19 X 17 = 323\n",
            "19 X 18 = 342\n",
            "19 X 19 = 361\n"
          ]
        }
      ],
      "source": [
        "for i in range(1,20):\n",
        "    print(f'{19} X {i} = {19*i}')"
      ]
    },
    {
      "cell_type": "markdown",
      "source": [
        "#### [실습2]\n",
        "아래의 숫자 리스트 nums 에서 반복문을 통해 10 이상인 숫자가 등장했을때 '발견' 문자열을 출력\n",
        "\n",
        "    nums = [9, 10, 4, 22, 3, 19]\n"
      ],
      "metadata": {
        "id": "Jev3xDX6BdWY"
      }
    },
    {
      "cell_type": "code",
      "source": [
        "nums = [9, 10, 4, 22, 3, 19]\n",
        "\n",
        "for i in range(0,len(nums)):\n",
        "    if nums[i] >= 10:\n",
        "        print(f'발견 index{i}')"
      ],
      "metadata": {
        "colab": {
          "base_uri": "https://localhost:8080/"
        },
        "id": "BfjGY8xSMuM8",
        "outputId": "faaa7c05-696c-4653-8219-a9628f0a0169"
      },
      "execution_count": null,
      "outputs": [
        {
          "output_type": "stream",
          "name": "stdout",
          "text": [
            "발견 index1\n",
            "발견 index3\n",
            "발견 index5\n"
          ]
        }
      ]
    },
    {
      "cell_type": "markdown",
      "metadata": {
        "id": "2zQmLLQ2Mdif"
      },
      "source": [
        "#### [실습3]\n",
        "아래의 숫자 리스트 `nums`에서 10 이상인 숫자만 따로 모아 합계 계산하기\n",
        "\n",
        "    nums = [9, 10, 4, 22, 3, 19]"
      ]
    },
    {
      "cell_type": "code",
      "execution_count": null,
      "metadata": {
        "id": "MzGujMwVMdif",
        "colab": {
          "base_uri": "https://localhost:8080/"
        },
        "outputId": "e4603141-0fc7-4a4b-9c04-f6671116bb62"
      },
      "outputs": [
        {
          "output_type": "stream",
          "name": "stdout",
          "text": [
            "51\n"
          ]
        }
      ],
      "source": [
        "nums = [9, 10, 4, 22, 3, 19]\n",
        "a = 0\n",
        "for i in range(0, len(nums)):\n",
        "    if nums[i] >= 10:\n",
        "        a += nums[i]\n",
        "print(a)"
      ]
    },
    {
      "cell_type": "markdown",
      "metadata": {
        "id": "ncHPgVrXMdif"
      },
      "source": [
        "#### [실습4]\n",
        "다음 리스트에 있는 숫자의 누적 합을 출력하세요. 단 *가 나오면 건너뛰고  - 가 나오면 반복을 중지\n",
        "\n",
        "    nums2 = [1, 2, '*', 4, 5, '*', 7, '-', 9]\n",
        "\n",
        "    - 출력결과 -\n",
        "    1\n",
        "    3\n",
        "    7\n",
        "    12\n",
        "    19"
      ]
    },
    {
      "cell_type": "code",
      "execution_count": null,
      "metadata": {
        "id": "B3d8Uod0Mdif"
      },
      "outputs": [],
      "source": [
        "nums2 = [1, 2, '*', 4, 5, '*', 7, '-', 9]"
      ]
    },
    {
      "cell_type": "code",
      "source": [
        "b = 0\n",
        "for i in range(0, len(nums2)):\n",
        "    if nums2[i] == '*':\n",
        "        continue\n",
        "    elif nums2[i] == '-':\n",
        "        break\n",
        "    else:\n",
        "        b += nums2[i]\n",
        "        print(b)"
      ],
      "metadata": {
        "id": "Gr1GOGIXgu-x",
        "colab": {
          "base_uri": "https://localhost:8080/"
        },
        "outputId": "2e839f68-7e37-424a-907b-7df2b9d4fd5a"
      },
      "execution_count": null,
      "outputs": [
        {
          "output_type": "stream",
          "name": "stdout",
          "text": [
            "1\n",
            "3\n",
            "7\n",
            "12\n",
            "19\n"
          ]
        }
      ]
    },
    {
      "cell_type": "markdown",
      "source": [
        "#### [실습5]\n",
        "다음 num 변수에 있는 정수를 nums3 리스트에 있는 숫자들로 나누었을 때 각각의 몫을 출력\n",
        " - 반복문을 활용할 것\n",
        " - 에러가 발생하면 건너뛰기\n",
        "\n",
        "\n",
        "    num = 100\n",
        "    nums3 = [3,10,5,20,0,50,2]\n"
      ],
      "metadata": {
        "id": "60nr_xJkhMJi"
      }
    },
    {
      "cell_type": "code",
      "source": [
        "    num = 100\n",
        "    nums3 = [3,10,5,20,0,50,2]"
      ],
      "metadata": {
        "id": "VX6qHqN9hJ69"
      },
      "execution_count": null,
      "outputs": []
    },
    {
      "cell_type": "code",
      "source": [
        "for i in range(0, len(nums3)):\n",
        "    try:\n",
        "        print(f'{num/nums3[i]:.2f}')\n",
        "    except ZeroDivisionError:\n",
        "        continue"
      ],
      "metadata": {
        "id": "1n-7TP_8h9fq",
        "colab": {
          "base_uri": "https://localhost:8080/"
        },
        "outputId": "ab6c4c40-009b-42d2-e919-2b198f49545c"
      },
      "execution_count": null,
      "outputs": [
        {
          "output_type": "stream",
          "name": "stdout",
          "text": [
            "33.33\n",
            "10.00\n",
            "20.00\n",
            "5.00\n",
            "2.00\n",
            "50.00\n"
          ]
        }
      ]
    },
    {
      "cell_type": "markdown",
      "metadata": {
        "id": "wf6dSCxcMdig"
      },
      "source": [
        "#### [심화1]\n",
        "for문을 두번 중첩하여 1~47번중 6개의 번호를 뽑는 로또 번호를 5개 생성하여 출력하세요 (숫자 중복 상관없음)\n",
        "\n",
        "**random** 모듈    \n",
        "`random` 모듈의 `randint()` 함수를 활용하여 랜덤 숫자 생성    \n",
        "`randint(s,e)`: s~e 사이의 랜덤한 수 생성\n"
      ]
    },
    {
      "cell_type": "code",
      "execution_count": null,
      "metadata": {
        "scrolled": true,
        "id": "wHjazGIEMdig"
      },
      "outputs": [],
      "source": [
        "import random"
      ]
    },
    {
      "cell_type": "code",
      "execution_count": null,
      "metadata": {
        "id": "x6OiJ1rWMdif",
        "colab": {
          "base_uri": "https://localhost:8080/"
        },
        "outputId": "3927a1a6-2720-4519-8808-a024c64192fe"
      },
      "outputs": [
        {
          "output_type": "stream",
          "name": "stdout",
          "text": [
            "[25, 36, 34, 18, 14, 24]\n",
            "[20, 46, 32, 41, 40, 18]\n",
            "[45, 42, 25, 12, 39, 15]\n",
            "[38, 3, 47, 39, 31, 7]\n",
            "[6, 8, 22, 28, 38, 28]\n"
          ]
        }
      ],
      "source": [
        "for i in range(0,5):\n",
        "    list = []\n",
        "    for j in range(0,6):\n",
        "        list.append(random.randint(1,47))\n",
        "    print(list)"
      ]
    },
    {
      "cell_type": "markdown",
      "source": [],
      "metadata": {
        "id": "NH8MD1j8gwQ4"
      }
    },
    {
      "cell_type": "markdown",
      "metadata": {
        "id": "765LD4qyMdig"
      },
      "source": [
        "#### End of script"
      ]
    }
  ],
  "metadata": {
    "kernelspec": {
      "display_name": "Python 3 (ipykernel)",
      "language": "python",
      "name": "python3"
    },
    "language_info": {
      "codemirror_mode": {
        "name": "ipython",
        "version": 3
      },
      "file_extension": ".py",
      "mimetype": "text/x-python",
      "name": "python",
      "nbconvert_exporter": "python",
      "pygments_lexer": "ipython3",
      "version": "3.10.11"
    },
    "colab": {
      "provenance": [],
      "include_colab_link": true
    }
  },
  "nbformat": 4,
  "nbformat_minor": 0
}