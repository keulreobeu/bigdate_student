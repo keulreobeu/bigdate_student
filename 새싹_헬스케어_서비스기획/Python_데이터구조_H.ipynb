{
  "cells": [
    {
      "cell_type": "markdown",
      "metadata": {
        "id": "view-in-github",
        "colab_type": "text"
      },
      "source": [
        "<a href=\"https://colab.research.google.com/github/keulreobeu/bigdate_student/blob/main/%EC%83%88%EC%8B%B9_%ED%97%AC%EC%8A%A4%EC%BC%80%EC%96%B4_%EC%84%9C%EB%B9%84%EC%8A%A4%EA%B8%B0%ED%9A%8D/Python_%EB%8D%B0%EC%9D%B4%ED%84%B0%EA%B5%AC%EC%A1%B0_H.ipynb\" target=\"_parent\"><img src=\"https://colab.research.google.com/assets/colab-badge.svg\" alt=\"Open In Colab\"/></a>"
      ]
    },
    {
      "cell_type": "markdown",
      "id": "a8594edd-be51-40f4-9593-e021c915a2ab",
      "metadata": {
        "id": "a8594edd-be51-40f4-9593-e021c915a2ab"
      },
      "source": [
        "# Python 기초 문법: 데이터구조\n",
        "\n",
        "`작성자: 최원칠 강사`   \n",
        "`traveler4d@gmail.com`\n"
      ]
    },
    {
      "cell_type": "markdown",
      "id": "26660d30-ae18-4b19-8f27-da0bf08d4460",
      "metadata": {
        "id": "26660d30-ae18-4b19-8f27-da0bf08d4460"
      },
      "source": [
        "## 여러 값을 묶은 데이터구조\n",
        "파이썬을 활용하여 데이터분석이나 프로그램을 만들기 위해서는 하나의 데이터가 아닌 여러개의 데이터가 많이 필요하게 됩니다. 이때 여러개의 데이터를 특정한 형태와 규칙에 맞게 관리하는 구조체를 데이터 구조라고 합니다.  \n",
        "\n",
        "파이썬에서 데이터구조는 보통 하나의 객체로 정의가 되어있기 때문에 하나의 변수에 할당이 됩니다. 즉, 여러개의 데이터가 하나의 변수에 보관되여 효율적으로 관리가 될 수 있습니다.\n",
        "\n",
        "**파이썬 대표 데이터구조**\n",
        "- 리스트(list)\n",
        "- 튜플(tuple), 문자열(str)\n",
        "- 사전(dictionary)\n",
        "- 배열(array)"
      ]
    },
    {
      "cell_type": "markdown",
      "id": "3f6c7518-40c6-4a83-a258-ac7637849d15",
      "metadata": {
        "id": "3f6c7518-40c6-4a83-a258-ac7637849d15"
      },
      "source": [
        "### 가변 시퀀스 리스트"
      ]
    },
    {
      "cell_type": "markdown",
      "source": [
        "#### 리스트 구조와 특징\n",
        "리스트는 여러 데이터를 순서대로 연결시킨 가변적인 시퀀스 데이터 구조로 파이썬에서 가장 대표적으로 사용되는 구조입니다.\n",
        "\n",
        "<center><img src=\"https://drive.google.com/thumbnail?id=1_QF3A42XeMG1XcJ6APt113z9m_muudl_&sz=w1000\" width=\"600\"/></center>\n",
        "\n",
        "그림처럼 데이터를 순서대로 연결하여 저장하며, 변수에 접근시 연결점 통해 여러 데이터를 순차적으로 관리할 수 있는 구조입니다.\n",
        "\n",
        "- **연결 구조**\n",
        "    - 여러 데이터를 순서대로 연결시킨 시퀀스 데이터 구조\n",
        "    - 순서(index)를 가지고 있음\n",
        "    - 데이터를 순서대로 따라가야 접근 가능하여, 접근 속도가 느림\n",
        "    - 메모리 공간의 활용성이 좋음\n",
        "- **가변 특성**\n",
        "    - 여러 타입을 동시에 지니며 확장이 유연함\n",
        "    - 자유롭게 데이터를 수정하고 추가 가능\n"
      ],
      "metadata": {
        "id": "_iA0QHDIehXT"
      },
      "id": "_iA0QHDIehXT"
    },
    {
      "cell_type": "markdown",
      "source": [
        "#### 리스트 생성\n",
        "파이썬에서 내부적으로 미리 구현된 기본 데이터구조는 특수 기호를 활용하여 리터럴 방식으로 생성이 가능합니다.\n",
        "\n",
        "**리스트 생성 방법**\n",
        "- 대괄호를 사용하여 빈 리스트를 표시하기: `[]`\n",
        "- 대괄호를 사용하여 쉼표로 항목 구분하기: `[a], [a, b, c]`\n",
        "- 리스트 컴프리헨션 사용하기: `[x for x in iterable]`\n",
        "- 내장함수 생성자를 사용하기: `list()` 또는 `list(iterable)`"
      ],
      "metadata": {
        "id": "qeYQ1_3Gem9q"
      },
      "id": "qeYQ1_3Gem9q"
    },
    {
      "cell_type": "code",
      "execution_count": null,
      "id": "0679ae0b-1d0b-4978-b939-77bc1fec4b38",
      "metadata": {
        "id": "0679ae0b-1d0b-4978-b939-77bc1fec4b38",
        "outputId": "34f17be9-497a-4070-db97-169cbc39b8f7",
        "colab": {
          "base_uri": "https://localhost:8080/"
        }
      },
      "outputs": [
        {
          "output_type": "stream",
          "name": "stdout",
          "text": [
            "[]\n",
            "[5000, 6000, 7000, 6000, 9000]\n"
          ]
        }
      ],
      "source": [
        "# 비어있는 리스트 생성\n",
        "empty = []\n",
        "print(empty)\n",
        "\n",
        "# 데이터를 넣어 리스트 생성\n",
        "point = [5000, 6000, 7000, 6000, 9000]\n",
        "print(point)\n"
      ]
    },
    {
      "cell_type": "code",
      "execution_count": null,
      "id": "9739f5cc-9833-40bf-8b56-07affb71afc0",
      "metadata": {
        "id": "9739f5cc-9833-40bf-8b56-07affb71afc0",
        "outputId": "d613cc6a-197d-47b2-89ca-cfa957879509"
      },
      "outputs": [
        {
          "name": "stdout",
          "output_type": "stream",
          "text": [
            "['파이썬', 5000, '기초', 6.215, '사전학습', True]\n"
          ]
        }
      ],
      "source": [
        "# 다양한 타입이 들어올 수 있음\n",
        "types = ['파이썬', 5000, '기초', 6.215, '사전학습', True]\n",
        "print(types)"
      ]
    },
    {
      "cell_type": "code",
      "execution_count": null,
      "id": "826cd399-9cf0-4ecd-817e-b227a5d5b47c",
      "metadata": {
        "id": "826cd399-9cf0-4ecd-817e-b227a5d5b47c",
        "outputId": "7e2c9d38-67e8-4b07-f83b-8a2fa2720a03"
      },
      "outputs": [
        {
          "name": "stdout",
          "output_type": "stream",
          "text": [
            "[]\n",
            "[1, 2, 3, 4, 5, 6, 7, 8, 9, 10, 11, 12, 13, 14, 15, 16, 17, 18, 19]\n"
          ]
        }
      ],
      "source": [
        "# list() 함수 활용하여 생성 (형변환)\n",
        "empty = list() # empty = []\n",
        "print(empty)\n",
        "seq = list(range(1, 20))\n",
        "print(seq)"
      ]
    },
    {
      "cell_type": "code",
      "execution_count": null,
      "id": "0ae779cb-7724-4b2a-bb85-09086afdf3d0",
      "metadata": {
        "id": "0ae779cb-7724-4b2a-bb85-09086afdf3d0",
        "outputId": "ff8ff2fc-b743-4e75-9a33-2095fefc81ff"
      },
      "outputs": [
        {
          "name": "stdout",
          "output_type": "stream",
          "text": [
            "[1, 2, 3, 4, 5, 6, 7, 8, 9]\n",
            "[7, 14, 21, 28, 35, 42, 49, 56, 63, 70, 77, 84, 91, 98]\n"
          ]
        }
      ],
      "source": [
        "# for문과 if문을 활용한 리스트생성 (컴프리헨션)\n",
        "seq_num = [x for x in range(1,10)]\n",
        "print(seq_num)\n",
        "\n",
        "seven_mul = [x for x in range(1,101) if x%7==0]\n",
        "print(seven_mul)"
      ]
    },
    {
      "cell_type": "markdown",
      "id": "f9a3ddc1-0d54-4b4f-9366-651099ae9167",
      "metadata": {
        "id": "f9a3ddc1-0d54-4b4f-9366-651099ae9167"
      },
      "source": [
        "\n",
        "#### 리스트의 메서드\n",
        "리스트는 가변 특성을 가진 만큼 구조를 변형하는 다양한 요소의 메서드(함수)가 포함되어 있습니다.\n",
        "- `append(x)`: x를 맨뒤에 추가  \n",
        "- `extend(x)` : x를 이어 붙이기(구조내 요소를 추가)  \n",
        "- `sort()` : 내부 요소를 정렬  \n",
        "- `reverse()` : 내부 요소를 반대로 구성   \n",
        "- `pop()` : 마지막 순서 항목을 반환후 리스트에서 제거   \n",
        "- `clear()` : 모든 항목을 제거   \n",
        "- `count(x)` : x 가 리스트에 나타나는 횟수를 반환\n",
        "- `insert(i,x)` : i순서에 x를 삽입    \n"
      ]
    },
    {
      "cell_type": "code",
      "execution_count": null,
      "id": "95656ca6-3dfe-472b-a1f5-93ffb7dc1ce6",
      "metadata": {
        "id": "95656ca6-3dfe-472b-a1f5-93ffb7dc1ce6",
        "outputId": "7ae1bac2-5671-403e-961a-0dea1d628263"
      },
      "outputs": [
        {
          "data": {
            "text/plain": [
              "[5000, 6000, 7000, 6000, 9000, 10000]"
            ]
          },
          "execution_count": 9,
          "metadata": {},
          "output_type": "execute_result"
        }
      ],
      "source": [
        "# append : 리스트 맨뒤에 항목 추가하기\n",
        "point = [5000, 6000, 7000, 6000, 9000]\n",
        "point.append(10000)\n",
        "point"
      ]
    },
    {
      "cell_type": "code",
      "execution_count": null,
      "id": "d6a593c3-09ae-4237-81cf-332dd061bb23",
      "metadata": {
        "id": "d6a593c3-09ae-4237-81cf-332dd061bb23",
        "outputId": "7e0bc637-58ed-4704-eeeb-b9af6844bf3f",
        "colab": {
          "base_uri": "https://localhost:8080/"
        }
      },
      "outputs": [
        {
          "output_type": "stream",
          "name": "stdout",
          "text": [
            "[5001, 6001, 7001, 6001, 9001]\n",
            "[5000, 6000, 7000, 6000, 9000, 6000, 5000]\n",
            "[5000, 6000, 7000, 6000, 9000, 6000, 5000]\n"
          ]
        }
      ],
      "source": [
        "# append는 내부 항목을 그대로 추가\n",
        "point = [5000, 6000, 7000, 6000, 9000]\n",
        "point.append([6000, 5000])\n",
        "print(point)\n",
        "\n",
        "# extend : 또다른 리스트를 이어 붙이기(구조내 요소를 추가)\n",
        "point = [5000, 6000, 7000, 6000, 9000]\n",
        "point.extend([6000, 5000])\n",
        "print(point)\n",
        "\n",
        "# + 연산을 활용하여 이어 붙이기 가능\n",
        "concat = [5000, 6000, 7000, 6000, 9000] + [6000, 5000]\n",
        "print(concat)"
      ]
    },
    {
      "cell_type": "code",
      "execution_count": null,
      "id": "72607bd0-cf42-4476-8810-f2244eb0d711",
      "metadata": {
        "jupyter": {
          "outputs_hidden": true
        },
        "id": "72607bd0-cf42-4476-8810-f2244eb0d711",
        "outputId": "08618a5a-b315-4d79-f6ef-8c09dd2280f7",
        "colab": {
          "base_uri": "https://localhost:8080/"
        }
      },
      "outputs": [
        {
          "output_type": "stream",
          "name": "stdout",
          "text": [
            "[5000, 6000, 6000, 7000, 9000]\n",
            "['6000', 7000, 6000, 5000, 9000]\n"
          ]
        }
      ],
      "source": [
        "# sort : 내부 요소를 정렬\n",
        "point = [9000, 5000, 6000, 7000, 6000]\n",
        "point.sort()\n",
        "print(point)\n",
        "\n",
        "# reverse : 내부 요소를 반대로 구성\n",
        "point = [9000, 5000, 6000, 7000, 6000]\n",
        "point.reverse()\n",
        "print(point)"
      ]
    },
    {
      "cell_type": "markdown",
      "id": "070eed98-c032-4072-9e40-c23938f14361",
      "metadata": {
        "id": "070eed98-c032-4072-9e40-c23938f14361"
      },
      "source": [
        "### 시퀀스 연산\n",
        "파이썬은 데이터구조를 다루기 위해 기본 데이터구조에 통용 적으로 사용될 수 있는 다양한 명령어 기법을 제공합니다.  \n",
        "\n",
        "데이터구조를 가진 인스턴스에서 메소드를 통해 독립적으로 사용되는 것이 아닌 통용적인 명령어를 사용하여 활용한다는 것에 주의해야 합니다.\n"
      ]
    },
    {
      "cell_type": "markdown",
      "source": [
        "#### 인덱싱\n",
        "인덱싱은 데이터구조에서 특정 데이터를 찾아가기 위해 제공되는 시퀀스 연산입니다.\n",
        "\n",
        "- `데이터구조[인덱스]` : 데이터구조내 특정 인덱스(기준)에 해당하는 데이터에 접근    \n",
        "- 인덱스는 데이터구조에 따라 다양한 형태로 존재\n",
        "\n",
        "<center><img src=\"https://drive.google.com/thumbnail?id=1h5ziL6xgvdYrWraRZEm9sEKHzjtgByoC&sz=w1000\" width=\"500\"/></center>"
      ],
      "metadata": {
        "id": "LfvlemDnd6SQ"
      },
      "id": "LfvlemDnd6SQ"
    },
    {
      "cell_type": "code",
      "execution_count": null,
      "id": "56f18c90-ccea-4c00-9f89-11f36ae99daa",
      "metadata": {
        "id": "56f18c90-ccea-4c00-9f89-11f36ae99daa",
        "outputId": "3aeb1b09-6fde-43c0-9892-220e2ccfdf30"
      },
      "outputs": [
        {
          "name": "stdout",
          "output_type": "stream",
          "text": [
            "5000\n",
            "7000\n",
            "9000\n"
          ]
        }
      ],
      "source": [
        "# [index]를 활용한 데이터 선택\n",
        "point = [5000, 6000, 7000, 6000, 9000]\n",
        "\n",
        "print(point[0])\n",
        "print(point[2])\n",
        "# 음수를 활용하여 역순으로 인덱싱 가능\n",
        "print(point[-1])"
      ]
    },
    {
      "cell_type": "markdown",
      "id": "96c5cb7f-9fbb-48fe-acec-9de76e9cb2db",
      "metadata": {
        "id": "96c5cb7f-9fbb-48fe-acec-9de76e9cb2db"
      },
      "source": [
        "> index는 항상 0부터 시작함을 주의"
      ]
    },
    {
      "cell_type": "markdown",
      "id": "3653233b-3068-4553-8509-12d866863a83",
      "metadata": {
        "id": "3653233b-3068-4553-8509-12d866863a83"
      },
      "source": [
        "#### 슬라이싱\n",
        "슬라이싱의 인덱싱의 확장으로 인덱싱을 `:`기호를 통해 특정 범위로 확장하여 데이터구조의 부분을 가져옵니다.\n",
        "\n",
        "- `데이터구조[시작인덱스:끝인덱스]` : `시작인덱스` 부터 `끝인덱스-1` 까지에 해당하는 데이터들을 부분으로 가져옴"
      ]
    },
    {
      "cell_type": "code",
      "execution_count": null,
      "id": "4e56f441-7005-456a-bf36-29aa92bee7bd",
      "metadata": {
        "scrolled": true,
        "id": "4e56f441-7005-456a-bf36-29aa92bee7bd",
        "outputId": "bac93463-c0c8-4b44-a8ad-bcc515c3d178",
        "colab": {
          "base_uri": "https://localhost:8080/"
        }
      },
      "outputs": [
        {
          "output_type": "stream",
          "name": "stdout",
          "text": [
            "[7000, 6000]\n",
            "[5000, 6000, 7000]\n"
          ]
        }
      ],
      "source": [
        "# [start:end]을 활용해 범위 지정 가능(슬라이싱), 끝 인덱스 미포함\n",
        "point = [5000, 6000, 7000, 6000, 9000]\n",
        "print(point[2:4])\n",
        "# 앞에 0은 생략 가능\n",
        "print(point[:3])"
      ]
    },
    {
      "cell_type": "markdown",
      "id": "5b0e359f-7557-4fbd-a20b-e102b69e9d01",
      "metadata": {
        "id": "5b0e359f-7557-4fbd-a20b-e102b69e9d01"
      },
      "source": [
        "> 슬라이싱에서 끝인덱스의 -1 만큼만 접근함을 주의"
      ]
    },
    {
      "cell_type": "code",
      "execution_count": null,
      "id": "78d36ff0-311e-42a2-bbbe-5cfa25a3753b",
      "metadata": {
        "scrolled": true,
        "id": "78d36ff0-311e-42a2-bbbe-5cfa25a3753b",
        "outputId": "4ea4dc33-cbeb-4263-d169-f6526cd52c99"
      },
      "outputs": [
        {
          "name": "stdout",
          "output_type": "stream",
          "text": [
            "[6000, 9000]\n"
          ]
        }
      ],
      "source": [
        "# 음수 인덱스로 뒤에순서를 지정 가능\n",
        "point = [5000, 6000, 7000, 6000, 9000]\n",
        "# 마지막 인덱스는 생략\n",
        "print(point[-2:])"
      ]
    },
    {
      "cell_type": "markdown",
      "id": "892e6409-7a43-4cde-bc6d-0b353157ed1e",
      "metadata": {
        "id": "892e6409-7a43-4cde-bc6d-0b353157ed1e"
      },
      "source": [
        "#### 인덱싱으로 데이터 수정\n",
        "가변특성을 가진 데이터구조는 인덱싱 또는 슬라이싱을 통해 해당 인덱스의 데이터를 수정할 수 있습니다.\n",
        "\n",
        "이때 `del` 연산을 추가로 활용하면 특정 인덱스의 데이터를 삭제 가능합니다."
      ]
    },
    {
      "cell_type": "code",
      "execution_count": null,
      "id": "72addf04-f4f4-418c-a4a7-efa2afc455e3",
      "metadata": {
        "id": "72addf04-f4f4-418c-a4a7-efa2afc455e3",
        "outputId": "730087ab-8671-41fb-e61e-d5beb6b7f5f1"
      },
      "outputs": [
        {
          "data": {
            "text/plain": [
              "[5000, 6000, 7000, 60000, 9000]"
            ]
          },
          "execution_count": 70,
          "metadata": {},
          "output_type": "execute_result"
        }
      ],
      "source": [
        "# 인덱스를 활용한 업데이트\n",
        "point[3] = 60000\n",
        "point"
      ]
    },
    {
      "cell_type": "code",
      "execution_count": null,
      "id": "72fd22fb-c8d8-4197-b7d1-ff8c0a65fc45",
      "metadata": {
        "id": "72fd22fb-c8d8-4197-b7d1-ff8c0a65fc45",
        "outputId": "20d3e87b-c152-44a3-ff5b-d9fea5655f7d"
      },
      "outputs": [
        {
          "ename": "IndexError",
          "evalue": "list assignment index out of range",
          "output_type": "error",
          "traceback": [
            "\u001b[1;31m---------------------------------------------------------------------------\u001b[0m",
            "\u001b[1;31mIndexError\u001b[0m                                Traceback (most recent call last)",
            "Cell \u001b[1;32mIn[71], line 2\u001b[0m\n\u001b[0;32m      1\u001b[0m \u001b[38;5;66;03m# 인덱스가 없으면 에러\u001b[39;00m\n\u001b[1;32m----> 2\u001b[0m \u001b[43mpoint\u001b[49m\u001b[43m[\u001b[49m\u001b[38;5;241;43m6\u001b[39;49m\u001b[43m]\u001b[49m \u001b[38;5;241m=\u001b[39m \u001b[38;5;241m60000\u001b[39m\n",
            "\u001b[1;31mIndexError\u001b[0m: list assignment index out of range"
          ]
        }
      ],
      "source": [
        "# 인덱스가 없으면 에러\n",
        "point[6] = 60000"
      ]
    },
    {
      "cell_type": "code",
      "execution_count": null,
      "id": "137524d2-fbcc-4271-a0b3-19a2f160b2c3",
      "metadata": {
        "jupyter": {
          "outputs_hidden": true
        },
        "id": "137524d2-fbcc-4271-a0b3-19a2f160b2c3",
        "outputId": "81ebe44f-8380-4263-a58b-b2e3f249e728"
      },
      "outputs": [
        {
          "data": {
            "text/plain": [
              "[5000, 6000, 7000, 9000]"
            ]
          },
          "execution_count": 72,
          "metadata": {},
          "output_type": "execute_result"
        }
      ],
      "source": [
        "# 인덱스에 접근하여 삭제\n",
        "del point[3]\n",
        "point"
      ]
    },
    {
      "cell_type": "markdown",
      "source": [
        "#### len(),max(),min(),zip()\n",
        "`len()` 함수에 데이터구조를 입력하면 데이터구조의 총 길이(데이터개수) 가 반환됩니다. 유사하게 데이터구조의 정보를 반환해주는 함수들이 여러 존재합니다.\n",
        "\n",
        "- `len(데이터구조)`: 데이터구조의 길이를 반환\n",
        "- `max(데이터구조)`: 데이터구조내 최대 값을 반환\n",
        "- `min(데이터구조)`: 데이터구조내 최소 값을 반환\n",
        "- `zip(데이터구조,데이터구조)`: 두 데이터구조를 동일 인덱스끼리 묶어 반환"
      ],
      "metadata": {
        "id": "DM0iHwErxzxN"
      },
      "id": "DM0iHwErxzxN"
    },
    {
      "cell_type": "code",
      "source": [
        "point = [5000, 6000, 7000, 6000, 9000]\n",
        "\n",
        "print(f'길이: {len(point)}')\n",
        "print(f'최대: {max(point)}')\n",
        "print(f'최소: {min(point)}')\n",
        "# zip 객체 생성후 다시 리스트 변환\n",
        "z = zip(point,[1,2,3,4,5])\n",
        "print(f'정렬: {list(z)}')"
      ],
      "metadata": {
        "colab": {
          "base_uri": "https://localhost:8080/"
        },
        "outputId": "b8d39176-425e-47fa-f221-3307b8f682dd",
        "id": "jUa-ZHv7xzxN"
      },
      "execution_count": null,
      "outputs": [
        {
          "output_type": "stream",
          "name": "stdout",
          "text": [
            "길이: 5\n",
            "최대: 9000\n",
            "최소: 5000\n",
            "정렬: [(5000, 1), (6000, 2), (7000, 3), (6000, 4), (9000, 5)]\n"
          ]
        }
      ],
      "id": "jUa-ZHv7xzxN"
    },
    {
      "cell_type": "markdown",
      "source": [
        "#### range() 활용 반복 인덱싱\n",
        "\n",
        "`range()` 함수와 `len()` 함수를 활용하여 `for`문에서 데이터구조에 반복작업을 인덱싱을 통해 진행할 수 있습니다."
      ],
      "metadata": {
        "id": "eexfnc42wOft"
      },
      "id": "eexfnc42wOft"
    },
    {
      "cell_type": "code",
      "source": [
        "for i in range(len(point)):\n",
        "    print(point[i])"
      ],
      "metadata": {
        "id": "Ja7MGL3jwIJD"
      },
      "execution_count": null,
      "outputs": [],
      "id": "Ja7MGL3jwIJD"
    },
    {
      "cell_type": "markdown",
      "source": [
        "#### enumerate() 활용\n",
        "`enumerate()` 함수를 통해 다양한 상황에서의 반복 인덱싱 작업을 보다 쉽게 구현할 수 있습니다.\n",
        "\n",
        "- `enumerate(데이터구조)`: 데이터구조의 데이터를 순서대로 반환할때 `(순서, 데이터)`로 묶어서 반환"
      ],
      "metadata": {
        "id": "o3YSAASAbzq-"
      },
      "id": "o3YSAASAbzq-"
    },
    {
      "cell_type": "code",
      "source": [
        "point = [5000, 6000, 7000, 6000, 9000]\n",
        "\n",
        "for i, v in enumerate(point):\n",
        "    print(f'순서:{i}, 데이터:{v}')\n",
        "    point[i] = v + 1000\n",
        "\n",
        "print(point)\n"
      ],
      "metadata": {
        "id": "lGVs3xPhcQp0"
      },
      "execution_count": null,
      "outputs": [],
      "id": "lGVs3xPhcQp0"
    },
    {
      "cell_type": "markdown",
      "source": [
        "#### in 비교연산\n",
        "**if** 문에서 **in** 비교연산을 데이터구조와 함께 사용하면 데이터의 포함 여부를 알 수 있습니다.\n",
        "\n",
        "- `if 데이터 in 데이터구조` : `데이터구조에` `데이터`가 포함되어 있으면 `True`"
      ],
      "metadata": {
        "id": "bi1nWTuwd-X1"
      },
      "id": "bi1nWTuwd-X1"
    },
    {
      "cell_type": "code",
      "source": [
        "# if 데이터 in 데이터구조\n",
        "\n",
        "if 0 in [1,2,3,4]:\n",
        "    print('zero in')\n",
        "\n",
        "if 1 in [1,2,3,4]:\n",
        "    print('one in')"
      ],
      "metadata": {
        "id": "_SsoN4-gd9TZ"
      },
      "id": "_SsoN4-gd9TZ",
      "execution_count": null,
      "outputs": []
    },
    {
      "cell_type": "markdown",
      "metadata": {
        "id": "J8Y7vt9vzFU6"
      },
      "source": [
        "### 실습3"
      ],
      "id": "J8Y7vt9vzFU6"
    },
    {
      "cell_type": "markdown",
      "metadata": {
        "id": "LONyUBSlzFU7"
      },
      "source": [
        "\n",
        "#### [실습1]\n",
        "관심있는 메뉴 3개를 묶은 menu 리스트를 생성하고 append( )로 메뉴 하나 더 추가하세요\n"
      ],
      "id": "LONyUBSlzFU7"
    },
    {
      "cell_type": "code",
      "execution_count": null,
      "metadata": {
        "id": "8XvHQ8XczFU7",
        "colab": {
          "base_uri": "https://localhost:8080/"
        },
        "outputId": "2359b788-0c97-440b-e30d-41e10342b20e"
      },
      "outputs": [
        {
          "output_type": "stream",
          "name": "stdout",
          "text": [
            "['감자', '양파', '마늘', '삼겹살']\n"
          ]
        }
      ],
      "source": [
        "list = ['감자', '양파', '마늘']\n",
        "list.append('삼겹살')\n",
        "print(list)"
      ],
      "id": "8XvHQ8XczFU7"
    },
    {
      "cell_type": "markdown",
      "metadata": {
        "id": "pNbFKgCtzFU7"
      },
      "source": [
        "#### [실습2]\n",
        "menu에서 세번째 메뉴를 '우동'으로 변경하고 세번째~마지막 메뉴를 선택하여 출력하세요"
      ],
      "id": "pNbFKgCtzFU7"
    },
    {
      "cell_type": "code",
      "execution_count": null,
      "metadata": {
        "id": "wc6oe8AbzFU8",
        "colab": {
          "base_uri": "https://localhost:8080/"
        },
        "outputId": "db80391c-a6cb-4302-973f-b568a67d2ba2"
      },
      "outputs": [
        {
          "output_type": "stream",
          "name": "stdout",
          "text": [
            "['우동', '삼겹살']\n"
          ]
        }
      ],
      "source": [
        "list[2] = '우동'\n",
        "print(list[2:])"
      ],
      "id": "wc6oe8AbzFU8"
    },
    {
      "cell_type": "markdown",
      "source": [
        "#### [실습3]\n",
        "menu에서 반복문을 활용해 리스트에 있는 메뉴를 순서대로 출력하세요\n"
      ],
      "metadata": {
        "id": "8A8zK2XLbPSM"
      },
      "id": "8A8zK2XLbPSM"
    },
    {
      "cell_type": "code",
      "source": [
        "for i in range(len(list)):\n",
        "    print(list[i])"
      ],
      "metadata": {
        "id": "vpiGj3cxbNti",
        "colab": {
          "base_uri": "https://localhost:8080/"
        },
        "outputId": "95ce9d95-76b1-4c93-bc95-bbbdb267dff3"
      },
      "execution_count": null,
      "outputs": [
        {
          "output_type": "stream",
          "name": "stdout",
          "text": [
            "감자\n",
            "양파\n",
            "우동\n",
            "삼겹살\n"
          ]
        }
      ],
      "id": "vpiGj3cxbNti"
    },
    {
      "cell_type": "markdown",
      "metadata": {
        "id": "GyT8GOyPzFU8"
      },
      "source": [
        "#### [실습4]\n",
        "다음 리스트 내부에 값을 1씩 더한 값으로 수정하여 리스트를 출력하세요"
      ],
      "id": "GyT8GOyPzFU8"
    },
    {
      "cell_type": "code",
      "execution_count": null,
      "metadata": {
        "id": "4MYeFuJ5zFU8",
        "colab": {
          "base_uri": "https://localhost:8080/"
        },
        "outputId": "08061a39-5c64-4e8f-cf17-9926587bb06a"
      },
      "outputs": [
        {
          "output_type": "stream",
          "name": "stdout",
          "text": [
            "[2, 3, 4, 5, 6]\n"
          ]
        }
      ],
      "source": [
        "nums = [1,2,3,4,5]\n",
        "for i in range(len(nums)):\n",
        "    nums[i] = nums[i] + 1\n",
        "print(nums)"
      ],
      "id": "4MYeFuJ5zFU8"
    },
    {
      "cell_type": "markdown",
      "metadata": {
        "id": "I2ou03BJctXU"
      },
      "source": [
        "#### [실습5]\n",
        "다음 리스트 내부에 항목에서 '*' 를 뺀 항목만 가지는 리스트를 생성하고 출력하세요\n",
        " - 반복문과 append 활용"
      ],
      "id": "I2ou03BJctXU"
    },
    {
      "cell_type": "code",
      "execution_count": null,
      "metadata": {
        "id": "I0fbYqYrctXW",
        "colab": {
          "base_uri": "https://localhost:8080/"
        },
        "outputId": "9567966f-0b02-4c9d-9088-d035cdc6cdc0"
      },
      "outputs": [
        {
          "output_type": "stream",
          "name": "stdout",
          "text": [
            "[1, 2, 3, 5, 6, 7, 9, 10]\n"
          ]
        }
      ],
      "source": [
        "nums = [1,2,3,'*',5,6,7,'*',9,10]\n",
        "list = []\n",
        "\n",
        "\n",
        "for i in range(len(nums)):\n",
        "    if nums[i] != '*':\n",
        "        list.append(nums[i])\n",
        "print(list)\n"
      ],
      "id": "I0fbYqYrctXW"
    },
    {
      "cell_type": "markdown",
      "metadata": {
        "id": "tpr6l9N8zFU8"
      },
      "source": [
        "\n",
        "\n",
        "#### [실습6]\n",
        "다음 세 리스트를 이어붙이고 이름 순으로 정렬하여 출력하세요\n"
      ],
      "id": "tpr6l9N8zFU8"
    },
    {
      "cell_type": "code",
      "execution_count": null,
      "metadata": {
        "id": "ZgE5PYHfzFU8"
      },
      "outputs": [],
      "source": [
        "list1 = ['a','f','c']\n",
        "list2 = ['b','e']\n",
        "list3 = ['a','f']\n"
      ],
      "id": "ZgE5PYHfzFU8"
    },
    {
      "cell_type": "code",
      "execution_count": null,
      "metadata": {
        "id": "TmTnp-GpzFU8",
        "colab": {
          "base_uri": "https://localhost:8080/"
        },
        "outputId": "aceca0a4-c6c3-4680-8688-12e8e986ee8e"
      },
      "outputs": [
        {
          "output_type": "stream",
          "name": "stdout",
          "text": [
            "['a', 'a', 'b', 'c', 'e', 'f', 'f']\n"
          ]
        }
      ],
      "source": [
        "list = list1 + list2 + list3\n",
        "list.sort()\n",
        "print(list)"
      ],
      "id": "TmTnp-GpzFU8"
    },
    {
      "cell_type": "markdown",
      "source": [
        "#### [심화1]\n",
        "다음 리스트(names) 안에 입력된 이름으로 생성된 Customer 인스턴스를 보관하는 리스트를 만들고 출력하세요. 고객 번호는 이름 순서대로 1씩 증가하는 값으로 설정합니다.\n",
        "\n",
        "    names = ['김입금','나은행','최대출','신한나','국민협']\n",
        "\n",
        "    class Customer:\n",
        "\n",
        "        def __init__(self, name, c_id):\n",
        "            self.name = name\n",
        "            self.c_id = c_id\n",
        "            self.amount = 0\n",
        "\n",
        "        def add_amount(self, amount):\n",
        "            self.amount += amount\n",
        "            # self.amount = self.amount + amount\n",
        "\n",
        "        def sub_amount(self, amount):\n",
        "            self.amount -= amount\n",
        "\n",
        "        def get_amount(self):\n",
        "            return self.amount"
      ],
      "metadata": {
        "id": "I9NwKjIS0Vl6"
      },
      "id": "I9NwKjIS0Vl6"
    },
    {
      "cell_type": "code",
      "source": [
        "class Customer:\n",
        "\n",
        "    def __init__(self, name, c_id):\n",
        "        self.name = name\n",
        "        self.c_id = c_id\n",
        "        self.amount = 0\n",
        "\n",
        "    def add_amount(self, amount):\n",
        "        self.amount += amount\n",
        "        # self.amount = self.amount + amount\n",
        "\n",
        "    def sub_amount(self, amount):\n",
        "        self.amount -= amount\n",
        "\n",
        "    def get_amount(self):\n",
        "        return self.amount"
      ],
      "metadata": {
        "id": "Xq_9sltp0wtc"
      },
      "id": "Xq_9sltp0wtc",
      "execution_count": null,
      "outputs": []
    },
    {
      "cell_type": "code",
      "source": [
        "names = ['김입금','나은행','최대출','신한나','국민협']\n",
        "list = []\n",
        "for i in range(0,len(names)):\n",
        "    cst = Customer(names[i],i+1)\n",
        "    list.append(cst)"
      ],
      "metadata": {
        "id": "nEq7-xTs0yk1"
      },
      "id": "nEq7-xTs0yk1",
      "execution_count": null,
      "outputs": []
    },
    {
      "cell_type": "markdown",
      "source": [
        "#### [심화2]\n",
        "[심화1]에서 만든 리스트의 2번 고객에 1000원을 추가하고 4번 고객에는 4000원을 추가한뒤 고객이 각각 가지고 있는 금액을 전부 출력하세요\n",
        "\n",
        "    -출력예시-\n",
        "    김입금 0\n",
        "    나은행 0\n",
        "    최대출 1000\n",
        "    신한나 0\n",
        "    국민협 4000"
      ],
      "metadata": {
        "id": "u9bcuTg02NZP"
      },
      "id": "u9bcuTg02NZP"
    },
    {
      "cell_type": "code",
      "source": [
        "list[2].add_amount(1000)\n",
        "list[4].add_amount(4000)\n",
        "for i in range(0,len(list)):\n",
        "    print(list[i].name,list[i].amount)"
      ],
      "metadata": {
        "id": "a7FSChS52yLb",
        "colab": {
          "base_uri": "https://localhost:8080/"
        },
        "outputId": "f698c4b0-0123-4db8-c112-fce7f4404bc4"
      },
      "id": "a7FSChS52yLb",
      "execution_count": null,
      "outputs": [
        {
          "output_type": "stream",
          "name": "stdout",
          "text": [
            "김입금 0\n",
            "나은행 0\n",
            "최대출 1000\n",
            "신한나 0\n",
            "국민협 4000\n"
          ]
        }
      ]
    },
    {
      "cell_type": "markdown",
      "id": "7b529395-dd56-4769-8fe6-9af51bc2ff88",
      "metadata": {
        "id": "7b529395-dd56-4769-8fe6-9af51bc2ff88"
      },
      "source": [
        "### 불변 시퀀스 튜플(tuple)과 문자열(str)\n",
        "튜블과 문자열은 리스트와 동일하게 시퀀스 특성을 가지지만, 내부적으로 구조를 바꿀수 없는 **불변 시퀀스형** 데이터구조 입니다.  "
      ]
    },
    {
      "cell_type": "markdown",
      "source": [
        "#### 튜플 특징\n",
        "튜플은 리스트보다 가볍게 활용되는 구조로, 단순히 여러 데이터를 순서대로 저장하여 전달하기 위한 목적으로 사용됩니다.\n",
        "\n",
        "- 여러 데이터를 묶음으로 보관하는 불변 시퀀스 데이터 구조\n",
        "- 리스트처럼 순서대로 여러 데이터를 보유\n",
        "- 리스트와 반대로 데이터 추가 및 수정 불가능\n",
        "- 리스트에 비해 가볍고 빠른 접근 속도를 가짐\n"
      ],
      "metadata": {
        "id": "iourGc3j6zOP"
      },
      "id": "iourGc3j6zOP"
    },
    {
      "cell_type": "markdown",
      "source": [
        "#### 튜플 생성 및 표현\n",
        "- `()`기호를 활용해서 튜플 생성\n",
        "- `()`기호는 생략 가능"
      ],
      "metadata": {
        "id": "u-wUxRjb61PY"
      },
      "id": "u-wUxRjb61PY"
    },
    {
      "cell_type": "code",
      "execution_count": null,
      "id": "272475c2-a4bb-48be-b031-ae82b5f597f9",
      "metadata": {
        "id": "272475c2-a4bb-48be-b031-ae82b5f597f9",
        "outputId": "3b6ad26b-67c9-4215-abd0-79f1e87eb823"
      },
      "outputs": [
        {
          "name": "stdout",
          "output_type": "stream",
          "text": [
            "<class 'tuple'>\n",
            "<class 'tuple'>\n"
          ]
        }
      ],
      "source": [
        "aa = (1, 2, 3)\n",
        "bb = '아침', '점심', '저녁'\n",
        "\n",
        "print(type(aa))\n",
        "print(type(bb))"
      ]
    },
    {
      "cell_type": "code",
      "execution_count": null,
      "id": "d2c4be83-48f5-419e-913b-c237c0f8ee44",
      "metadata": {
        "id": "d2c4be83-48f5-419e-913b-c237c0f8ee44",
        "outputId": "b754650e-83e2-46b1-bfa0-fd5904c6dad1"
      },
      "outputs": [
        {
          "name": "stdout",
          "output_type": "stream",
          "text": [
            "1\n",
            "('점심', '저녁')\n"
          ]
        }
      ],
      "source": [
        "# 인덱싱 및 슬라이싱 가능\n",
        "print(aa[0])\n",
        "print(bb[1:])"
      ]
    },
    {
      "cell_type": "code",
      "execution_count": null,
      "id": "e6b6d5ea-6b0f-45d9-9746-3440ce75152b",
      "metadata": {
        "id": "e6b6d5ea-6b0f-45d9-9746-3440ce75152b",
        "outputId": "fff81402-90ed-4a1d-cc76-64a6833f5209"
      },
      "outputs": [
        {
          "ename": "TypeError",
          "evalue": "'tuple' object does not support item assignment",
          "output_type": "error",
          "traceback": [
            "\u001b[1;31m---------------------------------------------------------------------------\u001b[0m",
            "\u001b[1;31mTypeError\u001b[0m                                 Traceback (most recent call last)",
            "Cell \u001b[1;32mIn[40], line 2\u001b[0m\n\u001b[0;32m      1\u001b[0m \u001b[38;5;66;03m# 추가/업데이트 불가능, 내부 변환 메소드도 없음\u001b[39;00m\n\u001b[1;32m----> 2\u001b[0m \u001b[43maa\u001b[49m\u001b[43m[\u001b[49m\u001b[38;5;241;43m0\u001b[39;49m\u001b[43m]\u001b[49m \u001b[38;5;241m=\u001b[39m \u001b[38;5;241m4\u001b[39m\n",
            "\u001b[1;31mTypeError\u001b[0m: 'tuple' object does not support item assignment"
          ]
        }
      ],
      "source": [
        "# 추가/업데이트 불가능, 내부 변환 메소드도 없음\n",
        "aa[0] = 4"
      ]
    },
    {
      "cell_type": "code",
      "execution_count": null,
      "id": "3f296cab-30a3-4c22-8824-4b1f2344b34a",
      "metadata": {
        "id": "3f296cab-30a3-4c22-8824-4b1f2344b34a",
        "outputId": "488280f3-5952-408d-afa7-4f39c8786baf"
      },
      "outputs": [
        {
          "name": "stdout",
          "output_type": "stream",
          "text": [
            "아침\n",
            "점심\n"
          ]
        }
      ],
      "source": [
        "# 튜플 요소의 순서를 맞추어 변수 할당 가능\n",
        "\n",
        "a, b = ('아침', '점심')\n",
        "print(a)\n",
        "print(b)"
      ]
    },
    {
      "cell_type": "markdown",
      "id": "27a1cb31-1e4d-49a3-99ab-93daeb5764e3",
      "metadata": {
        "id": "27a1cb31-1e4d-49a3-99ab-93daeb5764e3"
      },
      "source": [
        "#### 문자열 특징\n",
        "문자열을 기본 데이터타입으로 사용되면서도 내부적으로는 **문자(유니코드)**의 **배열**로 구성된 데이터구조입니다.\n",
        "\n",
        "- 유니코드 코드 포인트의 불변 시퀀스 데이터구조\n",
        "- 문자열을 제어하는 다양한 메소드 포함 (내부 구조 변형X)\n",
        "- 리스트와 동일하게 순서로 인덱싱\n",
        "- 인덱싱을 활용한 데이터 수정 불가\n",
        "\n"
      ]
    },
    {
      "cell_type": "markdown",
      "source": [
        "#### 문자열 데이터구조 활용\n",
        "\n",
        "문자열은 튜플과 같은 불변 특성이지만 튜플과는 다르게 문자열을 제어하는 다양한 메소드가 있습니다. 이때 메소드는 기존 문자열 구조는 변형시키지 않고 변형된 새로운 문자열을 반환합니다.\n",
        "\n",
        "\n",
        "- `replace(x,y)` : x문자열을 y문자열로 대체  \n",
        "- `strip()` : 앞뒤 공백 제거\n",
        "- `split(x)` : x문자열을 기준으로 분리하여 리스트생성\n",
        "- `encode()` : 문자열의 인코딩 버전 변환 기본은 utf-8\n",
        "- `find(substr)` : 문자열내에 포함되는 서브 문자열 첫 인덱스 반환환"
      ],
      "metadata": {
        "id": "02kWsgy37jwi"
      },
      "id": "02kWsgy37jwi"
    },
    {
      "cell_type": "code",
      "execution_count": null,
      "id": "fe314369-4a62-46a2-a627-0dacf3e57056",
      "metadata": {
        "id": "fe314369-4a62-46a2-a627-0dacf3e57056",
        "outputId": "7dbca6ec-8748-4444-8675-8ec99ada19dc"
      },
      "outputs": [
        {
          "name": "stdout",
          "output_type": "stream",
          "text": [
            "썬\n",
            "기초 데\n"
          ]
        }
      ],
      "source": [
        "# 인덱싱과 슬라이싱 가능\n",
        "s = '파이썬 기초 데이터구조'\n",
        "print(s[2])\n",
        "print(s[4:8])"
      ]
    },
    {
      "cell_type": "markdown",
      "id": "4bdb1b46-7c0f-40ce-9440-cec68b0aa2f3",
      "metadata": {
        "id": "4bdb1b46-7c0f-40ce-9440-cec68b0aa2f3"
      },
      "source": [
        "> 불변 시퀀스 구조이므로 인덱싱으로 통한 수정은 불가능"
      ]
    },
    {
      "cell_type": "code",
      "execution_count": null,
      "id": "8a82be31-e9b6-45bc-be88-6a61d894a3d8",
      "metadata": {
        "id": "8a82be31-e9b6-45bc-be88-6a61d894a3d8",
        "outputId": "707fc413-175b-4f6b-8e58-3d3364de9efa",
        "colab": {
          "base_uri": "https://localhost:8080/",
          "height": 36
        }
      },
      "outputs": [
        {
          "output_type": "execute_result",
          "data": {
            "text/plain": [
              "'파이썬 심화 데이터구조'"
            ],
            "application/vnd.google.colaboratory.intrinsic+json": {
              "type": "string"
            }
          },
          "metadata": {},
          "execution_count": 3
        }
      ],
      "source": [
        "# replace() : 원하는 부분문자열을 다른 문자열로 대체\n",
        "s = '파이썬 기초 데이터구조'\n",
        "s1 = s.replace('기초', '심화')\n",
        "s1"
      ]
    },
    {
      "cell_type": "markdown",
      "id": "ab3e567e-c2e2-4a72-a5dd-19ea45fb84a4",
      "metadata": {
        "id": "ab3e567e-c2e2-4a72-a5dd-19ea45fb84a4"
      },
      "source": [
        "> 항상 변수를 통해 변환된 새로운 문자열을 할당해주어야 활용 가능"
      ]
    },
    {
      "cell_type": "code",
      "execution_count": null,
      "id": "72db70d6-c23b-4ff4-a9f6-55d0f78172f1",
      "metadata": {
        "id": "72db70d6-c23b-4ff4-a9f6-55d0f78172f1",
        "outputId": "caac4d6c-24fa-46b7-c4c3-894c50157b3f",
        "colab": {
          "base_uri": "https://localhost:8080/"
        }
      },
      "outputs": [
        {
          "output_type": "stream",
          "name": "stdout",
          "text": [
            "파이썬 기초 데이터구조\n"
          ]
        }
      ],
      "source": [
        "# strip() : 앞뒤 공백 제거\n",
        "s = '   파이썬 기초 데이터구조\\n'\n",
        "s = s.strip()\n",
        "s"
      ]
    },
    {
      "cell_type": "code",
      "execution_count": null,
      "id": "c86421c0-2cfd-4763-a002-ca8911d7341e",
      "metadata": {
        "id": "c86421c0-2cfd-4763-a002-ca8911d7341e",
        "outputId": "b85a8dc5-92a7-43c5-fa1b-baea30a910d2",
        "colab": {
          "base_uri": "https://localhost:8080/"
        }
      },
      "outputs": [
        {
          "output_type": "execute_result",
          "data": {
            "text/plain": [
              "['파이썬', '기초', '데이터구조']"
            ]
          },
          "metadata": {},
          "execution_count": 1
        }
      ],
      "source": [
        "# split() : 원하는 문자열을 기준으로 분리하여 리스트생성\n",
        "s = '파이썬 기초 데이터구조'\n",
        "s1 = s.split(' ') # 공백(띄어쓰기) 기준으로 분리\n",
        "s1\n"
      ]
    },
    {
      "cell_type": "markdown",
      "id": "63e9e4b4-b3a8-4317-97fa-4c4ce29419d2",
      "metadata": {
        "id": "63e9e4b4-b3a8-4317-97fa-4c4ce29419d2"
      },
      "source": [
        "### 해시셋과 딕셔너리\n",
        "헤시셋(집합)과 딕셔너리는 앞서 배운 순서를 기반으로 데이터를 보관하지 않고 해쉬 키를 기반으로 데이터를 보관하는 데이터구조입니다."
      ]
    },
    {
      "cell_type": "markdown",
      "source": [
        "#### 해시셋(집합) 특징\n",
        "해시셋은 메모리에 해시 테이블을 만들어 데이터를 해당 테이블에 보관하고 관리합니다. 데이터를 테이블에 저장할 때는 해시 연산을 이용하며 해시연산 결과에 따라 테이블의 특정 위치가 할당됩니다.\n",
        "\n",
        "<center><img src=\"https://drive.google.com/thumbnail?id=1Kltb9m6RG2GMND7AsfftCMNEeIj7xb_X&sz=w1000\" width=\"500\"/></center>\n",
        "**해시 테이블**\n",
        "- 저장하려는 데이터를 해시 연산하여 테이블내 저장될 위치를 찾음\n",
        "- 동일 데이터는 같은 위치에 참조되기 때문에 중복 항목이 없음\n",
        "- 배열, 리스트와 다르게 저장 순서를 기억하지 않음\n",
        "- 해시를 통해 바로 데이터 위치를 파악 가능하여 읽기,쓰기속도가 빠름\n",
        "- 해시 연산이 가능한 객체만 저장 가능\n",
        "- 실제 테이블에는 데이터의 참조 포인터가 저장"
      ],
      "metadata": {
        "id": "vgIfHOnHBqJt"
      },
      "id": "vgIfHOnHBqJt"
    },
    {
      "cell_type": "markdown",
      "source": [
        "#### 해쉬셋 생성 과 표현\n",
        "해쉬셋은 `{}`에 항목을 입력하여 생성 가능하며, `add()` 함수를 이용해 데이터추가가 가능합니다."
      ],
      "metadata": {
        "id": "YvPZVaKwBsOm"
      },
      "id": "YvPZVaKwBsOm"
    },
    {
      "cell_type": "code",
      "execution_count": null,
      "id": "e081f6c8-b1cc-4900-ae20-a1d2bb915e8e",
      "metadata": {
        "id": "e081f6c8-b1cc-4900-ae20-a1d2bb915e8e",
        "outputId": "2f3f362e-f772-4000-bbcb-53d76a89ec27"
      },
      "outputs": [
        {
          "data": {
            "text/plain": [
              "{'덮밥', '돈까스', '우동', '치킨'}"
            ]
          },
          "execution_count": 81,
          "metadata": {},
          "output_type": "execute_result"
        }
      ],
      "source": [
        "# 순서가 없는 해쉬셋\n",
        "s = {'돈까스','치킨','덮밥'}\n",
        "s.add('우동')\n",
        "s"
      ]
    },
    {
      "cell_type": "code",
      "execution_count": null,
      "id": "b718be8b-ceea-474d-a4de-290d9f1f851b",
      "metadata": {
        "id": "b718be8b-ceea-474d-a4de-290d9f1f851b",
        "outputId": "2061768f-ba09-4f62-bb21-823b4ef6c354"
      },
      "outputs": [
        {
          "data": {
            "text/plain": [
              "{'덮밥', '돈까스', '치킨'}"
            ]
          },
          "execution_count": 82,
          "metadata": {},
          "output_type": "execute_result"
        }
      ],
      "source": [
        "set(('돈까스','치킨','덮밥','덮밥'))"
      ]
    },
    {
      "cell_type": "code",
      "execution_count": null,
      "id": "1044dfb8-e9c9-4b25-80eb-98715549ec24",
      "metadata": {
        "id": "1044dfb8-e9c9-4b25-80eb-98715549ec24",
        "outputId": "7ff0e6d9-a8a5-4d7d-b22c-81ee948bbb2f"
      },
      "outputs": [
        {
          "data": {
            "text/plain": [
              "{'덮밥', '돈까스', '치킨'}"
            ]
          },
          "execution_count": 83,
          "metadata": {},
          "output_type": "execute_result"
        }
      ],
      "source": [
        "# 중복이 되지 않는 해쉬셋\n",
        "s = {'돈까스','치킨','덮밥','치킨'}\n",
        "s.add('덮밥')\n",
        "s"
      ]
    },
    {
      "cell_type": "markdown",
      "id": "8c02290b-5f82-4f48-af48-8729cb06b6b7",
      "metadata": {
        "id": "8c02290b-5f82-4f48-af48-8729cb06b6b7"
      },
      "source": [
        "#### 딕셔너리 특징\n",
        "딕셔너리는 **키(key)** 와 **값(value)** 매핑하여 키를 기준으로 데이터를 보관하는 데이터구조로, 집합과 동일하게 **키(key)**를 해시 연산과 테이블을 이용하여 보관하고 여기에 **값(value)**을 연결시킵니다.\n",
        "\n",
        "<center><img src=\"https://drive.google.com/thumbnail?id=10pN22FTgmcgNu03kdGb1XUvZaq0RreTD&sz=w1000\" width=\"600\"/></center>\n",
        "\n",
        "- 해시 가능 객체를 특정 객체와 매핑하여 *키(key)* 와 *값(value)* 매핑구조를 가짐\n",
        "- 해시 가능 하지 않은 객체들(리스트, 딕셔너리)등은 *key*로 사용불가\n",
        "- *값(value)* 은 어떤 타입의 데이터도 사용가능\n",
        "- *key*는 해쉬특성을 가져 찾는 속도와 저장속도가 빠름\n",
        "- 웹통신 데이터구조인 json형과 비슷한 구조로 많이 활용\n"
      ]
    },
    {
      "cell_type": "markdown",
      "source": [
        "#### 딕셔너리 생성과 사용\n",
        "딕셔너리도 해시셋과 동일하게 `{}` 기호를 이용하지만, 내부적으로 `:` 기호를 활용하여 키와 값을 매핑하여 생성합니다.\n",
        "\n",
        "- `{}` 안에 쉼표로 구분된 `key:value` 쌍을 나열하기: `{key1:value1 , key2:value2}`   \n",
        "- 딕셔너리 컴프리헨션 사용하기: `{x: x ** 2 for x in range(10)}`   \n",
        "- 함수 사용하기: `dict()`"
      ],
      "metadata": {
        "id": "DMJXrxukKM0O"
      },
      "id": "DMJXrxukKM0O"
    },
    {
      "cell_type": "code",
      "execution_count": null,
      "id": "e8b300f1-8768-4e05-a1a8-466e304abcea",
      "metadata": {
        "id": "e8b300f1-8768-4e05-a1a8-466e304abcea",
        "outputId": "084abb2c-f137-4439-9ce5-040082770b0a"
      },
      "outputs": [
        {
          "data": {
            "text/plain": [
              "{'제품명': '팜봇', '가격': 500000, '카테고리': 'Aiot'}"
            ]
          },
          "execution_count": 84,
          "metadata": {},
          "output_type": "execute_result"
        }
      ],
      "source": [
        "# 키:값 매핑으로 딕셔너리 생성\n",
        "product1 = {'제품명':'팜봇', '가격':500000, '카테고리':'Aiot'}\n",
        "product1"
      ]
    },
    {
      "cell_type": "code",
      "execution_count": null,
      "id": "797eb19d-6607-4c2d-a837-966af386dbf2",
      "metadata": {
        "id": "797eb19d-6607-4c2d-a837-966af386dbf2",
        "outputId": "ddc7f869-2ad5-4ed3-c686-9b55374f9f85"
      },
      "outputs": [
        {
          "data": {
            "text/plain": [
              "'팜봇'"
            ]
          },
          "execution_count": 85,
          "metadata": {},
          "output_type": "execute_result"
        }
      ],
      "source": [
        "# 키를 입력하여 인덱싱\n",
        "product1['제품명']"
      ]
    },
    {
      "cell_type": "code",
      "execution_count": null,
      "id": "7dea3856-322a-4566-a37d-1ce4088def7a",
      "metadata": {
        "id": "7dea3856-322a-4566-a37d-1ce4088def7a",
        "outputId": "09f07973-9f40-498e-cbbe-56506b3fab57"
      },
      "outputs": [
        {
          "ename": "KeyError",
          "evalue": "'할인율'",
          "output_type": "error",
          "traceback": [
            "\u001b[1;31m---------------------------------------------------------------------------\u001b[0m",
            "\u001b[1;31mKeyError\u001b[0m                                  Traceback (most recent call last)",
            "Cell \u001b[1;32mIn[86], line 2\u001b[0m\n\u001b[0;32m      1\u001b[0m \u001b[38;5;66;03m# 없는키는 에러\u001b[39;00m\n\u001b[1;32m----> 2\u001b[0m \u001b[43mproduct1\u001b[49m\u001b[43m[\u001b[49m\u001b[38;5;124;43m'\u001b[39;49m\u001b[38;5;124;43m할인율\u001b[39;49m\u001b[38;5;124;43m'\u001b[39;49m\u001b[43m]\u001b[49m\n",
            "\u001b[1;31mKeyError\u001b[0m: '할인율'"
          ]
        }
      ],
      "source": [
        "# 없는키는 에러\n",
        "product1['할인율']"
      ]
    },
    {
      "cell_type": "code",
      "execution_count": null,
      "id": "2bcfd031-eae9-47e7-bc40-7d6c92f8cec4",
      "metadata": {
        "id": "2bcfd031-eae9-47e7-bc40-7d6c92f8cec4",
        "outputId": "cb89c813-847c-43c1-d546-c06ad5a26992"
      },
      "outputs": [
        {
          "data": {
            "text/plain": [
              "0"
            ]
          },
          "execution_count": 87,
          "metadata": {},
          "output_type": "execute_result"
        }
      ],
      "source": [
        "# 메서드 get()을 활용하면 에러 방지\n",
        "product1.get('할인율',0)"
      ]
    },
    {
      "cell_type": "code",
      "execution_count": null,
      "id": "cba9b785-9cb9-47af-95c8-b234eab7b31d",
      "metadata": {
        "id": "cba9b785-9cb9-47af-95c8-b234eab7b31d",
        "outputId": "a4faac3f-8823-4625-a047-2006afd8d4d7"
      },
      "outputs": [
        {
          "data": {
            "text/plain": [
              "{'제품명': '팜봇', '가격': 500000, '카테고리': 'Aiot', '재고': 10}"
            ]
          },
          "execution_count": 88,
          "metadata": {},
          "output_type": "execute_result"
        }
      ],
      "source": [
        "# 시퀀스 연산자에 새로운 키를 넣고 할당하여 키:값 추가\n",
        "product1['재고'] = 10\n",
        "product1"
      ]
    },
    {
      "cell_type": "code",
      "execution_count": null,
      "id": "e54280ba-9c8b-4fdb-9f16-212a723b6f56",
      "metadata": {
        "id": "e54280ba-9c8b-4fdb-9f16-212a723b6f56",
        "outputId": "21fe1ad7-dfa1-4df0-9530-5a2baf52fe7f"
      },
      "outputs": [
        {
          "data": {
            "text/plain": [
              "{'제품명': '팜봇', '가격': 500000, '카테고리': 'Aiot', '재고': 5}"
            ]
          },
          "execution_count": 89,
          "metadata": {},
          "output_type": "execute_result"
        }
      ],
      "source": [
        "# 시퀀스 연산자에 기존 키를 넣고 할당하여 값 변경\n",
        "product1['재고'] = 5\n",
        "product1\n"
      ]
    },
    {
      "cell_type": "code",
      "execution_count": null,
      "id": "1e361c49-e4ee-4e9a-a3d1-b367a83aca8d",
      "metadata": {
        "id": "1e361c49-e4ee-4e9a-a3d1-b367a83aca8d",
        "outputId": "de864ff4-1780-49b1-cd39-9c340683c280"
      },
      "outputs": [
        {
          "data": {
            "text/plain": [
              "{'제품명': '팜봇', '가격': 500000, '재고': 5}"
            ]
          },
          "execution_count": 90,
          "metadata": {},
          "output_type": "execute_result"
        }
      ],
      "source": [
        "# del 연산을 활용한 키:값 제거\n",
        "del product1['카테고리']\n",
        "product1"
      ]
    },
    {
      "cell_type": "code",
      "execution_count": null,
      "id": "af59b739-a1e8-4015-95e9-7d66c1d53130",
      "metadata": {
        "id": "af59b739-a1e8-4015-95e9-7d66c1d53130",
        "outputId": "73341f75-2d37-4888-fc40-1a04702e1d16"
      },
      "outputs": [
        {
          "data": {
            "text/plain": [
              "dict_keys(['제품명', '가격', '재고'])"
            ]
          },
          "execution_count": 91,
          "metadata": {},
          "output_type": "execute_result"
        }
      ],
      "source": [
        "# 키 목록 반환\n",
        "product1.keys()"
      ]
    },
    {
      "cell_type": "code",
      "execution_count": null,
      "id": "2bedd8f2-9e34-4fb7-b3f0-bc75f74e4349",
      "metadata": {
        "id": "2bedd8f2-9e34-4fb7-b3f0-bc75f74e4349",
        "outputId": "b34bfb34-ff7f-41ca-e6a0-456640544bf0"
      },
      "outputs": [
        {
          "data": {
            "text/plain": [
              "['제품명', '가격', '재고']"
            ]
          },
          "execution_count": 92,
          "metadata": {},
          "output_type": "execute_result"
        }
      ],
      "source": [
        "# 리스트로 키 목록 반환\n",
        "list(product1)"
      ]
    },
    {
      "cell_type": "code",
      "execution_count": null,
      "id": "8734b666-8802-4574-9b4a-7b3f1dcae09b",
      "metadata": {
        "id": "8734b666-8802-4574-9b4a-7b3f1dcae09b",
        "outputId": "0d1eba43-bfdd-4e63-93ba-6d1641226ffe"
      },
      "outputs": [
        {
          "data": {
            "text/plain": [
              "dict_values(['팜봇', 500000, 5])"
            ]
          },
          "execution_count": 93,
          "metadata": {},
          "output_type": "execute_result"
        }
      ],
      "source": [
        "# 값 목록 반환\n",
        "product1.values()"
      ]
    },
    {
      "cell_type": "code",
      "execution_count": null,
      "id": "5d652c83-e2ca-478c-8d28-9e87950035cb",
      "metadata": {
        "id": "5d652c83-e2ca-478c-8d28-9e87950035cb",
        "outputId": "9c6be6b1-6013-4bbf-de46-07cf21352c6a"
      },
      "outputs": [
        {
          "name": "stdout",
          "output_type": "stream",
          "text": [
            "제품명\n",
            "가격\n",
            "재고\n"
          ]
        }
      ],
      "source": [
        "# 반복문에는 키가 이터러블\n",
        "for p in product1:\n",
        "    print(p)"
      ]
    },
    {
      "cell_type": "markdown",
      "id": "185ca441-7b15-4d03-b556-ea7c542df274",
      "metadata": {
        "id": "185ca441-7b15-4d03-b556-ea7c542df274"
      },
      "source": [
        "#### 딕셔너리의 계층 구조\n",
        "딕셔너리의 *값(value)* 에는 또 다른 데이터 구조(리스트, 딕셔너리 등)를 할당할 수 있어, **계층적 구조**를 가질 수 있습니다.\n",
        "\n",
        "이런 계층 구조는 다양한 데이터를 하나의 묶음으로 보관할 수 있어 주로 **빅데이터**를 보관 하고 전달하는 구조로 활용되며, 대규모 데이터 통신 구조인 **JSON**과 쉽게 변환이 가능합니다."
      ]
    },
    {
      "cell_type": "code",
      "execution_count": null,
      "id": "24bc89f0-5b11-43a3-9b24-1b4691b7363d",
      "metadata": {
        "id": "24bc89f0-5b11-43a3-9b24-1b4691b7363d",
        "outputId": "0af449ea-727f-4bf3-bad5-5b03c26114b3"
      },
      "outputs": [
        {
          "data": {
            "text/plain": [
              "{'제품명': '팜봇', '가격': 500000, '재고': 5, '카테고리': ['AI', 'Aiot', 'Iot', 'farm']}"
            ]
          },
          "execution_count": 95,
          "metadata": {},
          "output_type": "execute_result"
        }
      ],
      "source": [
        "# 계층 구조로 구성\n",
        "product1['카테고리'] = ['AI','Aiot','Iot','data']\n",
        "product1"
      ]
    },
    {
      "cell_type": "code",
      "execution_count": null,
      "id": "3933b090-deb3-4909-a850-451342061710",
      "metadata": {
        "id": "3933b090-deb3-4909-a850-451342061710",
        "outputId": "2adf6c69-5127-48ab-da67-90616239bce1"
      },
      "outputs": [
        {
          "name": "stdout",
          "output_type": "stream",
          "text": [
            "구로디지털단지\n",
            "2\n",
            "pandas\n"
          ]
        }
      ],
      "source": [
        "# 계층적 구조를 가지는 딕셔너리\n",
        "d = {\n",
        "    'id': 1,\n",
        "    'name': '원칠',\n",
        "    'company': {\n",
        "        'name': 'taveler4d',\n",
        "        'site': 'aaa.www.ggg',\n",
        "        'phone': '02-2222-2222',\n",
        "        'city': '구로디지털단지'},\n",
        "    'project': [\n",
        "        {'name': 'pandas', 'pid': '0014'},\n",
        "        {'name': 'aiot', 'pid': '0023'}\n",
        "    ],\n",
        "    'phone': '010-1111-2222'\n",
        "}\n",
        "\n",
        "# 계층 구조에서 중첩 키 인덱싱\n",
        "print(d['company']['city'])\n",
        "print(len(d['project']))\n",
        "print(d['project'][0]['name'])"
      ]
    },
    {
      "cell_type": "markdown",
      "id": "37b36ce4-93d1-4d85-87d7-1489cdac7228",
      "metadata": {
        "id": "37b36ce4-93d1-4d85-87d7-1489cdac7228"
      },
      "source": [
        "### 실습4"
      ]
    },
    {
      "cell_type": "markdown",
      "id": "df7ed1a0-4f51-4074-8a24-afd4496812a2",
      "metadata": {
        "id": "df7ed1a0-4f51-4074-8a24-afd4496812a2"
      },
      "source": [
        "#### [실습1]\n",
        "'메뉴이름' 키에는 메뉴이름이, '가격' 키에는 해당 메뉴의 가격이 입력된 딕셔너리 하나를 생성하세요\n"
      ]
    },
    {
      "cell_type": "code",
      "execution_count": null,
      "id": "6ede7002-d3ba-4b2d-86d9-930aeb896978",
      "metadata": {
        "id": "6ede7002-d3ba-4b2d-86d9-930aeb896978",
        "colab": {
          "base_uri": "https://localhost:8080/"
        },
        "outputId": "53c6e217-3a0a-4cbb-b3ab-288ffe014c0e"
      },
      "outputs": [
        {
          "output_type": "stream",
          "name": "stdout",
          "text": [
            "{'메뉴이름': '치킨', '가격': 10000}\n"
          ]
        }
      ],
      "source": [
        "dict = {'메뉴이름':'치킨', '가격':10000}\n",
        "\n",
        "print(dict)"
      ]
    },
    {
      "cell_type": "markdown",
      "id": "00eb3f2d-c625-4310-af52-e90deabeb88a",
      "metadata": {
        "id": "00eb3f2d-c625-4310-af52-e90deabeb88a"
      },
      "source": [
        "#### [실습2]\n",
        "다음 두개의 리스트를 활용하여 실습1 에서 구성한 형태의 딕셔너리를 3개 만들고 이를 보관하는 리스트를 만들어 출력하세요\n",
        "\n",
        "    menu = ['치킨','피자','국밥']\n",
        "    price = [20000, 23000, 10000]\n",
        "\n",
        "    - 출력 결과 -\n",
        "    [{'메뉴이름': '치킨', '가격': '치킨'},\n",
        "     {'메뉴이름': '피자', '가격': '피자'},\n",
        "     {'메뉴이름': '국밥', '가격': '국밥'}]"
      ]
    },
    {
      "cell_type": "code",
      "execution_count": null,
      "id": "bb1c61a1-f09c-41f3-aa1c-974ddeb6e0f9",
      "metadata": {
        "id": "bb1c61a1-f09c-41f3-aa1c-974ddeb6e0f9",
        "colab": {
          "base_uri": "https://localhost:8080/"
        },
        "outputId": "850db0bb-fc6b-4165-b8be-90947d3e826a"
      },
      "outputs": [
        {
          "output_type": "stream",
          "name": "stdout",
          "text": [
            "[{'메뉴이름': '치킨', '가격': 20000}, {'메뉴이름': '피자', '가격': 23000}, {'메뉴이름': '국밥', '가격': 10000}]\n"
          ]
        }
      ],
      "source": [
        "menu = ['치킨','피자','국밥']\n",
        "price = [20000, 23000, 10000]\n",
        "\n",
        "dict_list = []\n",
        "\n",
        "for i in range(0, len(menu)):\n",
        "    dict = {'메뉴이름': menu[i], '가격': price[i]}\n",
        "    dict_list.append(dict)\n",
        "\n",
        "print(dict_list)"
      ]
    },
    {
      "cell_type": "markdown",
      "id": "f8f15323-901a-4b37-aac3-0e618ac9a450",
      "metadata": {
        "id": "f8f15323-901a-4b37-aac3-0e618ac9a450"
      },
      "source": [
        "#### [실습3]\n",
        "실습2에서 만든 리스트에서 1번 메뉴의 가격을 인덱싱하여 출력하세요"
      ]
    },
    {
      "cell_type": "code",
      "execution_count": null,
      "id": "95e39e31-e2ca-4a1c-a8ce-ee88778d970c",
      "metadata": {
        "id": "95e39e31-e2ca-4a1c-a8ce-ee88778d970c",
        "colab": {
          "base_uri": "https://localhost:8080/"
        },
        "outputId": "df8d2b7f-1631-40b7-dcd9-62d4f4d1e391"
      },
      "outputs": [
        {
          "output_type": "execute_result",
          "data": {
            "text/plain": [
              "20000"
            ]
          },
          "metadata": {},
          "execution_count": 13
        }
      ],
      "source": [
        "dict_list[0]['가격']"
      ]
    },
    {
      "cell_type": "markdown",
      "id": "e6041304-7a7c-44fb-8c99-1aec8cb5ae16",
      "metadata": {
        "id": "e6041304-7a7c-44fb-8c99-1aec8cb5ae16"
      },
      "source": [
        "#### [실습4]\n",
        "다음 s1 문자열을 띄어쓰기 단위로 잘라 목록으로 만들고, stop_words에 해당하는 단어를 제외한 단어만 담긴 리스트를 만들어 출력하세요\n",
        "\n",
        "    s1 = '새싹 빅데이터 데이터분석 데이터구조 파이썬 시각화 판다스'\n",
        "    stop_words = '데이터구조'\n",
        "    \n",
        "    - 출력 결과 -\n",
        "    ['새싹', '빅데이터', '데이터분석', '파이썬', '시각화', '판다스']"
      ]
    },
    {
      "cell_type": "code",
      "execution_count": null,
      "id": "ac38c938-f183-485a-81ce-67310e68eab7",
      "metadata": {
        "id": "ac38c938-f183-485a-81ce-67310e68eab7"
      },
      "outputs": [],
      "source": [
        "s1 = '새싹 빅데이터 데이터분석 데이터구조 파이썬 시각화 판다스'\n",
        "stop_words = '데이터구조'"
      ]
    },
    {
      "cell_type": "code",
      "execution_count": null,
      "id": "215bdade-3550-4b35-9cc3-521b8123f676",
      "metadata": {
        "id": "215bdade-3550-4b35-9cc3-521b8123f676",
        "colab": {
          "base_uri": "https://localhost:8080/"
        },
        "outputId": "68abd9af-3f3d-421a-9a2d-a711744cc50a"
      },
      "outputs": [
        {
          "output_type": "stream",
          "name": "stdout",
          "text": [
            "['새싹', '빅데이터', '데이터분석', '파이썬', '시각화', '판다스']\n"
          ]
        }
      ],
      "source": [
        "list = s1.split(' ')\n",
        "list.remove(stop_words)\n",
        "print(list)"
      ]
    },
    {
      "cell_type": "markdown",
      "metadata": {
        "id": "WSrt6qsW2uM2"
      },
      "source": [
        "#### [실습5]\n",
        "3개의 데이터구조에서 orders의 3번째 딕셔너리에 해당하는 고객의 이름과 첫번째 제품의 이름을 출력하세요. 이때 변수와 인덱싱만을 활용해야 합니다.\n",
        "\n",
        "    - 출력결과 -\n",
        "    파이썬, 자전거\n",
        "    \n"
      ],
      "id": "WSrt6qsW2uM2"
    },
    {
      "cell_type": "code",
      "execution_count": null,
      "id": "fad4eac8-2cd5-4069-a67d-5f1526aaae4b",
      "metadata": {
        "id": "fad4eac8-2cd5-4069-a67d-5f1526aaae4b",
        "colab": {
          "base_uri": "https://localhost:8080/"
        },
        "outputId": "9d440d10-332a-4e99-cdc0-1f660af2cae4"
      },
      "outputs": [
        {
          "output_type": "execute_result",
          "data": {
            "text/plain": [
              "('파이썬', '자전거')"
            ]
          },
          "metadata": {},
          "execution_count": 23
        }
      ],
      "source": [
        "users = {'123':'G밸리',\n",
        "         '124':'파이썬',\n",
        "         '125':'데이터분석',}\n",
        "\n",
        "products = {'a':['노트북', 200],\n",
        "            'b':['자전거', 15],\n",
        "            'c':['샴푸', 2],\n",
        "            'd':['셔츠', 1],\n",
        "            'e':['초코렛', 1]}\n",
        "\n",
        "orders = [{'user_id':'123', 'products':['a','c']},\n",
        "         {'user_id':'125', 'products':['e']},\n",
        "         {'user_id':'124', 'products':['b','d','e']}]\n",
        "\n",
        "\n",
        "users.get(orders[2]['user_id']), products.get(orders[2]['products'][0])[0]"
      ]
    },
    {
      "cell_type": "markdown",
      "metadata": {
        "id": "0ce7d327-36a3-49d4-957f-a331354f6c30"
      },
      "source": [
        "#### [심화1]\n",
        "[실습5]의 3개 딕셔너리를 for문과 인덱싱을 활용하여 다음과 같은 리스트-딕셔너리 구조로 만들어 출력하세요\n",
        "\n",
        "    -출력결과-\n",
        "    [{'주문자': 'G밸리', '상품명': '노트북', '가격': 200}, {'주문자': 'G밸리', '상품명': '샴푸', '가격': 2}, {'주문자': '데이터분석', '상품명': '초코렛', '가격': 1}, {'주문자': '파이썬', '상품명': '자전거', '가격': 15}, {'주문자': '파이썬', '상품명': '셔츠', '가격': 1}, {'주문자': '파이썬', '상품명': '초코렛', '가격': 1}]\n"
      ],
      "id": "0ce7d327-36a3-49d4-957f-a331354f6c30"
    },
    {
      "cell_type": "code",
      "execution_count": null,
      "metadata": {
        "id": "SLJYWhmq32aJ"
      },
      "outputs": [],
      "source": [
        "users = {'123':'G밸리',\n",
        "         '124':'파이썬',\n",
        "         '125':'데이터분석',}\n",
        "\n",
        "products = {'a':['노트북', 200],\n",
        "            'b':['자전거', 15],\n",
        "            'c':['샴푸', 2],\n",
        "            'd':['셔츠', 1],\n",
        "            'e':['초코렛', 1]}\n",
        "\n",
        "orders = [{'user_id':'123', 'products':['a','c']},\n",
        "         {'user_id':'125', 'products':['e']},\n",
        "         {'user_id':'124', 'products':['b','d','e']}]\n"
      ],
      "id": "SLJYWhmq32aJ"
    },
    {
      "cell_type": "code",
      "source": [
        "list  = []\n",
        "\n",
        "for i in range(0,len(orders)):\n",
        "    id, pd = orders[i].values()\n",
        "    for j in range(0,len(pd)):\n",
        "        list.append({'주문자':users[id],'상품명': products[pd[j]][0], '가격' : products[pd[j]][1]})\n",
        "\n",
        "list"
      ],
      "metadata": {
        "colab": {
          "base_uri": "https://localhost:8080/"
        },
        "id": "swGLAdphyh5a",
        "outputId": "9376cb51-e4d1-4380-a762-4f3af9dd26e3"
      },
      "id": "swGLAdphyh5a",
      "execution_count": null,
      "outputs": [
        {
          "output_type": "execute_result",
          "data": {
            "text/plain": [
              "[{'주문자': 'G밸리', '상품명': '노트북', '가격': 200},\n",
              " {'주문자': 'G밸리', '상품명': '샴푸', '가격': 2},\n",
              " {'주문자': '데이터분석', '상품명': '초코렛', '가격': 1},\n",
              " {'주문자': '파이썬', '상품명': '자전거', '가격': 15},\n",
              " {'주문자': '파이썬', '상품명': '셔츠', '가격': 1},\n",
              " {'주문자': '파이썬', '상품명': '초코렛', '가격': 1}]"
            ]
          },
          "metadata": {},
          "execution_count": 57
        }
      ]
    },
    {
      "cell_type": "markdown",
      "id": "15a4e2ec-239c-4782-85e9-163703963166",
      "metadata": {
        "id": "15a4e2ec-239c-4782-85e9-163703963166"
      },
      "source": [
        "\n",
        "## 배열\n",
        "배열은 컴퓨터 자료구조의 가장 기초적인 구조로 단순히 저장하고자 하는 데이터들을 한공간에 순서적으로 나열한 데이터구조입니다.\n",
        "\n",
        "하지만 파이썬은 다른 언어와 다르게 기초 구조로 리스트를 활용하므로, 배열을 활용하기 위해 외부 라이브러리인 **numpy** 모듈을 설치해주어야 합니다.\n"
      ]
    },
    {
      "cell_type": "markdown",
      "source": [
        "#### 배열 특징\n",
        "배열은 리스트와 표면적인 표현 방식은 유사하지만 내부 구조적으로 많은 차이가 존재합니다.\n",
        "\n",
        "<center><img src=\"https://drive.google.com/thumbnail?id=1av9Ok3P5QJGdIOxjZCdM3iNFY_6pYObn&sz=w1000\" width=\"500\"/></center>\n",
        "\n",
        "- **고정 구조**\n",
        "    - 저장될 데이터들의 크기와 개수를 통해 정확한 공간을 계산하여 할당\n",
        "    - 하나의 배열에는 동일한 타입의 데이터만 저장 가능\n",
        "    - 항목의 타입과 크기가 정해져야 생성 가능\n",
        "    - 공간의 활용 효율성이 리스트에 비해 떨어짐\n",
        "- **데이터 접근 방식**\n",
        "    - 항목의 순서를 통해 항목 접근 가능\n",
        "    - 명확한 공간 배치로 인해 특정 순서의 데이터를 바로 찾아갈 수 있음\n",
        "    - 접근 속도가 빠르고 연산 효율이 좋음"
      ],
      "metadata": {
        "id": "wz4pDqQpPKac"
      },
      "id": "wz4pDqQpPKac"
    },
    {
      "cell_type": "markdown",
      "id": "5820abd1-1035-4c2c-87f3-9c7e7e5bde59",
      "metadata": {
        "id": "5820abd1-1035-4c2c-87f3-9c7e7e5bde59"
      },
      "source": [
        "\n",
        "### numpy를 활용한 배열\n",
        "**numpy**는 **ndarray**라는 형식을 활용해서 다차원의 배열형식을 만들고 다양한 연산과 처리를 지원합니다."
      ]
    },
    {
      "cell_type": "markdown",
      "source": [
        "#### numpy 설치\n",
        "\n",
        "외부라이브러리는 **pip 명령어**를 활용해 설치가 가능합니다. 이때 `pip`는 시스템 명령어 이므로 주피터 환경에서는 `!`를 붙여주어야 합니다.\n",
        "\n",
        "- `!pip install 라이브러리이름` : 해당 라이브러리를 설치"
      ],
      "metadata": {
        "id": "HqcUnfQKVeKJ"
      },
      "id": "HqcUnfQKVeKJ"
    },
    {
      "cell_type": "code",
      "execution_count": null,
      "id": "0ced983d-5727-4680-8c2d-ea21a0b83db3",
      "metadata": {
        "id": "0ced983d-5727-4680-8c2d-ea21a0b83db3",
        "outputId": "20a9c7b9-c380-4873-80ba-0c37fc6067d2",
        "colab": {
          "base_uri": "https://localhost:8080/"
        }
      },
      "outputs": [
        {
          "output_type": "stream",
          "name": "stdout",
          "text": [
            "Requirement already satisfied: numpy in /usr/local/lib/python3.12/dist-packages (2.0.2)\n"
          ]
        }
      ],
      "source": [
        "# numpy 설치\n",
        "!pip install numpy"
      ]
    },
    {
      "cell_type": "code",
      "execution_count": null,
      "id": "88760a52-6e4b-444e-9644-ac0c6e359330",
      "metadata": {
        "id": "88760a52-6e4b-444e-9644-ac0c6e359330"
      },
      "outputs": [],
      "source": [
        "# 넘파이 모듈임포트\n",
        "import numpy as np"
      ]
    },
    {
      "cell_type": "markdown",
      "source": [
        "#### 배열생성\n",
        "배열을 만들기 위해서는 기본적으로 데이터의 타입과 데이터의 개수가 결정되어야 합니다.\n",
        "따라서 미리 구현된 데이터구조를 배열로 변환하는 방식이나 특정 형식과 크기로 초기화된 배열을 만드는 방식으로 배열을 생성합니다.\n",
        "\n",
        "- 구현된 이터러블을 활용해 asarray()로 생성: `np.asarray(iterable)`    \n",
        "- 지정 모형의 0으로 초기화 시키기: `np.zeros((3,2))`    \n",
        "- 지정 모형의 1으로 초기화 시키기: `np.ones((3,2))`    \n",
        "- 지정 모형의 0~1 랜덤 초기화 시키기: `np.random.rand(3,2)`    "
      ],
      "metadata": {
        "id": "DKgrrUXiQKJk"
      },
      "id": "DKgrrUXiQKJk"
    },
    {
      "cell_type": "code",
      "execution_count": null,
      "id": "e1edcfd3-eeb0-400b-9703-f7f8375ba671",
      "metadata": {
        "colab": {
          "base_uri": "https://localhost:8080/"
        },
        "id": "e1edcfd3-eeb0-400b-9703-f7f8375ba671",
        "outputId": "246a6c23-05c7-4ef0-c7c5-bb3d406595ad"
      },
      "outputs": [
        {
          "output_type": "stream",
          "name": "stdout",
          "text": [
            "[1 2 4 8]\n",
            "(4,)\n"
          ]
        }
      ],
      "source": [
        "# array() 함수로 배열 생성\n",
        "x = [1, 2, 4, 8]\n",
        "y = np.array(x)\n",
        "print(y)\n",
        "# shape 변수로 형상 확인\n",
        "print(y.shape)"
      ]
    },
    {
      "cell_type": "markdown",
      "id": "78099549-3518-440f-937a-7b4bd78ec392",
      "metadata": {
        "id": "78099549-3518-440f-937a-7b4bd78ec392"
      },
      "source": [
        "#### 다차원 배열 형상 이해\n",
        "배열은 정형적인 일정한 모형으로 중첩된 구조인 **다차원 구조** 특징을 가집니다.\n",
        "\n",
        "<center><img src=\"https://drive.google.com/thumbnail?id=17Djg-VXMcwMuWdGc7wFxh405vW0L2rkj&sz=w1000\" width=\"600\"/></center>\n",
        "\n",
        "- **축 (Axis):** 배열의 각 차원에서 데이터가 확장되는 방향\n",
        "- **차원 (Dimension)**: 배열에서 데이터가 구성된 축(axis)의 수\n",
        "- **형상(shape):** 배열의 각 축(axis)에 해당하는 데이터 개수를 표현"
      ]
    },
    {
      "cell_type": "code",
      "execution_count": null,
      "id": "bd9ba180-1045-4892-b2b4-be1e1d88c638",
      "metadata": {
        "colab": {
          "base_uri": "https://localhost:8080/"
        },
        "id": "bd9ba180-1045-4892-b2b4-be1e1d88c638",
        "outputId": "496ac1db-8389-49ff-852a-6d641eec30fc"
      },
      "outputs": [
        {
          "output_type": "stream",
          "name": "stdout",
          "text": [
            "(5,)\n",
            "(2, 5)\n",
            "(3, 2, 5)\n"
          ]
        }
      ],
      "source": [
        "# 다차원 배열\n",
        "array1d = np.array([1,2,3,4,5])\n",
        "\n",
        "array2d = np.array([[1,2,3,4,5],\n",
        "                    [6,7,8,9,0]])\n",
        "\n",
        "array3d = np.array([[[1,2,3,4,5],\n",
        "                     [6,7,8,9,0]],\n",
        "                    [[2,3,4,5,6],\n",
        "                     [7,8,9,0,1]],\n",
        "                    [[3,4,5,6,7],\n",
        "                     [8,9,0,1,2]]])\n",
        "\n",
        "print(array1d.shape)\n",
        "print(array2d.shape)\n",
        "print(array3d.shape)"
      ]
    },
    {
      "cell_type": "markdown",
      "id": "4d610a09-1767-4ef2-824a-3afe4f756b64",
      "metadata": {
        "id": "4d610a09-1767-4ef2-824a-3afe4f756b64"
      },
      "source": [
        "#### 다차원 배열 인덱싱\n",
        "다차원 배열에서는 `[]` 내부에 `,` 기호를 이용하여 **축(axis)** 단위로 인덱싱이 가능합니다."
      ]
    },
    {
      "cell_type": "code",
      "execution_count": null,
      "id": "d27cf9aa-7cf5-450b-a236-20cb00ed2875",
      "metadata": {
        "colab": {
          "base_uri": "https://localhost:8080/"
        },
        "id": "d27cf9aa-7cf5-450b-a236-20cb00ed2875",
        "outputId": "79914113-3a72-474a-907c-92e238eb1051"
      },
      "outputs": [
        {
          "output_type": "stream",
          "name": "stdout",
          "text": [
            "1\n",
            "4\n",
            "9\n"
          ]
        }
      ],
      "source": [
        "# 차원 축에 맞게 인덱싱\n",
        "\n",
        "print(array1d[0])\n",
        "print(array2d[0,2])\n",
        "print(array3d[0,1,3])"
      ]
    },
    {
      "cell_type": "code",
      "execution_count": null,
      "id": "8a31fefd-aef7-44e5-9ab0-2ce8f0721f20",
      "metadata": {
        "colab": {
          "base_uri": "https://localhost:8080/"
        },
        "id": "8a31fefd-aef7-44e5-9ab0-2ce8f0721f20",
        "outputId": "5d296c45-d570-4a95-bf68-47431aca5f53"
      },
      "outputs": [
        {
          "output_type": "stream",
          "name": "stdout",
          "text": [
            "1번축 슬라이싱:\n",
            "[3 4 5]\n",
            "0,1번축 슬라이싱:\n",
            "[[3 4 5]\n",
            " [7 8 9]]\n",
            "중간축만 슬라이싱:\n",
            "[2 7]\n",
            "여러축 슬라이싱 요약:\n",
            "[[1 6]\n",
            " [2 7]\n",
            " [3 8]]\n"
          ]
        }
      ],
      "source": [
        "# 다차원 배열 슬라이싱\n",
        "print('1번축 슬라이싱:')\n",
        "print(array2d[0,1:4])\n",
        "\n",
        "print('0,1번축 슬라이싱:')\n",
        "print(array2d[:,1:4])\n",
        "\n",
        "print('중간축만 슬라이싱:')\n",
        "print(array3d[0,:,1])\n",
        "\n",
        "print('여러축 슬라이싱 요약:')\n",
        "print(array3d[...,0])"
      ]
    },
    {
      "cell_type": "code",
      "execution_count": null,
      "id": "54720d6c-d3ef-4d08-9d8e-2e26b0ee4616",
      "metadata": {
        "colab": {
          "base_uri": "https://localhost:8080/"
        },
        "id": "54720d6c-d3ef-4d08-9d8e-2e26b0ee4616",
        "outputId": "c186fc44-c14d-4c55-fc4d-c7e8f5e80162"
      },
      "outputs": [
        {
          "output_type": "execute_result",
          "data": {
            "text/plain": [
              "array([[ 1, 10,  3,  4,  5],\n",
              "       [ 6,  7,  8,  9,  0]])"
            ]
          },
          "metadata": {},
          "execution_count": 9
        }
      ],
      "source": [
        "# 인덱싱을 통한 데이터 할당\n",
        "array2d[0,1] = 10\n",
        "array2d"
      ]
    },
    {
      "cell_type": "code",
      "execution_count": null,
      "id": "480c5032-5b0f-4488-a66e-f3c84f910ecc",
      "metadata": {
        "colab": {
          "base_uri": "https://localhost:8080/"
        },
        "id": "480c5032-5b0f-4488-a66e-f3c84f910ecc",
        "outputId": "b937c3c8-0749-44d0-af24-8be7859f2798"
      },
      "outputs": [
        {
          "output_type": "execute_result",
          "data": {
            "text/plain": [
              "array([[2, 3, 4, 5, 6],\n",
              "       [6, 7, 8, 9, 0]])"
            ]
          },
          "metadata": {},
          "execution_count": 10
        }
      ],
      "source": [
        "# 동일한 차원의 데이터를 할당해야함\n",
        "array2d[0] = [2,3,4,5,6]\n",
        "array2d"
      ]
    },
    {
      "cell_type": "markdown",
      "id": "37d9940c-ac32-4dd3-9250-849526506f1f",
      "metadata": {
        "id": "37d9940c-ac32-4dd3-9250-849526506f1f"
      },
      "source": [
        "### 다차원 배열 연산\n",
        "numpy는 다차원 배열의 효율적인 연산 방식을 제공합니다."
      ]
    },
    {
      "cell_type": "markdown",
      "source": [
        "#### 배열에서 연산 활용\n",
        "배열에서 **연산자** 활용시 같은 인덱스에 해당하는 데이터간 일괄연산이 진행되며, 특수 연산에 대한 다양한 **연산 함수**를 활용할 수 도 있습니다."
      ],
      "metadata": {
        "id": "9zqvzAR7Qx8Z"
      },
      "id": "9zqvzAR7Qx8Z"
    },
    {
      "cell_type": "code",
      "execution_count": null,
      "id": "59963e95-e76d-4aa9-9d10-b138bc92d649",
      "metadata": {
        "id": "59963e95-e76d-4aa9-9d10-b138bc92d649",
        "outputId": "79e29a64-7698-49ca-d087-c04c12dfb6ee",
        "colab": {
          "base_uri": "https://localhost:8080/"
        }
      },
      "outputs": [
        {
          "output_type": "execute_result",
          "data": {
            "text/plain": [
              "array([[ 2,  4,  6,  8, 10],\n",
              "       [12, 14, 16, 18,  0]])"
            ]
          },
          "metadata": {},
          "execution_count": 6
        }
      ],
      "source": [
        "# 일괄 산술 연산\n",
        "array2d * 2"
      ]
    },
    {
      "cell_type": "code",
      "execution_count": null,
      "id": "6fdcf494-d2dd-4d5e-82be-0babf7bf1da6",
      "metadata": {
        "id": "6fdcf494-d2dd-4d5e-82be-0babf7bf1da6",
        "outputId": "a0e992a7-57d4-4af9-a7aa-1195c08fdb33"
      },
      "outputs": [
        {
          "name": "stdout",
          "output_type": "stream",
          "text": [
            "[1.         1.41421356 2.         2.82842712]\n",
            "[ 1  4 16 64]\n",
            "[0.         0.69314718 1.38629436 2.07944154]\n",
            "[2.71828183e+00 7.38905610e+00 5.45981500e+01 2.98095799e+03]\n"
          ]
        }
      ],
      "source": [
        "# 다양한 연산 함수 제공\n",
        "print(np.sqrt(y)) # 제곱근\n",
        "print(np.power(y, 2)) # 거듭제곱\n",
        "print(np.log(y)) # 자연로그\n",
        "print(np.exp(y)) # 지수"
      ]
    },
    {
      "cell_type": "markdown",
      "id": "9d313535-08f0-4bed-b866-926116e3dd99",
      "metadata": {
        "id": "9d313535-08f0-4bed-b866-926116e3dd99"
      },
      "source": [
        "#### 원하는 축을 선택하여 연산\n",
        "배열 연산 함수에서 `axis` 인자 활용하면 축 단위로 연산이 가능합니다."
      ]
    },
    {
      "cell_type": "code",
      "execution_count": null,
      "id": "78dc8f23-bd1c-4d87-9e17-1f3a99ad3af4",
      "metadata": {
        "id": "78dc8f23-bd1c-4d87-9e17-1f3a99ad3af4",
        "outputId": "1d2df18c-03c6-429e-865c-8827543123cd"
      },
      "outputs": [
        {
          "data": {
            "text/plain": [
              "array([[2, 3, 4, 5, 6],\n",
              "       [6, 7, 8, 9, 0]])"
            ]
          },
          "execution_count": 15,
          "metadata": {},
          "output_type": "execute_result"
        }
      ],
      "source": [
        "array2d"
      ]
    },
    {
      "cell_type": "code",
      "execution_count": null,
      "id": "6405b196-32b4-46a5-91ca-76f007e73413",
      "metadata": {
        "id": "6405b196-32b4-46a5-91ca-76f007e73413",
        "outputId": "4fec8d35-8516-4edb-de53-03f4098ef4f9"
      },
      "outputs": [
        {
          "data": {
            "text/plain": [
              "50"
            ]
          },
          "execution_count": 16,
          "metadata": {},
          "output_type": "execute_result"
        }
      ],
      "source": [
        "# sum 함수를 활용하여 배열내 데이터 더하기 연산\n",
        "np.sum(array2d)"
      ]
    },
    {
      "cell_type": "code",
      "execution_count": null,
      "id": "4fc23a78-ead1-407c-9a6d-e78012ec0587",
      "metadata": {
        "id": "4fc23a78-ead1-407c-9a6d-e78012ec0587",
        "outputId": "19524bda-7a00-4e97-c6a6-1d570c3537ea"
      },
      "outputs": [
        {
          "data": {
            "text/plain": [
              "array([ 8, 10, 12, 14,  6])"
            ]
          },
          "execution_count": 117,
          "metadata": {},
          "output_type": "execute_result"
        }
      ],
      "source": [
        "# axis 인자에 0을 할당하여 0번 축으로 더하기\n",
        "np.sum(array2d, axis = 0)"
      ]
    },
    {
      "cell_type": "code",
      "execution_count": null,
      "id": "a962522c-9220-41a1-abe5-de57cb00e367",
      "metadata": {
        "id": "a962522c-9220-41a1-abe5-de57cb00e367",
        "outputId": "0a62a689-c3a5-4615-b83f-f827bfd6457c"
      },
      "outputs": [
        {
          "data": {
            "text/plain": [
              "array([20, 30])"
            ]
          },
          "execution_count": 120,
          "metadata": {},
          "output_type": "execute_result"
        }
      ],
      "source": [
        "# 1번 축으로 더하기\n",
        "np.sum(array2d, axis = 1)"
      ]
    },
    {
      "cell_type": "markdown",
      "metadata": {
        "id": "12cd7900-cc9d-4e59-955e-13b9813ecc91"
      },
      "source": [
        "### 배열의 형상 변환\n",
        "numpy는 배열의 형상을 바꿔주는 다양한 함수도 제공해 줍니다. 이때 형상 변환 시 절대적인 배열의 크기는 변할 수 없습니다."
      ],
      "id": "12cd7900-cc9d-4e59-955e-13b9813ecc91"
    },
    {
      "cell_type": "code",
      "execution_count": null,
      "metadata": {
        "id": "8687d6e5-3c74-4ced-b244-3957504d24ef",
        "outputId": "6320edb1-95b9-4850-cee0-12f90be48f64"
      },
      "outputs": [
        {
          "data": {
            "text/plain": [
              "array([1, 2, 3, 4, 5, 6, 7, 8, 9, 0, 2, 3, 4, 5, 6, 7, 8, 9, 0, 1, 3, 4,\n",
              "       5, 6, 7, 8, 9, 0, 1, 2])"
            ]
          },
          "execution_count": 124,
          "metadata": {},
          "output_type": "execute_result"
        }
      ],
      "source": [
        "# reshape(배열, 형상) 배열을 입력한 형상으로 재구성\n",
        "np.reshape(array3d,(30,))"
      ],
      "id": "8687d6e5-3c74-4ced-b244-3957504d24ef"
    },
    {
      "cell_type": "code",
      "execution_count": null,
      "metadata": {
        "id": "8672aad0-c10a-411a-83a9-a874b9e80238",
        "outputId": "3e225a60-29be-4ba3-ac73-df5cf7e8d75d"
      },
      "outputs": [
        {
          "data": {
            "text/plain": [
              "array([[1, 2, 3, 4, 5, 6],\n",
              "       [7, 8, 9, 0, 2, 3],\n",
              "       [4, 5, 6, 7, 8, 9],\n",
              "       [0, 1, 3, 4, 5, 6],\n",
              "       [7, 8, 9, 0, 1, 2]])"
            ]
          },
          "execution_count": 125,
          "metadata": {},
          "output_type": "execute_result"
        }
      ],
      "source": [
        "# reshape는 순서대로 재구성\n",
        "np.reshape(array3d,(5,6))"
      ],
      "id": "8672aad0-c10a-411a-83a9-a874b9e80238"
    },
    {
      "cell_type": "code",
      "execution_count": null,
      "metadata": {
        "id": "c5d10c81-cea1-4bd1-b2f9-10801a01e87e",
        "outputId": "85f63d41-2e8d-4d2d-9aef-b11a54bfa9e5"
      },
      "outputs": [
        {
          "data": {
            "text/plain": [
              "array([[[1, 2, 3],\n",
              "        [4, 5, 6]],\n",
              "\n",
              "       [[7, 8, 9],\n",
              "        [0, 2, 3]],\n",
              "\n",
              "       [[4, 5, 6],\n",
              "        [7, 8, 9]],\n",
              "\n",
              "       [[0, 1, 3],\n",
              "        [4, 5, 6]],\n",
              "\n",
              "       [[7, 8, 9],\n",
              "        [0, 1, 2]]])"
            ]
          },
          "execution_count": 126,
          "metadata": {},
          "output_type": "execute_result"
        }
      ],
      "source": [
        "# 전체 크기가 변하지 않는선에서 변환 가능\n",
        "np.reshape(array3d,(5,2,3))"
      ],
      "id": "c5d10c81-cea1-4bd1-b2f9-10801a01e87e"
    },
    {
      "cell_type": "code",
      "execution_count": null,
      "metadata": {
        "colab": {
          "base_uri": "https://localhost:8080/"
        },
        "id": "b5804167-bde0-4716-9b58-99528168696a",
        "outputId": "c2592873-c577-46b9-acc9-2a04b93fd303"
      },
      "outputs": [
        {
          "output_type": "execute_result",
          "data": {
            "text/plain": [
              "array([[1, 2, 3, 4, 5, 6],\n",
              "       [7, 8, 9, 0, 2, 3],\n",
              "       [4, 5, 6, 7, 8, 9],\n",
              "       [0, 1, 3, 4, 5, 6],\n",
              "       [7, 8, 9, 0, 1, 2]])"
            ]
          },
          "metadata": {},
          "execution_count": 15
        }
      ],
      "source": [
        "# -1을 활용하여 남은 형상 구현\n",
        "np.reshape(array3d,(5,-1))"
      ],
      "id": "b5804167-bde0-4716-9b58-99528168696a"
    },
    {
      "cell_type": "code",
      "execution_count": null,
      "metadata": {
        "id": "9774bfc7-efd7-4c30-a2c5-29d3f4508b4f",
        "outputId": "0f44123e-2740-4c65-bd94-dda20b1a56ff"
      },
      "outputs": [
        {
          "data": {
            "text/plain": [
              "array([[1, 2, 3, 4, 5]])"
            ]
          },
          "execution_count": 127,
          "metadata": {},
          "output_type": "execute_result"
        }
      ],
      "source": [
        "# 형상에 1을 입력하여 비어있는 차원을 추가할 수 있음\n",
        "np.reshape(array1d,(1,5))"
      ],
      "id": "9774bfc7-efd7-4c30-a2c5-29d3f4508b4f"
    },
    {
      "cell_type": "code",
      "execution_count": null,
      "metadata": {
        "id": "0e27f2bd-a51c-4acf-b6a7-ece46e6d8a3a",
        "outputId": "62f623e4-c777-4542-88b9-d5d85d1cc842"
      },
      "outputs": [
        {
          "name": "stdout",
          "output_type": "stream",
          "text": [
            "[[1 2 3 4 5]]\n",
            "(1, 5)\n"
          ]
        }
      ],
      "source": [
        "# expand_dims 함수를 활용하여 원하는 축에 비어있는 차원을 추가\n",
        "ed = np.expand_dims(array1d, axis = 0)\n",
        "print(ed)\n",
        "print(ed.shape)"
      ],
      "id": "0e27f2bd-a51c-4acf-b6a7-ece46e6d8a3a"
    },
    {
      "cell_type": "markdown",
      "metadata": {
        "id": "7e7c6774-0bda-4a3b-8a07-44f616deebe0"
      },
      "source": [
        "### 실습5\n",
        "다음 작성된 2차원 배열 arr2d에 대하여 다음 문제를 해결하세요"
      ],
      "id": "7e7c6774-0bda-4a3b-8a07-44f616deebe0"
    },
    {
      "cell_type": "code",
      "execution_count": null,
      "metadata": {
        "id": "76523bce-6877-44fa-a8b5-e5d3e592c771"
      },
      "outputs": [],
      "source": [
        "import numpy as np\n",
        "\n",
        "arr2d = np.array([[1,2,3,4,5],\n",
        "                [5,6,7,8,9],\n",
        "                [9,1,2,3,4],\n",
        "                [5,6,7,8,9],\n",
        "               ])\n"
      ],
      "id": "76523bce-6877-44fa-a8b5-e5d3e592c771"
    },
    {
      "cell_type": "markdown",
      "metadata": {
        "id": "f26b6c4b-9709-4d19-a063-c7b148ac2fcf"
      },
      "source": [
        "#### [실습1]\n",
        "다음 배열(arr2d)의 형상을 출력하세요"
      ],
      "id": "f26b6c4b-9709-4d19-a063-c7b148ac2fcf"
    },
    {
      "cell_type": "code",
      "execution_count": null,
      "metadata": {
        "id": "0b2f19c0-93b4-4307-bbd8-10a0c7057721",
        "colab": {
          "base_uri": "https://localhost:8080/"
        },
        "outputId": "5894dda4-bce7-45e3-ac66-e7139ba38b26"
      },
      "outputs": [
        {
          "output_type": "execute_result",
          "data": {
            "text/plain": [
              "array([[1, 2, 3, 4, 5],\n",
              "       [5, 6, 7, 8, 9],\n",
              "       [9, 1, 2, 3, 4],\n",
              "       [5, 6, 7, 8, 9]])"
            ]
          },
          "metadata": {},
          "execution_count": 61
        }
      ],
      "source": [
        "arr2d"
      ],
      "id": "0b2f19c0-93b4-4307-bbd8-10a0c7057721"
    },
    {
      "cell_type": "markdown",
      "source": [
        "#### [실습2]\n",
        "다음 배열(arr2d)의 0번축의 1번, 1번축의 2번에 해당하는 데이터를 출력하세요\n"
      ],
      "metadata": {
        "id": "Mb0bbIWg3eyt"
      },
      "id": "Mb0bbIWg3eyt"
    },
    {
      "cell_type": "code",
      "source": [
        "arr2d[0,1], arr2d[1,2]"
      ],
      "metadata": {
        "id": "s5Ysuub13mvE",
        "colab": {
          "base_uri": "https://localhost:8080/"
        },
        "outputId": "ccec2648-f555-4666-fe6e-b53a91ceb58d"
      },
      "execution_count": null,
      "outputs": [
        {
          "output_type": "execute_result",
          "data": {
            "text/plain": [
              "(np.int64(2), np.int64(7))"
            ]
          },
          "metadata": {},
          "execution_count": 62
        }
      ],
      "id": "s5Ysuub13mvE"
    },
    {
      "cell_type": "markdown",
      "source": [
        "#### [실습3]\n",
        "다음 배열(arr2d)의 0번축의 0 ~ 2번, 1번축의 2 ~ 4번에 해당하는 데이터를 출력하세요\n",
        "\n"
      ],
      "metadata": {
        "id": "Z80Eq18l3RCI"
      },
      "id": "Z80Eq18l3RCI"
    },
    {
      "cell_type": "code",
      "execution_count": null,
      "metadata": {
        "id": "db029a0e-2bd5-4653-b4e1-168c9cb1b515",
        "colab": {
          "base_uri": "https://localhost:8080/"
        },
        "outputId": "7b86634c-b3f6-48dd-dafb-00171392bab3"
      },
      "outputs": [
        {
          "output_type": "execute_result",
          "data": {
            "text/plain": [
              "(array([1, 2, 3]), array([7, 8, 9]))"
            ]
          },
          "metadata": {},
          "execution_count": 64
        }
      ],
      "source": [
        "arr2d[0,:3], arr2d[1,2:5]"
      ],
      "id": "db029a0e-2bd5-4653-b4e1-168c9cb1b515"
    },
    {
      "cell_type": "markdown",
      "metadata": {
        "id": "ab412cf5-2b06-4a79-b15e-2aa75d470fdf"
      },
      "source": [
        "#### [실습4]\n",
        "배열(arr2d)에 1번축 값들의 합으로 표현된 배열을 만들고 출력하세요\n"
      ],
      "id": "ab412cf5-2b06-4a79-b15e-2aa75d470fdf"
    },
    {
      "cell_type": "code",
      "execution_count": null,
      "metadata": {
        "id": "62d36df3-5929-43f3-b3c2-4a836a83cef6",
        "colab": {
          "base_uri": "https://localhost:8080/"
        },
        "outputId": "9627e754-6af1-485b-e863-3b608529d62f"
      },
      "outputs": [
        {
          "output_type": "execute_result",
          "data": {
            "text/plain": [
              "np.int64(35)"
            ]
          },
          "metadata": {},
          "execution_count": 65
        }
      ],
      "source": [
        "arr2d[1].sum()"
      ],
      "id": "62d36df3-5929-43f3-b3c2-4a836a83cef6"
    },
    {
      "cell_type": "markdown",
      "metadata": {
        "id": "c20fe1e8-92ec-4bdc-8fa4-96fd4cd1b884"
      },
      "source": [
        "#### [실습5]\n",
        "배열(arr2d)의 형상을 (2,2,5)로 변환하여 arr3d 변수에 할당하고 형상을 출력하세요\n"
      ],
      "id": "c20fe1e8-92ec-4bdc-8fa4-96fd4cd1b884"
    },
    {
      "cell_type": "code",
      "source": [
        "arr3d = np.reshape(arr2d,(2,2,5))\n",
        "arr3d"
      ],
      "metadata": {
        "id": "u-mTCy9S5A3E",
        "colab": {
          "base_uri": "https://localhost:8080/"
        },
        "outputId": "1ac8fb38-f016-4db7-f9e9-4dfe8e5fa107"
      },
      "id": "u-mTCy9S5A3E",
      "execution_count": null,
      "outputs": [
        {
          "output_type": "execute_result",
          "data": {
            "text/plain": [
              "array([[[1, 2, 3, 4, 5],\n",
              "        [5, 6, 7, 8, 9]],\n",
              "\n",
              "       [[9, 1, 2, 3, 4],\n",
              "        [5, 6, 7, 8, 9]]])"
            ]
          },
          "metadata": {},
          "execution_count": 69
        }
      ]
    },
    {
      "cell_type": "markdown",
      "metadata": {
        "id": "c18d3d37-c1dd-43bf-81d8-fe9c80c20ff0"
      },
      "source": [
        "#### [실습6]\n",
        "중첩 반복 문을 활용하여 arr2d 배열의 데이터에 하나씩 접근하여 출력하세요\n"
      ],
      "id": "c18d3d37-c1dd-43bf-81d8-fe9c80c20ff0"
    },
    {
      "cell_type": "code",
      "execution_count": null,
      "metadata": {
        "id": "0c21a00e-3dc7-491c-929d-6250bb5239e3",
        "colab": {
          "base_uri": "https://localhost:8080/"
        },
        "outputId": "b1a82fba-f6a0-4418-d058-c2ef57e93d94"
      },
      "outputs": [
        {
          "output_type": "stream",
          "name": "stdout",
          "text": [
            "1\n",
            "2\n",
            "3\n",
            "4\n",
            "5\n",
            "5\n",
            "6\n",
            "7\n",
            "8\n",
            "9\n",
            "9\n",
            "1\n",
            "2\n",
            "3\n",
            "4\n",
            "5\n",
            "6\n",
            "7\n",
            "8\n",
            "9\n"
          ]
        }
      ],
      "source": [
        "for i in range(0,len(arr2d)):\n",
        "    for j in range(0,len(arr2d[i])):\n",
        "        print(arr2d[i][j])"
      ],
      "id": "0c21a00e-3dc7-491c-929d-6250bb5239e3"
    }
  ],
  "metadata": {
    "kernelspec": {
      "display_name": "Python 3 (ipykernel)",
      "language": "python",
      "name": "python3"
    },
    "language_info": {
      "codemirror_mode": {
        "name": "ipython",
        "version": 3
      },
      "file_extension": ".py",
      "mimetype": "text/x-python",
      "name": "python",
      "nbconvert_exporter": "python",
      "pygments_lexer": "ipython3",
      "version": "3.10.11"
    },
    "colab": {
      "provenance": [],
      "include_colab_link": true
    }
  },
  "nbformat": 4,
  "nbformat_minor": 5
}