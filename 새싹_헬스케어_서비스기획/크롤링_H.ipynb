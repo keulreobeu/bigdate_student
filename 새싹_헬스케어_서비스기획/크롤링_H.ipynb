{
  "cells": [
    {
      "cell_type": "markdown",
      "id": "a57b6a04",
      "metadata": {
        "id": "a57b6a04"
      },
      "source": [
        "# sellenium 을 활용한 크롤링\n",
        "`작성자: 최원칠 강사`   \n",
        "`traveler4d@gmail.com`\n",
        "\n",
        "크롤링(웹 스크래핑)은 웹 페이지를 돌아다니며 데이터를 자동으로 수집하는 기술로, 웹사이트의 HTML 코드를 기반으로 텍스트,이미지 등을 수집하는 가장 많이 활용되는 데이터수집 방식입니다.\n"
      ]
    },
    {
      "cell_type": "markdown",
      "id": "ou5tERv72fES",
      "metadata": {
        "id": "ou5tERv72fES"
      },
      "source": [
        "## Sellenium\n",
        "웹 애플리케이션 자동화 및 테스트를 위한 포터블 프레임워크로 크롤링 과정에 가장 많이 활용되는 파이썬 도구입니다.\n",
        "- webdriver 를 통해서 웹브라우저를 자동 컨트롤   \n",
        "- 웹내의 html 과 상호작용이 가능하고 데이터를 가져올수 있음\n",
        "\n",
        "\n",
        "**설치방법**\n",
        "1. [sellenium 문서](https://selenium-python.readthedocs.io/installation.html) 접속\n",
        "2. pip로 해당 sellenium 패키지 설치\n",
        "3. 브라우저와 버전에 맞는 [웹드라이버](https://sites.google.com/chromium.org/driver/) 설치 (최신버전은 생략)\n",
        "4. sellenium 패키지에서 webdriver 모듈 import\n",
        "5. webdriver 모듈에서 설치한 웹드라이버 클래스 로드\n"
      ]
    },
    {
      "cell_type": "code",
      "execution_count": 1,
      "id": "8274d6d0",
      "metadata": {
        "colab": {
          "base_uri": "https://localhost:8080/"
        },
        "id": "8274d6d0",
        "outputId": "2f3c09e8-19b6-46c2-8c77-19a9bbdec10c",
        "scrolled": true
      },
      "outputs": [
        {
          "name": "stdout",
          "output_type": "stream",
          "text": [
            "Collecting selenium\n",
            "  Downloading selenium-4.36.0-py3-none-any.whl.metadata (7.5 kB)\n",
            "Requirement already satisfied: urllib3<3.0,>=2.5.0 in c:\\users\\user\\miniconda3\\envs\\py312\\lib\\site-packages (from urllib3[socks]<3.0,>=2.5.0->selenium) (2.5.0)\n",
            "Collecting trio<1.0,>=0.30.0 (from selenium)\n",
            "  Downloading trio-0.31.0-py3-none-any.whl.metadata (8.5 kB)\n",
            "Collecting trio-websocket<1.0,>=0.12.2 (from selenium)\n",
            "  Downloading trio_websocket-0.12.2-py3-none-any.whl.metadata (5.1 kB)\n",
            "Requirement already satisfied: certifi>=2025.6.15 in c:\\users\\user\\miniconda3\\envs\\py312\\lib\\site-packages (from selenium) (2025.8.3)\n",
            "Requirement already satisfied: typing_extensions<5.0,>=4.14.0 in c:\\users\\user\\miniconda3\\envs\\py312\\lib\\site-packages (from selenium) (4.15.0)\n",
            "Requirement already satisfied: websocket-client<2.0,>=1.8.0 in c:\\users\\user\\miniconda3\\envs\\py312\\lib\\site-packages (from selenium) (1.8.0)\n",
            "Requirement already satisfied: attrs>=23.2.0 in c:\\users\\user\\miniconda3\\envs\\py312\\lib\\site-packages (from trio<1.0,>=0.30.0->selenium) (24.3.0)\n",
            "Collecting sortedcontainers (from trio<1.0,>=0.30.0->selenium)\n",
            "  Downloading sortedcontainers-2.4.0-py2.py3-none-any.whl.metadata (10 kB)\n",
            "Requirement already satisfied: idna in c:\\users\\user\\miniconda3\\envs\\py312\\lib\\site-packages (from trio<1.0,>=0.30.0->selenium) (3.10)\n",
            "Collecting outcome (from trio<1.0,>=0.30.0->selenium)\n",
            "  Downloading outcome-1.3.0.post0-py2.py3-none-any.whl.metadata (2.6 kB)\n",
            "Requirement already satisfied: sniffio>=1.3.0 in c:\\users\\user\\miniconda3\\envs\\py312\\lib\\site-packages (from trio<1.0,>=0.30.0->selenium) (1.3.0)\n",
            "Requirement already satisfied: cffi>=1.14 in c:\\users\\user\\miniconda3\\envs\\py312\\lib\\site-packages (from trio<1.0,>=0.30.0->selenium) (1.17.1)\n",
            "Collecting wsproto>=0.14 (from trio-websocket<1.0,>=0.12.2->selenium)\n",
            "  Downloading wsproto-1.2.0-py3-none-any.whl.metadata (5.6 kB)\n",
            "Requirement already satisfied: pysocks!=1.5.7,<2.0,>=1.5.6 in c:\\users\\user\\miniconda3\\envs\\py312\\lib\\site-packages (from urllib3[socks]<3.0,>=2.5.0->selenium) (1.7.1)\n",
            "Requirement already satisfied: pycparser in c:\\users\\user\\miniconda3\\envs\\py312\\lib\\site-packages (from cffi>=1.14->trio<1.0,>=0.30.0->selenium) (2.23)\n",
            "Requirement already satisfied: h11<1,>=0.9.0 in c:\\users\\user\\miniconda3\\envs\\py312\\lib\\site-packages (from wsproto>=0.14->trio-websocket<1.0,>=0.12.2->selenium) (0.16.0)\n",
            "Downloading selenium-4.36.0-py3-none-any.whl (9.6 MB)\n",
            "   ---------------------------------------- 0.0/9.6 MB ? eta -:--:--\n",
            "   -------- ------------------------------- 2.1/9.6 MB 11.8 MB/s eta 0:00:01\n",
            "   --------------------------- ------------ 6.6/9.6 MB 15.5 MB/s eta 0:00:01\n",
            "   ---------------------------------------  9.4/9.6 MB 15.4 MB/s eta 0:00:01\n",
            "   ---------------------------------------- 9.6/9.6 MB 14.2 MB/s  0:00:00\n",
            "Downloading trio-0.31.0-py3-none-any.whl (512 kB)\n",
            "Downloading trio_websocket-0.12.2-py3-none-any.whl (21 kB)\n",
            "Downloading outcome-1.3.0.post0-py2.py3-none-any.whl (10 kB)\n",
            "Downloading wsproto-1.2.0-py3-none-any.whl (24 kB)\n",
            "Downloading sortedcontainers-2.4.0-py2.py3-none-any.whl (29 kB)\n",
            "Installing collected packages: sortedcontainers, wsproto, outcome, trio, trio-websocket, selenium\n",
            "\n",
            "   -------------------- ------------------- 3/6 [trio]\n",
            "   -------------------- ------------------- 3/6 [trio]\n",
            "   -------------------- ------------------- 3/6 [trio]\n",
            "   --------------------------------- ------ 5/6 [selenium]\n",
            "   --------------------------------- ------ 5/6 [selenium]\n",
            "   --------------------------------- ------ 5/6 [selenium]\n",
            "   --------------------------------- ------ 5/6 [selenium]\n",
            "   --------------------------------- ------ 5/6 [selenium]\n",
            "   --------------------------------- ------ 5/6 [selenium]\n",
            "   --------------------------------- ------ 5/6 [selenium]\n",
            "   --------------------------------- ------ 5/6 [selenium]\n",
            "   ---------------------------------------- 6/6 [selenium]\n",
            "\n",
            "Successfully installed outcome-1.3.0.post0 selenium-4.36.0 sortedcontainers-2.4.0 trio-0.31.0 trio-websocket-0.12.2 wsproto-1.2.0\n"
          ]
        }
      ],
      "source": [
        "!pip install selenium"
      ]
    },
    {
      "cell_type": "markdown",
      "id": "5c77c8cf-b2de-45d0-a953-9330696e8ef7",
      "metadata": {
        "id": "5c77c8cf-b2de-45d0-a953-9330696e8ef7"
      },
      "source": [
        "### 웹드라이버 구동"
      ]
    },
    {
      "cell_type": "code",
      "execution_count": 2,
      "id": "022aacc1",
      "metadata": {
        "colab": {
          "base_uri": "https://localhost:8080/",
          "height": 678
        },
        "id": "022aacc1",
        "outputId": "7b6314a9-e59b-4349-abfd-a67bc761ff83"
      },
      "outputs": [],
      "source": [
        "from selenium import webdriver\n",
        "\n",
        "# driver = webdriver.Chrome('./chromedriver.exe') #115 버전이하\n",
        "\n",
        "driver = webdriver.Chrome() #116 버전이상\n"
      ]
    },
    {
      "cell_type": "markdown",
      "id": "528bfe13",
      "metadata": {
        "id": "528bfe13"
      },
      "source": [
        "#### *get()* 함수로 주소 접속하기"
      ]
    },
    {
      "cell_type": "code",
      "execution_count": 3,
      "id": "07bf85be",
      "metadata": {
        "id": "07bf85be"
      },
      "outputs": [],
      "source": [
        "url = 'https://play.google.com/store/apps/details?id=com.towneers.www'\n",
        "driver.get(url)"
      ]
    },
    {
      "cell_type": "markdown",
      "id": "124a8c69-08f0-4fe2-8079-a31f439186f6",
      "metadata": {
        "id": "124a8c69-08f0-4fe2-8079-a31f439186f6"
      },
      "source": [
        "> *get()* 함수의 인자에 원하는 사이트의 주소(url)를 입력하여 드라이버에서 해당 사이트로 접속"
      ]
    },
    {
      "cell_type": "markdown",
      "id": "c94ee21e",
      "metadata": {
        "id": "c94ee21e"
      },
      "source": [
        "## 원하는 요소 찾기\n",
        "\n",
        "### By 요소 선택자\n",
        "\n",
        "1. `CSS_SELECTOR` : 태그이름과 클래스(스타일)이름을 조합한 HTML 요소 경로\n",
        "    * CSS_SELECTOR는 `태그이름.클래스이름(띄어쓰기를 .으로 치환)` 형태로 줄임표현이 가능  \n",
        "    * 동일한 스타일의 요소는 CSS_SELECTOR가 중복 되어 여러개의 요소를 동시에 찾아올 때 유용\n",
        "\n",
        "<center><img src=\"https://drive.google.com/thumbnail?id=1Qr4hG4aostHX1VpxcncCmgqJaP1qc91W&sz=w1000\" width=\"600\"/></center>\n",
        "\n",
        "2. `XPATH` : 태그이름의 계층적 구조로 표현된 HTML 요소 경로\n",
        "    * 절대 경로로 표현되기 때문에 명확하게 특정 요소를 찾아오기에 유용\n",
        "    * 문자열 포맷방식으로 동일 경로상의 여러 요소를 찾아올 수 있음\n",
        "\n",
        "\n",
        "### find_element() 함수를 활용하여 원하는 HTML 요소 를 객체로 가져오기\n",
        "1. By 클래스의 HTML요소 선택자를 find_element()의 첫번째 인자로 설정\n",
        "2. 웹드라이브 상에서 원하는 요소를 오른쪽 클릭하여 검사(같은요소에 두번반복)\n",
        "3. 웹 소스에서 설정한 선택자 방식의 경로를 복사하여 find_element()의 두번째 인자로 입력\n",
        "4. find_element() 함수의 결과에서 원하는 작업 함수 사용"
      ]
    },
    {
      "cell_type": "markdown",
      "id": "e234a8ce",
      "metadata": {
        "id": "e234a8ce"
      },
      "source": [
        "#### 플레이 스토어의 리뷰 더보기 아이콘 클릭하기\n",
        "> 선택자를 활용하여 요소를 가져오고 `click()` 함수 사용\n",
        "\n",
        "<table align = \"left\">\n",
        "  <tr>\n",
        "    <td><img src=\"https://drive.google.com/thumbnail?id=1-d_6kv_kfx7W3i_KnhKOH87r4kIjFXaB&sz=w1000\" width=\"300\"/></td>\n",
        "    <td><img src=\"https://drive.google.com/thumbnail?id=1Yg8SEzDabeBv-eRDzPGaNmiSU3z-dv2X&sz=w1000\" width=\"240\"/></td>\n",
        "  <tr>\n",
        "</table>"
      ]
    },
    {
      "cell_type": "code",
      "execution_count": null,
      "id": "46a91767",
      "metadata": {
        "id": "46a91767"
      },
      "outputs": [],
      "source": [
        "from selenium.webdriver.common.by import By\n",
        "\n",
        "# XPATH로 가져오기\n",
        "xp = '//*[@id=\"yDmH0d\"]/c-wiz[2]/div/div/div[1]/div/div[2]/div/div[1]/div[1]/c-wiz[5]/section/header/div/div[2]/button/i'\n",
        "rb = driver.find_element(By.XPATH, xp)\n",
        "rb.click()"
      ]
    },
    {
      "cell_type": "markdown",
      "id": "18c7da86-8a18-41d6-8550-eb14c61917fd",
      "metadata": {
        "id": "18c7da86-8a18-41d6-8550-eb14c61917fd"
      },
      "source": [
        "> 절대 경로 이므로 명확하게 리뷰 버튼을 찾아옴    "
      ]
    },
    {
      "cell_type": "code",
      "execution_count": 6,
      "id": "97c617d2",
      "metadata": {
        "id": "97c617d2",
        "scrolled": true
      },
      "outputs": [
        {
          "ename": "ElementNotInteractableException",
          "evalue": "Message: element not interactable\n  (Session info: chrome=140.0.7339.208); For documentation on this error, please visit: https://www.selenium.dev/documentation/webdriver/troubleshooting/errors#elementnotinteractableexception\nStacktrace:\n\tGetHandleVerifier [0x0x7ff796a91eb5+80197]\n\tGetHandleVerifier [0x0x7ff796a91f10+80288]\n\t(No symbol) [0x0x7ff79681011c]\n\t(No symbol) [0x0x7ff796869243]\n\t(No symbol) [0x0x7ff79685abc8]\n\t(No symbol) [0x0x7ff79689037a]\n\t(No symbol) [0x0x7ff79685a456]\n\t(No symbol) [0x0x7ff796890590]\n\t(No symbol) [0x0x7ff7968b87fb]\n\t(No symbol) [0x0x7ff796890153]\n\t(No symbol) [0x0x7ff796858b02]\n\t(No symbol) [0x0x7ff7968598d3]\n\tGetHandleVerifier [0x0x7ff796d4e83d+2949837]\n\tGetHandleVerifier [0x0x7ff796d48c6a+2926330]\n\tGetHandleVerifier [0x0x7ff796d686c7+3055959]\n\tGetHandleVerifier [0x0x7ff796aacfee+191102]\n\tGetHandleVerifier [0x0x7ff796ab50af+224063]\n\tGetHandleVerifier [0x0x7ff796a9af64+117236]\n\tGetHandleVerifier [0x0x7ff796a9b119+117673]\n\tGetHandleVerifier [0x0x7ff796a810a8+11064]\n\tBaseThreadInitThunk [0x0x7fffcc007374+20]\n\tRtlUserThreadStart [0x0x7fffccf7cc91+33]\n",
          "output_type": "error",
          "traceback": [
            "\u001b[31m---------------------------------------------------------------------------\u001b[39m",
            "\u001b[31mElementNotInteractableException\u001b[39m           Traceback (most recent call last)",
            "\u001b[36mCell\u001b[39m\u001b[36m \u001b[39m\u001b[32mIn[6]\u001b[39m\u001b[32m, line 6\u001b[39m\n\u001b[32m      4\u001b[39m cs = \u001b[33m'\u001b[39m\u001b[33mi.google-material-icons.notranslate.VfPpkd-kBDsod.W7A5Qb\u001b[39m\u001b[33m'\u001b[39m\n\u001b[32m      5\u001b[39m rb = driver.find_element(By.CSS_SELECTOR, cs)\n\u001b[32m----> \u001b[39m\u001b[32m6\u001b[39m \u001b[43mrb\u001b[49m\u001b[43m.\u001b[49m\u001b[43mclick\u001b[49m\u001b[43m(\u001b[49m\u001b[43m)\u001b[49m\n",
            "\u001b[36mFile \u001b[39m\u001b[32mc:\\Users\\user\\miniconda3\\envs\\py312\\Lib\\site-packages\\selenium\\webdriver\\remote\\webelement.py:119\u001b[39m, in \u001b[36mWebElement.click\u001b[39m\u001b[34m(self)\u001b[39m\n\u001b[32m    111\u001b[39m \u001b[38;5;28;01mdef\u001b[39;00m\u001b[38;5;250m \u001b[39m\u001b[34mclick\u001b[39m(\u001b[38;5;28mself\u001b[39m) -> \u001b[38;5;28;01mNone\u001b[39;00m:\n\u001b[32m    112\u001b[39m \u001b[38;5;250m    \u001b[39m\u001b[33;03m\"\"\"Clicks the element.\u001b[39;00m\n\u001b[32m    113\u001b[39m \n\u001b[32m    114\u001b[39m \u001b[33;03m    Example:\u001b[39;00m\n\u001b[32m   (...)\u001b[39m\u001b[32m    117\u001b[39m \u001b[33;03m    >>> element.click()\u001b[39;00m\n\u001b[32m    118\u001b[39m \u001b[33;03m    \"\"\"\u001b[39;00m\n\u001b[32m--> \u001b[39m\u001b[32m119\u001b[39m     \u001b[38;5;28;43mself\u001b[39;49m\u001b[43m.\u001b[49m\u001b[43m_execute\u001b[49m\u001b[43m(\u001b[49m\u001b[43mCommand\u001b[49m\u001b[43m.\u001b[49m\u001b[43mCLICK_ELEMENT\u001b[49m\u001b[43m)\u001b[49m\n",
            "\u001b[36mFile \u001b[39m\u001b[32mc:\\Users\\user\\miniconda3\\envs\\py312\\Lib\\site-packages\\selenium\\webdriver\\remote\\webelement.py:572\u001b[39m, in \u001b[36mWebElement._execute\u001b[39m\u001b[34m(self, command, params)\u001b[39m\n\u001b[32m    570\u001b[39m     params = {}\n\u001b[32m    571\u001b[39m params[\u001b[33m\"\u001b[39m\u001b[33mid\u001b[39m\u001b[33m\"\u001b[39m] = \u001b[38;5;28mself\u001b[39m._id\n\u001b[32m--> \u001b[39m\u001b[32m572\u001b[39m \u001b[38;5;28;01mreturn\u001b[39;00m \u001b[38;5;28;43mself\u001b[39;49m\u001b[43m.\u001b[49m\u001b[43m_parent\u001b[49m\u001b[43m.\u001b[49m\u001b[43mexecute\u001b[49m\u001b[43m(\u001b[49m\u001b[43mcommand\u001b[49m\u001b[43m,\u001b[49m\u001b[43m \u001b[49m\u001b[43mparams\u001b[49m\u001b[43m)\u001b[49m\n",
            "\u001b[36mFile \u001b[39m\u001b[32mc:\\Users\\user\\miniconda3\\envs\\py312\\Lib\\site-packages\\selenium\\webdriver\\remote\\webdriver.py:458\u001b[39m, in \u001b[36mWebDriver.execute\u001b[39m\u001b[34m(self, driver_command, params)\u001b[39m\n\u001b[32m    455\u001b[39m response = cast(RemoteConnection, \u001b[38;5;28mself\u001b[39m.command_executor).execute(driver_command, params)\n\u001b[32m    457\u001b[39m \u001b[38;5;28;01mif\u001b[39;00m response:\n\u001b[32m--> \u001b[39m\u001b[32m458\u001b[39m     \u001b[38;5;28;43mself\u001b[39;49m\u001b[43m.\u001b[49m\u001b[43merror_handler\u001b[49m\u001b[43m.\u001b[49m\u001b[43mcheck_response\u001b[49m\u001b[43m(\u001b[49m\u001b[43mresponse\u001b[49m\u001b[43m)\u001b[49m\n\u001b[32m    459\u001b[39m     response[\u001b[33m\"\u001b[39m\u001b[33mvalue\u001b[39m\u001b[33m\"\u001b[39m] = \u001b[38;5;28mself\u001b[39m._unwrap_value(response.get(\u001b[33m\"\u001b[39m\u001b[33mvalue\u001b[39m\u001b[33m\"\u001b[39m, \u001b[38;5;28;01mNone\u001b[39;00m))\n\u001b[32m    460\u001b[39m     \u001b[38;5;28;01mreturn\u001b[39;00m response\n",
            "\u001b[36mFile \u001b[39m\u001b[32mc:\\Users\\user\\miniconda3\\envs\\py312\\Lib\\site-packages\\selenium\\webdriver\\remote\\errorhandler.py:232\u001b[39m, in \u001b[36mErrorHandler.check_response\u001b[39m\u001b[34m(self, response)\u001b[39m\n\u001b[32m    230\u001b[39m         alert_text = value[\u001b[33m\"\u001b[39m\u001b[33malert\u001b[39m\u001b[33m\"\u001b[39m].get(\u001b[33m\"\u001b[39m\u001b[33mtext\u001b[39m\u001b[33m\"\u001b[39m)\n\u001b[32m    231\u001b[39m     \u001b[38;5;28;01mraise\u001b[39;00m exception_class(message, screen, stacktrace, alert_text)  \u001b[38;5;66;03m# type: ignore[call-arg]  # mypy is not smart enough here\u001b[39;00m\n\u001b[32m--> \u001b[39m\u001b[32m232\u001b[39m \u001b[38;5;28;01mraise\u001b[39;00m exception_class(message, screen, stacktrace)\n",
            "\u001b[31mElementNotInteractableException\u001b[39m: Message: element not interactable\n  (Session info: chrome=140.0.7339.208); For documentation on this error, please visit: https://www.selenium.dev/documentation/webdriver/troubleshooting/errors#elementnotinteractableexception\nStacktrace:\n\tGetHandleVerifier [0x0x7ff796a91eb5+80197]\n\tGetHandleVerifier [0x0x7ff796a91f10+80288]\n\t(No symbol) [0x0x7ff79681011c]\n\t(No symbol) [0x0x7ff796869243]\n\t(No symbol) [0x0x7ff79685abc8]\n\t(No symbol) [0x0x7ff79689037a]\n\t(No symbol) [0x0x7ff79685a456]\n\t(No symbol) [0x0x7ff796890590]\n\t(No symbol) [0x0x7ff7968b87fb]\n\t(No symbol) [0x0x7ff796890153]\n\t(No symbol) [0x0x7ff796858b02]\n\t(No symbol) [0x0x7ff7968598d3]\n\tGetHandleVerifier [0x0x7ff796d4e83d+2949837]\n\tGetHandleVerifier [0x0x7ff796d48c6a+2926330]\n\tGetHandleVerifier [0x0x7ff796d686c7+3055959]\n\tGetHandleVerifier [0x0x7ff796aacfee+191102]\n\tGetHandleVerifier [0x0x7ff796ab50af+224063]\n\tGetHandleVerifier [0x0x7ff796a9af64+117236]\n\tGetHandleVerifier [0x0x7ff796a9b119+117673]\n\tGetHandleVerifier [0x0x7ff796a810a8+11064]\n\tBaseThreadInitThunk [0x0x7fffcc007374+20]\n\tRtlUserThreadStart [0x0x7fffccf7cc91+33]\n"
          ]
        }
      ],
      "source": [
        "from selenium.webdriver.common.by import By\n",
        "\n",
        "## CSS_SELECTOR로 가져오기\n",
        "cs = 'i.google-material-icons.notranslate.VfPpkd-kBDsod.W7A5Qb'\n",
        "rb = driver.find_element(By.CSS_SELECTOR, cs)\n",
        "rb.click()"
      ]
    },
    {
      "cell_type": "markdown",
      "id": "05ed1195-a955-4b39-ba56-9b19cd5f3443",
      "metadata": {
        "id": "05ed1195-a955-4b39-ba56-9b19cd5f3443"
      },
      "source": [
        "> 동일한 CSS_SELECTOR 이름이 중복되어 리뷰 버튼을 찾아오지 못함    "
      ]
    },
    {
      "cell_type": "markdown",
      "id": "1d7f53ef",
      "metadata": {
        "id": "1d7f53ef"
      },
      "source": [
        "#### 요소에서 원하는 데이터 추출\n",
        "- 요소 객체에서 `get_attribute()` 함수를 활용하여 태그 안에있는 변수를 인자로 입력하여 데이터를 추출   \n",
        "- 텍스트를 추출할때는 `'innerText'` 인자를 활용\n",
        "\n",
        "<rigth><img src=\"https://drive.google.com/thumbnail?id=1U9ayVL0iG8ljm5OqMRbV9lB9rTSTOMsh&sz=w1000\" width=\"340\"/></rigth>"
      ]
    },
    {
      "cell_type": "code",
      "execution_count": 9,
      "id": "c7808066-ae5c-4321-9da9-ecd93d34935e",
      "metadata": {
        "id": "c7808066-ae5c-4321-9da9-ecd93d34935e",
        "outputId": "20e4ab9c-265a-437a-81b1-ab1b80b33295"
      },
      "outputs": [
        {
          "data": {
            "text/plain": [
              "'요증 업뎃하고 당근을 잘 사용하고 있습니다. 특히 ai 도움으로 사진만 올리면 내용들이 알아서 적히고 추가 필요한 글만 적으면 되니 유용하게 잘 쓰고 있습니다. 다만 한가지 부탁드리고 싶은 점이 있습니다. 판매글보고 뒤로 가려다가 채팅하기가 잘못 눌렸는데 ai로 너무 잘되다보니 제가 거래를 위해 누른 것처럼 글이 전송되고 있습니다. 그러다 서로에게 오해만 쌓일 것 같습니다. 이런 부분의 단점을 보완하기 위해 채팅버튼을 눌렀을 때 거래 의사 있는지 확인하는 확인창 하나만 있으면 잘못 눌리는 경우가 많이 줄어들 것 같고 서로에 대한 오해와 불신이 감소할 것입니다.'"
            ]
          },
          "execution_count": 9,
          "metadata": {},
          "output_type": "execute_result"
        }
      ],
      "source": [
        "# get_attribute 활용\n",
        "xp = '//*[@id=\"yDmH0d\"]/div[5]/div[2]/div/div/div/div/div[2]/div/div[2]/div[1]/div[1]'\n",
        "text = driver.find_element(By.XPATH, xp).get_attribute('innerText')\n",
        "text"
      ]
    },
    {
      "cell_type": "code",
      "execution_count": 10,
      "id": "4a7ef660-4149-4c10-93ef-8d2d237df18e",
      "metadata": {
        "id": "4a7ef660-4149-4c10-93ef-8d2d237df18e",
        "outputId": "e6d197eb-e83e-4231-a56c-bfd7e7a18538"
      },
      "outputs": [
        {
          "data": {
            "text/plain": [
              "'ecc09086-6e94-4a9d-a34f-4c0f17818a0c'"
            ]
          },
          "execution_count": 10,
          "metadata": {},
          "output_type": "execute_result"
        }
      ],
      "source": [
        "# data-review-id 테그의 데이터 추출\n",
        "xp = '//*[@id=\"yDmH0d\"]/div[5]/div[2]/div/div/div/div/div[2]/div/div[2]/div[1]/header'\n",
        "id = driver.find_element(By.XPATH, xp).get_attribute('data-review-id')\n",
        "id"
      ]
    },
    {
      "cell_type": "markdown",
      "id": "08be9436-cc5c-4f3e-a3ae-34b02c2675a2",
      "metadata": {
        "id": "08be9436-cc5c-4f3e-a3ae-34b02c2675a2"
      },
      "source": [
        "### 여러개의 요소를 한번에 찾아오기"
      ]
    },
    {
      "cell_type": "markdown",
      "id": "518b3855",
      "metadata": {
        "id": "518b3855"
      },
      "source": [
        "#### 드래그하여 더많은 리뷰 노출시키기\n",
        "- 드래그가있는 요소를 찾아 `execute_script()` 함수에 입력하여 드래그 스크립트를 실행\n",
        "- `execute_script('arguments[0].scrollTop = arguments[0].scrollHeight', 드래그가있는 요소)`\n"
      ]
    },
    {
      "cell_type": "code",
      "execution_count": 12,
      "id": "28c65212",
      "metadata": {
        "id": "28c65212"
      },
      "outputs": [],
      "source": [
        "from time import sleep\n",
        "import random\n",
        "\n",
        "xp = '//*[@id=\"yDmH0d\"]/div[5]/div[2]/div/div/div/div/div[2]'\n",
        "review_box = driver.find_element(By.XPATH, xp) # 드래그가 있는 요소 가져오기\n",
        "\n",
        "for i in range(10):\n",
        "    driver.execute_script('arguments[0].scrollTop = arguments[0].scrollHeight', review_box )\n",
        "    sleep(random.randint(2, 3)) # 2~3초 쉬었다가 반복\n"
      ]
    },
    {
      "cell_type": "markdown",
      "id": "e095bbf5-5822-4153-89ee-b75c811791e8",
      "metadata": {
        "id": "e095bbf5-5822-4153-89ee-b75c811791e8"
      },
      "source": [
        "> 드래그 요소는 직접 몇차례의 시도를 통해 찾아 내야함     \n",
        "> 페이지 자체가 드래그가 되는 경우는 `html` 요소에서 드래그 실행     \n",
        "> 한번의 드래그 마다 데이터가 로드되어 노출되므로 2~3초의 지연을 주는것이 좋음"
      ]
    },
    {
      "cell_type": "markdown",
      "id": "adfd9c7b",
      "metadata": {
        "id": "adfd9c7b"
      },
      "source": [
        "#### find_elements() 를 활용하여 중복 요소 가져오기\n",
        "- `find_elements()` 함수에 중복되는 경로를 가진 요소 선택자를 넣어 여러개의 요소를 리스트로 가져옴\n",
        "- 동일한 스타일이 중복되는 CSS_SELECTOR 가 활용하기 편함\n",
        "- XPATH 를 활용하는 경우 `[]` 안의 순서를 문자열 포맷으로 변경하여 순차적으로 가져오거나 `[]`를 지우고 `find_elements()`를 활용"
      ]
    },
    {
      "cell_type": "code",
      "execution_count": 13,
      "id": "14313dbc-3f9d-4603-8df0-99ef69145dc9",
      "metadata": {
        "id": "14313dbc-3f9d-4603-8df0-99ef69145dc9",
        "outputId": "7c311c8b-786b-4176-e650-4177e3a5f877",
        "scrolled": true
      },
      "outputs": [
        {
          "data": {
            "text/plain": [
              "[<selenium.webdriver.remote.webelement.WebElement (session=\"69c49e344aa25cb246d4b2472a8f9d0a\", element=\"f.E1EB49FC6611A56BDD34926A16B877DA.d.14D66F1C4CFACA9952AF783E28EA0977.e.127\")>,\n",
              " <selenium.webdriver.remote.webelement.WebElement (session=\"69c49e344aa25cb246d4b2472a8f9d0a\", element=\"f.E1EB49FC6611A56BDD34926A16B877DA.d.14D66F1C4CFACA9952AF783E28EA0977.e.1013\")>,\n",
              " <selenium.webdriver.remote.webelement.WebElement (session=\"69c49e344aa25cb246d4b2472a8f9d0a\", element=\"f.E1EB49FC6611A56BDD34926A16B877DA.d.14D66F1C4CFACA9952AF783E28EA0977.e.1090\")>,\n",
              " <selenium.webdriver.remote.webelement.WebElement (session=\"69c49e344aa25cb246d4b2472a8f9d0a\", element=\"f.E1EB49FC6611A56BDD34926A16B877DA.d.14D66F1C4CFACA9952AF783E28EA0977.e.14363\")>,\n",
              " <selenium.webdriver.remote.webelement.WebElement (session=\"69c49e344aa25cb246d4b2472a8f9d0a\", element=\"f.E1EB49FC6611A56BDD34926A16B877DA.d.14D66F1C4CFACA9952AF783E28EA0977.e.14434\")>,\n",
              " <selenium.webdriver.remote.webelement.WebElement (session=\"69c49e344aa25cb246d4b2472a8f9d0a\", element=\"f.E1EB49FC6611A56BDD34926A16B877DA.d.14D66F1C4CFACA9952AF783E28EA0977.e.14511\")>,\n",
              " <selenium.webdriver.remote.webelement.WebElement (session=\"69c49e344aa25cb246d4b2472a8f9d0a\", element=\"f.E1EB49FC6611A56BDD34926A16B877DA.d.14D66F1C4CFACA9952AF783E28EA0977.e.14582\")>,\n",
              " <selenium.webdriver.remote.webelement.WebElement (session=\"69c49e344aa25cb246d4b2472a8f9d0a\", element=\"f.E1EB49FC6611A56BDD34926A16B877DA.d.14D66F1C4CFACA9952AF783E28EA0977.e.14663\")>,\n",
              " <selenium.webdriver.remote.webelement.WebElement (session=\"69c49e344aa25cb246d4b2472a8f9d0a\", element=\"f.E1EB49FC6611A56BDD34926A16B877DA.d.14D66F1C4CFACA9952AF783E28EA0977.e.14744\")>,\n",
              " <selenium.webdriver.remote.webelement.WebElement (session=\"69c49e344aa25cb246d4b2472a8f9d0a\", element=\"f.E1EB49FC6611A56BDD34926A16B877DA.d.14D66F1C4CFACA9952AF783E28EA0977.e.14821\")>,\n",
              " <selenium.webdriver.remote.webelement.WebElement (session=\"69c49e344aa25cb246d4b2472a8f9d0a\", element=\"f.E1EB49FC6611A56BDD34926A16B877DA.d.14D66F1C4CFACA9952AF783E28EA0977.e.14896\")>,\n",
              " <selenium.webdriver.remote.webelement.WebElement (session=\"69c49e344aa25cb246d4b2472a8f9d0a\", element=\"f.E1EB49FC6611A56BDD34926A16B877DA.d.14D66F1C4CFACA9952AF783E28EA0977.e.14973\")>,\n",
              " <selenium.webdriver.remote.webelement.WebElement (session=\"69c49e344aa25cb246d4b2472a8f9d0a\", element=\"f.E1EB49FC6611A56BDD34926A16B877DA.d.14D66F1C4CFACA9952AF783E28EA0977.e.15044\")>,\n",
              " <selenium.webdriver.remote.webelement.WebElement (session=\"69c49e344aa25cb246d4b2472a8f9d0a\", element=\"f.E1EB49FC6611A56BDD34926A16B877DA.d.14D66F1C4CFACA9952AF783E28EA0977.e.15121\")>,\n",
              " <selenium.webdriver.remote.webelement.WebElement (session=\"69c49e344aa25cb246d4b2472a8f9d0a\", element=\"f.E1EB49FC6611A56BDD34926A16B877DA.d.14D66F1C4CFACA9952AF783E28EA0977.e.15192\")>,\n",
              " <selenium.webdriver.remote.webelement.WebElement (session=\"69c49e344aa25cb246d4b2472a8f9d0a\", element=\"f.E1EB49FC6611A56BDD34926A16B877DA.d.14D66F1C4CFACA9952AF783E28EA0977.e.15263\")>,\n",
              " <selenium.webdriver.remote.webelement.WebElement (session=\"69c49e344aa25cb246d4b2472a8f9d0a\", element=\"f.E1EB49FC6611A56BDD34926A16B877DA.d.14D66F1C4CFACA9952AF783E28EA0977.e.15334\")>,\n",
              " <selenium.webdriver.remote.webelement.WebElement (session=\"69c49e344aa25cb246d4b2472a8f9d0a\", element=\"f.E1EB49FC6611A56BDD34926A16B877DA.d.14D66F1C4CFACA9952AF783E28EA0977.e.15404\")>,\n",
              " <selenium.webdriver.remote.webelement.WebElement (session=\"69c49e344aa25cb246d4b2472a8f9d0a\", element=\"f.E1EB49FC6611A56BDD34926A16B877DA.d.14D66F1C4CFACA9952AF783E28EA0977.e.15481\")>,\n",
              " <selenium.webdriver.remote.webelement.WebElement (session=\"69c49e344aa25cb246d4b2472a8f9d0a\", element=\"f.E1EB49FC6611A56BDD34926A16B877DA.d.14D66F1C4CFACA9952AF783E28EA0977.e.15562\")>,\n",
              " <selenium.webdriver.remote.webelement.WebElement (session=\"69c49e344aa25cb246d4b2472a8f9d0a\", element=\"f.E1EB49FC6611A56BDD34926A16B877DA.d.14D66F1C4CFACA9952AF783E28EA0977.e.15637\")>,\n",
              " <selenium.webdriver.remote.webelement.WebElement (session=\"69c49e344aa25cb246d4b2472a8f9d0a\", element=\"f.E1EB49FC6611A56BDD34926A16B877DA.d.14D66F1C4CFACA9952AF783E28EA0977.e.15714\")>,\n",
              " <selenium.webdriver.remote.webelement.WebElement (session=\"69c49e344aa25cb246d4b2472a8f9d0a\", element=\"f.E1EB49FC6611A56BDD34926A16B877DA.d.14D66F1C4CFACA9952AF783E28EA0977.e.15791\")>,\n",
              " <selenium.webdriver.remote.webelement.WebElement (session=\"69c49e344aa25cb246d4b2472a8f9d0a\", element=\"f.E1EB49FC6611A56BDD34926A16B877DA.d.14D66F1C4CFACA9952AF783E28EA0977.e.16308\")>,\n",
              " <selenium.webdriver.remote.webelement.WebElement (session=\"69c49e344aa25cb246d4b2472a8f9d0a\", element=\"f.E1EB49FC6611A56BDD34926A16B877DA.d.14D66F1C4CFACA9952AF783E28EA0977.e.16385\")>,\n",
              " <selenium.webdriver.remote.webelement.WebElement (session=\"69c49e344aa25cb246d4b2472a8f9d0a\", element=\"f.E1EB49FC6611A56BDD34926A16B877DA.d.14D66F1C4CFACA9952AF783E28EA0977.e.16456\")>,\n",
              " <selenium.webdriver.remote.webelement.WebElement (session=\"69c49e344aa25cb246d4b2472a8f9d0a\", element=\"f.E1EB49FC6611A56BDD34926A16B877DA.d.14D66F1C4CFACA9952AF783E28EA0977.e.16531\")>,\n",
              " <selenium.webdriver.remote.webelement.WebElement (session=\"69c49e344aa25cb246d4b2472a8f9d0a\", element=\"f.E1EB49FC6611A56BDD34926A16B877DA.d.14D66F1C4CFACA9952AF783E28EA0977.e.16608\")>,\n",
              " <selenium.webdriver.remote.webelement.WebElement (session=\"69c49e344aa25cb246d4b2472a8f9d0a\", element=\"f.E1EB49FC6611A56BDD34926A16B877DA.d.14D66F1C4CFACA9952AF783E28EA0977.e.16689\")>,\n",
              " <selenium.webdriver.remote.webelement.WebElement (session=\"69c49e344aa25cb246d4b2472a8f9d0a\", element=\"f.E1EB49FC6611A56BDD34926A16B877DA.d.14D66F1C4CFACA9952AF783E28EA0977.e.16760\")>,\n",
              " <selenium.webdriver.remote.webelement.WebElement (session=\"69c49e344aa25cb246d4b2472a8f9d0a\", element=\"f.E1EB49FC6611A56BDD34926A16B877DA.d.14D66F1C4CFACA9952AF783E28EA0977.e.16841\")>,\n",
              " <selenium.webdriver.remote.webelement.WebElement (session=\"69c49e344aa25cb246d4b2472a8f9d0a\", element=\"f.E1EB49FC6611A56BDD34926A16B877DA.d.14D66F1C4CFACA9952AF783E28EA0977.e.16918\")>,\n",
              " <selenium.webdriver.remote.webelement.WebElement (session=\"69c49e344aa25cb246d4b2472a8f9d0a\", element=\"f.E1EB49FC6611A56BDD34926A16B877DA.d.14D66F1C4CFACA9952AF783E28EA0977.e.16989\")>,\n",
              " <selenium.webdriver.remote.webelement.WebElement (session=\"69c49e344aa25cb246d4b2472a8f9d0a\", element=\"f.E1EB49FC6611A56BDD34926A16B877DA.d.14D66F1C4CFACA9952AF783E28EA0977.e.17064\")>,\n",
              " <selenium.webdriver.remote.webelement.WebElement (session=\"69c49e344aa25cb246d4b2472a8f9d0a\", element=\"f.E1EB49FC6611A56BDD34926A16B877DA.d.14D66F1C4CFACA9952AF783E28EA0977.e.17141\")>,\n",
              " <selenium.webdriver.remote.webelement.WebElement (session=\"69c49e344aa25cb246d4b2472a8f9d0a\", element=\"f.E1EB49FC6611A56BDD34926A16B877DA.d.14D66F1C4CFACA9952AF783E28EA0977.e.17216\")>,\n",
              " <selenium.webdriver.remote.webelement.WebElement (session=\"69c49e344aa25cb246d4b2472a8f9d0a\", element=\"f.E1EB49FC6611A56BDD34926A16B877DA.d.14D66F1C4CFACA9952AF783E28EA0977.e.17297\")>,\n",
              " <selenium.webdriver.remote.webelement.WebElement (session=\"69c49e344aa25cb246d4b2472a8f9d0a\", element=\"f.E1EB49FC6611A56BDD34926A16B877DA.d.14D66F1C4CFACA9952AF783E28EA0977.e.17374\")>,\n",
              " <selenium.webdriver.remote.webelement.WebElement (session=\"69c49e344aa25cb246d4b2472a8f9d0a\", element=\"f.E1EB49FC6611A56BDD34926A16B877DA.d.14D66F1C4CFACA9952AF783E28EA0977.e.17451\")>,\n",
              " <selenium.webdriver.remote.webelement.WebElement (session=\"69c49e344aa25cb246d4b2472a8f9d0a\", element=\"f.E1EB49FC6611A56BDD34926A16B877DA.d.14D66F1C4CFACA9952AF783E28EA0977.e.17532\")>,\n",
              " <selenium.webdriver.remote.webelement.WebElement (session=\"69c49e344aa25cb246d4b2472a8f9d0a\", element=\"f.E1EB49FC6611A56BDD34926A16B877DA.d.14D66F1C4CFACA9952AF783E28EA0977.e.17609\")>,\n",
              " <selenium.webdriver.remote.webelement.WebElement (session=\"69c49e344aa25cb246d4b2472a8f9d0a\", element=\"f.E1EB49FC6611A56BDD34926A16B877DA.d.14D66F1C4CFACA9952AF783E28EA0977.e.17690\")>,\n",
              " <selenium.webdriver.remote.webelement.WebElement (session=\"69c49e344aa25cb246d4b2472a8f9d0a\", element=\"f.E1EB49FC6611A56BDD34926A16B877DA.d.14D66F1C4CFACA9952AF783E28EA0977.e.17765\")>,\n",
              " <selenium.webdriver.remote.webelement.WebElement (session=\"69c49e344aa25cb246d4b2472a8f9d0a\", element=\"f.E1EB49FC6611A56BDD34926A16B877DA.d.14D66F1C4CFACA9952AF783E28EA0977.e.18226\")>,\n",
              " <selenium.webdriver.remote.webelement.WebElement (session=\"69c49e344aa25cb246d4b2472a8f9d0a\", element=\"f.E1EB49FC6611A56BDD34926A16B877DA.d.14D66F1C4CFACA9952AF783E28EA0977.e.18307\")>,\n",
              " <selenium.webdriver.remote.webelement.WebElement (session=\"69c49e344aa25cb246d4b2472a8f9d0a\", element=\"f.E1EB49FC6611A56BDD34926A16B877DA.d.14D66F1C4CFACA9952AF783E28EA0977.e.18384\")>,\n",
              " <selenium.webdriver.remote.webelement.WebElement (session=\"69c49e344aa25cb246d4b2472a8f9d0a\", element=\"f.E1EB49FC6611A56BDD34926A16B877DA.d.14D66F1C4CFACA9952AF783E28EA0977.e.18455\")>,\n",
              " <selenium.webdriver.remote.webelement.WebElement (session=\"69c49e344aa25cb246d4b2472a8f9d0a\", element=\"f.E1EB49FC6611A56BDD34926A16B877DA.d.14D66F1C4CFACA9952AF783E28EA0977.e.18532\")>,\n",
              " <selenium.webdriver.remote.webelement.WebElement (session=\"69c49e344aa25cb246d4b2472a8f9d0a\", element=\"f.E1EB49FC6611A56BDD34926A16B877DA.d.14D66F1C4CFACA9952AF783E28EA0977.e.18609\")>,\n",
              " <selenium.webdriver.remote.webelement.WebElement (session=\"69c49e344aa25cb246d4b2472a8f9d0a\", element=\"f.E1EB49FC6611A56BDD34926A16B877DA.d.14D66F1C4CFACA9952AF783E28EA0977.e.18684\")>,\n",
              " <selenium.webdriver.remote.webelement.WebElement (session=\"69c49e344aa25cb246d4b2472a8f9d0a\", element=\"f.E1EB49FC6611A56BDD34926A16B877DA.d.14D66F1C4CFACA9952AF783E28EA0977.e.18759\")>,\n",
              " <selenium.webdriver.remote.webelement.WebElement (session=\"69c49e344aa25cb246d4b2472a8f9d0a\", element=\"f.E1EB49FC6611A56BDD34926A16B877DA.d.14D66F1C4CFACA9952AF783E28EA0977.e.18836\")>,\n",
              " <selenium.webdriver.remote.webelement.WebElement (session=\"69c49e344aa25cb246d4b2472a8f9d0a\", element=\"f.E1EB49FC6611A56BDD34926A16B877DA.d.14D66F1C4CFACA9952AF783E28EA0977.e.18913\")>,\n",
              " <selenium.webdriver.remote.webelement.WebElement (session=\"69c49e344aa25cb246d4b2472a8f9d0a\", element=\"f.E1EB49FC6611A56BDD34926A16B877DA.d.14D66F1C4CFACA9952AF783E28EA0977.e.18988\")>,\n",
              " <selenium.webdriver.remote.webelement.WebElement (session=\"69c49e344aa25cb246d4b2472a8f9d0a\", element=\"f.E1EB49FC6611A56BDD34926A16B877DA.d.14D66F1C4CFACA9952AF783E28EA0977.e.19065\")>,\n",
              " <selenium.webdriver.remote.webelement.WebElement (session=\"69c49e344aa25cb246d4b2472a8f9d0a\", element=\"f.E1EB49FC6611A56BDD34926A16B877DA.d.14D66F1C4CFACA9952AF783E28EA0977.e.19136\")>,\n",
              " <selenium.webdriver.remote.webelement.WebElement (session=\"69c49e344aa25cb246d4b2472a8f9d0a\", element=\"f.E1EB49FC6611A56BDD34926A16B877DA.d.14D66F1C4CFACA9952AF783E28EA0977.e.19213\")>,\n",
              " <selenium.webdriver.remote.webelement.WebElement (session=\"69c49e344aa25cb246d4b2472a8f9d0a\", element=\"f.E1EB49FC6611A56BDD34926A16B877DA.d.14D66F1C4CFACA9952AF783E28EA0977.e.19294\")>,\n",
              " <selenium.webdriver.remote.webelement.WebElement (session=\"69c49e344aa25cb246d4b2472a8f9d0a\", element=\"f.E1EB49FC6611A56BDD34926A16B877DA.d.14D66F1C4CFACA9952AF783E28EA0977.e.19375\")>,\n",
              " <selenium.webdriver.remote.webelement.WebElement (session=\"69c49e344aa25cb246d4b2472a8f9d0a\", element=\"f.E1EB49FC6611A56BDD34926A16B877DA.d.14D66F1C4CFACA9952AF783E28EA0977.e.19452\")>,\n",
              " <selenium.webdriver.remote.webelement.WebElement (session=\"69c49e344aa25cb246d4b2472a8f9d0a\", element=\"f.E1EB49FC6611A56BDD34926A16B877DA.d.14D66F1C4CFACA9952AF783E28EA0977.e.19523\")>,\n",
              " <selenium.webdriver.remote.webelement.WebElement (session=\"69c49e344aa25cb246d4b2472a8f9d0a\", element=\"f.E1EB49FC6611A56BDD34926A16B877DA.d.14D66F1C4CFACA9952AF783E28EA0977.e.19594\")>,\n",
              " <selenium.webdriver.remote.webelement.WebElement (session=\"69c49e344aa25cb246d4b2472a8f9d0a\", element=\"f.E1EB49FC6611A56BDD34926A16B877DA.d.14D66F1C4CFACA9952AF783E28EA0977.e.19675\")>,\n",
              " <selenium.webdriver.remote.webelement.WebElement (session=\"69c49e344aa25cb246d4b2472a8f9d0a\", element=\"f.E1EB49FC6611A56BDD34926A16B877DA.d.14D66F1C4CFACA9952AF783E28EA0977.e.20143\")>,\n",
              " <selenium.webdriver.remote.webelement.WebElement (session=\"69c49e344aa25cb246d4b2472a8f9d0a\", element=\"f.E1EB49FC6611A56BDD34926A16B877DA.d.14D66F1C4CFACA9952AF783E28EA0977.e.20214\")>,\n",
              " <selenium.webdriver.remote.webelement.WebElement (session=\"69c49e344aa25cb246d4b2472a8f9d0a\", element=\"f.E1EB49FC6611A56BDD34926A16B877DA.d.14D66F1C4CFACA9952AF783E28EA0977.e.20285\")>,\n",
              " <selenium.webdriver.remote.webelement.WebElement (session=\"69c49e344aa25cb246d4b2472a8f9d0a\", element=\"f.E1EB49FC6611A56BDD34926A16B877DA.d.14D66F1C4CFACA9952AF783E28EA0977.e.20366\")>,\n",
              " <selenium.webdriver.remote.webelement.WebElement (session=\"69c49e344aa25cb246d4b2472a8f9d0a\", element=\"f.E1EB49FC6611A56BDD34926A16B877DA.d.14D66F1C4CFACA9952AF783E28EA0977.e.20443\")>,\n",
              " <selenium.webdriver.remote.webelement.WebElement (session=\"69c49e344aa25cb246d4b2472a8f9d0a\", element=\"f.E1EB49FC6611A56BDD34926A16B877DA.d.14D66F1C4CFACA9952AF783E28EA0977.e.20520\")>,\n",
              " <selenium.webdriver.remote.webelement.WebElement (session=\"69c49e344aa25cb246d4b2472a8f9d0a\", element=\"f.E1EB49FC6611A56BDD34926A16B877DA.d.14D66F1C4CFACA9952AF783E28EA0977.e.20595\")>,\n",
              " <selenium.webdriver.remote.webelement.WebElement (session=\"69c49e344aa25cb246d4b2472a8f9d0a\", element=\"f.E1EB49FC6611A56BDD34926A16B877DA.d.14D66F1C4CFACA9952AF783E28EA0977.e.20672\")>,\n",
              " <selenium.webdriver.remote.webelement.WebElement (session=\"69c49e344aa25cb246d4b2472a8f9d0a\", element=\"f.E1EB49FC6611A56BDD34926A16B877DA.d.14D66F1C4CFACA9952AF783E28EA0977.e.20753\")>,\n",
              " <selenium.webdriver.remote.webelement.WebElement (session=\"69c49e344aa25cb246d4b2472a8f9d0a\", element=\"f.E1EB49FC6611A56BDD34926A16B877DA.d.14D66F1C4CFACA9952AF783E28EA0977.e.20830\")>,\n",
              " <selenium.webdriver.remote.webelement.WebElement (session=\"69c49e344aa25cb246d4b2472a8f9d0a\", element=\"f.E1EB49FC6611A56BDD34926A16B877DA.d.14D66F1C4CFACA9952AF783E28EA0977.e.20901\")>,\n",
              " <selenium.webdriver.remote.webelement.WebElement (session=\"69c49e344aa25cb246d4b2472a8f9d0a\", element=\"f.E1EB49FC6611A56BDD34926A16B877DA.d.14D66F1C4CFACA9952AF783E28EA0977.e.20972\")>,\n",
              " <selenium.webdriver.remote.webelement.WebElement (session=\"69c49e344aa25cb246d4b2472a8f9d0a\", element=\"f.E1EB49FC6611A56BDD34926A16B877DA.d.14D66F1C4CFACA9952AF783E28EA0977.e.21043\")>,\n",
              " <selenium.webdriver.remote.webelement.WebElement (session=\"69c49e344aa25cb246d4b2472a8f9d0a\", element=\"f.E1EB49FC6611A56BDD34926A16B877DA.d.14D66F1C4CFACA9952AF783E28EA0977.e.21114\")>,\n",
              " <selenium.webdriver.remote.webelement.WebElement (session=\"69c49e344aa25cb246d4b2472a8f9d0a\", element=\"f.E1EB49FC6611A56BDD34926A16B877DA.d.14D66F1C4CFACA9952AF783E28EA0977.e.21189\")>,\n",
              " <selenium.webdriver.remote.webelement.WebElement (session=\"69c49e344aa25cb246d4b2472a8f9d0a\", element=\"f.E1EB49FC6611A56BDD34926A16B877DA.d.14D66F1C4CFACA9952AF783E28EA0977.e.21266\")>,\n",
              " <selenium.webdriver.remote.webelement.WebElement (session=\"69c49e344aa25cb246d4b2472a8f9d0a\", element=\"f.E1EB49FC6611A56BDD34926A16B877DA.d.14D66F1C4CFACA9952AF783E28EA0977.e.21343\")>,\n",
              " <selenium.webdriver.remote.webelement.WebElement (session=\"69c49e344aa25cb246d4b2472a8f9d0a\", element=\"f.E1EB49FC6611A56BDD34926A16B877DA.d.14D66F1C4CFACA9952AF783E28EA0977.e.21420\")>,\n",
              " <selenium.webdriver.remote.webelement.WebElement (session=\"69c49e344aa25cb246d4b2472a8f9d0a\", element=\"f.E1EB49FC6611A56BDD34926A16B877DA.d.14D66F1C4CFACA9952AF783E28EA0977.e.21497\")>,\n",
              " <selenium.webdriver.remote.webelement.WebElement (session=\"69c49e344aa25cb246d4b2472a8f9d0a\", element=\"f.E1EB49FC6611A56BDD34926A16B877DA.d.14D66F1C4CFACA9952AF783E28EA0977.e.21574\")>,\n",
              " <selenium.webdriver.remote.webelement.WebElement (session=\"69c49e344aa25cb246d4b2472a8f9d0a\", element=\"f.E1EB49FC6611A56BDD34926A16B877DA.d.14D66F1C4CFACA9952AF783E28EA0977.e.22032\")>,\n",
              " <selenium.webdriver.remote.webelement.WebElement (session=\"69c49e344aa25cb246d4b2472a8f9d0a\", element=\"f.E1EB49FC6611A56BDD34926A16B877DA.d.14D66F1C4CFACA9952AF783E28EA0977.e.22103\")>,\n",
              " <selenium.webdriver.remote.webelement.WebElement (session=\"69c49e344aa25cb246d4b2472a8f9d0a\", element=\"f.E1EB49FC6611A56BDD34926A16B877DA.d.14D66F1C4CFACA9952AF783E28EA0977.e.22174\")>,\n",
              " <selenium.webdriver.remote.webelement.WebElement (session=\"69c49e344aa25cb246d4b2472a8f9d0a\", element=\"f.E1EB49FC6611A56BDD34926A16B877DA.d.14D66F1C4CFACA9952AF783E28EA0977.e.22255\")>,\n",
              " <selenium.webdriver.remote.webelement.WebElement (session=\"69c49e344aa25cb246d4b2472a8f9d0a\", element=\"f.E1EB49FC6611A56BDD34926A16B877DA.d.14D66F1C4CFACA9952AF783E28EA0977.e.22336\")>,\n",
              " <selenium.webdriver.remote.webelement.WebElement (session=\"69c49e344aa25cb246d4b2472a8f9d0a\", element=\"f.E1EB49FC6611A56BDD34926A16B877DA.d.14D66F1C4CFACA9952AF783E28EA0977.e.22413\")>,\n",
              " <selenium.webdriver.remote.webelement.WebElement (session=\"69c49e344aa25cb246d4b2472a8f9d0a\", element=\"f.E1EB49FC6611A56BDD34926A16B877DA.d.14D66F1C4CFACA9952AF783E28EA0977.e.22490\")>,\n",
              " <selenium.webdriver.remote.webelement.WebElement (session=\"69c49e344aa25cb246d4b2472a8f9d0a\", element=\"f.E1EB49FC6611A56BDD34926A16B877DA.d.14D66F1C4CFACA9952AF783E28EA0977.e.22561\")>,\n",
              " <selenium.webdriver.remote.webelement.WebElement (session=\"69c49e344aa25cb246d4b2472a8f9d0a\", element=\"f.E1EB49FC6611A56BDD34926A16B877DA.d.14D66F1C4CFACA9952AF783E28EA0977.e.22632\")>,\n",
              " <selenium.webdriver.remote.webelement.WebElement (session=\"69c49e344aa25cb246d4b2472a8f9d0a\", element=\"f.E1EB49FC6611A56BDD34926A16B877DA.d.14D66F1C4CFACA9952AF783E28EA0977.e.22703\")>,\n",
              " <selenium.webdriver.remote.webelement.WebElement (session=\"69c49e344aa25cb246d4b2472a8f9d0a\", element=\"f.E1EB49FC6611A56BDD34926A16B877DA.d.14D66F1C4CFACA9952AF783E28EA0977.e.22774\")>,\n",
              " <selenium.webdriver.remote.webelement.WebElement (session=\"69c49e344aa25cb246d4b2472a8f9d0a\", element=\"f.E1EB49FC6611A56BDD34926A16B877DA.d.14D66F1C4CFACA9952AF783E28EA0977.e.22845\")>,\n",
              " <selenium.webdriver.remote.webelement.WebElement (session=\"69c49e344aa25cb246d4b2472a8f9d0a\", element=\"f.E1EB49FC6611A56BDD34926A16B877DA.d.14D66F1C4CFACA9952AF783E28EA0977.e.22922\")>,\n",
              " <selenium.webdriver.remote.webelement.WebElement (session=\"69c49e344aa25cb246d4b2472a8f9d0a\", element=\"f.E1EB49FC6611A56BDD34926A16B877DA.d.14D66F1C4CFACA9952AF783E28EA0977.e.22999\")>,\n",
              " <selenium.webdriver.remote.webelement.WebElement (session=\"69c49e344aa25cb246d4b2472a8f9d0a\", element=\"f.E1EB49FC6611A56BDD34926A16B877DA.d.14D66F1C4CFACA9952AF783E28EA0977.e.23076\")>,\n",
              " <selenium.webdriver.remote.webelement.WebElement (session=\"69c49e344aa25cb246d4b2472a8f9d0a\", element=\"f.E1EB49FC6611A56BDD34926A16B877DA.d.14D66F1C4CFACA9952AF783E28EA0977.e.23153\")>,\n",
              " <selenium.webdriver.remote.webelement.WebElement (session=\"69c49e344aa25cb246d4b2472a8f9d0a\", element=\"f.E1EB49FC6611A56BDD34926A16B877DA.d.14D66F1C4CFACA9952AF783E28EA0977.e.23230\")>,\n",
              " <selenium.webdriver.remote.webelement.WebElement (session=\"69c49e344aa25cb246d4b2472a8f9d0a\", element=\"f.E1EB49FC6611A56BDD34926A16B877DA.d.14D66F1C4CFACA9952AF783E28EA0977.e.23301\")>,\n",
              " <selenium.webdriver.remote.webelement.WebElement (session=\"69c49e344aa25cb246d4b2472a8f9d0a\", element=\"f.E1EB49FC6611A56BDD34926A16B877DA.d.14D66F1C4CFACA9952AF783E28EA0977.e.23378\")>,\n",
              " <selenium.webdriver.remote.webelement.WebElement (session=\"69c49e344aa25cb246d4b2472a8f9d0a\", element=\"f.E1EB49FC6611A56BDD34926A16B877DA.d.14D66F1C4CFACA9952AF783E28EA0977.e.23449\")>,\n",
              " <selenium.webdriver.remote.webelement.WebElement (session=\"69c49e344aa25cb246d4b2472a8f9d0a\", element=\"f.E1EB49FC6611A56BDD34926A16B877DA.d.14D66F1C4CFACA9952AF783E28EA0977.e.23905\")>,\n",
              " <selenium.webdriver.remote.webelement.WebElement (session=\"69c49e344aa25cb246d4b2472a8f9d0a\", element=\"f.E1EB49FC6611A56BDD34926A16B877DA.d.14D66F1C4CFACA9952AF783E28EA0977.e.23976\")>,\n",
              " <selenium.webdriver.remote.webelement.WebElement (session=\"69c49e344aa25cb246d4b2472a8f9d0a\", element=\"f.E1EB49FC6611A56BDD34926A16B877DA.d.14D66F1C4CFACA9952AF783E28EA0977.e.24047\")>,\n",
              " <selenium.webdriver.remote.webelement.WebElement (session=\"69c49e344aa25cb246d4b2472a8f9d0a\", element=\"f.E1EB49FC6611A56BDD34926A16B877DA.d.14D66F1C4CFACA9952AF783E28EA0977.e.24118\")>,\n",
              " <selenium.webdriver.remote.webelement.WebElement (session=\"69c49e344aa25cb246d4b2472a8f9d0a\", element=\"f.E1EB49FC6611A56BDD34926A16B877DA.d.14D66F1C4CFACA9952AF783E28EA0977.e.24189\")>,\n",
              " <selenium.webdriver.remote.webelement.WebElement (session=\"69c49e344aa25cb246d4b2472a8f9d0a\", element=\"f.E1EB49FC6611A56BDD34926A16B877DA.d.14D66F1C4CFACA9952AF783E28EA0977.e.24270\")>,\n",
              " <selenium.webdriver.remote.webelement.WebElement (session=\"69c49e344aa25cb246d4b2472a8f9d0a\", element=\"f.E1EB49FC6611A56BDD34926A16B877DA.d.14D66F1C4CFACA9952AF783E28EA0977.e.24347\")>,\n",
              " <selenium.webdriver.remote.webelement.WebElement (session=\"69c49e344aa25cb246d4b2472a8f9d0a\", element=\"f.E1EB49FC6611A56BDD34926A16B877DA.d.14D66F1C4CFACA9952AF783E28EA0977.e.24422\")>,\n",
              " <selenium.webdriver.remote.webelement.WebElement (session=\"69c49e344aa25cb246d4b2472a8f9d0a\", element=\"f.E1EB49FC6611A56BDD34926A16B877DA.d.14D66F1C4CFACA9952AF783E28EA0977.e.24493\")>,\n",
              " <selenium.webdriver.remote.webelement.WebElement (session=\"69c49e344aa25cb246d4b2472a8f9d0a\", element=\"f.E1EB49FC6611A56BDD34926A16B877DA.d.14D66F1C4CFACA9952AF783E28EA0977.e.24568\")>,\n",
              " <selenium.webdriver.remote.webelement.WebElement (session=\"69c49e344aa25cb246d4b2472a8f9d0a\", element=\"f.E1EB49FC6611A56BDD34926A16B877DA.d.14D66F1C4CFACA9952AF783E28EA0977.e.24643\")>,\n",
              " <selenium.webdriver.remote.webelement.WebElement (session=\"69c49e344aa25cb246d4b2472a8f9d0a\", element=\"f.E1EB49FC6611A56BDD34926A16B877DA.d.14D66F1C4CFACA9952AF783E28EA0977.e.24714\")>,\n",
              " <selenium.webdriver.remote.webelement.WebElement (session=\"69c49e344aa25cb246d4b2472a8f9d0a\", element=\"f.E1EB49FC6611A56BDD34926A16B877DA.d.14D66F1C4CFACA9952AF783E28EA0977.e.24785\")>,\n",
              " <selenium.webdriver.remote.webelement.WebElement (session=\"69c49e344aa25cb246d4b2472a8f9d0a\", element=\"f.E1EB49FC6611A56BDD34926A16B877DA.d.14D66F1C4CFACA9952AF783E28EA0977.e.24856\")>,\n",
              " <selenium.webdriver.remote.webelement.WebElement (session=\"69c49e344aa25cb246d4b2472a8f9d0a\", element=\"f.E1EB49FC6611A56BDD34926A16B877DA.d.14D66F1C4CFACA9952AF783E28EA0977.e.24927\")>,\n",
              " <selenium.webdriver.remote.webelement.WebElement (session=\"69c49e344aa25cb246d4b2472a8f9d0a\", element=\"f.E1EB49FC6611A56BDD34926A16B877DA.d.14D66F1C4CFACA9952AF783E28EA0977.e.25008\")>,\n",
              " <selenium.webdriver.remote.webelement.WebElement (session=\"69c49e344aa25cb246d4b2472a8f9d0a\", element=\"f.E1EB49FC6611A56BDD34926A16B877DA.d.14D66F1C4CFACA9952AF783E28EA0977.e.25083\")>,\n",
              " <selenium.webdriver.remote.webelement.WebElement (session=\"69c49e344aa25cb246d4b2472a8f9d0a\", element=\"f.E1EB49FC6611A56BDD34926A16B877DA.d.14D66F1C4CFACA9952AF783E28EA0977.e.25160\")>,\n",
              " <selenium.webdriver.remote.webelement.WebElement (session=\"69c49e344aa25cb246d4b2472a8f9d0a\", element=\"f.E1EB49FC6611A56BDD34926A16B877DA.d.14D66F1C4CFACA9952AF783E28EA0977.e.25235\")>,\n",
              " <selenium.webdriver.remote.webelement.WebElement (session=\"69c49e344aa25cb246d4b2472a8f9d0a\", element=\"f.E1EB49FC6611A56BDD34926A16B877DA.d.14D66F1C4CFACA9952AF783E28EA0977.e.25312\")>,\n",
              " <selenium.webdriver.remote.webelement.WebElement (session=\"69c49e344aa25cb246d4b2472a8f9d0a\", element=\"f.E1EB49FC6611A56BDD34926A16B877DA.d.14D66F1C4CFACA9952AF783E28EA0977.e.25746\")>,\n",
              " <selenium.webdriver.remote.webelement.WebElement (session=\"69c49e344aa25cb246d4b2472a8f9d0a\", element=\"f.E1EB49FC6611A56BDD34926A16B877DA.d.14D66F1C4CFACA9952AF783E28EA0977.e.25821\")>,\n",
              " <selenium.webdriver.remote.webelement.WebElement (session=\"69c49e344aa25cb246d4b2472a8f9d0a\", element=\"f.E1EB49FC6611A56BDD34926A16B877DA.d.14D66F1C4CFACA9952AF783E28EA0977.e.25898\")>,\n",
              " <selenium.webdriver.remote.webelement.WebElement (session=\"69c49e344aa25cb246d4b2472a8f9d0a\", element=\"f.E1EB49FC6611A56BDD34926A16B877DA.d.14D66F1C4CFACA9952AF783E28EA0977.e.25975\")>,\n",
              " <selenium.webdriver.remote.webelement.WebElement (session=\"69c49e344aa25cb246d4b2472a8f9d0a\", element=\"f.E1EB49FC6611A56BDD34926A16B877DA.d.14D66F1C4CFACA9952AF783E28EA0977.e.26051\")>,\n",
              " <selenium.webdriver.remote.webelement.WebElement (session=\"69c49e344aa25cb246d4b2472a8f9d0a\", element=\"f.E1EB49FC6611A56BDD34926A16B877DA.d.14D66F1C4CFACA9952AF783E28EA0977.e.26122\")>,\n",
              " <selenium.webdriver.remote.webelement.WebElement (session=\"69c49e344aa25cb246d4b2472a8f9d0a\", element=\"f.E1EB49FC6611A56BDD34926A16B877DA.d.14D66F1C4CFACA9952AF783E28EA0977.e.26193\")>,\n",
              " <selenium.webdriver.remote.webelement.WebElement (session=\"69c49e344aa25cb246d4b2472a8f9d0a\", element=\"f.E1EB49FC6611A56BDD34926A16B877DA.d.14D66F1C4CFACA9952AF783E28EA0977.e.26268\")>,\n",
              " <selenium.webdriver.remote.webelement.WebElement (session=\"69c49e344aa25cb246d4b2472a8f9d0a\", element=\"f.E1EB49FC6611A56BDD34926A16B877DA.d.14D66F1C4CFACA9952AF783E28EA0977.e.26343\")>,\n",
              " <selenium.webdriver.remote.webelement.WebElement (session=\"69c49e344aa25cb246d4b2472a8f9d0a\", element=\"f.E1EB49FC6611A56BDD34926A16B877DA.d.14D66F1C4CFACA9952AF783E28EA0977.e.26420\")>,\n",
              " <selenium.webdriver.remote.webelement.WebElement (session=\"69c49e344aa25cb246d4b2472a8f9d0a\", element=\"f.E1EB49FC6611A56BDD34926A16B877DA.d.14D66F1C4CFACA9952AF783E28EA0977.e.26491\")>,\n",
              " <selenium.webdriver.remote.webelement.WebElement (session=\"69c49e344aa25cb246d4b2472a8f9d0a\", element=\"f.E1EB49FC6611A56BDD34926A16B877DA.d.14D66F1C4CFACA9952AF783E28EA0977.e.26568\")>,\n",
              " <selenium.webdriver.remote.webelement.WebElement (session=\"69c49e344aa25cb246d4b2472a8f9d0a\", element=\"f.E1EB49FC6611A56BDD34926A16B877DA.d.14D66F1C4CFACA9952AF783E28EA0977.e.26645\")>,\n",
              " <selenium.webdriver.remote.webelement.WebElement (session=\"69c49e344aa25cb246d4b2472a8f9d0a\", element=\"f.E1EB49FC6611A56BDD34926A16B877DA.d.14D66F1C4CFACA9952AF783E28EA0977.e.26720\")>,\n",
              " <selenium.webdriver.remote.webelement.WebElement (session=\"69c49e344aa25cb246d4b2472a8f9d0a\", element=\"f.E1EB49FC6611A56BDD34926A16B877DA.d.14D66F1C4CFACA9952AF783E28EA0977.e.26801\")>,\n",
              " <selenium.webdriver.remote.webelement.WebElement (session=\"69c49e344aa25cb246d4b2472a8f9d0a\", element=\"f.E1EB49FC6611A56BDD34926A16B877DA.d.14D66F1C4CFACA9952AF783E28EA0977.e.26882\")>,\n",
              " <selenium.webdriver.remote.webelement.WebElement (session=\"69c49e344aa25cb246d4b2472a8f9d0a\", element=\"f.E1EB49FC6611A56BDD34926A16B877DA.d.14D66F1C4CFACA9952AF783E28EA0977.e.26963\")>,\n",
              " <selenium.webdriver.remote.webelement.WebElement (session=\"69c49e344aa25cb246d4b2472a8f9d0a\", element=\"f.E1EB49FC6611A56BDD34926A16B877DA.d.14D66F1C4CFACA9952AF783E28EA0977.e.27034\")>,\n",
              " <selenium.webdriver.remote.webelement.WebElement (session=\"69c49e344aa25cb246d4b2472a8f9d0a\", element=\"f.E1EB49FC6611A56BDD34926A16B877DA.d.14D66F1C4CFACA9952AF783E28EA0977.e.27115\")>,\n",
              " <selenium.webdriver.remote.webelement.WebElement (session=\"69c49e344aa25cb246d4b2472a8f9d0a\", element=\"f.E1EB49FC6611A56BDD34926A16B877DA.d.14D66F1C4CFACA9952AF783E28EA0977.e.27192\")>,\n",
              " <selenium.webdriver.remote.webelement.WebElement (session=\"69c49e344aa25cb246d4b2472a8f9d0a\", element=\"f.E1EB49FC6611A56BDD34926A16B877DA.d.14D66F1C4CFACA9952AF783E28EA0977.e.27650\")>,\n",
              " <selenium.webdriver.remote.webelement.WebElement (session=\"69c49e344aa25cb246d4b2472a8f9d0a\", element=\"f.E1EB49FC6611A56BDD34926A16B877DA.d.14D66F1C4CFACA9952AF783E28EA0977.e.27721\")>,\n",
              " <selenium.webdriver.remote.webelement.WebElement (session=\"69c49e344aa25cb246d4b2472a8f9d0a\", element=\"f.E1EB49FC6611A56BDD34926A16B877DA.d.14D66F1C4CFACA9952AF783E28EA0977.e.27792\")>,\n",
              " <selenium.webdriver.remote.webelement.WebElement (session=\"69c49e344aa25cb246d4b2472a8f9d0a\", element=\"f.E1EB49FC6611A56BDD34926A16B877DA.d.14D66F1C4CFACA9952AF783E28EA0977.e.27863\")>,\n",
              " <selenium.webdriver.remote.webelement.WebElement (session=\"69c49e344aa25cb246d4b2472a8f9d0a\", element=\"f.E1EB49FC6611A56BDD34926A16B877DA.d.14D66F1C4CFACA9952AF783E28EA0977.e.27940\")>,\n",
              " <selenium.webdriver.remote.webelement.WebElement (session=\"69c49e344aa25cb246d4b2472a8f9d0a\", element=\"f.E1EB49FC6611A56BDD34926A16B877DA.d.14D66F1C4CFACA9952AF783E28EA0977.e.28017\")>,\n",
              " <selenium.webdriver.remote.webelement.WebElement (session=\"69c49e344aa25cb246d4b2472a8f9d0a\", element=\"f.E1EB49FC6611A56BDD34926A16B877DA.d.14D66F1C4CFACA9952AF783E28EA0977.e.28092\")>,\n",
              " <selenium.webdriver.remote.webelement.WebElement (session=\"69c49e344aa25cb246d4b2472a8f9d0a\", element=\"f.E1EB49FC6611A56BDD34926A16B877DA.d.14D66F1C4CFACA9952AF783E28EA0977.e.28163\")>,\n",
              " <selenium.webdriver.remote.webelement.WebElement (session=\"69c49e344aa25cb246d4b2472a8f9d0a\", element=\"f.E1EB49FC6611A56BDD34926A16B877DA.d.14D66F1C4CFACA9952AF783E28EA0977.e.28238\")>,\n",
              " <selenium.webdriver.remote.webelement.WebElement (session=\"69c49e344aa25cb246d4b2472a8f9d0a\", element=\"f.E1EB49FC6611A56BDD34926A16B877DA.d.14D66F1C4CFACA9952AF783E28EA0977.e.28315\")>,\n",
              " <selenium.webdriver.remote.webelement.WebElement (session=\"69c49e344aa25cb246d4b2472a8f9d0a\", element=\"f.E1EB49FC6611A56BDD34926A16B877DA.d.14D66F1C4CFACA9952AF783E28EA0977.e.28396\")>,\n",
              " <selenium.webdriver.remote.webelement.WebElement (session=\"69c49e344aa25cb246d4b2472a8f9d0a\", element=\"f.E1EB49FC6611A56BDD34926A16B877DA.d.14D66F1C4CFACA9952AF783E28EA0977.e.28471\")>,\n",
              " <selenium.webdriver.remote.webelement.WebElement (session=\"69c49e344aa25cb246d4b2472a8f9d0a\", element=\"f.E1EB49FC6611A56BDD34926A16B877DA.d.14D66F1C4CFACA9952AF783E28EA0977.e.28546\")>,\n",
              " <selenium.webdriver.remote.webelement.WebElement (session=\"69c49e344aa25cb246d4b2472a8f9d0a\", element=\"f.E1EB49FC6611A56BDD34926A16B877DA.d.14D66F1C4CFACA9952AF783E28EA0977.e.28621\")>,\n",
              " <selenium.webdriver.remote.webelement.WebElement (session=\"69c49e344aa25cb246d4b2472a8f9d0a\", element=\"f.E1EB49FC6611A56BDD34926A16B877DA.d.14D66F1C4CFACA9952AF783E28EA0977.e.28698\")>,\n",
              " <selenium.webdriver.remote.webelement.WebElement (session=\"69c49e344aa25cb246d4b2472a8f9d0a\", element=\"f.E1EB49FC6611A56BDD34926A16B877DA.d.14D66F1C4CFACA9952AF783E28EA0977.e.28773\")>,\n",
              " <selenium.webdriver.remote.webelement.WebElement (session=\"69c49e344aa25cb246d4b2472a8f9d0a\", element=\"f.E1EB49FC6611A56BDD34926A16B877DA.d.14D66F1C4CFACA9952AF783E28EA0977.e.28854\")>,\n",
              " <selenium.webdriver.remote.webelement.WebElement (session=\"69c49e344aa25cb246d4b2472a8f9d0a\", element=\"f.E1EB49FC6611A56BDD34926A16B877DA.d.14D66F1C4CFACA9952AF783E28EA0977.e.28931\")>,\n",
              " <selenium.webdriver.remote.webelement.WebElement (session=\"69c49e344aa25cb246d4b2472a8f9d0a\", element=\"f.E1EB49FC6611A56BDD34926A16B877DA.d.14D66F1C4CFACA9952AF783E28EA0977.e.29002\")>,\n",
              " <selenium.webdriver.remote.webelement.WebElement (session=\"69c49e344aa25cb246d4b2472a8f9d0a\", element=\"f.E1EB49FC6611A56BDD34926A16B877DA.d.14D66F1C4CFACA9952AF783E28EA0977.e.29077\")>,\n",
              " <selenium.webdriver.remote.webelement.WebElement (session=\"69c49e344aa25cb246d4b2472a8f9d0a\", element=\"f.E1EB49FC6611A56BDD34926A16B877DA.d.14D66F1C4CFACA9952AF783E28EA0977.e.29527\")>,\n",
              " <selenium.webdriver.remote.webelement.WebElement (session=\"69c49e344aa25cb246d4b2472a8f9d0a\", element=\"f.E1EB49FC6611A56BDD34926A16B877DA.d.14D66F1C4CFACA9952AF783E28EA0977.e.29598\")>,\n",
              " <selenium.webdriver.remote.webelement.WebElement (session=\"69c49e344aa25cb246d4b2472a8f9d0a\", element=\"f.E1EB49FC6611A56BDD34926A16B877DA.d.14D66F1C4CFACA9952AF783E28EA0977.e.29669\")>,\n",
              " <selenium.webdriver.remote.webelement.WebElement (session=\"69c49e344aa25cb246d4b2472a8f9d0a\", element=\"f.E1EB49FC6611A56BDD34926A16B877DA.d.14D66F1C4CFACA9952AF783E28EA0977.e.29744\")>,\n",
              " <selenium.webdriver.remote.webelement.WebElement (session=\"69c49e344aa25cb246d4b2472a8f9d0a\", element=\"f.E1EB49FC6611A56BDD34926A16B877DA.d.14D66F1C4CFACA9952AF783E28EA0977.e.29821\")>,\n",
              " <selenium.webdriver.remote.webelement.WebElement (session=\"69c49e344aa25cb246d4b2472a8f9d0a\", element=\"f.E1EB49FC6611A56BDD34926A16B877DA.d.14D66F1C4CFACA9952AF783E28EA0977.e.29896\")>,\n",
              " <selenium.webdriver.remote.webelement.WebElement (session=\"69c49e344aa25cb246d4b2472a8f9d0a\", element=\"f.E1EB49FC6611A56BDD34926A16B877DA.d.14D66F1C4CFACA9952AF783E28EA0977.e.29967\")>,\n",
              " <selenium.webdriver.remote.webelement.WebElement (session=\"69c49e344aa25cb246d4b2472a8f9d0a\", element=\"f.E1EB49FC6611A56BDD34926A16B877DA.d.14D66F1C4CFACA9952AF783E28EA0977.e.30038\")>,\n",
              " <selenium.webdriver.remote.webelement.WebElement (session=\"69c49e344aa25cb246d4b2472a8f9d0a\", element=\"f.E1EB49FC6611A56BDD34926A16B877DA.d.14D66F1C4CFACA9952AF783E28EA0977.e.30109\")>,\n",
              " <selenium.webdriver.remote.webelement.WebElement (session=\"69c49e344aa25cb246d4b2472a8f9d0a\", element=\"f.E1EB49FC6611A56BDD34926A16B877DA.d.14D66F1C4CFACA9952AF783E28EA0977.e.30184\")>,\n",
              " <selenium.webdriver.remote.webelement.WebElement (session=\"69c49e344aa25cb246d4b2472a8f9d0a\", element=\"f.E1EB49FC6611A56BDD34926A16B877DA.d.14D66F1C4CFACA9952AF783E28EA0977.e.30255\")>,\n",
              " <selenium.webdriver.remote.webelement.WebElement (session=\"69c49e344aa25cb246d4b2472a8f9d0a\", element=\"f.E1EB49FC6611A56BDD34926A16B877DA.d.14D66F1C4CFACA9952AF783E28EA0977.e.30336\")>,\n",
              " <selenium.webdriver.remote.webelement.WebElement (session=\"69c49e344aa25cb246d4b2472a8f9d0a\", element=\"f.E1EB49FC6611A56BDD34926A16B877DA.d.14D66F1C4CFACA9952AF783E28EA0977.e.30413\")>,\n",
              " <selenium.webdriver.remote.webelement.WebElement (session=\"69c49e344aa25cb246d4b2472a8f9d0a\", element=\"f.E1EB49FC6611A56BDD34926A16B877DA.d.14D66F1C4CFACA9952AF783E28EA0977.e.30488\")>,\n",
              " <selenium.webdriver.remote.webelement.WebElement (session=\"69c49e344aa25cb246d4b2472a8f9d0a\", element=\"f.E1EB49FC6611A56BDD34926A16B877DA.d.14D66F1C4CFACA9952AF783E28EA0977.e.30565\")>,\n",
              " <selenium.webdriver.remote.webelement.WebElement (session=\"69c49e344aa25cb246d4b2472a8f9d0a\", element=\"f.E1EB49FC6611A56BDD34926A16B877DA.d.14D66F1C4CFACA9952AF783E28EA0977.e.30636\")>,\n",
              " <selenium.webdriver.remote.webelement.WebElement (session=\"69c49e344aa25cb246d4b2472a8f9d0a\", element=\"f.E1EB49FC6611A56BDD34926A16B877DA.d.14D66F1C4CFACA9952AF783E28EA0977.e.30713\")>,\n",
              " <selenium.webdriver.remote.webelement.WebElement (session=\"69c49e344aa25cb246d4b2472a8f9d0a\", element=\"f.E1EB49FC6611A56BDD34926A16B877DA.d.14D66F1C4CFACA9952AF783E28EA0977.e.30790\")>,\n",
              " <selenium.webdriver.remote.webelement.WebElement (session=\"69c49e344aa25cb246d4b2472a8f9d0a\", element=\"f.E1EB49FC6611A56BDD34926A16B877DA.d.14D66F1C4CFACA9952AF783E28EA0977.e.30861\")>,\n",
              " <selenium.webdriver.remote.webelement.WebElement (session=\"69c49e344aa25cb246d4b2472a8f9d0a\", element=\"f.E1EB49FC6611A56BDD34926A16B877DA.d.14D66F1C4CFACA9952AF783E28EA0977.e.30932\")>,\n",
              " <selenium.webdriver.remote.webelement.WebElement (session=\"69c49e344aa25cb246d4b2472a8f9d0a\", element=\"f.E1EB49FC6611A56BDD34926A16B877DA.d.14D66F1C4CFACA9952AF783E28EA0977.e.31362\")>,\n",
              " <selenium.webdriver.remote.webelement.WebElement (session=\"69c49e344aa25cb246d4b2472a8f9d0a\", element=\"f.E1EB49FC6611A56BDD34926A16B877DA.d.14D66F1C4CFACA9952AF783E28EA0977.e.31437\")>,\n",
              " <selenium.webdriver.remote.webelement.WebElement (session=\"69c49e344aa25cb246d4b2472a8f9d0a\", element=\"f.E1EB49FC6611A56BDD34926A16B877DA.d.14D66F1C4CFACA9952AF783E28EA0977.e.31518\")>,\n",
              " <selenium.webdriver.remote.webelement.WebElement (session=\"69c49e344aa25cb246d4b2472a8f9d0a\", element=\"f.E1EB49FC6611A56BDD34926A16B877DA.d.14D66F1C4CFACA9952AF783E28EA0977.e.31595\")>,\n",
              " <selenium.webdriver.remote.webelement.WebElement (session=\"69c49e344aa25cb246d4b2472a8f9d0a\", element=\"f.E1EB49FC6611A56BDD34926A16B877DA.d.14D66F1C4CFACA9952AF783E28EA0977.e.31672\")>,\n",
              " <selenium.webdriver.remote.webelement.WebElement (session=\"69c49e344aa25cb246d4b2472a8f9d0a\", element=\"f.E1EB49FC6611A56BDD34926A16B877DA.d.14D66F1C4CFACA9952AF783E28EA0977.e.31753\")>,\n",
              " <selenium.webdriver.remote.webelement.WebElement (session=\"69c49e344aa25cb246d4b2472a8f9d0a\", element=\"f.E1EB49FC6611A56BDD34926A16B877DA.d.14D66F1C4CFACA9952AF783E28EA0977.e.31824\")>,\n",
              " <selenium.webdriver.remote.webelement.WebElement (session=\"69c49e344aa25cb246d4b2472a8f9d0a\", element=\"f.E1EB49FC6611A56BDD34926A16B877DA.d.14D66F1C4CFACA9952AF783E28EA0977.e.31901\")>,\n",
              " <selenium.webdriver.remote.webelement.WebElement (session=\"69c49e344aa25cb246d4b2472a8f9d0a\", element=\"f.E1EB49FC6611A56BDD34926A16B877DA.d.14D66F1C4CFACA9952AF783E28EA0977.e.31972\")>,\n",
              " <selenium.webdriver.remote.webelement.WebElement (session=\"69c49e344aa25cb246d4b2472a8f9d0a\", element=\"f.E1EB49FC6611A56BDD34926A16B877DA.d.14D66F1C4CFACA9952AF783E28EA0977.e.32043\")>,\n",
              " <selenium.webdriver.remote.webelement.WebElement (session=\"69c49e344aa25cb246d4b2472a8f9d0a\", element=\"f.E1EB49FC6611A56BDD34926A16B877DA.d.14D66F1C4CFACA9952AF783E28EA0977.e.32114\")>,\n",
              " <selenium.webdriver.remote.webelement.WebElement (session=\"69c49e344aa25cb246d4b2472a8f9d0a\", element=\"f.E1EB49FC6611A56BDD34926A16B877DA.d.14D66F1C4CFACA9952AF783E28EA0977.e.32189\")>,\n",
              " <selenium.webdriver.remote.webelement.WebElement (session=\"69c49e344aa25cb246d4b2472a8f9d0a\", element=\"f.E1EB49FC6611A56BDD34926A16B877DA.d.14D66F1C4CFACA9952AF783E28EA0977.e.32260\")>,\n",
              " <selenium.webdriver.remote.webelement.WebElement (session=\"69c49e344aa25cb246d4b2472a8f9d0a\", element=\"f.E1EB49FC6611A56BDD34926A16B877DA.d.14D66F1C4CFACA9952AF783E28EA0977.e.32331\")>,\n",
              " <selenium.webdriver.remote.webelement.WebElement (session=\"69c49e344aa25cb246d4b2472a8f9d0a\", element=\"f.E1EB49FC6611A56BDD34926A16B877DA.d.14D66F1C4CFACA9952AF783E28EA0977.e.32412\")>,\n",
              " <selenium.webdriver.remote.webelement.WebElement (session=\"69c49e344aa25cb246d4b2472a8f9d0a\", element=\"f.E1EB49FC6611A56BDD34926A16B877DA.d.14D66F1C4CFACA9952AF783E28EA0977.e.32493\")>,\n",
              " <selenium.webdriver.remote.webelement.WebElement (session=\"69c49e344aa25cb246d4b2472a8f9d0a\", element=\"f.E1EB49FC6611A56BDD34926A16B877DA.d.14D66F1C4CFACA9952AF783E28EA0977.e.32568\")>,\n",
              " <selenium.webdriver.remote.webelement.WebElement (session=\"69c49e344aa25cb246d4b2472a8f9d0a\", element=\"f.E1EB49FC6611A56BDD34926A16B877DA.d.14D66F1C4CFACA9952AF783E28EA0977.e.32639\")>,\n",
              " <selenium.webdriver.remote.webelement.WebElement (session=\"69c49e344aa25cb246d4b2472a8f9d0a\", element=\"f.E1EB49FC6611A56BDD34926A16B877DA.d.14D66F1C4CFACA9952AF783E28EA0977.e.32714\")>,\n",
              " <selenium.webdriver.remote.webelement.WebElement (session=\"69c49e344aa25cb246d4b2472a8f9d0a\", element=\"f.E1EB49FC6611A56BDD34926A16B877DA.d.14D66F1C4CFACA9952AF783E28EA0977.e.32785\")>,\n",
              " <selenium.webdriver.remote.webelement.WebElement (session=\"69c49e344aa25cb246d4b2472a8f9d0a\", element=\"f.E1EB49FC6611A56BDD34926A16B877DA.d.14D66F1C4CFACA9952AF783E28EA0977.e.33234\")>,\n",
              " <selenium.webdriver.remote.webelement.WebElement (session=\"69c49e344aa25cb246d4b2472a8f9d0a\", element=\"f.E1EB49FC6611A56BDD34926A16B877DA.d.14D66F1C4CFACA9952AF783E28EA0977.e.33311\")>,\n",
              " <selenium.webdriver.remote.webelement.WebElement (session=\"69c49e344aa25cb246d4b2472a8f9d0a\", element=\"f.E1EB49FC6611A56BDD34926A16B877DA.d.14D66F1C4CFACA9952AF783E28EA0977.e.33386\")>,\n",
              " <selenium.webdriver.remote.webelement.WebElement (session=\"69c49e344aa25cb246d4b2472a8f9d0a\", element=\"f.E1EB49FC6611A56BDD34926A16B877DA.d.14D66F1C4CFACA9952AF783E28EA0977.e.33463\")>,\n",
              " <selenium.webdriver.remote.webelement.WebElement (session=\"69c49e344aa25cb246d4b2472a8f9d0a\", element=\"f.E1EB49FC6611A56BDD34926A16B877DA.d.14D66F1C4CFACA9952AF783E28EA0977.e.33540\")>,\n",
              " <selenium.webdriver.remote.webelement.WebElement (session=\"69c49e344aa25cb246d4b2472a8f9d0a\", element=\"f.E1EB49FC6611A56BDD34926A16B877DA.d.14D66F1C4CFACA9952AF783E28EA0977.e.33611\")>,\n",
              " <selenium.webdriver.remote.webelement.WebElement (session=\"69c49e344aa25cb246d4b2472a8f9d0a\", element=\"f.E1EB49FC6611A56BDD34926A16B877DA.d.14D66F1C4CFACA9952AF783E28EA0977.e.33686\")>,\n",
              " <selenium.webdriver.remote.webelement.WebElement (session=\"69c49e344aa25cb246d4b2472a8f9d0a\", element=\"f.E1EB49FC6611A56BDD34926A16B877DA.d.14D66F1C4CFACA9952AF783E28EA0977.e.33767\")>,\n",
              " <selenium.webdriver.remote.webelement.WebElement (session=\"69c49e344aa25cb246d4b2472a8f9d0a\", element=\"f.E1EB49FC6611A56BDD34926A16B877DA.d.14D66F1C4CFACA9952AF783E28EA0977.e.33844\")>,\n",
              " <selenium.webdriver.remote.webelement.WebElement (session=\"69c49e344aa25cb246d4b2472a8f9d0a\", element=\"f.E1EB49FC6611A56BDD34926A16B877DA.d.14D66F1C4CFACA9952AF783E28EA0977.e.33925\")>,\n",
              " <selenium.webdriver.remote.webelement.WebElement (session=\"69c49e344aa25cb246d4b2472a8f9d0a\", element=\"f.E1EB49FC6611A56BDD34926A16B877DA.d.14D66F1C4CFACA9952AF783E28EA0977.e.33996\")>,\n",
              " <selenium.webdriver.remote.webelement.WebElement (session=\"69c49e344aa25cb246d4b2472a8f9d0a\", element=\"f.E1EB49FC6611A56BDD34926A16B877DA.d.14D66F1C4CFACA9952AF783E28EA0977.e.34073\")>,\n",
              " <selenium.webdriver.remote.webelement.WebElement (session=\"69c49e344aa25cb246d4b2472a8f9d0a\", element=\"f.E1EB49FC6611A56BDD34926A16B877DA.d.14D66F1C4CFACA9952AF783E28EA0977.e.34147\")>,\n",
              " <selenium.webdriver.remote.webelement.WebElement (session=\"69c49e344aa25cb246d4b2472a8f9d0a\", element=\"f.E1EB49FC6611A56BDD34926A16B877DA.d.14D66F1C4CFACA9952AF783E28EA0977.e.34224\")>,\n",
              " <selenium.webdriver.remote.webelement.WebElement (session=\"69c49e344aa25cb246d4b2472a8f9d0a\", element=\"f.E1EB49FC6611A56BDD34926A16B877DA.d.14D66F1C4CFACA9952AF783E28EA0977.e.34299\")>,\n",
              " <selenium.webdriver.remote.webelement.WebElement (session=\"69c49e344aa25cb246d4b2472a8f9d0a\", element=\"f.E1EB49FC6611A56BDD34926A16B877DA.d.14D66F1C4CFACA9952AF783E28EA0977.e.34376\")>,\n",
              " <selenium.webdriver.remote.webelement.WebElement (session=\"69c49e344aa25cb246d4b2472a8f9d0a\", element=\"f.E1EB49FC6611A56BDD34926A16B877DA.d.14D66F1C4CFACA9952AF783E28EA0977.e.34456\")>,\n",
              " <selenium.webdriver.remote.webelement.WebElement (session=\"69c49e344aa25cb246d4b2472a8f9d0a\", element=\"f.E1EB49FC6611A56BDD34926A16B877DA.d.14D66F1C4CFACA9952AF783E28EA0977.e.34533\")>,\n",
              " <selenium.webdriver.remote.webelement.WebElement (session=\"69c49e344aa25cb246d4b2472a8f9d0a\", element=\"f.E1EB49FC6611A56BDD34926A16B877DA.d.14D66F1C4CFACA9952AF783E28EA0977.e.34609\")>,\n",
              " <selenium.webdriver.remote.webelement.WebElement (session=\"69c49e344aa25cb246d4b2472a8f9d0a\", element=\"f.E1EB49FC6611A56BDD34926A16B877DA.d.14D66F1C4CFACA9952AF783E28EA0977.e.34683\")>]"
            ]
          },
          "execution_count": 13,
          "metadata": {},
          "output_type": "execute_result"
        }
      ],
      "source": [
        "# CSS_SELECTOR활용\n",
        "texts = driver.find_elements(By.CSS_SELECTOR, 'div.h3YV2d')\n",
        "texts"
      ]
    },
    {
      "cell_type": "markdown",
      "id": "de17dd56-1d4e-4a1a-bfdd-33094276be16",
      "metadata": {
        "id": "de17dd56-1d4e-4a1a-bfdd-33094276be16"
      },
      "source": [
        "> `find_elements`는 찾은 여러개의 요소 객체를 리스트로 반환하기 때문에 for문을 사용하여 최종 데이터를 가져옴"
      ]
    },
    {
      "cell_type": "code",
      "execution_count": 14,
      "id": "76e20692-b521-45dd-bbd5-80c31e58c8dd",
      "metadata": {
        "id": "76e20692-b521-45dd-bbd5-80c31e58c8dd",
        "outputId": "bccc017b-42ff-405f-9542-cfa80c43f5c4",
        "scrolled": true
      },
      "outputs": [
        {
          "name": "stdout",
          "output_type": "stream",
          "text": [
            "요증 업뎃하고 당근을 잘 사용하고 있습니다. 특히 ai 도움으로 사진만 올리면 내용들이 알아서 적히고 추가 필요한 글만 적으면 되니 유용하게 잘 쓰고 있습니다. 다만 한가지 부탁드리고 싶은 점이 있습니다. 판매글보고 뒤로 가려다가 채팅하기가 잘못 눌렸는데 ai로 너무 잘되다보니 제가 거래를 위해 누른 것처럼 글이 전송되고 있습니다. 그러다 서로에게 오해만 쌓일 것 같습니다. 이런 부분의 단점을 보완하기 위해 채팅버튼을 눌렀을 때 거래 의사 있는지 확인하는 확인창 하나만 있으면 잘못 눌리는 경우가 많이 줄어들 것 같고 서로에 대한 오해와 불신이 감소할 것입니다.\n",
            "판매중인 물건에다가 안녕하세요 관심있어요 대화걸기 기능 너무 불필요합니다 구매자들의 찔러보기가 너무 심하고, 구매가능한가요? 라는 문장도 아니고, 관심있어요 라고 보내면 뭐 어쩌란건가요. 그 뒤로 불필요한 대화가 오가야해서 구매가능한가요? 또는, 거래 가능한가요? 이런걸로 바꿔주세요 아니면 이 기능 없애주세요 잘못 눌렀다는 사람도 많아요\n",
            "ai 채팅기능? 게시글에서 채팅 바로 보내는 새로 생긴 그 기능 채팅 설정에서 쓸 사람들만 쓰고 안 쓸 사람들은 안 쓰게 on/off 기능 생겼으면 좋겠어요. 뒤로 가기 누르다가 잘못 눌러서 채팅 보내지는게 몇 번째인지. 솔직히 좀 짜증납니다.\n",
            "요증 업뎃하고 당근을 잘 사용하고 있습니다. 특히 ai 도움으로 사진만 올리면 내용들이 알아서 적히고 추가 필요한 글만 적으면 되니 유용하게 잘 쓰고 있습니다. 다만 한가지 부탁드리고 싶은 점이 있습니다. 판매글보고 뒤로 가려다가 채팅하기가 잘못 눌렸는데 ai로 너무 잘되다보니 제가 거래를 위해 누른 것처럼 글이 전송되고 있습니다. 그러다 서로에게 오해만 쌓일 것 같습니다. 이런 부분의 단점을 보완하기 위해 채팅버튼을 눌렀을 때 거래 의사 있는지 확인하는 확인창 하나만 있으면 잘못 눌리는 경우가 많이 줄어들 것 같고 서로에 대한 오해와 불신이 감소할 것입니다.\n",
            "판매중인 물건에다가 안녕하세요 관심있어요 대화걸기 기능 너무 불필요합니다 구매자들의 찔러보기가 너무 심하고, 구매가능한가요? 라는 문장도 아니고, 관심있어요 라고 보내면 뭐 어쩌란건가요. 그 뒤로 불필요한 대화가 오가야해서 구매가능한가요? 또는, 거래 가능한가요? 이런걸로 바꿔주세요 아니면 이 기능 없애주세요 잘못 눌렀다는 사람도 많아요\n",
            "ai 채팅기능? 게시글에서 채팅 바로 보내는 새로 생긴 그 기능 채팅 설정에서 쓸 사람들만 쓰고 안 쓸 사람들은 안 쓰게 on/off 기능 생겼으면 좋겠어요. 뒤로 가기 누르다가 잘못 눌러서 채팅 보내지는게 몇 번째인지. 솔직히 좀 짜증납니다.\n",
            "일단 서비스운영자체 팀이나 인원이 있는지 의문임. 고객센터 연락처는 커녕 사람이 없음. 그저 AI로 대응. 이것도 그나마 아주 최근에 생긴거고 그전에는 문제생기면 답변까지가 2~3일이 기본임. 문제 해결이 아니라 답변만 그정도걸리는것. 그리고 자기네 정책을 안지키면 거의 범죄자 취급함. 제재 5년 먹어서 사실상 영구정지 먹었다는분들 글 찾아보면 수두룩함. 판매자로 거래중에 엉뚱하게 정책위반 몰려서 채팅못해서 사기꾼될뻔한 경험도 있음. 하지만 위에서 말한것처럼 서비스센터 연락처, 사람 없어서 해결이 안됨. 계속 문의해서 따지면 더이상 답변이 불가능하다고 못박아버림. 그리고 갑자기 제재가 풀려있음. 보니까 지들 시스템 오류였다고 미안하다고 알림 보내는게 끝. 유료서비스는 엄청 만들어놓고 서비스센터는 대응 귀찮으니 계속 안만들고 있는게 레전드. 이딴앱은, 회사는 망하게 해야합니다. 저는 불편해도 중고나라, 번개장터씁니다. 이딴 쓰레기 회사는 건강정신에 해롭습니다.\n",
            "1. 제가 상품권판매를 부정하게 한 것도 아니고, 영화티켓 '나눔'글을 올렸을 뿐인데 왜 신고를 먹어야하나요? 해당 영화 티켓을 나눔하고싶고 나눔또한 당근 내의 좋은 문화인데 돈을 받고 대리예매를 해준 경우도 아니고 나눔티켓을 이용할 사람의 상영지점,시간,좌석을 원하는대로 맞춰주려 나눔신청자와 상의 후 예매하고 순수하게 나눔만 했을 뿐인데. 대체 이 게 누구에게 어떤 피해가 가길래 신고대상인가요? 잘 쓰고있던 당근에 납득하기 어려운 부분이라 이용할 마음이 확 떨어지네요. 상식적으로 납득 가능한 명분이라도 안내해주시죠? 과연 있을까요 2. 찜리스트에서 '거래완료'된 상품은 일괄삭제가 가능하면 좋겠네요. 어렵지 않을 기능인데 왜 없는지 신기하네요 3. 간간히 채팅알림이 오지 않음. 그래서 한참 뒤에 확인하게되는 경우가 종종 있는데, 그런 오류 없게 고쳐주시면 좋겠네요. 이 현상을 겪은지가 꽤 오래됐어요. 모든 거래가 채팅으로 이루어지는데 채팅알림이 종종 안 온다는건 큰 에러사항이죠\n",
            "당근 예전에 가입한 기억이 있었는데 지금 다시 설치해서 보니 29년까지 이용 금지라 뜹니다. 가입 후 단 한 번도 거래나 글 하나 써본적도 없었는데 왜 제한이 걸리죠? 제한 사유 같은 아무 메세지도 없고, 억울하게 잠긴거면 제한 풀 수 있는 설정이라도 만들어 놔야지 그대로 나가지는게 끝... 시작도 안 했는데 입구에서부터 느껴지는 이 신박한 운영 방식에 박수가 절로 나오네요\n",
            "다른 모 중고거래 어플과는 다르게 수수료 필수가 아니어서 너무 좋아요! 이왕 이렇게 된 거 전국 거래 기능도 추가해주시면 더 많은 사람들이 편하게 사용할것같은데ㅠㅠ 당근 측에서도 수익을 더 올릴 수 있을텐데 회사 측에서 동네 거래만 고집하는게 아쉽네요. 최근 업데이트 후 한가지 개선되었으면 좋겠는 사항이 있습니다. 최근 생긴 만보기 기능을 사용하면 폰 알림창에 만보기 알림이 떠있잖아요. 그 만보기 알림때문에 당근마켓에서 온 다른 알림이 하나도 없는데도 당근마켓 어플 아이콘에 알림1이 계속 표시되어있습니다. 그게 너무 거슬려요... 다른 앱에서는 만보기 기능 알림창이 떠있어도 앱 아이콘 옆에 숫자로는 안 뜨던데ㅠㅠ 빠른 시일 내에 개선되었으면 좋겠습니다. 참고로 갤럭시 유저입니다.\n",
            "250925 추가: 검색결과에서 원래 좌우 스와이프로 통합, 중고거래 등 탭을 넘길 수 있었는데 업데이트하면서 빠지고 무조건 탭을 터치해야만 넘어가게 개악되었네요. 빼달라는 건 안 빼고 잘 쓰던건 빼버리고... 새로 바뀐 UI 중 채팅을 바로 보내는 기능이 생겨서 너무 불편합니다. 상품 구경하고 있다가 실수로 채팅보내는 일이 자주 생깁니다. 새벽에 강제로 보내져놓고 새벽에 보내는 채팅은 실례가 될 수 있다는 알림을 띄우면 뭐합니까. 이미 의도치 않게 보내져서 민폐를 끼쳤는데.\n",
            "당근 잘쓰고 있는데 최근 한가지 추가기능 퀵쳇이라는 기능 때문에 ..찜하트 누르다가 손가락 실수로 자동으로 띄워져있는 문자 쳇을 보내게 되서 너무 불편해요..어제 또 쳇이 보내져서 상대방이 안읽어서 바로 삭제했음에도 결국 욕(비난)까지 얻어먹어먹고 신고당했네요.. 그전에도 퀵쳇 기능때문에 실수 쳇보내져서 상대방이 읽어 바로 사과했는데 이건뭐 판매글 구경을 신경곧두서면서 해야되는 상황까지 됐네요\n",
            "일단 당근 사용해본결과 많은 사람들이 지적하는 AI도입된후 똑같은 무한 답변의 굴레가 문제 많다고 느껴집니다. 그리고 거래중에 판매자와의 문제로 인해 거래취소 할때 소통에서 판매자가 먼저 인신공격을 하여 맞대응 한것뿐인데 당근운영자는 신고를 한 구매자만 이용정지 시키는점에 대해서도 문제가 많다고 생각합니다 [판매자-구매자 동시 이용정지를 하는게 아니라 구매자만 정지시킴] 전체적인 내용을 검토하지 않고 왜 한사람만 일방적으로 정지시키나요? 심지어 내용캡쳐후 문의하기 남겨도 똑같은 답변은 진짜 큰 문제라고 생각합니다.\n",
            "앱 내에서 모든 알림 확인했고 최신버전인데 당근앱 숫자1 표시가 사라지지않아 문의를 넣으려고 하는데 앱 내 고객센터에서는 ai 만 있고 심지어 그 ai 선택지 중에 위와 같은 항목은 아예 없어서 불편하네요 무슨 고객센터를 이런식으로 운영하나요 ai qna로 해결 못하는 건은 메일로 문의하기나 1대1 문의가 가능해야하는거 아니에요? 그렇게 못할거면 왜 고객센터가 있는지 의문입니다\n",
            "\"동일상품이나 유사상품을 짧은 기간에 반복적으로 올리는 행위\"를 하지 않.았.는.데.도. 전문판매업자로 갑자기 분류되어 한 달 이용정지 당하는건 도대체 어떤 상황이고 무슨 기준인가요? 저 기준에 해당하지 않는데도 그냥 묻지도 따지지도 않고 제재 풀어줄 수 없다는 똑같은 AI형태의 답변만 오고 선량한 개인 사용자인지 제대로 살펴보지도 않는 고객센터는 언제 개선이 되나요?\n",
            "0.1점 없나요? 이용제한을 너무 쉽게 주시는 것 같은데 신고하기로 눌러도 전문판매업자들 휴대폰20대씩 컴퓨터 10대씩 올리는 건 제재안하고 개개인이 집에 있는 전자기기들 올리는 건 정지시키다니.. 이런 경우가 한 둘이 아닌 것 같은데 빨리 다른 플랫폼이 생겨서 잡아먹혔으면 좋겠습니다.\n",
            "잘 사용하던앱이 갑자기 어제부터 내물건 등록할때 이미지 등록버튼을 누르면 이미지 목록을 보여주지못하고 튕겨나갑니다 다른 기능은 모두 정상인데 이미지 등록만 안되서 판매글을 못쓰고 있어요 가만히두면 배터리 광탈까지 되구요 갤럭시s10 유저이고 다른 앱들은 이상이 없는데 확인부탁드립니다\n",
            "그동안 당근 너무 잘쓰고 있었는데 요근래 문장 자동완성 기능때문에 큰 불편을 겪고 있어요 그동안 불편한게 없었는데 도대체 이건 왜 만들었는지 전혀 이해가 안 되네요 요즘 이사때문에 정리할 물건들이 많아서 당근에 많이 올리고 있는데 실수인 건지 잘못 오는 문자가 하루에도 두세 통씩 됩니다 분명 자동 문자 기능이고 제가 답변을 하면 그쪽에선 답이 없어요. 아마 실수로 누른 거겠죠. 왜 이런 걸 만들었는지 정말 불편하네요. 예전처럼 돌려주시던가 개선 부탁드려요\n",
            "판매글을 올리면 게시글이 30초도 안돼서 미노출 처리됩니다. 왜 게시글이 미노출 처리되냐고 당근에 문의를 해도 며칠이 지나도 답변을 하지 않아요. 제재 내역을 확인해 보면 자동화된 방식(비정상 앱 사용 등)으로 게시글을 반복적으로 올려서 미노줄 처리되었다고 합니다. 올린 게시글의 수가 3일에 10개도 안되고 게시글도 휴대폰으로 직접 사진 촬영해서 하나하나 올리고 있는데 무슨 자동화된 방식으로 게시글을 반복적으로 올렸다고 미노출 처리를 하나요? 앱도 쓰레기고 회사 운영 방식도 쓰레기 같아요.\n",
            "검색(돋보기) 화면과 모든 메뉴의 화면이 터치하면 검은색 화면이떠요. 앱을 지우고 다시 깔아도 동일증상입니다. 왜 이러는지 알려주세요. (오류 해결한 방법) 캐쉬삭제 -> 동일한 오류증상/ 앱 삭제후 재설치(동일증상)->전원 껐다 켬->오류 해결됨\n",
            "25/10 수정해 주셨네요. 감사드립니다 ㅡㅡㅡㅡㅡㅡㅡㅡㅡㅡㅡㅡ 카톡보다 더한 그지같은 업댓. 왜 챗을 미리 입력해놔서 실수로 자꾸 눌려져 상호간 불편하게 만드는건지 정 미리 입력해 놓고 싶음 최초 채팅 시작은 이대로 보낼까요? 한번 컨펌받고 최종 전송되게 하던가.. 다들 불편하다는데 안바꾸는 고집은 존경합니다 진짜 생각이란걸 좀 하고 만듭시다!!\n",
            "잘 사용 중인데 한 가지 기능만 더 있으면 좋을 것 같아요. 본인 물건 내에서 검색하는 기능이 있으면 좋겠습니다. 물건이 많아서 등록을 했었는지 안 했었는지 헷갈리는 문제가 있더라고요. 생기면 정말 편리해질 것 같아요.\n",
            "사기 이용제한이라고 해서 글 남깁니다. 채팅 내용 캡쳐해서 올립니다. 전 판매자고요. 상대는 구매자입니다. 지난 추석때 구매자가 구매한다고 하였고 연휴라 구매자가 13일 월요일에 구매가능하다해서 구매자가 먼저 일부금액 입금 제안하여 판매금액 30만원 중 네고하여 29만원에 판매하기로 하고 3만원 예약금 받았습니다. 남은 26만원은 거래 장소에서 만나서 주기로 하였습니다. 그러던 중 전문판매업자라고 이용제한되었고 기존 채팅은 이용가능하나 11월 15시50분경 일하고 있어서 10분정도 연락을 늦게 봤습니다. 그러고 전화로 얘기하고 싶다고하여 전화번호 알려드렸고 12일 밤에 올수 있다고하여 12일 밤에 만나서 거래하기로 했습니다. 10분 연락늦게 봤다고 사기 의심이라고 5년 정지가 말이되나요? 고작 3만원때문에? 매크로 답변하지마시고요. 빠른 답변해주세요.\n",
            "최소한 제재를 할 거면 최종검토는 사람이 직접 해야 하지 않을까 싶습니다? 완벽하지도 않은 ai를 남용하시는 것 같네요. 문제도 없는데 갑자기 시정하란 경고도 없이 5년 정지 제재받아서 매우 황당하고 불편합니다. 또 문의는 왜 이렇게 하기가 힘든가요? 문의하기가 제출이 아예 안되고, 고객센터 전화번호는 기재된 것이 없고, 문의하기로만 불편사항 받을 거면 문의하기 서비스라도 잘 되어있어야 하지 않나요? 제발 개선 좀 해주시기 바랍니다. 당근페이 빼고 여러모로 불편한 게 많습니다. 알람을 당근이고 폰설정이고 다 켜뒀는데 채팅알람이 제때 안 오는 건 기본이고, 당신근처 취지는 알지만 사용자 니즈랑 동떨어진 취지고요, 비매랑 사기는 못잡는데 일반이용자는 ai제재 먹이고요. 갈수록 짜증나는 서비스입니다 + 현재 문의 27일만에 답 옴\n",
            "동네 설정할 때 나오는 주황색으로 된 거리가 닿는 동네 범위가 업데이트 한 후에 표시가 안됩니다 당근의 없어선 안될 기능인데 업데이트가 불편하고 이해할 수 없네요 알바 검색도 일부 공고글이 노출이 안되는 경우가 있습니다. 나중에 보면 올라온지 하루 지났는데 그전에 검색했을 땐 노출이 안됐거든요. 확인 바랍니다. 그리고 텍스트 필터링 되는 것 수정 바랍니다 알바 지원하는데 숫자, 성별 등이 *** 이런 식으로 필터링 되어 기본적인 내용 확인도 불가한 어려움이 있습니다 이건 당근 알바 이용하는데 어려움이 있네요 고생 많으십니다\n",
            "당근 앱을 정말 잘 사용하고 있는 유저로서 대부분 만족스럽지만, 최근 업데이트 후 조금 불편한 점이 있어 리뷰 써봅니다. 1. 판매글을 쓸 때 AI를 이용해서 자동으로 글 쓰는 기능을 원하지 않는데 가끔 자동으로 선택될 때가 있어 글을 다 지우고 다시 써야 할 때가 있습니다. 판매글 쓸 때 AI로 글쓰기 기능이 자동으로 선택되는 점은 수정해주셨으면 좋겠습니다. 2. 원래 '채팅하기'가 있던 곳과 비슷한 위치에 '보내기'가 있어 이전 화면으로 돌아가려다 실수로 채팅을 보내버릴 위험이 높아졌습니다. 아직까지 실수를 하지는 않았지만 이전 화면으로 돌아갈 때마다 불안해서 물건 구경하기 조심스러워진 건 사실입니다. 이 점도 꼭 개선해주시면 좋겠습니다. 위의 단점들만 제외하면 AI가 시세를 보여주면서 가격을 제안하거나 자동으로 키워드를 제시해주는 등 장점도 있습니다. 덕분에 참고하면서 유용하게 잘 쓰고 있습니다.\n",
            "1. AI와 대화하기 싫어( 고객센터는 아예 AI가 나와 ) 요기에 글 남김.!! 2. 오늘 웬종일 똑같은 상품만 뜨는 오류!! ㅠㅠ 한사간 후, 2시간후에 들어가봐도 ( 첫 화면에) 계속 같은 상품만 뜨는 이유가 뭔가요?? 이러니 요즘엔 거래가 더 안되는거 같고..ㅠㅠ ( 왜냐하면 다른 분들도 저 처럼 실망하고 바로 나가버릴테니.) 3. 빠른 개선 조치 부탁드립니다.\n",
            "중고거래 글 밑에 자동으로 \"안녕하세요, 구매가능할까요?\"같은 채팅보내는 버튼 잘못 누르는 경우가 많아서 불편합니다. 고객센터에 말하려니까 Ai로 바뀌었네요? 그리고 Ai로 자동 글쓰는거 끄게 하고 싶은데 자꾸 지멋대로 문장써서 불편해요. 이상한 기능 좀 다시 제발 없애주세요. 말할 때가 여기밖에 없어서 글 남겨요.\n",
            "본인들이 사용하다가 중고로 판매하는 거다. 어떤 상태인지 도무지 알 수 없고 교환 및 환불도 되지 않는데도 문의를 하지 말라고 한다. 🤔 어이없는 경우다. 중고 판매 가격대도 어이없는 시세로 판매한다. 양심이 없다. 설명조차 성의없는 경우도 많다.\n",
            "잘 사용하고 있습니다. 근데 오래 사용하다가 느끼는 점이 문고리 거래 사기나 대면 거래에서 갑자기 나오지 않는 등 사전에 대처가 불가능하고 사기를 당해야만 그 이용자가 제재를 받는 시스템 이라 안 좋아요. 약속장소에 나오지 않더라도 사기가 아니면 몇 시간 이후에는 정지가 풀리더라고요. 대부분의 거래는 잘 이루어지지만 이런 경험이 점점 쌓일수록 신뢰가 떨어지고 있어요.\n",
            "별한개도 주기 싫을 정도입니다. 어느날 갑자기 제가 작성한 모든 게시물이 다른 사람들에게 안보여요. 문의하니 AI가 무한반복 같은 소리만 하네요. 제재도 없었고 이유도 모릅니다. 앱다시 깔고. 계정로그아웃 로그인 앱캐시삭제 등등 열번도 더 했는데 그대로네요. 넘 스트레스 받아서 차라리 계정을 없애는게 나을거같아요. 앱이 불안정하고 시스템이 완벽하지 않으면, 고객센터에 최소한 소수라도 상담원이 있어야 하지 않을까요?\n",
            "무한으로 광고를 즐겨요! 중고거래 앱인데 중고물품 4개마다 1개의 광고가 무조건 나옴. 심지어 중고물품의 비중인 4개 중 알바, 가게 광고가 포함이 되어 목록이 구성됨 또한 다들 살기 팍팍해졌는지 괜찮은 매물의 비중은 거의 없으며 기존 가격보다 오히려 비싼 매물이 올라옴(호구잡이가 많다) 몇번 당하고 보다보니 사기전 무조건 검색을 해야하며 하나하나 검색을 해도 괜찮은 매물이 아니기 때문에 차라리 그냥 정가 구매하는게 낫다\n",
            "당근 알바배너 알림 관해서 말씀드립니다. 제가 \"차단하기\" 한 사용자나, \"이 사용자의 글 보지 않기\" 누르면 알림이 안와야되는 거 아닌가요? 특정 사람의 알바공고를 보기 싫어서 차단해도 계속 알림오고 글이 보이네요. 매번 올려대는 한두사람의 알바공고 보기싫다고 겹치는 알바배너 알림을 전부 끌 수도 없는 노릇인데 정말 불편합니다.\n",
            "상대방이 채팅했을 때 알림이 오지 않거나 느리게 오는 경우가 부지기수입니다. 이것 때문에 약속이 엇갈리거나 오해 산 경우가 한두 번이 아닙니다. 왜 유독 당근마켓 채팅만 이러는지 모르겠습니다. 앱설정, 핸드폰 자체 설정에서 모든 알림 허용해 놓은 상태고, 지금 사용하는 기종은 노트10+입니다\n",
            "비즈프로필 상품판매탭이 없어서 중고게시글에 상품판매글을 올렸는데 광고비 들여서 비즈프로필 광고를 할때는 아무제재없다가 광고를 안하니까 제제됨되고 상담좀 하려고 했더니 앵무새마냥 똑같은말만 반복하는 AI밖에 없네요 광고비 쓸때는 돈받으니 괜찮고 광고안하니까 정지시키는거 좀 기업이 할짓인가 싶네요\n",
            "계정 탈취,사기의심된다고 갑자기 계정정지 시킴. 고객센터에 이유 물어봐도 정확한 답변 안해주고 그냥 운영방침이니까 나도 해줄수없다 나몰라시전. 제재사유를 정확히 안내해주지도 않고, 확인 제대로 하지않고 그냥 기분 내키는대로 계정 정지시키는곳 같음. 내가 사기를 쳐? 계정 탈취해? 정확한 이유라도 좀 알려주면 납득하는데 그런거 없음. 그냥 운영방침이라하고 넘어감.\n",
            "당근 찐애용자입니다!! 실사용 경험에서 몇 가지 기능이 추가됐으면해서 제안드려요 1.프로필에 자기소개 문구 추가하는 기능 사람 자체의 거래성향을 간략히 소개하는 칸이 있으면 좋을 것 같아요. (ex. 화장품 교환 신청 받고있습니다, 네고 사양합니다 등) . 각 매물마다 쓰면 글이 길어지는 단점이 있고, 추가되는 요청사항들이 생기는 경우 모두 수정해야하는 불편함이 있습니다요...ㅠ 2.글 일괄 수정하는 기능 자주 쓰는 문구 기능을 써도 일일이 눌러서 반택,거래위치 문구 수정하는 것도 번거롭고 안내사항, 거래 방식을 일일이 눌러서 수정해야하는 상황이 넘 막막해요ㅠㅠ 젭알 추가부탁드려요 3. 미리 채팅하기 기능 없애주세요 잘못 누르는 사람들이 많아요 4. 거래매물 아래에 문의사항을 댓글 형식으로 공개하는 기능 같은 질문하는 당근러들 중복되면 매번 거래채팅보내기 귀찮아요.간단한 문의사항(유통기한,브랜드,사용횟수 등)은 댓글로 다같이 볼 수 있으면 편할것같네요\n",
            "소유중인 컨테이너 올림 딱 한 번 올렸는데 5년 이용 정지시킴 다른 사람들은 컨테이너 거래 잘만하던데 왜 정지가 됐는지 물어봐도 명확한 답변도 주지 않음, 체계라는게 있는지 의문. 동네 구멍가게도 주먹구구식으로 이따위로 일처리 안함 왜 정지됐는지 명백한 답변ㄱ, AI로 앵무새 같이 복붙하지 말고, 성의가 없네.\n",
            "오랜기간 자주는 아니어도 가끔씩 사용하면서 잘 쓰고 있었는데 최근들어 구매 문의를 하고 답장이 없거나 약속을 잡고나서 구매의사가 없어졌는지 갑자기 차단을 한다거나 구매하는거 맞냐 물어도 아무런 대답 없이 취소하는 경우가 많아졌는데 이런 사용자들 때문에 전보다 판매하기가 굉장히 까다로워졌습니다 갑자기 예약이 취소되거나 채팅수가 많은데 판매되지 않은 물건에 대해서 하자가 있다는 편견이 생기기 마련이고 판매자도 심리적 타격을 입을수 밖에 없어서요 이런 행동을 반복하는 사용자들의 응답률과 매너온도도 나쁘지 않아서 비매너를 판단할 수 있는 지표마저 객관성이 없어졌는데 해당 문제 개선이 시급해보입니다 최근들어 당근에 대해서 안좋은 기억만 쌓이고 있어요\n",
            "동네걷기 동의 했더니 계속 알림 상단에 만보기가 떠서 너무 거슬리고 귀찮아서 지워도 걸으면 또 뜨고 불편해서 동의 풀었는데 왜 계속 뜨나요? 밧데리만 더 먹게시리 안뜨게 하는 방법 알려주세요 . ------------- 9월20일 토요일. !!!어플 지우고 다시 깔앗는덷ㆍㄷ 상황 알림판에 원치도 않읏 걸음 수가 나옵니다. 그런데 정확하지 않아요. 하루종일 집에만 있었는데 6700보. 핸드폰은 160보인데. 코딩 좀 잘 했음 좋겠어요 귀찮게 말고\n",
            "이유도 안알려주고 멋대로 계정 정지함. 이유 확인해보니 자기들이 전산상 오류 있어서 실수로 한거임. 온도 안돌려줌. 몇달 째 문의하기로 주고받는데 속터짐. 이럴거면 고객센터 운영을 하든지 뭐 문의 남기면 며칠만에 답장오는데 전에 했던 말 반복. 정지 풀었다고 하는데, 그럼 되는데 제가 안된다고 문의를 할까요? 당연히 안되니까 문의하지 하..\n",
            "정책이 너무 그지같음. 고객응대 전화하나없이 문의하기에 매크로 복붙 빠른채팅 개선요망. 제재하기 운영진이 때리면 그냥 수긍해야함. 제재품목이 게시글로 올라가서 장기노출 후 누적된 신고내용으로 제재하는 방식인듯. 운영약관을 안 읽어본것도 문제겠으나, 게시글신고가 누적되는 중간시점에 시정요청을 해야지 그냥 누적되면 이용금지 떠버림. 게임타이틀에 청소년 이용불가가 있다고 며칠간 노출시키다가 갑자기 정지를 맥인다? 청소년이용금지 미디어가 음란물도 아닌 레데리, 라오어 이딴건데 어이가없어서ㅋㅋㅋ 아니나다를까 한소리 하러들왔는데 댓글이 가관인데ㅋㅋㅋㅋ 빠른채팅을 3초누르면 보내는걸로 바꾸라고. 구매자판매자도 불편한 상황을 왜만드는데? 그 많은 당근직원중엔 그생각 하는사람 없음? 진짜 운영 뭣같이한다\n",
            "어이가 없네.\u0000. 가입후 판매 약 110건 완료했고 온도 52도 넘김 근데 갑자기 이용제제 시키더니 이유가 쓰던 번호로 사기 신고 들어온적있다고 25년 6월18일 신고 나는 6월27일가입함 이때까지 판매 110건과 온도52도 받으면서 사기1도 안치고 거래잘했는데 어이없게 제제 시켜버리네 쫌 재대로 확인하고 제제 시키던가 그냥 막무가내 로 제제 시키네 ㅋ 이용가치 1도 없음\n",
            "채팅 자동 생성.. 채팅 보내기? 자동으로 입력하는 기능 좀 없애주던가 아니면 글을 정말 보내시겠냐고 물어보는 기능을 추가하던가 할 수 없을까요? 당근에 이상한 사람들 생각보다 정말 많아서요. 판매하려고 글을 올려놨는데 채팅에 \"안녕하세요. 구매 가능할까요?\" 만 누르고 사라집니다. ㅡㅡ 한두 명도 아니고 하루에 몇 명씩... 일일이 다 대답해줘도 답은 없고... 진짜 너무 피곤해요. ㅠㅠㅠ ㅡㅡㅡㅡㅡㅡㅡㅡ>> 그리고, \"구매 가능하세요! 직거래랑 택배 원하시는 거래 방식 알려주세요\" 하면 택배예약이 자동으로 뜨는데 이게 채팅 마지막에 남아있어서 택배 거래 하라는 줄 알고 그런가.. 미리 읽고 제 내용은 보지도 않아요.. 이런 자동 설정이 있기 전엔 사람들이 저런 벨튀 같은 행동은 안했는데 .. 많아도 너무 많아요. 대책이 시급합니다ㅠㅠ ㅡㅡㅡㅡㅡㅡㅡㅡㅡㅡㅡㅡㅡㅡㅡ>> 마지막으로, 매너온도 4.1은 사용 못하게 해야 하는 거 아닌가요? 약속 잡아놓고 장소에 안 나옴.\n",
            "최근에 업데이트된\" 안녕하세요. 관심있어서 연락드려요!\"기능은 아무 쓸데도없는데 왜 만든건지 모르겠음 실수만 유발할뿐인 기능이니 예전으로 되돌리는게 낫고 물건 올릴때 AI 안쓰고싶은데도 자동으로 써지니 번거로움 온오프가 됐으면좋겠음\n",
            "자동채팅기능 없애주세요. 보완을 하시던지.. 하루에도 몇번씩 '안녕하세요. 관심있어서 연락드려요!' 이라는 챗이 옵니다. 답변하면 거의대부분 잘못눌렀다고 사과하네요. 챗보낸 본인은 챗 보낸지도 모르구요. 서로 불편한 기능인듯 합니다. 보완을 하던 기능삭제를 하던 조치해주세요. 리뷰보니 저와같이 불편하신분들이 많은데 빠른 해결 바래봅니다.\n",
            "잘 쓰고 있습니다. 한가지 건의사항이 있습니다. 판매글 작성시 AI자동분석에 의하여 완성되는 문구를 작성란에 표기할지 말지를 선택할 수 있게 해주시면 좋을 것 같습니다. 솔직히 아직은 AI작성 문구가 마음에 안드는 경우가 많고 대개의 경우는 문구를 전부 삭제하고 제가 새로 써야하는데 이 지우는 작업이 좀 번거롭습니다.. 감사합니다.\n",
            "내가 당근을 잘 쓰면서 이번에 지운 이유는 판매중인 물건 한번봤다고 가격을 내렸네 올렸네 상태가 어떻게 됐네 시도때도 없이 울려대고 그것만 끌려니 알람 드럽게 나눠놨네. 인지도 상승하니 광고도 드럽게 붙어서 지저분해지고 별로네.\n",
            "알바탭 이용시 지원서를 한 개 밖에 작성해놓지 못해 굉장히 불편합니다 당근마켓 알바은 선착순 마감이 될 때가 많은데 그럴때마다 지원서를 수정하다가 빨리 지원서를 제출하지 못해 기회를 놓친적이 많습니다 알바 지원하기 버튼을 누름과 동시에 제출될 지원서를 수정할수 있는 화면이 뜨도록 해주시거나 적어도 2개 이상의 자기소개 프로필을 준비해둘 수 있도록 해주세요\n",
            "비매너 사용자 진짜 너무 많고.. 제재를 하는지 의문임. 노쇼 당해서 3년전에 앱 지웠음. 이번에 새로 거래한 두명 중 한 명은 유통기한 지난거 보내서 환불했는데 아직 돈 못받았고 다른 한명은 또 노쇼함. 3년전에 노쇼한 사람 찾아보니까 그 뒤로도 문제없이 글올리고 거래한듯. 약속장소까지 나왔다고 거짓말하면서 의도적으로 그랬는데 캡쳐본 다 등록해서 신고해도 피드백 없음. 그냥 무시당하는 걸로 느껴짐. 당근 정책 찾아보면 \"이용자간 갈등은 이용자간 대화로 해결하도록 한다\"고 최대한 책임회피하던데 그럼 비매너 사용자 좀 제대로 걸렀으면 좋겠음. 안그래도 중국 제품 가격 속이는 사기글 너무 많은데 계정 정지도 안되고 매번 같은 계정으로 올리길래 관리를 안하나 싶었는데 진짜 안좋은 경험만 남음.. 환불 언제 마칠지도 모르겠지만 돈 받고나면 탈퇴하고 다신 안들어가볼듯\n",
            "다좋은데 진짜 제발 채팅 보내기 버튼 원래대로 복구시켜주세요 전송취소인지 뭔지 기능추가했다고는 하는데 결국 상대방한테 알람가는거아닌가요? 보내기 바로 밑에 휴대폰 뒤로가기 버튼이 있는데 진짜 뒤로가기 하나 할때마다 너무 신경쓰이고 불편합니다 개편말고 완전 삭제를 하든지 설정에서 on off할 수 있게끔 만들어주세요 보니깐 다른 많은 사람들도 불편을 호소하네요 해당기능으로인해 편한게 아니라 진짜 너무불편합니다\n",
            "하루 하루에 주어진 일들을하시느라 수고가 많으십니다. 당근마켓 애플리케이션으로 사기를 치거나 범죄 행위를한적이 없습니다. 그런데 갑자기 당근마켓 애플리케이션 이용제한이 내려졌습니다. 제가 작성한 글을 확인을하신다면 바로 이용제한 제재를 철회는 물론이고 다시는 이런 불상사가 없도록 해주시길 부탁합니다.! 저는 하루빨리 계정이 복구가 되지 않을시 당근마켓 탈퇴후 재가입을할것입니다.\n",
            "문의사항 있으면 고객센터로 문의 달라더니 막상 답변은 하기 귀찮은지 문의 내용이랑 아예 상관 없는 이야기 꺼내면서 동문서답으로 장문의 답변 보냄ㅋㅋ 대충 AI 돌려다가 문의의 유형을 구분 짓고 복붙해서 보내는 멘트가 정해져 있는 듯ㅋㅋ ㅡㅡㅡㅡㅡㅡㅡㅡㅡㅡㅡㅡㅡㅡㅡㅡㅡ 짭팔이들이 대놓고 가품이라고 적어놓고 물건 팔아도 제대로 제재하지 않는 무책임한 플랫폼. 신고 후에 따로 문의 남겨도 매번 신고해라 기다려라 말만 쳐하지, 한 두달 지나서 봐도 그대로 팔고 있거나 판매 완료 돼있음. 니들 스스로 모니터링 못 해서 이용자들한테 신고 받고 있으면 그거라도 제대로 처리해야지 그것도 처리 못 할 수준이면 운영을 하지 말던가 온동네 구걸하는 거지들 다 모아놓고 판매자들만 들들 볶이게 만듦 작년엔 해당 항목으로 신고 항목도 신설했더만 얼마나 들끓어서 자기들 인력 태웠길래 얼마 안 가서 네고 신고 항목이 사라져 있냐ㅋㅋ\n",
            "개선 부탁드립니다. - 관심물품에 대한 가격제안을 해 보라는 권유알림이 자주 뜨는데 그러한 알림을 끄는 방법이 없는 듯 하고 심지어 알림금지시간에 자주떠서 아주아주 불쾌하게 잠을 깨움. 즉시 개선 요망 - 최근본상품가격하락알림을 설정에서 꺼도 계속 알림이 뜸 - 뒤로가기할 때 아무 정보도 보이지 않는 경우가 많음 - 앞으로가기 버튼이 없음\n",
            "모임 일정 만들기 에서 글쓰기를 하면 자꾸 아래로 창이 내려가서 글쓰기 가 매우불편합니다 특히 일정 수정할때 중간쯤에서 글을 보고 수정해야 되는데 크릭하고 글을 작성 할려고 하면 창이 내려가서 정말 불편 합니다 그리고 요즘들어 모임방에 접속이 잘 안되고 있습니다 일정 글수정을 해야되는데 말이죠?? 오늘 업그레이드 후 더 심합니다?? 버그인가요\n",
            "당근에서 아직도 제공되지 않고 있는 이해할 수 없는 '없는 기능'은 내 상품 검색기능이다. 하물며 보잘것 없는 게시판도 내 게시물 검색이 가능한데, 내가 올린 내 상품 검색 기능이 없다는 것은 이해불가다. 이것을 당근에서 모를리는 없는 것 같고 다소 고의적으로 불편하게 해 두는 듯하다. 자세히 살펴보면 당근마켓이 이기적인 기능들이 몇몇 있다.\n",
            "찜의 의미가 없어짐 걍 인증하면 유지되는게 아니라 채팅할려면 맨날 인증해야함 내가 만약에 일 나가있을때 내가 사는 동네에서 괜찮은 물건이 나오면 인증을 하라고 게속떠서 괜찮은 물건도 놓친게 많다 이럴거면 찜도 없애삼 일하다가 찜해놓은 물건 가격이 내려가서 괜찮은 가격까지 내려갔네 하고 사려고 하면 인증하라하고 사는 동네 아니라고 못 삼 그렇게 놓친게 많은듯... 아무리 동네에서 사라고 하지만 이정도는 어플이 유도리가 없는듯\n",
            "채팅을 원래데로 해주세요. 실수로 채팅 누르면, '안녕하세요. 구매가능할까요?'가 바로 전달되요. 채팅버튼 누른 다음에 상용구를 지정해도 되잖아요. 새벽에 보다가 잘 못 눌러지면 상대방은 잠을 설치고 저는 욕먹고.. 불필요한 갈등을 만드는 기능에 실망입니다.\n",
            "잘 사용하다가 먹통이 됌 앱을 키면 홈 화면은 나오는데 거래는 정상적으로 누르면 이동하는데 다른 게 넘어가지지가 않아요 알바 중고차 부동산 누르면 화면만 까맣게 나오고 안 넘어가짐 지운다음에 다시 설치했는데도 동일 현상 발생 고객센터 문의하려해도 화면이 안 넘어가져요 핸드폰 s9+\n",
            "최근 업데이트 이후 버그 발생으로 인한 종료 혹은 뒤로가기가 자동으로 발생 되는데요 이거 개선하는 방법이 없는건가요 업데이트 전에는 아무렇지 않았는데 갑자기 이러네요 당근에서 문의하기로 적다가 팅기고 10번이나 연속 발생하여 이렇게 메모장에서 적어 복사해야만 될 정도입니다 첨부사진을 드리고 싶어도 넣을수 있는 방법이 없네요\n",
            "10분 전에 관심♡눌러서 찜해뒀는데 곧 팔릴것 같다며 알림이 보내는 건 너무 심하고 밤 11시58분에 알림으로 이러는건 매우 짜증납니다 밤늦게 거래 채팅도 못하게 하면서 이건 도대체 무슨 경우인가요? 관심을 표시하는건 현재의 가격이 더 내려갈 때까지 지켜보겄다는 건데 쓸데없는 알림 보내지. 말아주세요 ㅠㅠ\n",
            "중고거래 앱은 당근만 사용할 정도로 편하고 좋습니다 다만 개인이 중고거래 물품을 올리고 15회정도 다시 올릴 수 있는데 이 횟수가 끝나도 안 팔리면 재등록을 해야 합니다 이때 사진 다시 찍고 설명 다시 적어야 하기에 재등록 물건들에 한하여 별다른 등록 없이 다시 등록할 수 있게 수정해주셨으면 합니다\n",
            "갑자기 판매글올리고 구매자분이라.예약잡을려하는대.전문 판매 동일 판매.반복 등으로해서 갑자기.계정 정지당했어요 사무실서.안쓰는. 컴퓨터 제가 사용하다가 새로구매하서 안쓰는.컴퓨터를 팔았는대.전문 판매자라니요.그리고 거래할라고하는대.갑자기.막으면.구매하려고 하려는 분은.어떻게되나요 어이가.없내요 일단 정책이든.기준이든.말도안되게.제재가 걸리는거같습니다 뭐가.전문판매인지.모르는건가요 판매글을.한번만.잘읽어봐도 전문적으로 판매하는사람의.글하고 아닌사람의.글하고 딱티가나는대 황당하내여 1대1문의남겨도 답변도안오고 진짜 대단하내여 .. 고객샌터도 제대로운영도 안하고 진짜.가관입니다 .. 아직도 답변도 없고 도대체.고객샌터뭐하는곳인지모르겠내여 정말 가관이내여 2주넘께 처리가안되내여 ... 당근운영방식에 정말 실망했습니다... 거래내용이나 글 이런거 제대로하고 내용이라고 주시던가 설명이라도 있어야되는거.아닌가요 .... 3주가.넘어가는대 확인조차안해주시내여 ...\n",
            "앱설치가안돼서, 와이파이 초기화하고 휴대폰초기화했더니 안되더군요. 리뷰보니 같은 와이파이쓰는 폰도 안된다고 하네요. 그래서 보안앱 강제중지시키고 데이터키고 설치했는데 일단 설치됐습니다. 다른분들도 참고하세요\n",
            "안드로이드 기준으로 방해금지 모드를 설정해놓고, 알림설정을 당근은 예외로 설정하면, 그렇게 해도 당근채팅 알림이 오지 않습니다. 그래서 할 수 있었던 거래도 파토난 적도 있습니다. 확인 후 해결 부탁드립니다.\n",
            "재설치 후 재가입하려니 이유도 없이 2030년까지 정지되었고 문의남기니 되지도 않는 방법으로 인증하라고 발신 전용으로만 답장 남기니 참 답답하네요. 아예 인증하면 정지되었단 안내가 나오고 그 다음으로 진행이 안된다고 나오니 좀 본인들 시스템에 대해서 이해하고 답변 남겼으면 좋겠네요.\n",
            "당근 업뎃이후 채팅보내기 위치가 뒤로가기 위치와 겹침. 심지어 오른손으로 핸드폰 쓰는 사람은 오입력하기 좋은 위치라서 실수로 채팅을 보내고도 모를때가 많음. 구매의사도 없는 구경하려 들어간 물건에 나도 모르는 채팅으로 인해 사과를 해야할때가 있어 오히려 시간낭비가 되고있음 보내기 취소버튼도 생기긴 했는데 하단 구석에 짱박혀서 당근주황색으로 뜨기 때문에 시인성 떨어짐. 이런부분은 오히려 간결하고 눈에 확 들어와야한다고 생각함.\n",
            "판매자 물건 보고있을 때 하단에 자동 완성어 보내기 기능 있는게 상당히 불편합니다. 안드로이드폰 뒤로가기 버튼하고 가까이에 있어서 뒤로가기 할 때 잘못 눌러서 보내기 버튼 누르는 경우가 많아요. 다른 이용자분들이 잘못 보냈다고 채팅 오시는 경우도 많습니다. 이건 꼭 개선해주세요. 저만 불편한게 아닐거같아요.\n",
            "채팅창에 안녕하세요 구매가능할까요 이 문구를 왜 해놓는지 모르겠네요. 그냥 보기만 할려고 했는데 나중에 상대방에게서 연락이 와. 진짜 그지같네 벌써 세번이나 두번은 죄송하다고 하고 한번은 필요하기도 해서 걍 구매했는데 진짜 뭐 이 따위로 해 놓는거야 덕분에 당근을 때려치게 해줘서 감사.\n",
            "수고하십니다 잘 쓰고 있습니다 고맙습니다 불만 한가지 쓰러 왔습니다 채팅 문제좀 해결해줘요 온오프라도 만들어주든지 구경하다가 뒤로기기 실수로 눌러서 괜히 사람 사과하게 만들고 만약 개선 논의중이라면 공지라도 띄우든가요 ps. 시간차를 뒀네요 나름 괜찮지만 아예 확인 누르기전에는 안가는게 낫습니다 실수로 누른걸 모를수도 있어요 불만요소는 확실히 제거해주세요 괜히 돌아가려하지말고\n",
            "1. 상대방 아이디로 판매물건 검색 불가(동네생활에서도 아이디만 누르면 판매글도 볼 수 있던 예전이 더 편했어요) 2. 동네걷기는 위치가 전혀 안 맞음. 보통 한 블럭이상 차이가남. 3 동네걷기 이후에 캐시삭제 하라는 알림과 당근 자체가 종료가 됨\n",
            "나눔으로 해놓고 내용에 얼마라고 적혀있던디.. 1원이라고 해놓고 내용에 적혀있던지.. 숫자 대충해놓고 내용에 제시를 하라던지.. 이건 너무나도 혼란을 주고 또한 중고거래라는 부분에서 맞지 않는것 같습니더 좀더 편하고 명확히 한번에 볼 수 있었으면 좋겠고 이러한 행위를 신고 할 수 있는 방법이 생겼으면 합니다\n",
            "잘쓰고 있었는데요 업데이트하고 뒤로가기라도 누르려다 구매하고싶다고 채팅 보내기 잘못눌려가지고 서로 민망하고 미안하지도 않은일을 사과해야하는 일이 발생하네요 저희 부모님들도 요즘 곤란해하시구요 리뷰들보니까 저만 그런반응이 아닌거같구요 판매자분들도 잘못걸려온 채팅때문에 스트레스인가보네요 그냥 전처럼 돌려놔주세요 채팅하는게 급한게 아니잖아요 왜이런 업데이트를 ;\n",
            "부당하게 이용이 정지되었는데 수차례 문의를 해도 몇달째 제대로 답변을 못받고 있습니다. 고객센터 제발 일 좀 해라ㅠㅠ 정지되어 로그인 자체를 못하고 있는데 앱에서 채팅 내용 확인해보라는 엉뚱한 답변이나 하고... 아이고...\n",
            "이용 제한 5년인데 고객센터는 전화도 안되고 앱에서 문의하기로만 제재 사유 또는 이용 제한 해제 문의 할 수 있는데 답변이 기가막힘. 마치 사람이 아니라 자동응답기가 대답하듯 몇번을 문의해도 같은 내용을 다르게 문의해도 똑같은 답변만 복사 붙여넣기로 받기 전용 문자로 옴. 신고 당한 이용자는 답답해 죽음. 고객센터 하나 제대로 운영 안하는 업체가 돈 독은 올라서 광고는 엄청 받고 신고 아닌 이상 선정적인 판매글에 대해선 필터링을 못함. 이용 제한 5년만 풀어주면 내가 다 신고하고 다닌다. 당근의 운영방식 언론사 취재해라! 어느 기업이든 당근 같은 앱 만든다면 투자한다!\n",
            "요즘 비슷한 사진과 내용으로 여기저기 똑같은 상품이 진짜 많이 보이는데 같은 판매자가 수많은 계정으로 물품을 등록하는거같아요. \"깔끔하게\", \"싸게\", \"저렴이\", \"간편하게\", \"헤어졌어요\", \"파혼\", \"생활비가\", \"월세\" 등 이상한 제목 투성이고 전문판매자로 신고하면 그날은 사라지고 다음날 보면 버젓이 또 다시 올라오고 정말 짜증납니다. 저렴한 가격으로 판매글을 올려놓고는 정작 5박스, 10박스 사면 싸게 준다는 식으로 당근페이나 안전결제를 거부하고 현금으로만 받고 있습니다. 인스타나 텔레그램을 보면 어렵지않게 당근계정을 온도에 따라서 20~60만원을 받고 거래하는 광고를 볼수 있는데 이렇게 개인정보를 사고파는 행위는 엄연한 불법 아닌가요? 이런 계정을 사거나 빌려서 여러계정을 가지고 조직적으로 물건을 사고팔며 GPS위치를 조작해서 실제 그 지역을 가지않고 지역인증을 받아서 전국적으로 판매하는 전문판매자용 카톡 단톡방이 있다는데 당근측에서 강력한 제재가 필요하다고 봅니다!!!\n",
            "중고 거래 할때 유용한 맵이긴한데 우리동네 설정을 몇달마다 갱신해야 하는게 힘들어요. 시고 싶은 물건을 직거래도 아니라 택배로 받는것도 우리동네에 포함 되어야 거래를 할 수 있다보니 사고 싶은 물건을 사지 못한적도 많아요.\n",
            "당근이 이전의 중고거래 앱에서 동네커뮤니티 앱으로 방향을 바꿔나가고 있는 것은 알겠으나 쓸데없는 기능들이 많이 생겨서 앱이 무거워지고 있는 것 같다고 느낍니다... 당근이네나 식빵굽기, 최근에 나온 ai사진 만들기까지 대체 무슨 의도에서 나온 기능들인지 이해가 되질 않네요.. 아니 사실 알 것만도 같습니다. 앱 사용시간 증가만을 노리는 것밖으로는 생각이 안 들어요. (요전에 했었던 팥빙수 지원금 이벤트도 정말 한정적인 초대/참가횟수로 보여지는 것과 달리 많은 분들이 얻질 못했죠. 저도 그중 하나입니다) 당근은 지역 주민들과 소통하고 나눔의 기쁨을 얻는 곳이지, 쓰잘데기 없는 방해물로 시간을 떼우는 곳이 아닙니다. 당근에서 자주 광고하던 주민 간의 따뜻한 상호작용의 이미지와 같은 그 모습의 당근이 되기를 간절히 희망합니다.\n",
            "1. 전문판매업자가 너무 많음. 신고를 수백번 하고있으나 새로운 아이디를 만들어옴. 2. 그럼 본인인증을 해서 새로운 아이디를 쉽게 만들지 못하도록 해야하는데, 그럴 생각은 없어보임. 3. 고객센터 문의글을 남겼으나 10일 이상 답변이 없음. 이 외의 문의방법은 없음. 당근님께서 내 글을 봐주시고 답변해주실때까지 하염없이 기다려야함. 4. 중고나라, 번개장터 등 다른 플랫폼이 걸어온 길을 묵묵히 걷는중. 이제 저는 당근을 떠납니다.\n",
            "지금까지도 괜찮았는데 과도하게 ai를 사용한 자동화를 해서 오히려 불편합니다. 의도치 않게 채팅을 보내게 되어 난처해지기도 하고 원하지 않은 문구로 톡을 보내기도 합니다. 과유불급입니다. 좀 줄이시죠.\n",
            "전문판매자로 오해받아서 계정정지당했어요!! 문제제기할곳도 없고 ai답변만오고!! 진짜 작정하고 장사하는 사람들은 잘만 파는데 정말 어이가 없네요ㅠㅠ 당근 온도도 50도 이상으로 높았는데 하루 아침에 황당해요!!!! 직접 연결할수있는 고객센터다운 시스템도 없고, 문제 좀 처리해주세요!!\n",
            "자동 챗 기능 제발 삭제해주세요. 실수로 나도 모르게 챗이 가서 난감한 적이 한두번이 아닙니다. 챗 보내기 버튼의 위치도 뒤로가기 버튼 누를때나 뒤로가기 스와이프 할 때에 손이 참 많이 가는 위치에 있으니.. 이거 진짜 너무 불편합니다. 다른 사람 같은 불편글에 답글 달린거 보니, 챗 보낸거 취소하는 기능 만든다구요? 내가 챗 보낸지도 모르게 챗이 가버리는게 문제인데, 취소 버튼 만드는게 무슨 의미가 있죠? 보낸 줄 알아야지 취소를 하죠. 구매자 판매자 모두 불편한 기능인데 왜 이상한 옵션까지 만들어서 유지하려 하는건가요? 그냥 제발 좀 없애달라구요.\n",
            "안녕하세요 저는 누구의 물품을 사고ㅠ잠적한게 없는데 다시 가입하니 30년까지 정지입니다. 문의를 해놨는데 답이 ai로 오고 또 보내니 답이 없습니다. 정말 억울 하고 답답합니다. 알아보니 탈퇴를 된 상태에서 누가 악성으로신고를 하면 정지가 된다는 말이 있는데 정말 제발 정확하게 확인하고 정지 부탁드립니다. 그 전 아이디로 구매를 한적이 없는데 물품을 받고 잠적이라뇨 . . . 제발 풀어주시기 바랍니다.\n",
            "오늘 전문 판매 행위로 한달 판매 정지 당했습니다. 업무폰, 서브폰으로 쓰던 기기 2대를 동일 제목으로 판매 글 올렸습니다. 하지만 시간이 지나도 거래되지 않았고, 기존 글을 끌어올리기보다 삭제 후 동일 제목, 동일 내용으로 새 판매글 등록했습니다. 그렇게 2번 정도 팔리지 않은 기기를 새 판매글 등록했는데 같은 제품 대량 판매한다며 전문 판매 행위로 지정되어 판매 정지 당했습니다. 동일 모델을 대량 보유하고 판매하는 전문 판매자 아닙니다. 거래 실패한 2대의 폰을 계속 새 판매글로 올렸을 뿐입니다. 판매 정지 해제 부탁 드립니다.\n",
            "당근 ai 채팅 좀 없애주세요.. 아니면 개선 좀 해주세요. 채팅와서 보면 죄다 잘못눌렀다고 구매 의사도 없으면서 ai 채팅으로 구매가능하냐고 묻는데 너무 피곤해요 ㅡㅡ 그리고 비매너 사용자 제재 좀 강하게 해주세요. 거래 약속 당일 잠수타서 남의 시간 뺏는것들 신고해도 그대로 활동하고 여럿이서 신고해야 정지되는데 그마저도 3일정도 정지라서 전혀 반성을 안하잖아요. 비매너 이용자 때문에 요즘 당근쓰기 너무 싫어져요.\n",
            "최악이네요. 1. 휴대폰 바꾸면서 새로 깔았더니 갑작스러운 정지(2번째) 2. 고객센터 없으면서 이메일로 문의사항 보내라하는데 읽고싶은 메일만 답변 / 한달이상 묵묵부답 3. 앱 리뷰 -> 마찬가지로 답변하고싶은 리뷰만 답변 관리하시는분 성인이실텐데 성실하게 일 좀 하세요^^ 저는 어플삭제요 ~\n",
            "핸드폰 기기와 번호를 바꿔서 다시 로그인을 했는데 부동산사기때문에 제재당한 닉네임으로 로그인이 됐고,전에 쓰던 닉네임으로 로그인이 안되서 비회원으로 문의를 해서 등기부등본과 신분증을 보내라고 해서 보냈지만 본인이 직접 부동산 사기를 하지 않았다면 제재를 풀수없다고 메일이 왔는데, 저는 아예 이용을 평생 못하는건가요?\n",
            "최근 판매글 여러개 올렸는 데 채팅 5개가 전부 자동완성으로 보내진 안녕하세요 구매가능할까요?를 실수로 누른거네요 혹시나 해서 답장하면 실수라고 하거나 무시하거나 🤨 채팅오는 거 마다, 다 실수로 와서 채팅 오는것두 스트레스네요 판매글 오른쪽 밑에 곧바로 채팅보내기가 있어 자기도 모르게 실수로 많이 누르는 거 같습니다 이것 좀 고쳐주세요\n",
            "진짜 빡이치네요 10일동안 열심히 찾아서 드디어 맘에 드는거 찾았는데...하...출근해서 연락하려니까 동네인증.... 하...도대체 왜 이렇게 동네인증 자주해야하고 ai도 짜증나는게 실수로 한번누르면 그것만 주구장창 나옴 진짜 동네인증은 한번하면 그만하게 하시져 화가 너무나네ㅡㅡ\n",
            "당근 아주 잘 사용하고 있습니다. 헌데 이번 업데이트 후부터인가 새로운 판매글은 안보이고 전에 봤던 판매글만 보이는데 왜 이러는건가요? 업넷 전엔 접속할때마다 새로운 판매글이 보여서 좋았는데.. 이젠 다시 접속해도 며칠 내내 봤던 판매글들만 보이네요\n",
            "절차 복잡해도 좋으니 본인인증 더 확실히 해주세요. 제가 당근에서 사기 당했는데 계정주가 연락 오더니 본인이 한 일이 아니라네요? 이렇게 아이디 도용되어 범죄에 이용되는 일 없도록 2중, 3중 인증을 했으면 좋겠어요.\n",
            "이용정지 시켜서 정보 1도 모르고 그냥 사기를 당했는데, 사람 놀리는 것도 아니고 문의해도 해결안되면 이어서 문의하기 하라고만 하고. AI를 고객센터로 내세울거면 제대로 검수나 하고 하시지 어플 진짜 유지관리 거지같이 하네\n",
            "당근 진짜 운영을 왜 이렇게 하는지 모르겠네요 제가 사기를 쳤다고 아이디가 잠겼습니다 그래서 난 사기 친 적이 없다 사기 당한 분이 있으면 증거를 제시하면 보상을 하겠다 이런 메시지 보내도 ai 가 똑같은 소리만 반복을 합니다 그냥 거래 중 상대방이 기분 나쁘면 신고해버리면 은 사기꾼이 되는 거죠 이런 식으로 운영하시다가. 전국민 50%는 사용 못할 것 같군요 사기를 친 적이 없어서 충분히 해명할 수 있는데. 그냥 들으려고 하지도 않아요. 매너 온도 99도까지 올려도 소용이 없습니다 그냥 상대방이 기분 나빠서 신고하면 사기꾼이 되는 구조입니다\n",
            "당근모임 채팅방 나가기가 안되요 갤럭시 사용자입니다. 일주일 전부터 모임의 채팅방나가기가 안됩니다. 일대일 챗은 됩니다. 최신버젼이며 재부팅했어도 역시 안됩니다. 방법 부탁드립니다. 감사합니다.\n",
            "다 좋은데 식빵게임에서 황금버터 사용할라 하면 왜 로봇이 아닙니다 본인인증 하라는 문구가 뜹니까? 인증 하고나서 10초동안 시간을 주는 것도 아니고 인증하고 나면 10초가 끝나있던데 조치를 취해주시길 부탁드립니다.\n",
            "아니 ai문구추천 해제할 틈도 없이 맘대로 적용해버려서 사진 추가했을 뿐인데 지맘대로 다 써놓은 글 지우고 ai로 다시 씀,,, ai로 문구추천 버튼을 누르면 작성해줘야지 무슨 사진 추가만 해도 다시 작성하는,,, 너무 짜증나네요\n",
            "AI 채팅 전송버튼좀 수정해주세요. 뒤로가기 하려다가 실수로 전송 누르면 바로 채팅 날아갑니다. 벌써 몇번을 실례하는지..ㅠㅠ 차라리 이전처럼 그냥 채팅창 들어가서 직접 쓰게 해 주세요. 문구를 선택하게 해주시던지요.\n",
            "얼마전부터 갑자기 모임 단체톡방 나가기 기능이 사라졌어요. 어플문제인가요? 주변 아이폰들은 다 되던데. 갤럭시 기종만 안되는듯하고 일부만 그런듯해요. 이거 해결좀 해주세요\n",
            "아진짜 짜증나네 아니무슨 아이패드 동일계정 로그인했다고 정지입니다 ㅋㅋㅋㅋㅋㅋㅋㅋㅋㅋㅋㅋㅋㅋㅋㅋㅋ 말이되나요? 동일계정 로그인 햇다고 뭐라하ㅡ는지 아세요? 선입금 받고 도망갔데여 저보고 거래를 안햇는데 ㅋㅋㅋㅋ 제발 앞으로 이런상황 만들지마시고 수정 부탁드립니다\n",
            "판매 3-4번 오래전에 해보고 불용품 올렷는데 전문판매업자라고 5년 정지 먹엇습니다. 문의 올렷는데 일주일 넘도록 회신도 없네요.. AI로 정지 먹은 건지 신고로 먹은건지 모르겟는데 무슨 근거로 한건지도 모르겟고 문의사항 회신도 없네요... 얼마전에 사기 치던 애는 채팅방에 지 사기친거라고 인정하던데 업자보다는 사기꾼 먼저 제보 받아서 막는게 맞는거 같기도 하구요...\n",
            "물건을 보고 보내기를 누르면 바로 구매 가능할까요라는 메세지가 가는데요 일단 왜 바로 메세지를 보내게 만들었는지 모르겠고요 기본 메세지는 왜 고정인지 모르겠네요 이것때문에 메세지를 몇번이나 잘못보냈는지..\n",
            "채팅 잘못보내는 사람들 때문에 스트레스입니다. 계속 당근채팅에 기대하고 들어갔다 실망한게 몇번째인지.. 정확히는 그렇게 만들어놓은 시스템이 문제인거죠. 개선하거나 기존 시스템으로 돌아가거나 문젯거리좀 해결해주세요. 어지간하면 평점 잘 안남기는데 이번건 최악이네요.\n",
            "분쟁조정 요청했는데 두달째 해결안되고있음 해결도 해결이지만 분쟁조정 중이라고 추가적인 문의할수있는 방법이 아예없음 그냥 수수료 받아먹고 문제생기면 '당사자간 대화로 해결해라' 이게끝 그러면 안전거래 수수료는 왜받아먹는지...\n",
            "가입후 그동안 잘 사용했는데 얼마전 갑자기 로그아웃 되더니 어플 접속중에 갑자기 사용자 차단했습니다. 알림 나와서 내가 잘못누른줄알고 무시했는데 다음날 부터 나도 모르게 내판매글 작성되고 나도 모르는 사이에 채팅도 하고....동네 다른곳으로 찍혀서 나오고 .. .. 해킹 당한거 같아 고객센터 찾아보니 소~~~오~~~름 고객센터 번호는 있지만 연결안되고 AI상담만 존재...무조건 어플에 문의글만 작성가능...비번 변경하려는데 앱에서는 비번 변경 기능 없음 ... 당근페이에 계좌도 연결되고 개인 정보도 털릴까 걱정이 태산인데...당장에 할수 있는게 없음... 문의글 남기고 답변올때까지 하염없이 기다려야함...많은 사람들이 이용하는 어플인데 그래도 실시간 상담원 채팅이라도 해두던지 비번 변경이라도 가능하게 해두던지 해줄것이지....아오 열받아..\n",
            "실수로 채팅 잘못 보내는 사람들 많아 넘 스트레스..하루에도 몇명이 그러는.. 오른쪽 아래 되돌아기가 버튼쪽에 자동으로 챗팅창으로 들어가는 인사문구가 있어서 진짜 미치겠슴. 이젠 챗 오면 내 대답 자체가 실수로 보내신거죠?가 되어버림...ㅡㅡ 그것도 없애주세요..진짜 사용자들 다 스트레스일것 같은데...\n",
            "당근마켓 제일 위에 돋보기 모양 눌러서 검색해서 물품들을 찾게 될 경우 예전엔 5년전에 올라온것도 찾을수 있었는데요 최근에 자주 올려지는 물품들은 1일전까지 올려진것만 보이고 검색한 상품을 다봤다는 글씨가 뜹니다. 그러면 2일전 3일전 그전에 올려진걸 아예 볼수가 없는건가요? 예전처럼 5년전까지 올려진 상품이 나오게 해주심 좋겠습니다. 당근화면에서 나의 당근 들이가서 서비스 중고거래 카테고리 디지털기기, 반려동물용품, 도서, 여성잡화 등 상품을 한참 몇일전 올린것까지 보고 있는데, 이미 봤던 위에 다시 올려서 보려고 하면 위에 동그라미가 표시되면서 처음 제일 위에 화면으로 올라가 버립니다 많이 불편 합니다. 다시 처음화면으로 올라가면 조금전에 봤던 상품을 찾으려면 또 한참 밑으로 내려가서 찾아야되기 때문입니다. 못찾는 경우도 있고요 너무 내려가서 봐야되기때문...\n",
            "언젠가부터 상품페이지 밑에 메시지가 자동으로 등록되어있고 옆에 보내기버튼만 누르면 보내지는데, 그것때문에 자꾸 실수로 메시지가 보내지는 상황이 생깁니다. 나는 안살건데 터치 실수 한번으로 구매 가능하냐는 메시지가 보내지고, 메시지 받은 상대방한텐 또 무슨 민폐입니까? 이 기능은 롤백해주세요...\n",
            "ai 생기고 나서부터 조금이라도 비슷한 게시글 올리면 게시글 노출이 되지 않습니다. 숨김처리 되는것도 아니고 그냥 노출이 안돼요. 고객센터에 문의하기 전까지 이유 알려주지도 않고 그렇다고 노출이 되지 않는다고 알람이 오거나 사유가 뜨는것도 아닙니다. 심지어 고객센터도 전화 문의는 안되고 한번 문의하면 4~5일 뒤에나 답변 오는 수준... 지금까지 잘 사용하다 최근들어 고구마 100개 먹은것 마냥 답답할 지경이네요;; 오류인건지 버그인건지 빠른 수정 부탁드립니다.\n",
            "잘 아용하고있는건 맞지만 업데이트 되면서 점점 이상하고 쓰잘데기 없는 별별 것들에 다 이유를 붙여서 알림을 보내는데 진짜 스팸이 따로 없음 예전에는 관심을 누른것에 가격이 내려갈때만 알림을 보내주는게 제일 적절했는데 이제는 뭐 다른사람이 내가 관심가진 물건에 관심 눌렀다고까지 알림을 보내주고 물건 팔고나면 무슨 물건이 나한테 편지를 썼다는 개소리로 알림보내고ㅋㅋ 심지어 이제는 하다하다 관심도 안누르고 보기만했던 물건인데도 조회햇던 물건이 가격을 내렷다면서 알림을 보냄 제정신인가 진짜ㄷ\n",
            "당근마켓 여태 잘 썼는데 이번 업데이트 최악이에요; 채팅 바로 보내기 기능 때문에 새벽시간은 물론 잘못 보내는 사람이 너무 많아졌어요. 답장하면 잘못 보낸지 조차 인식 못하던데... 채팅 개수는 늘어가는데 사가는 사람은 없고 대체 왜 이런 업데이트를 한 건지;\n",
            "중고판매글을 살펴보다 한번의 터치실수로 구입문의 채팅이 가는 경우가 많습니다. 본의아니게 판매자에게 찔러보기를 하게 되는 셈인데 매우 불편합니다. 미리 작성된 문장을 끌 수 있는 옵션이 필요합니다.\n",
            "갑자기 전문판매업자로 이용제한이 걸렸어요. 그것도 2달이 다 되어가는 거래완료된 글로요ㅡㅡ 사유가 '매장 대리점 물류창고'업자로 나오는데...누적된 세가지 신고건에서 공통점이 있더라구요 사진을 살펴보니 시중에는 이정도 가격이라고 알려주려고, 저말고 인터넷 다른 판매업체가 올린 비슷한 제품 사진과 가격이 나온 컷을 스샷찍어서 같이 올린거 였어요 물론 제방 벽을 배경으로 실제 제 물건 사진도 여러 장 찍어서 같이 올렸는데 이건 반영이 안되는 건지ㅜㅜ 그업체의 이름은 안나오게 지우고 스샷 찍어서 같이 올렸는데 이게 문제가 된거 같습니다. 누가봐도 스샷인지 아는 사진을 매크로가 잡은거 같은데...이럴땐 어떻게 해야하나요?\n",
            "로그아웃 후 다시 로그인했는데 \"루팅, 에뮬레이터 를 이용한 비정상적인 환경에서 앱을 사용할 수 없다\" 고 1년을 제재받았습니다 이게 뭔가요? 로그아웃 1번 하면 1년 정지? 고객센터에 아무리 문의해도 1달이 지나도록 확인도 하지 않는데, 피해당한 사용자들은 어디에 도움을 요청해야합니까? 도대체 당근에서는 관리를 어떻게 하고 있는건지? 황당하네요 빠른 처리가 없으면 그냥 탈퇴하겠습니다\n",
            "휴대폰 기계도 바꾸고 번호 변경되서 다시가입하려니 29년 까지 정지라고해서 문의하니까 가입사실확인서 보내달라해서 보냇더니 폰번호 다안나와서 다시보내달래서 7월 4일에 메일다시보냇더니 아직 읽지도 않으면서 왜다시 보내란건가요? 보고 빨리처리좀해주세요 몇번 문의를합니까 답글기다립니다\n",
            "물품이 보낸 편지라는거 불필요하고 거래 후기와 헷갈려 너무 불편합니다. 따로 물품이 보낸 편지 알림만 제한하거나 삭제할 수 있는 방법이 있으면 좋겠습니다. 그리고 타인에 의해 신고가 들어왔을 때는 검토를 하고 조치해주시길 바랍니다. 신고 품목도 아니었는데 사용정지되어서 문의드려도 기다리는 수 밖에 없다고 하시고 기분이 너무 나빴네요.\n",
            "당근 매너99도임! 저번에 화장품 박스채 새것 유통기한이 조금 지난거 나눔하니 유통기한 지난거라고 정지먹고(판매도 아니고 누군가에게 필요할수 있는거 아닌가요?)이번엔 평소에 잘 안입는옷 올렸더니 전문판매업자로 정지당함 유사제품,대량판매가 사유였는데 같은옷 올린적 없고 대량판매도 아님! 다른 사람들 나보다 더 많이 올려도 잘 이용하는데 복불복도 아니고 억울해서 문의글 남기니 고객센터는 명확하지 않은 AI같은 답변만함! 고객의 소리를 진심으로 듣지 않는 당근센터 개선이 필요할듯!\n",
            "업데이트 되었는지 채팅창에 '안녕하세요. 관심있어서 연락드려요!' 라고 디폴트값으로 입력되어 있는데, 하필이면 보내기 버튼 바로 밑에 되돌아가기 버튼이 있어서 하마터면 보내기 버튼을 누를 뻔 했습니다. 저 문구는 삭제 요청 부탁드립니다. 관심 있는 사람에게 저 문구조차 입력할 수고(?)를 덜어줄 필요가 없다고 생각합니다. 활시위는 고객에게 당기게 놔두시길. 게으름뱅이 만들지 마시길. 애초 잘못 누르기 쉽습니다.\n",
            "시작한지 일주일도 안되어서 5년 정지당했습니다 문의를 최소 6개는 보냈는데 온 답변이라곤 모두 복붙한 '신고 및 정지 기준은 모든 분들께 동일하게 적용하고 있어요. ~ 정지 기간이 지난 후 서비스 이용을 부탁드려요.' 라고 오더라고요. 알바중이던 곳에서 확인할 일이 있어서 들어갔더니 로그아웃되어있고 다시 로그인하니 30년까지 정지되었어요 이렇게 떴던겁니다. 아직까지 사유는 알려주지 않았고, 시작한지 일주일도 안되어서 5년 정지를 당하니 어이가없습니다. 굉장히 잘쓸것같다고 생각했는데 전혀 아니었네요. 거래자 한분과 연락처를 나눠 다행이었는데 [사기]로 정지당한계정이라되어있더라고요? 그냥 AI가 막무가내로 신고하고 정지시키면 본사는 하는게 없는것같습니다. 저 말고도 여럿 이런식으로 계정 정지시키고 방치하더라고요? 당한 사람은 정말 당황스럽고 화가납니다. 다시는 쓰지 않을것같습니다. 다른 앱 (이런식으로 어이없게 정지시켜버리지않는) 을 찾으려고요. 여러분도 이점 잘 인지하시기 바랍니다.\n",
            "다양한 중고 물품을 구경하기엔 좋으나 사기를 당해도 앱 자체에서 따로 해결할 수 있는 방법이 없고, 무엇보다 이미 거래완료된 상품이 자꾸 반복적으로 올라와서 불편합니다. 거래완료 됐거나 거래중인 물건은 추천목록에 안떴으면 좋겠어요. 그리고 끌어올리기가 15번 밖에 안돼서 15번 안에 팔리지 않으면 게시글을 새로 작성해야하는 번거로움이 있습니다. 끌어올리기 할 수 있는 횟수를 더 늘려주셨으면 해요. 또한 사기 관련 신고 당한 판매자는 패널티를 더 세게 줘야할듯 합니다.\n",
            "고객센터 대응.. 별로임. 읽어보면 이용정지등의 기준/기간도 이유없이 되는거 같고. 리뷰 읽어보다 보면 그런거 관리도 잘 못하는게 자명한데...거래에서 오는 불편과 어려움은 다 이용자가 겪는데 고객센터가 하는 일이 뭔지 진짜 의심이 됨.. 1.사람관의 관계가 중요하기에 판매도 정직하게 해왔는데. 매너온도 가지고 사람 농락하는거 같음..계속 거래는 이루어 지나 며칠째 온도 변화 없음 2.판매하면서 오는 불편함에 대해서는 전혀 관심 없는 것 같은 앱 구성 및 관리. 광고에만 점점 신경 쓰는 것 같음. 3. 알림 안울림 - 이런 기본적인것도 못고치는데.. 진심.. 어이상실\n",
            "내가 찜한 상품에 다른 사람이 찜버튼 눌렀다고 알림이 오네요. 찜한상품 가격의 변동과 다른사람의 찜버튼누름에 대한 알림을 통합해 놓으니까 피곤하네요. 가격변동시에만 알림받을수 있었는데...예전엔 안그랬는데 왜 한꺼번에 묶어놨지요? 다른사람이 찜버튼 누른게 뭐가 그리 중요해서 그걸 알림씩이나 받고 싶겠어요? 다시한번 재고해주세요\n",
            "별 하나도 아까움. 거래 예정되어 있는 상황에서. 갑자기 계정 정지 먹고. 로그아웃됨. 이유도 모르는 상황에서 AI 인식 오류로 정지 된 거 같은데. 고객센터 연락은 안되고. 10분뒤에 물건 구매자하고 만나기로 되어 있었는데. 채팅도 안되니. 구매자도 헛걸음 손해 보게 만들고 누구 책임 인가요? 1시간 뒤에 물건 구매 3일전 예약한거 문고리 거래로 되어 있는데. 계좌이체 해 줘야 되는데. 채팅도 안되고 난감 하게 만드네요. 판매자는 무슨 잘못이고 구매자는 무슨 잘못 인가요? AI 글자 오류로 인한 계정 정지? 무슨 앱 서비스가 이럽니까? 계정정지 2030년까지 5년? 뭐 내가 죄를 지었나? 소비자한테 본인들이 만든 AI 인식 오류 개선 바랍니다. 다시는 이런 피해 없도록 주의 바랍니다. 왠만하면 글 안쓰는데. 진짜 이건 아니지 않습니까? 당근 정 떨어져서 계정 풀어줘도 사용 안 할듯. 주변 사람에게도 다른 앱 많은데 다른거 권유하겠습니다. 진짜 어이가 없네.. 어처구니 없음.\n",
            "안녕하세요 당근 잘 쓰고 있습니다만 몇가지 보완할점들을 적어봅니다 이번에 AI채팅기능이 새로 생겼더라고요 빨리 채팅할때에는 유용하게 쓰일거같다고 봅니다만 대체적으로 일반적인 상황에서는 별 쓸일이 없고, 오히려 잘못보내면 판매자에게 오해에 소지가 있을수 있기에 이 부분은 없에거나 고치면 좋겠습니다 다른점은 게시글을 올렸을때, 채팅이 많이 오는경우 채팅온 순서대로 번호표시와 같이 채팅이 나열되었으면 좋겠습니다 보니까 채팅온 순서가 아닌 무작위 순서로 배열해 헷갈리는 부분들이 몇 있습니다 이부분도 보완해 주시면 좋을거같습니다 마지막으로 저의 이야기는 아니나 제 지인이 게시글을 가끔씩 올리긴 하나 갑작스럽게 계정정지를 받았습니다. 이에 지인은 잘못한게 없는데 왜 정지를 당했는지 영문을 몰라 당근에 있는 고객센터 란에 문의를 넣었으나 이것마져 AI로 대체하고 실 상담사 연결은 안되고 답답한 면도 있고 속은터지고 왜 정지 되었는지도 모르겠고 이부분은 진짜 고쳐야합니다\n",
            "1. 고객센터가 사람이 있어야 합니다. 그리고 제재를 받을때 소명하려면 고객센터가 있어야 하고, 이메일 보내도 3일이상 걸립니다. 답변 받으려면 . 이거 굉장히 불편합니다. 2. 내 물건 가격찾기는 터무니없는 가격을 보여줍니다. 미사용 이어폰을 12000원인데 3천원으로 가격을 알려 주고 너무 어처구니 없는 가격을 책정하는데 차라리 없는게 낫지 않나 싶습니다. 3. AI응답 바로 원터치로 대화문구 넣게 한거 오히려 번거롭게 보이고 잘못 터치하다가 커뮤니케이션 시작부터 꼬이는 거 같습니다 AI 대답모드 생성은 없애주세요 차라리 그편이 낫겠습니다 예문으로 제시된 응답 들도 표현이 따뜻하고 정중하면서 좋으면 쓰겠는데 그 정도 수준의 문장력은 아니니 없애주시길 건의 드리고. 4. 오늘은 서버 접속이 안됩니다. 접속 장애 이렇게 종종 뜨는거 매끄럽게 원활한 처리 부탁드립니다\n",
            "잘사용하고 있었는데 갑자기 다음날 로그인이 튕겨있었고 5년뒤에 로그인이 가능하다고 하네요? 찾아보니 이런경우가 허다한거 같은데 전 제가 잘못한거를 모르겠고 최근 거래한것도 없는데 뭐때문에 이런일이 일어난건지 어떻게 아나요? 바로 밑에 같은 내용글 쓰신 분의 유용하다 버튼이 600명가까이 눌린거면 문제점을 알고 고쳐야하지않을 까요? 팝업으로 뭐때문인지 이유라도 알아야지 통보당하니 기분나쁘네요? 당근으로 문의 남기려고 하면 등록도 안되고 문의할 번호도 없고 잘사용하던 앱인데 실망입니다. 제대로 문의 남길수 있는 창이라던가 전화번호 오픈좀 하세요. 너무 답답합니다.\n",
            "서비스 이용이 제한되어 문의해 주셨네요. 원활하게 서비스를 이용할 수 없어 많이 답답하실 것 같아요. 제재 사유: [전문판매 행위] 사이즈・색상 재고 당근의 중고거래 서비스는 집에서 더 이상 사용하지는 않지만 누군가에게 쓸모 있는 좋은 물품을 저렴하게 판매/나눔 하는 곳이에요. 동일한 카테고리의 물품을 다량으로 판매하는 경우 여러 사용자들에게 신고받을 수 있고 전문판매업자로 제재될 수 있어요. 또한, 1개 게시글이라도 여러 사이즈나 색상을 판매하는 경우도 전문판매업자 행위로 규정하고 있어요. 서비스 이용이 제한되면 글쓰기 작성과 수정이 어렵지만 그 외 서비스는 이용할 수 있어요. 더불어 제재 당시 작성되어 있던 게시글은 정지 해제 후 끌어올리기를 하더라도 보이지 않으며, 새로 작성한 게시글에 한해서만 정상적으로 노출되는 점 안내드려요. 또다시 동일한 사유로 제재 받으실 경우 정지 기간이 늘어나는 점 참고해 주세요. 아울러, 고객센터 상단의 배너와 '자세히 보기' 버튼을 눌러 본인의\n",
            "고객센터 개답답. 채팅상담없어, 전화상담없어. 오로지 문의글 남기기뿐 로그인 중복으로 계정정지 이유 물어봤더니, 이유만 알려주네. 해결방법은 안알려주고. 문의 후에 5일만에 답변온게 ai 답변수준. 기타 다른 플랫폼에 비해 수익모델이 없어서 그런지 고객센터 적극성이 스마트스토어 개인사업자 보다 못하네. 큰 그릇 되기에는 한참 멀었다.\n",
            "자동완성 채팅때문에 미칠것같아요. 밤낮으로 안녕하세요,구매가능한가요? 이런식의 자동완성채팅에 보내기를 잘못 누르는 사람들 때문에 밤낮으로 짜증이 너무납니다. 정작 자기들은 채팅이 보내진줄도 몰라요. 이딴기능을 왜 만든건지 이해를 못하겠네. 채팅수만 6~7개로 늘고 답도없고\n",
            "고객센터와 연락하는 수단이 오로지 '문의하기' 하나뿐인데 일주일 전 문의건에 대한 답변이 없을뿐더러, 문의가 하나 들어가있는 상태에서는 추가문의도 되지 않으며, 문제 해결되었습니다. 버튼만 있는 상황입니다. 문의내용 히스토리를 리스트 형식으로 보여준다던지 하는 기능개선이 필요해보입니다. 그리고 고객센터와 연락가능한 수단이 추가되어야 한다고 봅니다. 상황에 맞지않는 이유로 제재당한 상태인데 뭐 해결 할 수 있는 방법이 없네요.\n",
            "당근 앱 덕분에 동네에서 필요한 물건을 저렴하게 구하고, 나에게 필요 없는 물건도 쉽게 나눌 수 있어서 정말 유용하게 사용하고 있어요. 특히 고객센터 응대가 정말 빠르고 친절해서 놀랐습니다. 문의할 일이 있었는데 바로바로 답변을 주셔서 문제를 빠르게 해결할 수 있었어요. 동네 기반 거래 플랫폼 중에서는 단연 최고라고 생각해요!\n",
            "아직 시스템적으로 많이 부족하고 고객선터운영도 수준이 많이낮아요.누군가신고하면 한차례경고나 알림도없이 이용정지당해서 본인은 그사실도 모른체 혼자 당근바보놀이 하고있는거에요.차라리본인도 사용정지를 시키는게낫지 이게뭐하는짓인가요 또 고객센터에 이럴글을올리거나 안좋은글을 올리면 이용정지 풀어주지도않고 답변쌩깝니다. 답답한건 고객이니 아주 요런거는 잘이용할줄알아요. 답변도 없고 이용도안되고 저믿고 거래하고 계약금까지 걸고하신분들한테 졸지에 돈받고 먹튀한인간취급만들어요.오히려 당근이 사기꾼을 육성하는 어플입니다. 다들조심하세요 하루빨리 당근 대항마어플이 나왓으면 하는바램입니다. 요즘시대 고객센타 콜센터운영도 없고 시대가어느시대인데 글로만 고객센타운영하는 곳이 당근입니다. 얼마나 떳떳하지못하면 이렇게하는지 정말 찌질한 어플입니다. 당근덕분에 사기꾼취급받고 떠납니다. 곧 ●되길 기원할게요.\n",
            "여러개 팔기 기능 쓸모가 없네요. 무한 로딩만 뜨고;; 3번째 시도해 봄. 당근 강종하고 임시저장한 걸 불러와서 등록한 사진 일부가 제대로 안 뜨는 상품만 사진 재업로드 하고 판매버튼 누르니 그제서야 올라감^^ 시간 낭비 오지게 하게 만들어서 기분이 주옥같아요. 해결 안해주면 별 1개 유지합니다 ㅅㄱ요\n",
            "당근을 잘 사용했던 이용자입니다. 최소한 이용정지에 대한 정확한 명분을 가지고 이용정지를 해야하는거 아닌가요? 어느순간 갑자기 영구정지라... 리뷰를 보니 나만그런게 아니 많은분들이 억울함을 호소를 하는게 보이는데 개선을 하지를 않고 영구정지만 하네요. 참나\n",
            "당근 잘 이용중이었는데 갑자기 로그아웃 되면서 2031년까지 이용 금지라고 뜹니다. 아무런 이유도 모른채 갑자기 차단당하고 사용자는 그냥 그러려니 해아하나요? 연결 가능한 고객센터도 없고 문의는 무조건 앱으로만 가능 너무 답답하네요. 나중에 보니 외부채널 유도로 인한 사기가 이용 정지 사유라는데, 카카오톡 오픈채팅이나 타 사이트로 유도한 적도 없고 한순간에 당근때문에 사기 친 사람 되서 굉장히 기분 나쁩니다. 이용정지 사유가 이게 맞는지요? 리뷰 보니까 억울하게 이유도 모른채 차단 당한 분들이 한 두명이 아닌 것 같은데 괜히 AI 도입해서 사용자들만 불편해지네요. 이용정지 풀어주세요.\n",
            "최악임. 영화 대리예매도 아니고 이미 예매된 티켓을 사정상 시간이 안되서 판매하는데, 바로 이용제한 걸어버림 ㅋㅋㅋㅋㅋㅋㅋㅋ 고객센터에 글 남긴지 이틀이나 지나고 3일째인데 답변도 없고, 그렇다고 유선 고객센터가 있는 것도 아니고 잘 이용하다 뒤통수 맞음 ㅋㅋㅋㅋㅋㅋㅋ\n",
            "아동물품을 팔아도 성인물품 판매로 신고되어 3일씩정지되는데 고객센터에 문의하면 답변이 오기까지 걸리는 시간이 5일이 넘을때가있고 이용자가 이렇게많으면 전화를 걸수있는 고객센터가 필요함에도 본인들 편의를위해 메세지로 문답을받는 고객센터만있음. 이와 비슷한어플이 나온다면 금새 망할꺼임\n",
            "누가 악의적으로 제 상품을 신고한 것 같아요. 저는 그저 상품을 올렸는데 어떤 것에 어긋난? 뭔 신고를 먹었더라고요. 잘 기억은 안납니다. 근데 상품은 그냥 동화책이었습니다. 규정에 어긋나는 거 하나 없고 그냥 중고책만 올렸는데 이상하네요. 몇 주 동안 못 쓰다가 다시 올리고 쓰고 있는 데 온도도 내려가 있고 당황스럽더라고요.\n",
            "당근운영이 엉망입니다. 제가 2년 전에 이삿짐 개인용달 이용한 적 있는데 그 사람이 옮기는 과정에서 가구에 구멍내고 심한 기스내서 있는그대로를 후기글 올렸더니 갑자기 전화와서 처음엔 게시물 지워달라 하더니 나중엔 욕까지 하고 허위사실로 경찰신고하겠다더니 진짜 했더군요. 그런데 그 사람 말이 거짓이라 사건처리조차 안됐는데 그게 2년전 일인데 얼마 전에 그 후기글에 혐오 부분 있다며 저의 후기글을 숨김처리한다는 알림이 왔더군요. 참 어이가 없죠. 오히려 그런 악덕 이삿짐 개인용달을 제재해야 할텐데 오히려 저의 사실대로의 후기글을 다른 사람도 못보게 하다니./또 제 기존 폰이 고장나서 중고폰 안드로이드 7버전인데 당근앱 사용 못하네요. 다른 대부분의 앱은 가능한데 당근도 사용가능 버전 올리기보다 더 많은 사람들이 사용할 수 있게 버전을 낮출 것을 제안합니다. 좀 구형 폰 이용자도 사용가능하게 해야지요. 그리고 아직 그런 폰 사용자도 많습니다. 당근 때문에 폰 바꿀 수도 없는 노릇이고요.\n",
            "악성 신고자 때문에 거래 금지 물품이 아니고 설명 글에 잘 썼는데 자꾸 정지됩니다. 동일한 걸 파는데 오히려 설명 없이팔아서 거래 금지로 생각되는 사람은 계속 판매중이고 신고 처리도 되지않음. 신고가 자동으로 처리되는 것 같은데 너무 허술하고, 고객센터 답장이나 처리는 엄청 느린데 누가 쓰고 싶겠냐구요. 그동안 많이 거래하고 온도 높여 봤자 이런 식으로 관리하는데 판매나 구매하고 싶겠냐구요\n",
            "업데이트 이후로 판매 게시글 올릴때 자동으로 AI가 분석해서 내가 쓴글은 싹없어지고 이상하게 분석한 글로 자동으로 만들어져서 두번이나 다시 입력해야 하고 그리고 최근에 체팅하기는 없어지고 자동으로 안녕하세요.구매가능합니까? 이걸로 되어서 잘못눌릴까봐 매번 조마 조마 하네요 이것좀 없애주세요 너무 불편합니다 가면 갈수록 편해지기 보단 더 불편하게 만들어져서 이용하기가 힘듭니다 개선할거면 이런걸 하지말고 쓸만한걸로 해주세요\n",
            "갑자기 정지먹었어서 2030년까지 제한이되었네요 예전에도 한번그랫는데 잘사용하지않아 그러려니했는데 이번에도 이유를알수없이 로그아웃당하고 정지먹었습니다! 고객센터 번호도없고 메일.연락답장도늦으니 너무답답합니다 매너온도49도로 매너있게 잘사용하고있었는데 이게 무슨황당한일이니지 당근사기하는사람이나 잘단속하시지 선량한사람까지 이유없는 계정정지너무기분나쁘네요!\n",
            "종종 유용하게 사용중인데 너무 불편하고 찜찜한부분 있어서 리뷰로 의견 남겨요 조금만 오래 검색하면 메모리가 쌓이는지 점점 로딩이나 스크롤 느려지고 나중에는 오류도 발생해서 앱한번씩 나갔다 들어가서 사용중입니다 불편해요 또 게임을 하는것도 아니고 단순 검색인데 폰발열도 발생하는거 같네요 오래 검색한것도 아니에요 10분정도 검색하면 이런 현상이 발생하는거 같습니다 기본기능에 문제가 많은거 같은데 인지는 하고 있는건지 개선은 되는건지 궁금하네요!!\n",
            "분명 중고거래어플이고 무료 나눔 옵션이 있는 앱인데 아이러니하게도 나눔을 원한다는 내용의 글은 작성이 안됨. 중고로 쓸만한 물건 구하는게 이 앱의 사용 용도일텐데 그것과 전혀 반대되는 운영정책임. 상품을 내놓으라고 강요하는 것도 아닌데 그걸 문제삼을거면 좀 가격 깎아달라는 네고도 상품가격과 별도로 받아먹는 택배비도 전부 칼같이 이용제한해야겠네? 안그런가? 이 무슨 말도 안되는 운영정책인지 모르겠다. 그리고 당근전화 기능이 있음에도 기능이 제대로 작동하지 않는 것은 물론. 매번 자동으로 통화가 취소당한다. 중간에 응답 없음으로 뜨는 경우가 한 두번 정도 있어 확신은 불가능하지만 아마 거의 분명함. 그리고 노쇼에 대한 대응이 매우 미흡함. 약속 깨고 도망치는 사람은 안잡고 비매너 평가밖에 못하게 해놨으면서 막상 나눔 좀 받겠다는 사람은 일단 막고 보겠다? 이게 사기장려어플인지 중고거래어플인지 정말로 감이 안온다. 차라리 다른 어플로 갈아타야만 할거같다. 만나서 더러웠고 다신 보지 말자.\n",
            "당근이용하다가 전문판매행위로 몇번이나 게시글 전부 삭제됐어요. 옷을 너무 좋아해서 많을뿐이고 같은게시글 올려본적도없고요. 규정 잘 지키면서 사용했고 일주일에 70개나 글올릴수있다고 홍보하길래 사용했는데 아무 게시글이나 누가 악의로 신고하면 제재가 되더군요. 가족들꺼까지 총 4개 제재당했구요. 게시글이 몇개없던 계정도 그냥 막 제재가 됩니다. 당근은 고객센터가 없어 cs팀에 문의를 해야하는데 이것마저도 ai 매크로답변이 오구요. 몇십번 계속 문의하다가 포기했습니다. 가족들 계정들까지 여러개있어도 단 한번도 같은 물건 올린적없구요. 퇴근후 3-4시간씩 열심히 사진찍어 치수재고 올렸던 몇백개 글이 사라졌어요. 옷 뿐만이 아닙니다. 네이버검색 해보시면 이런케이스 엄청납니다. 이와중에 진짜 사기치는사람들, 매장있는사람들은 잘만 글 올리더군요. ex) 재고할인해요, 건강식품, 전자기기 등. 그런사람들은 아무리 신고넣어도 아예 제재안받고 잘만 팔아요. 당근 관리 너무 의심스럽습니다.\n",
            "AI 기능 보완이 필요합니다.. 기능 켜져있어도 내가 쓴 건 유지되겠거니 하고 글 다 쓰고 마지막에 사진 업로드 했더니 미리 써놓은 글까지 확인 없이 싹 교체해버려서 기능 끄고 다 다시 작성했어요. 사진 업로드 때 이미 작성해놓은 내용 싹 무시하고 추천 뜨길래 선택했는데도 오류인 건지 확인 버튼도 안 보이고 제대로 기능을 안 했구요. AI 작성 내용을 '추가'할 건지 그걸로 '교체'할 건지 그냥 내가 쓴 내용으로만 갈 건지, 이 세 가지 선택지는 나오게 해주세요..\n",
            "며칠째 고객센터에 문의했지만 아직 답변을 받지 못했습니다. 사용자 문의에 대한 신속한 응대가 이루어지지 않아 매우 아쉽습니다. 더불어, 매장에서 고객 테스트용으로 제공되는 화장품 테스터 제품이 개인 간 거래로 판매되고 있습니다. 이는 위생과 안전 문제로 소비자에게 위험할 수 있는 부분이며, 이러한 게시글이 신고 후 삭제되더라도 해당 판매자가 아무런 제재 없이 계속 활동하는 점도 문제라고 생각합니다. 앱 자체는 편리하지만, 운영과 관리 부분에서 개선이 필요하다고 판단합니다.\n",
            "리뷰 처음남겨본다. 최악이다. 아무 이유없이 정지당했는데 말할곳도 없다. 메일 보냈지만 감감무소식이다. 여기서 답변다는놈도 ai인가? .. 메일을 보냈지만 읽기만하고 답변도 없다. 너네들 일좀 똑바로해라. 차라리 유료화를 하고, cs업무 최소인원이라도 배치를 하던가. 당근으로 메일도 보냈고 여기서 컴퓨터처럼 답변하는 앱리뷰 거기로도 메일보냈으니까 빨리확인하고 처리좀해라 진짜..\n",
            "당근온도 99도 사용자로 사기 신고 등 당근마켓의 건전한 거래를 위해 활동하고 있습니다. 최근 허위 비매너 활동정지로 확인되어 해제된지 얼마 되지도 않았는데, 또다시 며칠만에 일부 거래자 및 사기꾼들의 보복성 및 반복적인 비매너 신고로 제가 계속 사용정지를 기계적으로 당하고 있는 거 같습니다.(이전 문의내역 참조) 이점을 고려하시어 너그럽게 활동정지 해제를 요청드립니다. 너무 스트레스 받네요. 활동정지 당할때마다 그 기간이 길어지는데, 차라리 계정 탈퇴를 하고 재가입하는게 좋을까요? 항상 기계적인 답변만 하는 당근마켓측이 원망스럽네요. 제발 신중히 검토해 주시고 빠른 조치를 취해 주시면 좋겠습니다.\n",
            "전문판매업자 아닌데도 불구하고 정지당했어요;; 정지 풀렸는데도 게시글이 다숨김처리돼서 다시올렸는데 그것때문에 또 전문판매업자라고 정지당했네요 대환장..ㅋㅋ AI도입때문인것같은데 너무 검증도없이 도입한거아닌가요? 지금 리뷰나 네이버 검색만해도 당근문제점이라고 많이나오는데 더 신뢰잃기전에 개선필요해보여요 그리고 당근 홍보기능? 진짜 별로에요\n",
            "갑자기 로그아웃되서 다시 로그인하니 그사이에 누군가 제아이디로 다른번호인증받아서 여러게시글에 핸드폰번호 남기면서 문자유도 하는 거래내용이 남았는데 이게 가능한 일입니까 그거때문에 2030년까지 정지 당했고 당근페이에 있는돈도 출금 못하고 있습니다. 로그인도 아예 안되고 고객센터 답변도 못듣고 답답해죽겠는데 방법없습니까 계정도 삭제해버리고싶은데 로그인도 막으면 우짭니까\n",
            "부동산 상가매물 끌어올리기 하니까 API 비정상호출내역? 이게뭔 뜬구름잡는소리인지 영문도모르고 갑자기 영구정지를 시킴 문의하니까 복사붙여넣기한 답글달림 다시문의남겼는데 답장이없음 내가뭘했다고 영문도모르는 API 비정상호출인지 나발인지 ?? 내 명의핸드폰으로 내명의계정이고 혼자쓰는당근계정임 고객센터 운영 이따구로하면서 정지제제 띡 하면 끝? 당사자는 하염없이 언제달릴지도모르는 답변만 기다려야하고? 내가 뭘했는데? 부동산 상가매물 끌어올리기 했고 문의들어온체팅 답변했더니 뭔영구정지?\n",
            "당근 사기당했는데 8월 16일 거래한 채팅창 아이디 알 수 있을까요 은행이랑 계좌는 알 고있는데. 채팅장 복구 기능도 있으면 좋겠습니다 거래한 아이디 보기 기능이나. 판매 정지 기간은 하면서 고객센터가 없네요\n",
            "운영방식이 별로네요. 갑작스럽게 아무런 사유 없이 2025년 4월 22일까지 총 5년간 이용이 제한되었습니다. 거래를 하겠다고 한 분이 거래가 불발되자 악의적으로 무고하게 저를 신고하 것 같습니다. 저는 그분이 거래를 원하지 않는다고 하셔서, 그분께서 보내신 예약금 3만원을 즉시 그분의 계좌로 돌려드렸습니다. 제 채팅 내역을 확인하셔도 됩니다. 그분이 거래를 불발하셔서 다른 분과 내일 오후 3시에 거래하기로 했는데 당근 이용 제한이 되면 저는 거래를 하지 못합니다. 갑자기 이런식으로 한쪽말만 듣고 증거도 없이 이렇게 운영하는건 진짜 바뀌어야 겠네요. 정말 어이가 없어요. 네이버를 찾아보고 이 어플 리뷰도 찾아보니 이런 경우가 참 많네요. 억울한 사람들이 많아요. 이용할 마음도 점차 사라지고요. 억울하고 불안해서 어떻게 사용해요.\n",
            "갑자기 이용제재가 되어 문의글 남깁니다. 이용제재 이유가 전문판매 행위로 되어있는데 저는 의류업을 하는 사람도 아니고, 의류와는 전혀 관계없는 제품 디자이너로 일하고 있는 평범한 직장인 입니다. 와이프와 제가 자주 안입는 옷들이 많아 당근으로 판매하고 있는거고, 같거나 비슷한 다량의 옷을 판매하고 있는것도 아닌데 전문판매행위 사유로 이용제재당했네요. 누군가 허위신고를 한 것 같은데, 제 판매내역들을 확인도 안해보고 신고만 들어왔다고 판매제재를 하는건가요? 판매내역만 확인해봐도 전문판매업자가 아니라는것이 확인 되실텐데요.... 매너온도도 떨어졌구 가족의 당근에서 확인 해 보니 제 판매물건들도 노출이 안되네요... 그동안 매너있게 거래하고, 나눔도 꾸준히 해서 몇몇 단골분들도 생기고 나름 좋은 이미지 였었는데 이런일을 당하니 억울하고 속상하네요.. 빠른 해결 부탁드립니다...\n",
            "직장에서 일하던 중 알림이 오거나 짬 날 때 보던 중에 사고 싶은 물건을 발견해서 연락하려고 하면, 번번이 동네 인증에 막힙니다... 도대체 이 멍청한 시스템을 누가 무엇을 위해서 설계한 건지 모르겠지만, 이건 판매자를 위해서도 구매 희망자를 위해서도 좋지 못합니다. 대체 왜 대화도 못하게 막습니까?\n",
            "사용잘만하다 담날에 앱 켰더니 갑자기 29년까지 정지통보를당해 이유라도 들어보려고 고객센터에 두번정도 문의넣었었는데 뭐가 문제인지는 아무것도 안알려주고 29년까지 사용정지라고만하네요 심지어 2번이나 문의를 남겼는데 두개다 같은 답변ㅋㅋ 최근일도 아니고 2년전인일이지만 진짜 어이가없어서 리뷰에라도 적어봅니다\n",
            "당근 알림이 떠서 알림창에서 클릭을 하면 관련 글이 안뜨네요. 버그인지 모르겠지만 개선이 필요합니다. 판매상품 키워드를 설정해두고 알람이 떴을 때 그 알람을 클릭하면 알람으로 뜬 판매상품 게시글이 바로 떠야하는 게 아닌가요? 안뜹니다 안떠요. 그냥 앱이 실행되고 메인페이지가 뜹니다. 그럴꺼면 뭐하러 알람을 설정하겠어요. 25년 7월 7일 기준 아직도 알림설정 판매글 올라온거 앱푸시 눌러봐야 이동도 안함 별 한개로 수정\n",
            "정말 최악의 앱. 사기가 너무 빈번하고 고객센터 대응도 한참 부족함. 다른 서비스 이것저것 만들고 광고하고 수익화 할시간에 기본적인거 부터 보완하세요. 괜히 평점 1점이 많은게 아님. 진짜 이해가 안가는게 사기치는 놈들은 주기적으로 탈퇴했다가 가입하더라 도대체 정책이 어떻게 되는건지 진짜 최악이다. 신고시스템 좀 뜯어고쳐라. 개발에 돈 좀 쓰라고 맨날 광고해서 돈 벌생각말고 기본적인게 안되는데 수익만 추구하고 있네\n",
            "비즈프로필 후기를 작성할때 , 실제로 구매 확인이 된 사람들만 후기를 작성할 수 있었으면 좋겠습니다. 구매하지 않고도 허위적으로 악의적 댓글을 작성하는사람들이 있는데 제 마음대로 바로 삭제도 못하는 상황과, 점 세개를 눌러서 항의하는 과정 자체가 답답해요. 영구삭제도 아닌 30일 보류라니요? 게다가 의의 신청을 하게되면 다시 업로드하고, 방통위에 심위접수를 직접해야하는 상황까지 참 어이가없습니다. 그리고 그런 거래 없는 후기 및 허위성 후기를 남기신 분들의 제제가 필요하다고 생각합니다. 확인 후 조치 부탁드립니다. 감사합니다.\n",
            "며칠전부터 알림이 너무 많이떠서 보니 관심해둔 물품에 불필요한 알림들이 추가됐네요. 곧팔릴지도모른다 누가채팅을했다 누가관심을눌렀다등등 삭제좀해주세요ㅡㅡ아니면 알림설정에서 끄게해주세요. 관심물품 가격변동 알림 제외하고는 저런알림 전혀필요가 없어요. 불편해요. ----------------- 최근 업데이트 됐다고 답변 주셔서 설정에 들어가보니 \"관심 게시글의 가격 하락, 새 관심 등\" 이라고 통합되있어서 누가 채팅을 했어요 관심수가 높아지고있어요 팔릴지도몰라요 이런알림은 어디서 끄나요...? 가격하락만 알림받고싶어요 ㅜ\n",
            "무고정지시켜놓고 답변은 이따구로 주고 \"부정 호출이란, 당근 최신 앱 버전에서는 이미 삭제 되어 사용할 수 없는 기 능을 사용하려고 시도했다는 의미입니다. 이는 해당 기능이 아직 사용되고 있었던 과거의 앱 버전에서 보안 조치를 우회하기 위해 최신 버전으로 버전을 조작하는 것 이외에는 발생할 수 없는 상황입니다.\" 일반 사용자가 중고거래 어플 해킹해서 뭐한다고 이딴소리 하는거?ㅋㅋㅋㅋ 이래놓고 정지 절대 안풀어준다고 못질까지 하네 ㅋㅋㅋㅋㅋ 재문의해도 답 절대 안오고 쓰레기같은놈들\n",
            "번호를 바꾸고 다시 깔아 예전 계정으로 로그인 했어요 그리고 거래 후 잠시 앱을 지웠다 다시 깔았는데 그 이후로 로그인도 회원가입도 되지 않아요 거래 하나 했고 그 거래도 제가 구매한것이며 건전하게 잘 끝냈는데 왜 정지당한건지 모르겠어요 앱 자체는 정말 좋은데..\n",
            "안녕하세요 당근 앱을 사용하고 있는 사람입니다. 다름이 아니라 당근 채팅에서 글을 읽으려고 하는데 새 거리 두 개가 있는데 표시만 돼 있고 채팅 상황 문제 있는 거 같습니다. 읽은 표시가 안 돼 있고 제 핸드폰에도 문제 있나 싶어서 저는 다시 껐다 켰거든요. 당근 앱에서 서버가 접촉이 잘 원하지 않은 것 같습니다. 앱을 제거하고 다시 실행했는데 접속이 불가능하다고 안 되네요 . 버그수정 좀 부탁드리겠습니다. 그리고 답변 기다리겠습니다.\n",
            "다른 문장으로 채팅을 시작하고 싶은데, 기본 문장을 지우면 보내기 버튼 자체가 막혀서 채팅을 할 수도 없고..... 대체 이게 무슨 쓸데없는 기능인가요?????? 쉬운 거래 예문을 주시려면 일단 채팅창을 만들어 들어간 후에 키보드 위에서 누르게 해주시면 좋을 것 같네요.\n",
            "당근을 굉장히 잘쓰고있는 유저입니다 이번에 나온 ai로 상품 올리기에 할말이 많은데요 첫번째는 상품과 관련이 없는 글이 입력된다는겁니다 이렇게 되면 글을 두번이나 써야해서 번거롭습니다 두번째는 ai를 껏다 켰다하는 버튼이 있다는겁니다 이건 굉장히 좋지만 문제는 계속 유지가 되는게 아니라 글 한개당 버튼을 눌러야 한다는겁니다 이거때문에 버튼 누르는걸까먹고 ai작성을 한지 2~3번은 넘는거같습니다 만약 정식으로 나온다면 설정에 on off를 하는기능이 추가되면 합니다\n",
            "항상 잘 이용하고 있는데 계정에 억울한 이용제재를 당해서 고객센터에 문의했는데 일주일 넘게 답변을 안주시는건 뭐죠? 그리고 제 문의글을 다시 확인해보려하면 계속 오류나면서 앱 자체가 튕깁니다 제 문의 내역좀 확인 부탁드리고 빠른 답변 좀 부탁드립니다 답답해서 죽을지경입니다\n",
            "갑자기 로그아웃이 되길래 다시 로그인하려고 시도했는데 안돼서 문의를 넣었더니 답변이 와서 고유아이디를 알려달라고해서 닉네임만 알고 고유아이디를 몰라서 웹으로 당근에 접속해서 올려놓은 글을 찾아서 고유아이디를 알아보려고 했는데 글이 삭제되어있고 제가 제재를 당한거더라구요? 그래서 다시 문의를 했더니 외부 채팅앱이나 링크로 유도를 했다는데 그런적이 없어서 그런적이 없는거 같은데 내가 그랬다는 게시글이나 그런걸 보여줄수있냐고 문의를 여러번 넣었는데 감감 무소식이네요 4월 21일부터 지금까지 이게 무슨일인지.. 여기 고객센터 정말 최악입니다 전화 상담은 커녕 톡으로 실시간으로 상담할 수 없는데다가 문의 남겨놓고 기다려도 답도 없고 답은 메일로 주는데 그거에 대한 답장을 하려면 다시 고객센터에 문의 넣어야하고.. 정말 번거롭네요 제재 관련 문의넣은거 언제 답변 받을 수 있죠? 정말 어이없어요 제재를 가한 사유 제대로 증명해주셔야 할겁니다\n",
            "내 돈 내놔요. 캐쉬 5만원 넣어 놓은거 계정 없앨거면 왜 넣놓을 수 있게 했고 넣 놓고 며칠만에 계정 삭제했고 기존 채팅으로 기프티콘 거래한거 없어졌는데 다 내놔으라고요. 당신들은 남의 돈 웃읍게 보는거 같은데, 계정 폭파 시킬거면 돈도 내 놓고 알아서 하라고요 메일 알려달라고 했으면서 알려줬는데 왜 메일도 없는 거에요?\n",
            "당근마켓이 안전하다는 말도 다 옛말입니다. 특히, 교환권 거래의 경우 사기피해 사례가 급증하고 있습니다. 이에 따라 강력한 대응 및 법적 조치가 필요해 보입니다. 수사기관에서는 소액거래의 경우 수사중지를 해버리는 경우가 많기 때문에 소액거래든 고액거래든 사기피해가 이루어질 수 없도록 당근마켓 자체에서 사용자들을 관리하고 조치를 취해주세요.\n",
            "평소 만족하며 잘 쓰고있있었는데 이번 업데이트가 너무 최악이라 리뷰남깁니다 이미 지적한 분이 계신데, 채팅으로 인한 불편이 심각하네요. 그냥 구경만 하고 싶은 상품이었는데 실수로 보내기 버튼이 눌러져서 채팅이 가기도 하고, 원치않는 문구가 발송됩니다. 자동 채팅 기능이 온/오프 되어 사용자가 선택할 수 있도록 하던지, 업데이트 이전으로 돌려놓던지 반드시 개선이 필요하네요 말씀드렸듯 너무 잘쓰고 있었는데 이런..실제로 테스트 해봤나? 싶을 정도로 실사용 하기에 어이없는 업데이트에 화가나서 리뷰 남기게 되었습니다 해당 기능이 개선되면 별점 고치겠습니다 개선 부탁드립니다.\n",
            "AI 도입 이후로 필요없는 기능 생겨서 별로입니다. 추가로 이상한 편지 시스템이 생겼는데 구매자가 보내준 편지도 아니고 AI 가 생성한 글인데 그거 읽는다고 변하는게 있지도 않고요. 별로 후기를 남기고 싶지 않은 구매자. 판매자가 생겼을 때 피드백인줄 알고 후기 남겨버렸네요.\n",
            "당근 처음 나올때부터 잘 쓰고있었고 매너지수도 괜찮았는데 얼마전 안입는 옷을 팔려고 택배거래 하기로 했다가 폰을 분실해 연락이 두절되는 바람에 구매자로부터 신고를 당했었어요. 어찌저찌 해서 연락이 되고 사정을 얘기하고 늦어서 미안하다고 새옷 두벌까지 챙겨서 보내드렸더니 구매자분도 이해하고 신고취소 문의를 여러분 했는데도 불구하고 당근측에서는 이유불문하고 사기잠적이라고 2030년까지 영구정지시켜버렸습니다. 당사자끼리 해결이 잘 되서 거래가 완료됐으면 끝인거지. 무슨 횡포부리는것도 아니고 이런 과도한 제재를 왜하는지 모르겠네요. 콘텐츠분쟁위원회에도 분쟁조정신청을 했었는데 조정참여 권고서를 발송해도 당근측이 대꾸도 안한다고 재차 참여 권고 발송을 했다네요. 이제보니 당근마켓이 아주 대단한 벼슬입니다. 이깟 앱 안쓰면 그만인데 저따위로 횡포를 부리는걸 진즉에 모르고 여태껏 저것들 도와준게 분하네요. 당근은 이제 쓰레기통으로 쏙~\n",
            "알림 메시지에 :) 이런 이모티콘을 쓰시고 사적인 말투로 알림이 와서, 푸쉬알림으로 봤을때 이용자가 보낸 채팅 메시지인줄 알고, 왜 이용자가 내 이용내역을 아나 싶은 순간 착각에 아주 깜짝 놀랐습니다. 제 착각이긴 한데 무슨 소규모 동호회 카페 공지도 아니고 좀 이상하긴 하네요.\n",
            "당근앱을 통해서 거래 지역 범위를 설정하여 편리하게 중고 아이템을 구매 및 판매 또는 나눔을 할 수 있어서 편리합니다. 하지만 당근거래 규칙 중에 거래금지 물품이 당근거래 규정 완화로 거래되고 신고하기 위해 규정을 율법읽듯이 알고 있지 않으면 거래금지품목이 당근거래 리스트에 올라가 금방 거래되곤 합니다. 게다가 외환 화폐를 국내화폐로 수수료 없이 환전 거래 하고 있어서 방치되고 있는점을 보아 당근앱의 모니터링이 굉장히 허술하다고 체감하고 있습니다. 환각성분이 들어 있는 초콜릿도 당근에 올라온 적도 있었습니다. 이 부분도 신경 써주셨으면 좋겠습니다.\n",
            "ㅋㅋㅋ vpn키고 앱 잘못클릭해서 29년까지 계정제한 당한것도 웃긴데 저번주 금요일에 그거 관련해서 조금더 빨리 푸는방법없나요라고 문의했는데 지금까지 답변이 한통도 안오는건 뭔가요? 사람들이 많아서 고객센터 바쁜건 이해하겠는데 저번주 금요일에 문의했는데 화요일 밤까지 연락한통도 없는건 좀 아닌거같습니다. 고객센터가 제일 최악이네요\n",
            "당근 고객센터는 어플 이용자를 무슨 뭐 호구로 생각하나요?? 고객센터에 메일 백날 보내도 다 씹히고 무시 당하고.. 진짜 화가나서 욕 나오네요. 메일 3통 보냈습니다. 당근 고객센터에서 제가 평점 낮게 남겨서 그런지 보복 응대 하셨더라구요 ^^ 제가 어플 이용자로써 솔직하게 평점 남기는게 뭐가 잘못되었나요? 어플이 그지 같으니까 솔직하게 후기 남긴거죠. 제 판매글중 대부분이 다 강제 숨김처리 되었어요. 물론 통보 하나 없이요. 더 웃긴건 제 계정으로 볼때는 다 판매중인것 처럼 보이도록 해놔서 제 남편 계정으로 들어가기 전까지는 숨김처리 된줄도 몰랐네요. 아주 어플 이용자를 호구로 아시나봐요ㅎㅎ 숨김처리 된줄도 모르고 3달 동안 곧 이사 예정이라 열심히 판매글 올리고 사진찍고 아주 호구짓 제대로 했네요. 메일 보내도 읽지도 않고 다 씹히고, 그래서 제가 사용하는 모든 온라인 커뮤니티(네x트，네x버 등)에 당근 고객센터측의 보복응대 관련 글 싹 다 올리는 중입니다. 수고하세요~~\n",
            "당근앱을 잘 이용하다가 어제부터 이용제한 2029년 4월 11일까지 이용을 못한다고 뜨네요.. 이용하는데 너무 불편합니다 사기공고를 올리지도 않았고 사기업무를 지시한적도 없는데 지시했다는 이유로 영구정지 당했습니다. 고객센터 문의하기로 여러번 문의하였으나 답변은 거의 안오네요 불편한 앱입니다. 조치 부탁드려요\n",
            "지역 고르는거 동생이 두번 잘못 눌렀는데 제 쪽에서 잘못한거긴하지만 전화번호같은 중요한거 틀린것도 아닌데 정지먹이는건 좀 심한거같은데요. 정지 아닌 정지 때문에 알바지원했는데 뽑혔는지 안뽑혔는지 알 방법도 없고 뽑혔다해도 답장도 못하게 생겼네요. 깐깐한건 좋은데 너무 꽉 막혀있잖아요. 지역 틀렸다고 1주일 정지는 너무 길어요. 짜증나네요.\n",
            "당근 잘 사용합니다. 근데 부동산은 아파트를 올리고 몇개월뒤 부동산 인증을 하라고 해서 주소를 적는데 없다고 뜹니다 . 60일뒤면 글이 없어진다면서.. 저번에 등록한걸 복사를 해서 넣어도 안뜹니다. 그 아파트는 없는 아파트입니까? 저번엔 등록이 되었는데 지금은 왜 도로명이 없다고 뜨는지 똑같은 다른 아파트는 다뜹니다. 지번은 저번에 등록한 주소가 아니라서 등록이 안되네요. 또 1층 ~15층까지 세대 호수 다 포함되어서 너무 많아 밀려서 안나오는건지 이것좀 어떻게 처리 부탁드립니다.\n",
            "지역 설정이 이상합니다. 화양동을 두면 거리 최대로 했을 때 화양동이 가운데가 아니라 구석 쪽으로 치우치고 위쪽으로만 범위가 늘어납니다. 영동대교 건너 청담 쪽이 훨씬 가깝고 가기도 더 수월한데 범위가 위쪽으로만 늘어납니다. 더 멀고 가기도 불편해요. 반대로 지역을 청담으로 하면 화양동 구의동까지 포함이 됩니다. 지역 설정 수정해 주시면 좋겠어요.\n",
            "계좌번호로 송금요청하는 경우가 있는데 상대자가 계좌입금을 취소하고 현금거래를 원하거나 거래가 취소되는 경우가 있어요. 제 계좌와 이름만 공개되는 상황인데, 개인정보가 저만 공개되는 것 같아 꺼림찍한 기분이 드네요. 개선이 필요합니다. 삭제도 안되네요.\n",
            "문의 내용에 대한 답변이 없습니다. 다른 것도 아니고 사기 피해 관련 문의 내용에 답변이 없고, 메일로 보냈더니 어플에서 문의하라는 내용만 돌아옵니다. 어플에서 한 문의는 묵묵무답이네요. 당근이 전화로 고객센터를 운영하지 않는건 선택이지만 문의 내용에 대한 답변은 cs에서 필수라고 생각합니다.\n",
            "보이스피싱으로 인해 핸드폰 초기화시킨 이후로 당근앱설치가 안되고 있습니다 30년까지 가입이 안된다고 하는데 무슨일인지 이해가 안됩니다 사용하는 동안 아무 문제없이 잘사용했고 거래도 잘하고 있었던터라 이유가 궁금해 연락드립니다 닉네임:취소\n",
            "중고 판매 게시글을 일부 허위신고 악용하는 사용자가 신고해서 해당게시글 미노출 처리되고 제재 당했는데, 확인도 제대로 안하고 잘 이용하는 사용자만 제재 시키는 어플^^, 몇달전부터 허위신고 사용자는 제재도 안시키고 오랜 사용자만 제재시키네 뭐 발전이 있긴한가요?\n",
            "최악의 앱. 하지도 않은 운영정책 위반했다고 하면서 막아버리는 악덕업체. skt처럼 보안도 안되서 해킹위험도 있는것 같음. 전혀모르는 아이디로 중복된 로그인으로 인해서 5년동안 접속안된다는 당근ㅋㅋㅋㅋㅋ 어이없다 어이없어. 이용계약등록증 보냈더니 이번엔 정책위반했데 ㅋㅋㅋㅋㅋㅋ ㄷㅅ들 안쓰고말지\n",
            "최악이네요. 매너거래로 매너온도 유지중이었고 심지어 최근 거래도 없었는데 갑자기 계정 잠김되더니 2030년까지 계정 로그인이 안된다고 합니다 사유도 없이 락걸리고 당근페이로 받았던 돈은 로그인이 안되니 인출도 안되는 상황. 고객센터 문의하려고 하는데 수차례 시도해도 어플 오류로 전송화면에서 넘어가 지지도 않음 전화번호 찾으려하는데 고객센터 전화번호도 따로 없음. 회사가 운영을 이렇게 해도 되는건가 싶은 조치네요. 당근 관계자님 이 글을 본다면 문의가 가능한 메일주소 남겨주시고 조치해주시기 바랍니다.\n",
            "안녕하세요.당극마켓 거래잘하고 있다가 갑자기 외부채널유도 란 이유로 갑자기 이용정지가 되었는데요.이게 뭡니까..제가 사기를친것도 없는데 어떻게 된일인지요?아무 이유없이 이유하나 딸랑뜨고 정지되었다하네요.무슨 이런저런 이유로 글을잘못썼으면 이유를 얘기해주고정지를 시키든말든 하셔야지요.아무것도사기같은것도 친게없는데 갑자기정지됐다고.정지로인해 로그인도 안되고 뭘어떻게 하라는건지요.답답하고황당하네요..빠른답변 부탁드립니다.\n",
            "당근 거래 자체로는 만족합니다만 문의사항에 대한 답변이 너무 부족합니다 최근 영화관람권 거래글로 인해 거래중지가 자꾸 되고 있는데 대리결제로 인한 거래중지라고 안내만 되구요 단순 관람권 판매가 왜 대리결제에 해당되는건지 물어봐도 AI답변인지 엉뚱하게만 답을 하네요 답답합니다 정지를 풀지도 못하고 어쩌나요\n",
            "남의 멀쩡했던 물건 못쓰게 만들어도. 말한마디 못하는 곳인가 봅니다 양심없는것들 모아놓고. 꽁양 꽁양 정말 그지같고 넘 좋아요 돈 환불해주고 살때 30만원에사서 1년밖에못쓴걸 되팔지도 쓰지도못하게 만든걸 얘기하는게 감정을 상하게 하는글에 랍니다 명성대로 넘 그지같고 좋은 어플이에요 강력 추천합니다 양심도 중고로 판 양아치집단 어플\n",
            "명품 정품여부 확인도 안하고 바로 가품 이미테이션 사유로 이용제한 시키네요 문의글 몇번 올려도 AI답장 똑같은 답장만오고 아무것거 해결되지않네요 해결안되니까 자꾸 문의글 남기고 오히려 여러번 문의글 남겼다고 이제는 답장을 안준다고하네요 명품정품을 판매했는데 왜 증거조사도 없이 활동정지를 시키나요? 이에대한 답변을 몇번 문의글 남겨도독같은AI답장만 오고 이에 대한답변 듣지고 못했어요 너무 억울해미치겠네요 전문판매행위 유사품목 대량판매행위 이용제한 시키네요 집에 사놓고 안입는 신제품 의류 신발을 판매글 올린건데 이것도 제재시키네요 억울해미치겠네요 문의글써도 똑같은AI 잡장만오고 이럴거면 고객센터왜존재하는지모르겠어요\n",
            "당근 마켓 사기꾼하고 대화하다 오히려 제가 사기꾼에게 신고를 당하여 억울하게 차단당했습니다. 전후사정을 알고나서 차단을 하였으면 선의의 피해자가 생기지 않았을텐데 아쉽습니다. 확인하여 차단 풀어주시면 감사하겠습니다.\n",
            "아진짜 화납니다 업데이트 왜 이렇게 해놨나요 안녕하세요 구매원합니다 이거 왜 해놓은거예요; 잘못누르게되는 위치와 가격제안도 색이 빨간색이랑 회색이있던데 뭐가다른건지 그냥 업데이트 안한게 더 나아요 아 짜증나ㅡㅡ 이런 업데이트 기능때문에 더 당근하기 싫어지고 덜들어옵니다;;\n",
            "진짜 어이없는 경험이었습니다. 별 1개도 아깝네요. 그냥 평범하게 앱만 쓰고 있었는데 'API 비정상 호출'이라는 말도 안 되는 이유로 계정이 영구 정지당했습니다. VPN도 안 썼고, 외부 앱도 설치한 적 없는데, 아무 설명 없이 로그만 보고 '무관용 원칙'이라며 일방적으로 정지. 억울하다고 문의해도 제대로 확인하지도 않고 AI처럼 복붙된 답변만 반복해서 줍니다. 정말 사람이 검토하는 건지 의심될 정도로 복사-붙여넣기된 말만 똑같이 반복되고, 어떤 부분이 문제였는지에 대한 설명조차 없습니다. 당근은 정상 사용자도 언제든지 이런 식으로 영정당할 수 있는 구조입니다. 문제 생겨도 소통 안 되고, 해결도 불가능합니다. 이 앱을 신뢰하고 오래 썼던 제가 바보였다는 생각만 듭니다. 다시는 쓰지 않겠습니다. 주의하세요.\n",
            "규정이 너무 사소한 것에만 일처리가 빠르고 깐깐해요. 합당하지 않은 가격, 악의적으로 플미 붙여서 파는 사람들이나 잡아주셨으면 좋겠고 이런 행위와 관련해 신고 항목을 새로 개설해주셨으면 좋겠어요.\n",
            "리뷰만 봐도 이용 정지에 대한 불만이 수두룩빽빽인데 어플 규모 확장하고 이것저것 새로운 영역 늘릴 생각만 하지말고 당근마켓 본질인 중고거래 플랫폼 개선부터 해라. 뭔 비슷한 카테고리 물품 여러개 올리면 전문판매업자라고 신고를 당하지 않나 신고 내용에 대해서 제대로 검토를 하기는 함? 신고만으로 정지가 되는 시스템도 이해가 안 되지만 문의 내용에 대한 답도 무슨 매크로마냥 답하는 게 솔직히 아무짝에도 쓸모 없고 성질만 남. 내가 안 쓸 거 같은 영화관 1+1 쿠폰 올렸는데 전달 가능한 쿠폰이 아니라 예매만 내가 해주겠다고, 내가 돈 벌겠다고 판매글로 올린 것도 아니고 나눔으로 올렸는데 뭐가 아니꼬와서 대리결제로 신고를 하고 정지까지 시키냐? 내가 무슨 영화 티켓값 카드깡해서 부귀영화를 누릴 것도 아니고 진짜 아까운 맘에 누군가라도 쓰면 좋을 거 같아서 올린 건데 당근에 아무튼 배알 꼴려하는 사람들 천지임. 근데 관리하는 사람들도 수준이 똑같음. 리뷰 이렇게 달리는 이유에 대해서 개선할\n",
            "당근 고객센터 전화로 할 방법이 없어서 답답합니다. 구매자가 입금한단 말도 없이 당근페이로 입금했고 저는 입금받은지 모른상태에서 쳇을 안 읽고있었는데 그사이 저는 사기꾼이 되어있었고 이용정지당했습니다. 이용정지되어 당근페이돈도 인출도 못하는 시스템이 너무 열받네요. 이용정지를 빨리 풀어주셔서 당근페이 돈 인출되게 해주세요. 당근페이 돈 받기도 수락버튼있으면 좋겠네요. 일방적으로 돈보내고 사기꾼취급 받는것도 기분 더티하네요.\n",
            "어제까지 멀쩡했는데 오늘 당근거래하면서 이미지 전달을 하니 이미지가 까맣게 처리되어 보내지네요. 더군다나 다운로드해봐도 실패하고 있습니다. 일부러 막은게 아니라면 테스트 하나없이 앱 배포를 한거 아닌가 싶네요. 원상복구 해주세요\n",
            "살면서 앱 리뷰 처음 남기는데 너무 어이가 없고 황당해서 이런 신박한 운영 방식으로 잘 되고 있는게 신기할 정도 임. 악의적인 신고로 전문판매업자로 계속 정지 당하더니 100개가 넘었던 판매글들은 내 앱에서는 다 보여지고 끌어올려지고 검색도 되는데 뭔가 이상해서 보니 다른 사람 앱에서는 모든 항목이 아예 0개. 내 눈에만 보이고 다른 사람한테 안 보이게 다 날려놓으면 누가 뭘 보고 사거나 나눔을 받지? 고객센터 운영이 전화도 아니면서 그럼 제대로 알아보고 써주던가 AI처럼 문의 글에 답변은 다 복사, 붙여넣기에 해결 의지 0.1%도 없고 앵무새처럼 같은 말만 반복. 전문판매업자로 신고 당해서 억울한 사람은 많은데 제대로 해결되었다는 사람은 못 봄. 다들 문의하고 속 터진 사람만 있던데.. 아무나 막 신고하면 검토도 안 하고 자동으로 되는 이런 말 같지도 않은 시스템. 그만 써야 하나 싶다.\n",
            "진짜 너무 짜증나네요 고객센터 답변.. 해결되는 것도 없고 뭐 어쩌라는건지 싶은 말만 늘어놓고 끝 진짜 짜증나요 다시 문의하기도 귀찮고 어차피 문의해도 똑같을테니 그냥 짜증나는 상태로 끝내야 해서 너무 짜증납니다 ㅡㅡ 당근 고객센터 문의해서 제대로 해결된 적이 없어요\n",
            "당근 채팅 이전 채팅하기 버튼으로 돌려주세요 안드로이드 유저는 뒤로가기 버튼 누르기가 익숙해서 편한데 판매글 볼 때마다 뒤로가기 바로 위에 보내기 있어서 자동 채팅 메세지 보내기 누를까봐 조마조마 합니다;; 이거 대체 누구 아이디어인가요 진짜 실수 한번으로 거래자들끼리 서로 불편하게 만드는 기능 좀 넣지 말았으면 좋겠습니다\n",
            "당근 앱을 오랫동안 잘 사용중인데요 새로생긴 AI작성 기능이 불편합니다 글 작성시 제가 쓴 글을 다 지워버리는 점, 사용하기 싫은데 일단 AI작성을 기다려야 하는 점이 너무 불편해요 사용 여부를 선택할 수 있게 해주셨으면 좋겠어요\n",
            "판매자에게 구매하려고 채팅 보낼때 자동채팅 기능이 메세지 창에 같이 있으니 다소 불편합니다. 메세지 보내려고 채팅하면 자동 문구가 먼저 보내져 이중으로 채팅이 전송될때가 있습니다. 기능 버튼을 다른 위치에 두고 완성형 문구를 선택해서 보낼수 있도록 하던가.. 이용객이 채팅은 알아서 할수 있도록 선택형으로 했으면 좋겠습니다.\n",
            "황당하네요 정말 거래이용제한에 해당사항도없는데 그냥 신고 잘못하는사람들때문에 억울하게 정지를 그냥 당해야하는건가요 ? 고객센터 아무리연락해도 제대로 된 답변없이 ai복붙메세지만 답변받고 2029년꺼지 정지라는말만 되풀이고 결국 더러워서 삭제까지햇더니 한참지난 오늘 문자로 메세지확인하라면서 문자왓네요 ㅋㅋㅋㅋㅋㅋ 진짜 어이가없네 정지시키는건 걍 시켜버리고 알람은 보내서 광고는해야허나보죠? 제 정보 삭제나하세요 알람보내지말고 ㅋㅋㅋ\n",
            "유저들의 이용을 바탕으로 성장했는데 고객문의는 남겨도 한달이 지나야 답변이 오는 처리태도에 할말없음. 근데 답변도 사람이 남긴건지 ai복붙수준임. 수년째 개선이 안되는것으로 봐선 개선의 의지가 없다고 봐야함. 광고에 혈안되서 수익창출에 열올리고, 사기꾼들만 잔뜩 양산하는데도 대책은 없음. 오히려 피해자들이 사기조심하라고 올리면 중고거래글이 아니라고 제재하거나 삭제해버림. 그럼 똑바로 관리나 하던가.\n",
            "오신고 하는 사용자에게도 제재를 줬으면 좋겠어요. 구매자가 직접 예매하는 관람권이라고 판매글에 사용 방법까지 써놨는데 그걸 누가 대리예매로 신고해서 한달 정지ㅋㅋㅋㅋ 신고 들어온 거 검수도 안하고 막 정지 때리는 게 맞는 건지?\n",
            "판매글 하나밖에 없는데 늦은저녘즘에 로그아웃되드니 영구제재당했습니다. 사유는 외부채널유도 사기랍니다. 링크에 링자도 쓴적없고 게시한적도 없는데 갑자기 아무이유없이 정지 당해버리니 정말 난감하고 화도납니다. 당근6년동안 이용하면서 이런적 한번도 없었는데 황당합니다. 아무리 좋은 ai를 쓴다고 하지만 상대방입장은 먼저 들어보고 제재를하던 정지를 하던 하는게 순서이지 않을까요? 저는 위반한내역이 맹세코 한번도 없습니다 주말이라 고객센터 운영도 안하고 상담사연결도 안되어서 제 작은낙이였던 당근을 못하니 정말 답답합니다. 그리고 고객센터 당근문의보내고 이메일도 보내놓은 상태입니다. 빠른조취 부탁드립니다\n",
            "당근 정책에 위반되는 어떠한 것도 하지 않았는데 재제당했습니다. 앱으로 문의드렸는데 해결이 되지않아서 리뷰 남겨드립니다. 현재 거래중인 사항이 있어서 빠르게 복구해야 물건을 발송드릴수있습니다. 제발 빠른 처리 부탁드릴게요\n",
            "직거래로 일반 소비자가 사용하기에는 좋은 어플이었습디다.. 그런데 최근 들어 점점 상업적으로 빠져들고 장사꾼들이 너무 판치는 것 같습니다.... 그리고 제발 고장 난 것들 올리지 못하게 해주세요 장난하는 것도 아니고\n",
            "알바도 채팅으로 들어와서 당근알바랑 당근패팅이랑 다 같이 알림창에 묶여서 너무 불편해요. 전에는 채팅이랑 별도로 알바 알림이 와서 따로 볼 수 있었는데 이제 같은 알림묶음에 있어서 채팅온 줄 모르고 그냥 지우다가 몇시간 후에 채팅확인하고 사과하고...그냥 전처럼 따로 알림이 왔으면 좋겠어요\n",
            "앱이 더 이상해짐. 자주쓰는글 선택하면 무조건 아래로 내려가고, 그걸 올리려고 복붙하려고 하면 드래그가 제대로 되지 않음. 그리고 다단계 전문판매업자 엄청 많은데 수십번을 신고 넣어도 제재 안 함\n",
            "당근마켓 관계자님, 최근 중고나라와 번개장터 등 경쟁 업체들이 터무니없는 수수료와 갑질 정책, 유료화 및 프로상점 운영 강제를 통한 수수료 뜯어먹기로 인해 유저들이 불만을 표시하고 있습니다. 당근이 처음 생긴 이래로 지금까지 써왔습니다. 당근이 아니라도 괜찮습니다. 회사측에서 온라인 중고플랫폼을 만들어 운영하시면 분명 시장을 선도하실 수 있으리라 생각됩니다!!!!!! 지금이 정말 좋은 기회가 아닐까 생각이 들어 이렇게 리뷰올립니다. 항상 질 좋은 거래와 소비자, 이용자들을 위한 정책을 펼쳐주시어 정말 감사합니다.\n",
            "와 진짜같은 계정으로 아들과 장난 쳤는데 미성년자 사유로 잘 쓰고 있던 당근 정지 당하고 손님하고 거래하고 있다가 연락 두절 나참 미리 언지도 없고 냅다정지 그리고 아이는계정 당근도 못만드는데 제계정으로 이중으로 만들어서 쓴건데 ai기능으로 알아보지도 않고 정지 그리고는 고개센터 이용불가 문의해도 12일째 그건 해도 해도 너무함 비슷한 어플 기능 있음 갈아타고 싶을정도임\n",
            "판매글에 직접 찍은 사진 한 장이라도 무조건 올리게 해주세요 실물사진없이 물건 판매하는 사람들이 너무 많아요 그리고 내 판매글 관리하는게 예전보다 번거로워졌어요 나의 당근탭에서 서비스항목을 아래쪽으로 내려주세요 내활동 관심목록보다 위에 있어서 너무 불편해요 그리고 채팅보내기 누르면 자꾸 엉뚱한 문구가 전송되서 매번 지워야해요 대체 이런 업데이트는 왜 한건지... 원래대로 돌려주세요\n",
            "대체 왜 뭐 때문에 오류로 인해 인증을해도 못 들어가고 다시 지웠다가 깔아도 안들어가지고 업뎃을 하고도 바뀐게 뭐가 있음..? 진짜 사람 짜증나게 하네요^^ 최대한 빨리 처리좀 부탁 드립니다.\n",
            "편하고 거래외 정보도 좋은데. 이유없이 정지 먹이고 잘 쓰고있다가 계정 삭제되는 경우는 너무 일방적인듯. 사용자가 많아 질수록 이상한 부정의 이용자가 많아지니 당연히 걸러내는 건 맞지만 통보후 진행되는게 좋은것 같아요 일부 거래중인 경우도 있을테니까. 여튼 당근 덕분에 이것저것 편하긴 합니다\n",
            "중고거래 앱중에 가장 나은 앱인것 같습니다.. 쓰기 편하고 정말 잘 만드셨어요. 하지만 별 3개 드리는 이유는 저같은 경우엔 계정이 해킹같은 걸 당해서 정지먹었는데 문의를 해도 답장을 아예 해주질 않거나 ai같은 말투로 계속 똑같은 문자만 와서 문제가 발생해도 해결이 안되요..ㅠ 매너온도 40 넘었는데.. 고객센터는 문의가 불가능한 수준이에요 그점만 빼면 괜찮습니다. 제발 도와주셨으면 하는 마음으로 리뷰 작성해봅니다.\n",
            "일반적이지 않은 방식으로 로그인 한적도 없는데 이런식으로 갑자기 영구이용제한을 시키면 저는 어떻게 하라는 건가요. 정확히 어떤 부분이 잘못되어서 정지한 것인지 제대로 답변해주시고, 제시가 안된다면 이용제한을 빨리 풀어주세요. 문의 남긴지 일주일이 되도록 답변이 없어 다시 재문의 님깁니다. 빠른 시일내에 처리 안되면 콘텐츠분쟁조정위원회에 해당 건 접수 할 예정입니다.\n",
            "일전에 작성한 리뷰에 기초에 기능 개선을 해주셔서 매우 잘 사용하고 있습니다.^^ 이번에도 이용하며 필요성을 느끼는 부분들 작성드려봅니다. 1. 판매자들에 대해서도 관심 혹은 단골 등록이 가능해지게 기능 추가 - 내 관심사, 목적에 부합하는 좋은 아이템들을 다루고 있는 판매자들의 판매글과 매물을 지속적으로 확인-모니터링 할 수 있게, 판매자들에 대해서도 관심-단골 등록 기능을 추가해주셨으면 합니다. 또한 검색에서도 \"판매자 검색\" 이 가능하게 해주시면 이용이 더 용이해질 것 같습니다. 2. pc 버젼의 이용환경, 인터페이스 를 모바일 수준으로 구현 - 품이 많이 들어가는 작업임이 예상되고, 시간이 많이 걸리기도 하겠으나, 일정 기간을 두고 지속적으로 작업해주셔도 좋으니, pc버젼 또한 모바일 수준으로 이용환경을 구축해주시면 좋겠습니다. 유용한 정보들을 모바일로만 보기엔 눈이 너무 아프고, 노트북-데스크탑으로 이용하기에도 좋아야 활용성-확장성 측면에서 이점이 많다고 봅니다.\n",
            "아르바이트나 중고거래 등 약속 공고 올릴때 정확한 장소(주소 번지수)를 알려주지 않아 찾아가고 싶어도 못찾아가는 경우가 종종 있습니다. 저같은 경우도 상대방이 자세한 내용을 전달하지 않아 주소를 몰라서 돌연 취소하거나 심한 경우는 찾아가다 헤매고 결국 헛걸음하는 등 낭패를 본 적 있었습니다. 어플에 건의하기 전에 이곳에 일단 올립니다.\n",
            "최근 업뎃 후 비정상 작동되는 현상이 발생하네요. 개인 1:1 채팅창은 우측상단 점 3개 버튼을 클릭 시 나갈 수 있는 경우도 있고 없는 경우도 있고... 일부 채팅창은 점3개 버튼 클릭 시 아무 반응이 없어서 채팅방을 나갈 수가 없네요. 개선이 필요하다 생각합니다! 감사합니다! 언제 저의 문의에 답변을 주실 수 있는지요?\n",
            "이 앱 사용하시기 전에 다른 앱 먼저 사용하시고 쓰시는걸 추천드립니다. 이용자 대다수가 너무 불친절 하거나, 기본적인 매너 자체가 안되어 있는 분들이 많습니다. 그리고 불필요한 전화 시스템은 왜 있는지 이해가 안되네요 이 점은 고쳐주시기 바라며, 신고 서비스도 개선 해주셨으면 합니다.\n",
            "[오류] 앱이 자꾸 중단됩니다. 백그라운드에 있는데 계속 중단되었다는 팝업이 뜨네요. 앱 실행 시 에도 바로 중단됩니다. 캐시 삭제, 앱 재설치 해봐도 동일합니다. 처음 증상은 글쓰기할 때 발생했습니다. 빠른 해결부탁드립니다...\n",
            "아니 다 좋았는데 당근페이 가입하려고 인증하자마자 갑자기 강제로 로그아웃을 해버리고 로그인 하려해도 사용 이력이(계정이) 없다고 합니다 참 어이가없네요 계정 날라갔구요 강제로 로그아웃 시키는건 진짜 아니라고 생각합니다 거래하려고 당근페이 가입했는데 로그아웃되면 제 계정 갑자기 없어져서 대화하던 상대방분이 얼마나 놀라시겠어요 그리고 당근페이로 이미 보내셨던데 물론 못 받았구요 가입하려다가 로그아웃을 당했으니^^ 실망입니다 이거때문에 스트레스 엄청 받았어요\n"
          ]
        }
      ],
      "source": [
        "for text in texts:\n",
        "    print(text.get_attribute('innerText'))"
      ]
    },
    {
      "cell_type": "code",
      "execution_count": 15,
      "id": "d168442c",
      "metadata": {
        "id": "d168442c",
        "outputId": "a13b9a12-e872-4722-e5fc-75cb3c6c1d3c",
        "scrolled": true
      },
      "outputs": [
        {
          "name": "stdout",
          "output_type": "stream",
          "text": [
            "요증 업뎃하고 당근을 잘 사용하고 있습니다. 특히 ai 도움으로 사진만 올리면 내용들이 알아서 적히고 추가 필요한 글만 적으면 되니 유용하게 잘 쓰고 있습니다. 다만 한가지 부탁드리고 싶은 점이 있습니다. 판매글보고 뒤로 가려다가 채팅하기가 잘못 눌렸는데 ai로 너무 잘되다보니 제가 거래를 위해 누른 것처럼 글이 전송되고 있습니다. 그러다 서로에게 오해만 쌓일 것 같습니다. 이런 부분의 단점을 보완하기 위해 채팅버튼을 눌렀을 때 거래 의사 있는지 확인하는 확인창 하나만 있으면 잘못 눌리는 경우가 많이 줄어들 것 같고 서로에 대한 오해와 불신이 감소할 것입니다.\n",
            "판매중인 물건에다가 안녕하세요 관심있어요 대화걸기 기능 너무 불필요합니다 구매자들의 찔러보기가 너무 심하고, 구매가능한가요? 라는 문장도 아니고, 관심있어요 라고 보내면 뭐 어쩌란건가요. 그 뒤로 불필요한 대화가 오가야해서 구매가능한가요? 또는, 거래 가능한가요? 이런걸로 바꿔주세요 아니면 이 기능 없애주세요 잘못 눌렀다는 사람도 많아요\n",
            "ai 채팅기능? 게시글에서 채팅 바로 보내는 새로 생긴 그 기능 채팅 설정에서 쓸 사람들만 쓰고 안 쓸 사람들은 안 쓰게 on/off 기능 생겼으면 좋겠어요. 뒤로 가기 누르다가 잘못 눌러서 채팅 보내지는게 몇 번째인지. 솔직히 좀 짜증납니다.\n",
            "일단 서비스운영자체 팀이나 인원이 있는지 의문임. 고객센터 연락처는 커녕 사람이 없음. 그저 AI로 대응. 이것도 그나마 아주 최근에 생긴거고 그전에는 문제생기면 답변까지가 2~3일이 기본임. 문제 해결이 아니라 답변만 그정도걸리는것. 그리고 자기네 정책을 안지키면 거의 범죄자 취급함. 제재 5년 먹어서 사실상 영구정지 먹었다는분들 글 찾아보면 수두룩함. 판매자로 거래중에 엉뚱하게 정책위반 몰려서 채팅못해서 사기꾼될뻔한 경험도 있음. 하지만 위에서 말한것처럼 서비스센터 연락처, 사람 없어서 해결이 안됨. 계속 문의해서 따지면 더이상 답변이 불가능하다고 못박아버림. 그리고 갑자기 제재가 풀려있음. 보니까 지들 시스템 오류였다고 미안하다고 알림 보내는게 끝. 유료서비스는 엄청 만들어놓고 서비스센터는 대응 귀찮으니 계속 안만들고 있는게 레전드. 이딴앱은, 회사는 망하게 해야합니다. 저는 불편해도 중고나라, 번개장터씁니다. 이딴 쓰레기 회사는 건강정신에 해롭습니다.\n",
            "1. 제가 상품권판매를 부정하게 한 것도 아니고, 영화티켓 '나눔'글을 올렸을 뿐인데 왜 신고를 먹어야하나요? 해당 영화 티켓을 나눔하고싶고 나눔또한 당근 내의 좋은 문화인데 돈을 받고 대리예매를 해준 경우도 아니고 나눔티켓을 이용할 사람의 상영지점,시간,좌석을 원하는대로 맞춰주려 나눔신청자와 상의 후 예매하고 순수하게 나눔만 했을 뿐인데. 대체 이 게 누구에게 어떤 피해가 가길래 신고대상인가요? 잘 쓰고있던 당근에 납득하기 어려운 부분이라 이용할 마음이 확 떨어지네요. 상식적으로 납득 가능한 명분이라도 안내해주시죠? 과연 있을까요 2. 찜리스트에서 '거래완료'된 상품은 일괄삭제가 가능하면 좋겠네요. 어렵지 않을 기능인데 왜 없는지 신기하네요 3. 간간히 채팅알림이 오지 않음. 그래서 한참 뒤에 확인하게되는 경우가 종종 있는데, 그런 오류 없게 고쳐주시면 좋겠네요. 이 현상을 겪은지가 꽤 오래됐어요. 모든 거래가 채팅으로 이루어지는데 채팅알림이 종종 안 온다는건 큰 에러사항이죠\n",
            "당근 예전에 가입한 기억이 있었는데 지금 다시 설치해서 보니 29년까지 이용 금지라 뜹니다. 가입 후 단 한 번도 거래나 글 하나 써본적도 없었는데 왜 제한이 걸리죠? 제한 사유 같은 아무 메세지도 없고, 억울하게 잠긴거면 제한 풀 수 있는 설정이라도 만들어 놔야지 그대로 나가지는게 끝... 시작도 안 했는데 입구에서부터 느껴지는 이 신박한 운영 방식에 박수가 절로 나오네요\n",
            "다른 모 중고거래 어플과는 다르게 수수료 필수가 아니어서 너무 좋아요! 이왕 이렇게 된 거 전국 거래 기능도 추가해주시면 더 많은 사람들이 편하게 사용할것같은데ㅠㅠ 당근 측에서도 수익을 더 올릴 수 있을텐데 회사 측에서 동네 거래만 고집하는게 아쉽네요. 최근 업데이트 후 한가지 개선되었으면 좋겠는 사항이 있습니다. 최근 생긴 만보기 기능을 사용하면 폰 알림창에 만보기 알림이 떠있잖아요. 그 만보기 알림때문에 당근마켓에서 온 다른 알림이 하나도 없는데도 당근마켓 어플 아이콘에 알림1이 계속 표시되어있습니다. 그게 너무 거슬려요... 다른 앱에서는 만보기 기능 알림창이 떠있어도 앱 아이콘 옆에 숫자로는 안 뜨던데ㅠㅠ 빠른 시일 내에 개선되었으면 좋겠습니다. 참고로 갤럭시 유저입니다.\n",
            "250925 추가: 검색결과에서 원래 좌우 스와이프로 통합, 중고거래 등 탭을 넘길 수 있었는데 업데이트하면서 빠지고 무조건 탭을 터치해야만 넘어가게 개악되었네요. 빼달라는 건 안 빼고 잘 쓰던건 빼버리고... 새로 바뀐 UI 중 채팅을 바로 보내는 기능이 생겨서 너무 불편합니다. 상품 구경하고 있다가 실수로 채팅보내는 일이 자주 생깁니다. 새벽에 강제로 보내져놓고 새벽에 보내는 채팅은 실례가 될 수 있다는 알림을 띄우면 뭐합니까. 이미 의도치 않게 보내져서 민폐를 끼쳤는데.\n",
            "당근 잘쓰고 있는데 최근 한가지 추가기능 퀵쳇이라는 기능 때문에 ..찜하트 누르다가 손가락 실수로 자동으로 띄워져있는 문자 쳇을 보내게 되서 너무 불편해요..어제 또 쳇이 보내져서 상대방이 안읽어서 바로 삭제했음에도 결국 욕(비난)까지 얻어먹어먹고 신고당했네요.. 그전에도 퀵쳇 기능때문에 실수 쳇보내져서 상대방이 읽어 바로 사과했는데 이건뭐 판매글 구경을 신경곧두서면서 해야되는 상황까지 됐네요\n"
          ]
        }
      ],
      "source": [
        "# XPATH 활용\n",
        "\n",
        "# '//*[@id=\"yDmH0d\"]/div[5]/div[2]/div/div/div/div/div[2]/div/div[2]/div[1]/div[1]'\n",
        "# '//*[@id=\"yDmH0d\"]/div[5]/div[2]/div/div/div/div/div[2]/div/div[2]/div[2]/div[1]'\n",
        "# '//*[@id=\"yDmH0d\"]/div[5]/div[2]/div/div/div/div/div[2]/div/div[2]/div[3]/div[1]'\n",
        "\n",
        "for i in range(1,10):\n",
        "    xp = f'//*[@id=\"yDmH0d\"]/div[5]/div[2]/div/div/div/div/div[2]/div/div[2]/div[{i}]/div[1]'\n",
        "    text = driver.find_element(By.XPATH, xp).get_attribute('innerText')\n",
        "    print(text)"
      ]
    },
    {
      "cell_type": "markdown",
      "id": "0f0e7eab-c689-4f66-b70d-d7d5d75c57da",
      "metadata": {
        "id": "0f0e7eab-c689-4f66-b70d-d7d5d75c57da"
      },
      "source": [
        "> XPATH 경로중에 `[]`의 숫자가 바뀌는 구간을 찾아 포맷을 구성하여 반복문 작성"
      ]
    },
    {
      "cell_type": "markdown",
      "id": "21217adf-2488-4a45-808d-6bd900fd7f2b",
      "metadata": {
        "id": "21217adf-2488-4a45-808d-6bd900fd7f2b"
      },
      "source": [
        "### 상위 요소에서 하위요소 찾기\n",
        "원하는 여러개의 요소를 찾을 때 동일한 스타일의 가장 상위 요소 목록을 찾아오고 내부에서 하위 요소를 찾아으면 코드가 간결해지고 유지보수성이 좋아짐\n",
        "\n",
        "<rigth><img src=\"https://drive.google.com/thumbnail?id=1XCmiCyi0LIjfM6wcve-h8Gbw2ZbEwxs_&sz=w1000\" width=\"340\"/></rigth>"
      ]
    },
    {
      "cell_type": "markdown",
      "id": "ddfb79b1-f0b2-4b75-a870-d249f59b643b",
      "metadata": {
        "id": "ddfb79b1-f0b2-4b75-a870-d249f59b643b"
      },
      "source": [
        "#### 상위 요소 목록 가져오기\n",
        "- 상위 요소 목록은 HTML에서 같은 경로에서 반복되는 구조를 가짐     \n",
        "- 상위 요소의 내부 요소는 대부분 동일한 요소 구조로 구성되어 있음"
      ]
    },
    {
      "cell_type": "code",
      "execution_count": 16,
      "id": "ae3868fd-3f38-4487-a215-b088cae343db",
      "metadata": {
        "id": "ae3868fd-3f38-4487-a215-b088cae343db",
        "outputId": "88189b9f-19db-40e4-8faf-fb5e68c4634a"
      },
      "outputs": [
        {
          "name": "stdout",
          "output_type": "stream",
          "text": [
            "220\n"
          ]
        }
      ],
      "source": [
        "# CSS_SELECTOR\n",
        "reviews = driver.find_elements(By.CSS_SELECTOR, 'div.RHo1pe')\n",
        "print(len(reviews))"
      ]
    },
    {
      "cell_type": "code",
      "execution_count": null,
      "id": "7970b8f3-1108-46af-bd97-3313a383c3ae",
      "metadata": {
        "id": "7970b8f3-1108-46af-bd97-3313a383c3ae",
        "outputId": "92560207-aa04-4cc9-877d-1cbe80880ba5"
      },
      "outputs": [
        {
          "name": "stdout",
          "output_type": "stream",
          "text": [
            "220\n"
          ]
        }
      ],
      "source": [
        "# XPATH\n",
        "# '//*[@id=\"yDmH0d\"]/div[5]/div[2]/div/div/div/div/div[2]/div/div[2]/div[i]\n",
        "xp = f'//*[@id=\"yDmH0d\"]/div[5]/div[2]/div/div/div/div/div[2]/div/div[2]/div'\n",
        "reviews = driver.find_elements(By.XPATH, xp)\n",
        "print(len(reviews))"
      ]
    },
    {
      "cell_type": "markdown",
      "id": "d5e8176f-10be-4a62-b944-581d76e026fa",
      "metadata": {
        "id": "d5e8176f-10be-4a62-b944-581d76e026fa"
      },
      "source": [
        "> XPATH 에서 가장 마지막 `[]` 의 순서가 변경되는 경우 `[]`를 생략하여 find_elements에 입력하면 동일 경로의 모든 요소를 찾아옴"
      ]
    },
    {
      "cell_type": "markdown",
      "id": "89d40385-931f-46e1-93f4-a68d63e1eb66",
      "metadata": {
        "id": "89d40385-931f-46e1-93f4-a68d63e1eb66"
      },
      "source": [
        "#### 반복문으로 하위 요소 내용 가져오기\n",
        "- 가져온 상위 요소 객체에서 find_element() 함수를 한번더 사용하여 하위 요소를 찾아옴"
      ]
    },
    {
      "cell_type": "code",
      "execution_count": 18,
      "id": "22ed8224",
      "metadata": {
        "id": "22ed8224",
        "outputId": "e1b34ddf-3dd2-4247-af6c-0039201de0f2",
        "scrolled": true
      },
      "outputs": [
        {
          "data": {
            "text/plain": [
              "['요증 업뎃하고 당근을 잘 사용하고 있습니다. 특히 ai 도움으로 사진만 올리면 내용들이 알아서 적히고 추가 필요한 글만 적으면 되니 유용하게 잘 쓰고 있습니다. 다만 한가지 부탁드리고 싶은 점이 있습니다. 판매글보고 뒤로 가려다가 채팅하기가 잘못 눌렸는데 ai로 너무 잘되다보니 제가 거래를 위해 누른 것처럼 글이 전송되고 있습니다. 그러다 서로에게 오해만 쌓일 것 같습니다. 이런 부분의 단점을 보완하기 위해 채팅버튼을 눌렀을 때 거래 의사 있는지 확인하는 확인창 하나만 있으면 잘못 눌리는 경우가 많이 줄어들 것 같고 서로에 대한 오해와 불신이 감소할 것입니다.',\n",
              " '판매중인 물건에다가 안녕하세요 관심있어요 대화걸기 기능 너무 불필요합니다 구매자들의 찔러보기가 너무 심하고, 구매가능한가요? 라는 문장도 아니고, 관심있어요 라고 보내면 뭐 어쩌란건가요. 그 뒤로 불필요한 대화가 오가야해서 구매가능한가요? 또는, 거래 가능한가요? 이런걸로 바꿔주세요 아니면 이 기능 없애주세요 잘못 눌렀다는 사람도 많아요',\n",
              " 'ai 채팅기능? 게시글에서 채팅 바로 보내는 새로 생긴 그 기능 채팅 설정에서 쓸 사람들만 쓰고 안 쓸 사람들은 안 쓰게 on/off 기능 생겼으면 좋겠어요. 뒤로 가기 누르다가 잘못 눌러서 채팅 보내지는게 몇 번째인지. 솔직히 좀 짜증납니다.',\n",
              " '일단 서비스운영자체 팀이나 인원이 있는지 의문임. 고객센터 연락처는 커녕 사람이 없음. 그저 AI로 대응. 이것도 그나마 아주 최근에 생긴거고 그전에는 문제생기면 답변까지가 2~3일이 기본임. 문제 해결이 아니라 답변만 그정도걸리는것. 그리고 자기네 정책을 안지키면 거의 범죄자 취급함. 제재 5년 먹어서 사실상 영구정지 먹었다는분들 글 찾아보면 수두룩함. 판매자로 거래중에 엉뚱하게 정책위반 몰려서 채팅못해서 사기꾼될뻔한 경험도 있음. 하지만 위에서 말한것처럼 서비스센터 연락처, 사람 없어서 해결이 안됨. 계속 문의해서 따지면 더이상 답변이 불가능하다고 못박아버림. 그리고 갑자기 제재가 풀려있음. 보니까 지들 시스템 오류였다고 미안하다고 알림 보내는게 끝. 유료서비스는 엄청 만들어놓고 서비스센터는 대응 귀찮으니 계속 안만들고 있는게 레전드. 이딴앱은, 회사는 망하게 해야합니다. 저는 불편해도 중고나라, 번개장터씁니다. 이딴 쓰레기 회사는 건강정신에 해롭습니다.',\n",
              " \"1. 제가 상품권판매를 부정하게 한 것도 아니고, 영화티켓 '나눔'글을 올렸을 뿐인데 왜 신고를 먹어야하나요? 해당 영화 티켓을 나눔하고싶고 나눔또한 당근 내의 좋은 문화인데 돈을 받고 대리예매를 해준 경우도 아니고 나눔티켓을 이용할 사람의 상영지점,시간,좌석을 원하는대로 맞춰주려 나눔신청자와 상의 후 예매하고 순수하게 나눔만 했을 뿐인데. 대체 이 게 누구에게 어떤 피해가 가길래 신고대상인가요? 잘 쓰고있던 당근에 납득하기 어려운 부분이라 이용할 마음이 확 떨어지네요. 상식적으로 납득 가능한 명분이라도 안내해주시죠? 과연 있을까요 2. 찜리스트에서 '거래완료'된 상품은 일괄삭제가 가능하면 좋겠네요. 어렵지 않을 기능인데 왜 없는지 신기하네요 3. 간간히 채팅알림이 오지 않음. 그래서 한참 뒤에 확인하게되는 경우가 종종 있는데, 그런 오류 없게 고쳐주시면 좋겠네요. 이 현상을 겪은지가 꽤 오래됐어요. 모든 거래가 채팅으로 이루어지는데 채팅알림이 종종 안 온다는건 큰 에러사항이죠\",\n",
              " '당근 예전에 가입한 기억이 있었는데 지금 다시 설치해서 보니 29년까지 이용 금지라 뜹니다. 가입 후 단 한 번도 거래나 글 하나 써본적도 없었는데 왜 제한이 걸리죠? 제한 사유 같은 아무 메세지도 없고, 억울하게 잠긴거면 제한 풀 수 있는 설정이라도 만들어 놔야지 그대로 나가지는게 끝... 시작도 안 했는데 입구에서부터 느껴지는 이 신박한 운영 방식에 박수가 절로 나오네요',\n",
              " '다른 모 중고거래 어플과는 다르게 수수료 필수가 아니어서 너무 좋아요! 이왕 이렇게 된 거 전국 거래 기능도 추가해주시면 더 많은 사람들이 편하게 사용할것같은데ㅠㅠ 당근 측에서도 수익을 더 올릴 수 있을텐데 회사 측에서 동네 거래만 고집하는게 아쉽네요. 최근 업데이트 후 한가지 개선되었으면 좋겠는 사항이 있습니다. 최근 생긴 만보기 기능을 사용하면 폰 알림창에 만보기 알림이 떠있잖아요. 그 만보기 알림때문에 당근마켓에서 온 다른 알림이 하나도 없는데도 당근마켓 어플 아이콘에 알림1이 계속 표시되어있습니다. 그게 너무 거슬려요... 다른 앱에서는 만보기 기능 알림창이 떠있어도 앱 아이콘 옆에 숫자로는 안 뜨던데ㅠㅠ 빠른 시일 내에 개선되었으면 좋겠습니다. 참고로 갤럭시 유저입니다.',\n",
              " '250925 추가: 검색결과에서 원래 좌우 스와이프로 통합, 중고거래 등 탭을 넘길 수 있었는데 업데이트하면서 빠지고 무조건 탭을 터치해야만 넘어가게 개악되었네요. 빼달라는 건 안 빼고 잘 쓰던건 빼버리고... 새로 바뀐 UI 중 채팅을 바로 보내는 기능이 생겨서 너무 불편합니다. 상품 구경하고 있다가 실수로 채팅보내는 일이 자주 생깁니다. 새벽에 강제로 보내져놓고 새벽에 보내는 채팅은 실례가 될 수 있다는 알림을 띄우면 뭐합니까. 이미 의도치 않게 보내져서 민폐를 끼쳤는데.',\n",
              " '당근 잘쓰고 있는데 최근 한가지 추가기능 퀵쳇이라는 기능 때문에 ..찜하트 누르다가 손가락 실수로 자동으로 띄워져있는 문자 쳇을 보내게 되서 너무 불편해요..어제 또 쳇이 보내져서 상대방이 안읽어서 바로 삭제했음에도 결국 욕(비난)까지 얻어먹어먹고 신고당했네요.. 그전에도 퀵쳇 기능때문에 실수 쳇보내져서 상대방이 읽어 바로 사과했는데 이건뭐 판매글 구경을 신경곧두서면서 해야되는 상황까지 됐네요',\n",
              " '일단 당근 사용해본결과 많은 사람들이 지적하는 AI도입된후 똑같은 무한 답변의 굴레가 문제 많다고 느껴집니다. 그리고 거래중에 판매자와의 문제로 인해 거래취소 할때 소통에서 판매자가 먼저 인신공격을 하여 맞대응 한것뿐인데 당근운영자는 신고를 한 구매자만 이용정지 시키는점에 대해서도 문제가 많다고 생각합니다 [판매자-구매자 동시 이용정지를 하는게 아니라 구매자만 정지시킴] 전체적인 내용을 검토하지 않고 왜 한사람만 일방적으로 정지시키나요? 심지어 내용캡쳐후 문의하기 남겨도 똑같은 답변은 진짜 큰 문제라고 생각합니다.',\n",
              " '앱 내에서 모든 알림 확인했고 최신버전인데 당근앱 숫자1 표시가 사라지지않아 문의를 넣으려고 하는데 앱 내 고객센터에서는 ai 만 있고 심지어 그 ai 선택지 중에 위와 같은 항목은 아예 없어서 불편하네요 무슨 고객센터를 이런식으로 운영하나요 ai qna로 해결 못하는 건은 메일로 문의하기나 1대1 문의가 가능해야하는거 아니에요? 그렇게 못할거면 왜 고객센터가 있는지 의문입니다',\n",
              " '\"동일상품이나 유사상품을 짧은 기간에 반복적으로 올리는 행위\"를 하지 않.았.는.데.도. 전문판매업자로 갑자기 분류되어 한 달 이용정지 당하는건 도대체 어떤 상황이고 무슨 기준인가요? 저 기준에 해당하지 않는데도 그냥 묻지도 따지지도 않고 제재 풀어줄 수 없다는 똑같은 AI형태의 답변만 오고 선량한 개인 사용자인지 제대로 살펴보지도 않는 고객센터는 언제 개선이 되나요?',\n",
              " '0.1점 없나요? 이용제한을 너무 쉽게 주시는 것 같은데 신고하기로 눌러도 전문판매업자들 휴대폰20대씩 컴퓨터 10대씩 올리는 건 제재안하고 개개인이 집에 있는 전자기기들 올리는 건 정지시키다니.. 이런 경우가 한 둘이 아닌 것 같은데 빨리 다른 플랫폼이 생겨서 잡아먹혔으면 좋겠습니다.',\n",
              " '잘 사용하던앱이 갑자기 어제부터 내물건 등록할때 이미지 등록버튼을 누르면 이미지 목록을 보여주지못하고 튕겨나갑니다 다른 기능은 모두 정상인데 이미지 등록만 안되서 판매글을 못쓰고 있어요 가만히두면 배터리 광탈까지 되구요 갤럭시s10 유저이고 다른 앱들은 이상이 없는데 확인부탁드립니다',\n",
              " '그동안 당근 너무 잘쓰고 있었는데 요근래 문장 자동완성 기능때문에 큰 불편을 겪고 있어요 그동안 불편한게 없었는데 도대체 이건 왜 만들었는지 전혀 이해가 안 되네요 요즘 이사때문에 정리할 물건들이 많아서 당근에 많이 올리고 있는데 실수인 건지 잘못 오는 문자가 하루에도 두세 통씩 됩니다 분명 자동 문자 기능이고 제가 답변을 하면 그쪽에선 답이 없어요. 아마 실수로 누른 거겠죠. 왜 이런 걸 만들었는지 정말 불편하네요. 예전처럼 돌려주시던가 개선 부탁드려요',\n",
              " '판매글을 올리면 게시글이 30초도 안돼서 미노출 처리됩니다. 왜 게시글이 미노출 처리되냐고 당근에 문의를 해도 며칠이 지나도 답변을 하지 않아요. 제재 내역을 확인해 보면 자동화된 방식(비정상 앱 사용 등)으로 게시글을 반복적으로 올려서 미노줄 처리되었다고 합니다. 올린 게시글의 수가 3일에 10개도 안되고 게시글도 휴대폰으로 직접 사진 촬영해서 하나하나 올리고 있는데 무슨 자동화된 방식으로 게시글을 반복적으로 올렸다고 미노출 처리를 하나요? 앱도 쓰레기고 회사 운영 방식도 쓰레기 같아요.',\n",
              " '검색(돋보기) 화면과 모든 메뉴의 화면이 터치하면 검은색 화면이떠요. 앱을 지우고 다시 깔아도 동일증상입니다. 왜 이러는지 알려주세요. (오류 해결한 방법) 캐쉬삭제 -> 동일한 오류증상/ 앱 삭제후 재설치(동일증상)->전원 껐다 켬->오류 해결됨',\n",
              " '25/10 수정해 주셨네요. 감사드립니다 ㅡㅡㅡㅡㅡㅡㅡㅡㅡㅡㅡㅡ 카톡보다 더한 그지같은 업댓. 왜 챗을 미리 입력해놔서 실수로 자꾸 눌려져 상호간 불편하게 만드는건지 정 미리 입력해 놓고 싶음 최초 채팅 시작은 이대로 보낼까요? 한번 컨펌받고 최종 전송되게 하던가.. 다들 불편하다는데 안바꾸는 고집은 존경합니다 진짜 생각이란걸 좀 하고 만듭시다!!',\n",
              " '잘 사용 중인데 한 가지 기능만 더 있으면 좋을 것 같아요. 본인 물건 내에서 검색하는 기능이 있으면 좋겠습니다. 물건이 많아서 등록을 했었는지 안 했었는지 헷갈리는 문제가 있더라고요. 생기면 정말 편리해질 것 같아요.',\n",
              " '사기 이용제한이라고 해서 글 남깁니다. 채팅 내용 캡쳐해서 올립니다. 전 판매자고요. 상대는 구매자입니다. 지난 추석때 구매자가 구매한다고 하였고 연휴라 구매자가 13일 월요일에 구매가능하다해서 구매자가 먼저 일부금액 입금 제안하여 판매금액 30만원 중 네고하여 29만원에 판매하기로 하고 3만원 예약금 받았습니다. 남은 26만원은 거래 장소에서 만나서 주기로 하였습니다. 그러던 중 전문판매업자라고 이용제한되었고 기존 채팅은 이용가능하나 11월 15시50분경 일하고 있어서 10분정도 연락을 늦게 봤습니다. 그러고 전화로 얘기하고 싶다고하여 전화번호 알려드렸고 12일 밤에 올수 있다고하여 12일 밤에 만나서 거래하기로 했습니다. 10분 연락늦게 봤다고 사기 의심이라고 5년 정지가 말이되나요? 고작 3만원때문에? 매크로 답변하지마시고요. 빠른 답변해주세요.',\n",
              " '최소한 제재를 할 거면 최종검토는 사람이 직접 해야 하지 않을까 싶습니다? 완벽하지도 않은 ai를 남용하시는 것 같네요. 문제도 없는데 갑자기 시정하란 경고도 없이 5년 정지 제재받아서 매우 황당하고 불편합니다. 또 문의는 왜 이렇게 하기가 힘든가요? 문의하기가 제출이 아예 안되고, 고객센터 전화번호는 기재된 것이 없고, 문의하기로만 불편사항 받을 거면 문의하기 서비스라도 잘 되어있어야 하지 않나요? 제발 개선 좀 해주시기 바랍니다. 당근페이 빼고 여러모로 불편한 게 많습니다. 알람을 당근이고 폰설정이고 다 켜뒀는데 채팅알람이 제때 안 오는 건 기본이고, 당신근처 취지는 알지만 사용자 니즈랑 동떨어진 취지고요, 비매랑 사기는 못잡는데 일반이용자는 ai제재 먹이고요. 갈수록 짜증나는 서비스입니다 + 현재 문의 27일만에 답 옴',\n",
              " '동네 설정할 때 나오는 주황색으로 된 거리가 닿는 동네 범위가 업데이트 한 후에 표시가 안됩니다 당근의 없어선 안될 기능인데 업데이트가 불편하고 이해할 수 없네요 알바 검색도 일부 공고글이 노출이 안되는 경우가 있습니다. 나중에 보면 올라온지 하루 지났는데 그전에 검색했을 땐 노출이 안됐거든요. 확인 바랍니다. 그리고 텍스트 필터링 되는 것 수정 바랍니다 알바 지원하는데 숫자, 성별 등이 *** 이런 식으로 필터링 되어 기본적인 내용 확인도 불가한 어려움이 있습니다 이건 당근 알바 이용하는데 어려움이 있네요 고생 많으십니다',\n",
              " \"당근 앱을 정말 잘 사용하고 있는 유저로서 대부분 만족스럽지만, 최근 업데이트 후 조금 불편한 점이 있어 리뷰 써봅니다. 1. 판매글을 쓸 때 AI를 이용해서 자동으로 글 쓰는 기능을 원하지 않는데 가끔 자동으로 선택될 때가 있어 글을 다 지우고 다시 써야 할 때가 있습니다. 판매글 쓸 때 AI로 글쓰기 기능이 자동으로 선택되는 점은 수정해주셨으면 좋겠습니다. 2. 원래 '채팅하기'가 있던 곳과 비슷한 위치에 '보내기'가 있어 이전 화면으로 돌아가려다 실수로 채팅을 보내버릴 위험이 높아졌습니다. 아직까지 실수를 하지는 않았지만 이전 화면으로 돌아갈 때마다 불안해서 물건 구경하기 조심스러워진 건 사실입니다. 이 점도 꼭 개선해주시면 좋겠습니다. 위의 단점들만 제외하면 AI가 시세를 보여주면서 가격을 제안하거나 자동으로 키워드를 제시해주는 등 장점도 있습니다. 덕분에 참고하면서 유용하게 잘 쓰고 있습니다.\",\n",
              " '1. AI와 대화하기 싫어( 고객센터는 아예 AI가 나와 ) 요기에 글 남김.!! 2. 오늘 웬종일 똑같은 상품만 뜨는 오류!! ㅠㅠ 한사간 후, 2시간후에 들어가봐도 ( 첫 화면에) 계속 같은 상품만 뜨는 이유가 뭔가요?? 이러니 요즘엔 거래가 더 안되는거 같고..ㅠㅠ ( 왜냐하면 다른 분들도 저 처럼 실망하고 바로 나가버릴테니.) 3. 빠른 개선 조치 부탁드립니다.',\n",
              " '중고거래 글 밑에 자동으로 \"안녕하세요, 구매가능할까요?\"같은 채팅보내는 버튼 잘못 누르는 경우가 많아서 불편합니다. 고객센터에 말하려니까 Ai로 바뀌었네요? 그리고 Ai로 자동 글쓰는거 끄게 하고 싶은데 자꾸 지멋대로 문장써서 불편해요. 이상한 기능 좀 다시 제발 없애주세요. 말할 때가 여기밖에 없어서 글 남겨요.',\n",
              " '본인들이 사용하다가 중고로 판매하는 거다. 어떤 상태인지 도무지 알 수 없고 교환 및 환불도 되지 않는데도 문의를 하지 말라고 한다. 🤔 어이없는 경우다. 중고 판매 가격대도 어이없는 시세로 판매한다. 양심이 없다. 설명조차 성의없는 경우도 많다.',\n",
              " '잘 사용하고 있습니다. 근데 오래 사용하다가 느끼는 점이 문고리 거래 사기나 대면 거래에서 갑자기 나오지 않는 등 사전에 대처가 불가능하고 사기를 당해야만 그 이용자가 제재를 받는 시스템 이라 안 좋아요. 약속장소에 나오지 않더라도 사기가 아니면 몇 시간 이후에는 정지가 풀리더라고요. 대부분의 거래는 잘 이루어지지만 이런 경험이 점점 쌓일수록 신뢰가 떨어지고 있어요.',\n",
              " '별한개도 주기 싫을 정도입니다. 어느날 갑자기 제가 작성한 모든 게시물이 다른 사람들에게 안보여요. 문의하니 AI가 무한반복 같은 소리만 하네요. 제재도 없었고 이유도 모릅니다. 앱다시 깔고. 계정로그아웃 로그인 앱캐시삭제 등등 열번도 더 했는데 그대로네요. 넘 스트레스 받아서 차라리 계정을 없애는게 나을거같아요. 앱이 불안정하고 시스템이 완벽하지 않으면, 고객센터에 최소한 소수라도 상담원이 있어야 하지 않을까요?',\n",
              " '무한으로 광고를 즐겨요! 중고거래 앱인데 중고물품 4개마다 1개의 광고가 무조건 나옴. 심지어 중고물품의 비중인 4개 중 알바, 가게 광고가 포함이 되어 목록이 구성됨 또한 다들 살기 팍팍해졌는지 괜찮은 매물의 비중은 거의 없으며 기존 가격보다 오히려 비싼 매물이 올라옴(호구잡이가 많다) 몇번 당하고 보다보니 사기전 무조건 검색을 해야하며 하나하나 검색을 해도 괜찮은 매물이 아니기 때문에 차라리 그냥 정가 구매하는게 낫다',\n",
              " '당근 알바배너 알림 관해서 말씀드립니다. 제가 \"차단하기\" 한 사용자나, \"이 사용자의 글 보지 않기\" 누르면 알림이 안와야되는 거 아닌가요? 특정 사람의 알바공고를 보기 싫어서 차단해도 계속 알림오고 글이 보이네요. 매번 올려대는 한두사람의 알바공고 보기싫다고 겹치는 알바배너 알림을 전부 끌 수도 없는 노릇인데 정말 불편합니다.',\n",
              " '상대방이 채팅했을 때 알림이 오지 않거나 느리게 오는 경우가 부지기수입니다. 이것 때문에 약속이 엇갈리거나 오해 산 경우가 한두 번이 아닙니다. 왜 유독 당근마켓 채팅만 이러는지 모르겠습니다. 앱설정, 핸드폰 자체 설정에서 모든 알림 허용해 놓은 상태고, 지금 사용하는 기종은 노트10+입니다',\n",
              " '비즈프로필 상품판매탭이 없어서 중고게시글에 상품판매글을 올렸는데 광고비 들여서 비즈프로필 광고를 할때는 아무제재없다가 광고를 안하니까 제제됨되고 상담좀 하려고 했더니 앵무새마냥 똑같은말만 반복하는 AI밖에 없네요 광고비 쓸때는 돈받으니 괜찮고 광고안하니까 정지시키는거 좀 기업이 할짓인가 싶네요',\n",
              " '계정 탈취,사기의심된다고 갑자기 계정정지 시킴. 고객센터에 이유 물어봐도 정확한 답변 안해주고 그냥 운영방침이니까 나도 해줄수없다 나몰라시전. 제재사유를 정확히 안내해주지도 않고, 확인 제대로 하지않고 그냥 기분 내키는대로 계정 정지시키는곳 같음. 내가 사기를 쳐? 계정 탈취해? 정확한 이유라도 좀 알려주면 납득하는데 그런거 없음. 그냥 운영방침이라하고 넘어감.',\n",
              " '당근 찐애용자입니다!! 실사용 경험에서 몇 가지 기능이 추가됐으면해서 제안드려요 1.프로필에 자기소개 문구 추가하는 기능 사람 자체의 거래성향을 간략히 소개하는 칸이 있으면 좋을 것 같아요. (ex. 화장품 교환 신청 받고있습니다, 네고 사양합니다 등) . 각 매물마다 쓰면 글이 길어지는 단점이 있고, 추가되는 요청사항들이 생기는 경우 모두 수정해야하는 불편함이 있습니다요...ㅠ 2.글 일괄 수정하는 기능 자주 쓰는 문구 기능을 써도 일일이 눌러서 반택,거래위치 문구 수정하는 것도 번거롭고 안내사항, 거래 방식을 일일이 눌러서 수정해야하는 상황이 넘 막막해요ㅠㅠ 젭알 추가부탁드려요 3. 미리 채팅하기 기능 없애주세요 잘못 누르는 사람들이 많아요 4. 거래매물 아래에 문의사항을 댓글 형식으로 공개하는 기능 같은 질문하는 당근러들 중복되면 매번 거래채팅보내기 귀찮아요.간단한 문의사항(유통기한,브랜드,사용횟수 등)은 댓글로 다같이 볼 수 있으면 편할것같네요',\n",
              " '소유중인 컨테이너 올림 딱 한 번 올렸는데 5년 이용 정지시킴 다른 사람들은 컨테이너 거래 잘만하던데 왜 정지가 됐는지 물어봐도 명확한 답변도 주지 않음, 체계라는게 있는지 의문. 동네 구멍가게도 주먹구구식으로 이따위로 일처리 안함 왜 정지됐는지 명백한 답변ㄱ, AI로 앵무새 같이 복붙하지 말고, 성의가 없네.',\n",
              " '오랜기간 자주는 아니어도 가끔씩 사용하면서 잘 쓰고 있었는데 최근들어 구매 문의를 하고 답장이 없거나 약속을 잡고나서 구매의사가 없어졌는지 갑자기 차단을 한다거나 구매하는거 맞냐 물어도 아무런 대답 없이 취소하는 경우가 많아졌는데 이런 사용자들 때문에 전보다 판매하기가 굉장히 까다로워졌습니다 갑자기 예약이 취소되거나 채팅수가 많은데 판매되지 않은 물건에 대해서 하자가 있다는 편견이 생기기 마련이고 판매자도 심리적 타격을 입을수 밖에 없어서요 이런 행동을 반복하는 사용자들의 응답률과 매너온도도 나쁘지 않아서 비매너를 판단할 수 있는 지표마저 객관성이 없어졌는데 해당 문제 개선이 시급해보입니다 최근들어 당근에 대해서 안좋은 기억만 쌓이고 있어요',\n",
              " '동네걷기 동의 했더니 계속 알림 상단에 만보기가 떠서 너무 거슬리고 귀찮아서 지워도 걸으면 또 뜨고 불편해서 동의 풀었는데 왜 계속 뜨나요? 밧데리만 더 먹게시리 안뜨게 하는 방법 알려주세요 . ------------- 9월20일 토요일. !!!어플 지우고 다시 깔앗는덷ㆍㄷ 상황 알림판에 원치도 않읏 걸음 수가 나옵니다. 그런데 정확하지 않아요. 하루종일 집에만 있었는데 6700보. 핸드폰은 160보인데. 코딩 좀 잘 했음 좋겠어요 귀찮게 말고',\n",
              " '이유도 안알려주고 멋대로 계정 정지함. 이유 확인해보니 자기들이 전산상 오류 있어서 실수로 한거임. 온도 안돌려줌. 몇달 째 문의하기로 주고받는데 속터짐. 이럴거면 고객센터 운영을 하든지 뭐 문의 남기면 며칠만에 답장오는데 전에 했던 말 반복. 정지 풀었다고 하는데, 그럼 되는데 제가 안된다고 문의를 할까요? 당연히 안되니까 문의하지 하..',\n",
              " '정책이 너무 그지같음. 고객응대 전화하나없이 문의하기에 매크로 복붙 빠른채팅 개선요망. 제재하기 운영진이 때리면 그냥 수긍해야함. 제재품목이 게시글로 올라가서 장기노출 후 누적된 신고내용으로 제재하는 방식인듯. 운영약관을 안 읽어본것도 문제겠으나, 게시글신고가 누적되는 중간시점에 시정요청을 해야지 그냥 누적되면 이용금지 떠버림. 게임타이틀에 청소년 이용불가가 있다고 며칠간 노출시키다가 갑자기 정지를 맥인다? 청소년이용금지 미디어가 음란물도 아닌 레데리, 라오어 이딴건데 어이가없어서ㅋㅋㅋ 아니나다를까 한소리 하러들왔는데 댓글이 가관인데ㅋㅋㅋㅋ 빠른채팅을 3초누르면 보내는걸로 바꾸라고. 구매자판매자도 불편한 상황을 왜만드는데? 그 많은 당근직원중엔 그생각 하는사람 없음? 진짜 운영 뭣같이한다',\n",
              " '어이가 없네.\\x00. 가입후 판매 약 110건 완료했고 온도 52도 넘김 근데 갑자기 이용제제 시키더니 이유가 쓰던 번호로 사기 신고 들어온적있다고 25년 6월18일 신고 나는 6월27일가입함 이때까지 판매 110건과 온도52도 받으면서 사기1도 안치고 거래잘했는데 어이없게 제제 시켜버리네 쫌 재대로 확인하고 제제 시키던가 그냥 막무가내 로 제제 시키네 ㅋ 이용가치 1도 없음',\n",
              " '채팅 자동 생성.. 채팅 보내기? 자동으로 입력하는 기능 좀 없애주던가 아니면 글을 정말 보내시겠냐고 물어보는 기능을 추가하던가 할 수 없을까요? 당근에 이상한 사람들 생각보다 정말 많아서요. 판매하려고 글을 올려놨는데 채팅에 \"안녕하세요. 구매 가능할까요?\" 만 누르고 사라집니다. ㅡㅡ 한두 명도 아니고 하루에 몇 명씩... 일일이 다 대답해줘도 답은 없고... 진짜 너무 피곤해요. ㅠㅠㅠ ㅡㅡㅡㅡㅡㅡㅡㅡ>> 그리고, \"구매 가능하세요! 직거래랑 택배 원하시는 거래 방식 알려주세요\" 하면 택배예약이 자동으로 뜨는데 이게 채팅 마지막에 남아있어서 택배 거래 하라는 줄 알고 그런가.. 미리 읽고 제 내용은 보지도 않아요.. 이런 자동 설정이 있기 전엔 사람들이 저런 벨튀 같은 행동은 안했는데 .. 많아도 너무 많아요. 대책이 시급합니다ㅠㅠ ㅡㅡㅡㅡㅡㅡㅡㅡㅡㅡㅡㅡㅡㅡㅡ>> 마지막으로, 매너온도 4.1은 사용 못하게 해야 하는 거 아닌가요? 약속 잡아놓고 장소에 안 나옴.',\n",
              " '최근에 업데이트된\" 안녕하세요. 관심있어서 연락드려요!\"기능은 아무 쓸데도없는데 왜 만든건지 모르겠음 실수만 유발할뿐인 기능이니 예전으로 되돌리는게 낫고 물건 올릴때 AI 안쓰고싶은데도 자동으로 써지니 번거로움 온오프가 됐으면좋겠음',\n",
              " \"자동채팅기능 없애주세요. 보완을 하시던지.. 하루에도 몇번씩 '안녕하세요. 관심있어서 연락드려요!' 이라는 챗이 옵니다. 답변하면 거의대부분 잘못눌렀다고 사과하네요. 챗보낸 본인은 챗 보낸지도 모르구요. 서로 불편한 기능인듯 합니다. 보완을 하던 기능삭제를 하던 조치해주세요. 리뷰보니 저와같이 불편하신분들이 많은데 빠른 해결 바래봅니다.\",\n",
              " '잘 쓰고 있습니다. 한가지 건의사항이 있습니다. 판매글 작성시 AI자동분석에 의하여 완성되는 문구를 작성란에 표기할지 말지를 선택할 수 있게 해주시면 좋을 것 같습니다. 솔직히 아직은 AI작성 문구가 마음에 안드는 경우가 많고 대개의 경우는 문구를 전부 삭제하고 제가 새로 써야하는데 이 지우는 작업이 좀 번거롭습니다.. 감사합니다.',\n",
              " '내가 당근을 잘 쓰면서 이번에 지운 이유는 판매중인 물건 한번봤다고 가격을 내렸네 올렸네 상태가 어떻게 됐네 시도때도 없이 울려대고 그것만 끌려니 알람 드럽게 나눠놨네. 인지도 상승하니 광고도 드럽게 붙어서 지저분해지고 별로네.',\n",
              " '알바탭 이용시 지원서를 한 개 밖에 작성해놓지 못해 굉장히 불편합니다 당근마켓 알바은 선착순 마감이 될 때가 많은데 그럴때마다 지원서를 수정하다가 빨리 지원서를 제출하지 못해 기회를 놓친적이 많습니다 알바 지원하기 버튼을 누름과 동시에 제출될 지원서를 수정할수 있는 화면이 뜨도록 해주시거나 적어도 2개 이상의 자기소개 프로필을 준비해둘 수 있도록 해주세요',\n",
              " '비매너 사용자 진짜 너무 많고.. 제재를 하는지 의문임. 노쇼 당해서 3년전에 앱 지웠음. 이번에 새로 거래한 두명 중 한 명은 유통기한 지난거 보내서 환불했는데 아직 돈 못받았고 다른 한명은 또 노쇼함. 3년전에 노쇼한 사람 찾아보니까 그 뒤로도 문제없이 글올리고 거래한듯. 약속장소까지 나왔다고 거짓말하면서 의도적으로 그랬는데 캡쳐본 다 등록해서 신고해도 피드백 없음. 그냥 무시당하는 걸로 느껴짐. 당근 정책 찾아보면 \"이용자간 갈등은 이용자간 대화로 해결하도록 한다\"고 최대한 책임회피하던데 그럼 비매너 사용자 좀 제대로 걸렀으면 좋겠음. 안그래도 중국 제품 가격 속이는 사기글 너무 많은데 계정 정지도 안되고 매번 같은 계정으로 올리길래 관리를 안하나 싶었는데 진짜 안좋은 경험만 남음.. 환불 언제 마칠지도 모르겠지만 돈 받고나면 탈퇴하고 다신 안들어가볼듯',\n",
              " '다좋은데 진짜 제발 채팅 보내기 버튼 원래대로 복구시켜주세요 전송취소인지 뭔지 기능추가했다고는 하는데 결국 상대방한테 알람가는거아닌가요? 보내기 바로 밑에 휴대폰 뒤로가기 버튼이 있는데 진짜 뒤로가기 하나 할때마다 너무 신경쓰이고 불편합니다 개편말고 완전 삭제를 하든지 설정에서 on off할 수 있게끔 만들어주세요 보니깐 다른 많은 사람들도 불편을 호소하네요 해당기능으로인해 편한게 아니라 진짜 너무불편합니다',\n",
              " '하루 하루에 주어진 일들을하시느라 수고가 많으십니다. 당근마켓 애플리케이션으로 사기를 치거나 범죄 행위를한적이 없습니다. 그런데 갑자기 당근마켓 애플리케이션 이용제한이 내려졌습니다. 제가 작성한 글을 확인을하신다면 바로 이용제한 제재를 철회는 물론이고 다시는 이런 불상사가 없도록 해주시길 부탁합니다.! 저는 하루빨리 계정이 복구가 되지 않을시 당근마켓 탈퇴후 재가입을할것입니다.',\n",
              " '문의사항 있으면 고객센터로 문의 달라더니 막상 답변은 하기 귀찮은지 문의 내용이랑 아예 상관 없는 이야기 꺼내면서 동문서답으로 장문의 답변 보냄ㅋㅋ 대충 AI 돌려다가 문의의 유형을 구분 짓고 복붙해서 보내는 멘트가 정해져 있는 듯ㅋㅋ ㅡㅡㅡㅡㅡㅡㅡㅡㅡㅡㅡㅡㅡㅡㅡㅡㅡ 짭팔이들이 대놓고 가품이라고 적어놓고 물건 팔아도 제대로 제재하지 않는 무책임한 플랫폼. 신고 후에 따로 문의 남겨도 매번 신고해라 기다려라 말만 쳐하지, 한 두달 지나서 봐도 그대로 팔고 있거나 판매 완료 돼있음. 니들 스스로 모니터링 못 해서 이용자들한테 신고 받고 있으면 그거라도 제대로 처리해야지 그것도 처리 못 할 수준이면 운영을 하지 말던가 온동네 구걸하는 거지들 다 모아놓고 판매자들만 들들 볶이게 만듦 작년엔 해당 항목으로 신고 항목도 신설했더만 얼마나 들끓어서 자기들 인력 태웠길래 얼마 안 가서 네고 신고 항목이 사라져 있냐ㅋㅋ',\n",
              " '개선 부탁드립니다. - 관심물품에 대한 가격제안을 해 보라는 권유알림이 자주 뜨는데 그러한 알림을 끄는 방법이 없는 듯 하고 심지어 알림금지시간에 자주떠서 아주아주 불쾌하게 잠을 깨움. 즉시 개선 요망 - 최근본상품가격하락알림을 설정에서 꺼도 계속 알림이 뜸 - 뒤로가기할 때 아무 정보도 보이지 않는 경우가 많음 - 앞으로가기 버튼이 없음',\n",
              " '모임 일정 만들기 에서 글쓰기를 하면 자꾸 아래로 창이 내려가서 글쓰기 가 매우불편합니다 특히 일정 수정할때 중간쯤에서 글을 보고 수정해야 되는데 크릭하고 글을 작성 할려고 하면 창이 내려가서 정말 불편 합니다 그리고 요즘들어 모임방에 접속이 잘 안되고 있습니다 일정 글수정을 해야되는데 말이죠?? 오늘 업그레이드 후 더 심합니다?? 버그인가요',\n",
              " \"당근에서 아직도 제공되지 않고 있는 이해할 수 없는 '없는 기능'은 내 상품 검색기능이다. 하물며 보잘것 없는 게시판도 내 게시물 검색이 가능한데, 내가 올린 내 상품 검색 기능이 없다는 것은 이해불가다. 이것을 당근에서 모를리는 없는 것 같고 다소 고의적으로 불편하게 해 두는 듯하다. 자세히 살펴보면 당근마켓이 이기적인 기능들이 몇몇 있다.\",\n",
              " '찜의 의미가 없어짐 걍 인증하면 유지되는게 아니라 채팅할려면 맨날 인증해야함 내가 만약에 일 나가있을때 내가 사는 동네에서 괜찮은 물건이 나오면 인증을 하라고 게속떠서 괜찮은 물건도 놓친게 많다 이럴거면 찜도 없애삼 일하다가 찜해놓은 물건 가격이 내려가서 괜찮은 가격까지 내려갔네 하고 사려고 하면 인증하라하고 사는 동네 아니라고 못 삼 그렇게 놓친게 많은듯... 아무리 동네에서 사라고 하지만 이정도는 어플이 유도리가 없는듯',\n",
              " \"채팅을 원래데로 해주세요. 실수로 채팅 누르면, '안녕하세요. 구매가능할까요?'가 바로 전달되요. 채팅버튼 누른 다음에 상용구를 지정해도 되잖아요. 새벽에 보다가 잘 못 눌러지면 상대방은 잠을 설치고 저는 욕먹고.. 불필요한 갈등을 만드는 기능에 실망입니다.\",\n",
              " '잘 사용하다가 먹통이 됌 앱을 키면 홈 화면은 나오는데 거래는 정상적으로 누르면 이동하는데 다른 게 넘어가지지가 않아요 알바 중고차 부동산 누르면 화면만 까맣게 나오고 안 넘어가짐 지운다음에 다시 설치했는데도 동일 현상 발생 고객센터 문의하려해도 화면이 안 넘어가져요 핸드폰 s9+',\n",
              " '최근 업데이트 이후 버그 발생으로 인한 종료 혹은 뒤로가기가 자동으로 발생 되는데요 이거 개선하는 방법이 없는건가요 업데이트 전에는 아무렇지 않았는데 갑자기 이러네요 당근에서 문의하기로 적다가 팅기고 10번이나 연속 발생하여 이렇게 메모장에서 적어 복사해야만 될 정도입니다 첨부사진을 드리고 싶어도 넣을수 있는 방법이 없네요',\n",
              " '10분 전에 관심♡눌러서 찜해뒀는데 곧 팔릴것 같다며 알림이 보내는 건 너무 심하고 밤 11시58분에 알림으로 이러는건 매우 짜증납니다 밤늦게 거래 채팅도 못하게 하면서 이건 도대체 무슨 경우인가요? 관심을 표시하는건 현재의 가격이 더 내려갈 때까지 지켜보겄다는 건데 쓸데없는 알림 보내지. 말아주세요 ㅠㅠ',\n",
              " '중고거래 앱은 당근만 사용할 정도로 편하고 좋습니다 다만 개인이 중고거래 물품을 올리고 15회정도 다시 올릴 수 있는데 이 횟수가 끝나도 안 팔리면 재등록을 해야 합니다 이때 사진 다시 찍고 설명 다시 적어야 하기에 재등록 물건들에 한하여 별다른 등록 없이 다시 등록할 수 있게 수정해주셨으면 합니다',\n",
              " '갑자기 판매글올리고 구매자분이라.예약잡을려하는대.전문 판매 동일 판매.반복 등으로해서 갑자기.계정 정지당했어요 사무실서.안쓰는. 컴퓨터 제가 사용하다가 새로구매하서 안쓰는.컴퓨터를 팔았는대.전문 판매자라니요.그리고 거래할라고하는대.갑자기.막으면.구매하려고 하려는 분은.어떻게되나요 어이가.없내요 일단 정책이든.기준이든.말도안되게.제재가 걸리는거같습니다 뭐가.전문판매인지.모르는건가요 판매글을.한번만.잘읽어봐도 전문적으로 판매하는사람의.글하고 아닌사람의.글하고 딱티가나는대 황당하내여 1대1문의남겨도 답변도안오고 진짜 대단하내여 .. 고객샌터도 제대로운영도 안하고 진짜.가관입니다 .. 아직도 답변도 없고 도대체.고객샌터뭐하는곳인지모르겠내여 정말 가관이내여 2주넘께 처리가안되내여 ... 당근운영방식에 정말 실망했습니다... 거래내용이나 글 이런거 제대로하고 내용이라고 주시던가 설명이라도 있어야되는거.아닌가요 .... 3주가.넘어가는대 확인조차안해주시내여 ...',\n",
              " '앱설치가안돼서, 와이파이 초기화하고 휴대폰초기화했더니 안되더군요. 리뷰보니 같은 와이파이쓰는 폰도 안된다고 하네요. 그래서 보안앱 강제중지시키고 데이터키고 설치했는데 일단 설치됐습니다. 다른분들도 참고하세요',\n",
              " '안드로이드 기준으로 방해금지 모드를 설정해놓고, 알림설정을 당근은 예외로 설정하면, 그렇게 해도 당근채팅 알림이 오지 않습니다. 그래서 할 수 있었던 거래도 파토난 적도 있습니다. 확인 후 해결 부탁드립니다.',\n",
              " '재설치 후 재가입하려니 이유도 없이 2030년까지 정지되었고 문의남기니 되지도 않는 방법으로 인증하라고 발신 전용으로만 답장 남기니 참 답답하네요. 아예 인증하면 정지되었단 안내가 나오고 그 다음으로 진행이 안된다고 나오니 좀 본인들 시스템에 대해서 이해하고 답변 남겼으면 좋겠네요.',\n",
              " '당근 업뎃이후 채팅보내기 위치가 뒤로가기 위치와 겹침. 심지어 오른손으로 핸드폰 쓰는 사람은 오입력하기 좋은 위치라서 실수로 채팅을 보내고도 모를때가 많음. 구매의사도 없는 구경하려 들어간 물건에 나도 모르는 채팅으로 인해 사과를 해야할때가 있어 오히려 시간낭비가 되고있음 보내기 취소버튼도 생기긴 했는데 하단 구석에 짱박혀서 당근주황색으로 뜨기 때문에 시인성 떨어짐. 이런부분은 오히려 간결하고 눈에 확 들어와야한다고 생각함.',\n",
              " '판매자 물건 보고있을 때 하단에 자동 완성어 보내기 기능 있는게 상당히 불편합니다. 안드로이드폰 뒤로가기 버튼하고 가까이에 있어서 뒤로가기 할 때 잘못 눌러서 보내기 버튼 누르는 경우가 많아요. 다른 이용자분들이 잘못 보냈다고 채팅 오시는 경우도 많습니다. 이건 꼭 개선해주세요. 저만 불편한게 아닐거같아요.',\n",
              " '채팅창에 안녕하세요 구매가능할까요 이 문구를 왜 해놓는지 모르겠네요. 그냥 보기만 할려고 했는데 나중에 상대방에게서 연락이 와. 진짜 그지같네 벌써 세번이나 두번은 죄송하다고 하고 한번은 필요하기도 해서 걍 구매했는데 진짜 뭐 이 따위로 해 놓는거야 덕분에 당근을 때려치게 해줘서 감사.',\n",
              " '수고하십니다 잘 쓰고 있습니다 고맙습니다 불만 한가지 쓰러 왔습니다 채팅 문제좀 해결해줘요 온오프라도 만들어주든지 구경하다가 뒤로기기 실수로 눌러서 괜히 사람 사과하게 만들고 만약 개선 논의중이라면 공지라도 띄우든가요 ps. 시간차를 뒀네요 나름 괜찮지만 아예 확인 누르기전에는 안가는게 낫습니다 실수로 누른걸 모를수도 있어요 불만요소는 확실히 제거해주세요 괜히 돌아가려하지말고',\n",
              " '1. 상대방 아이디로 판매물건 검색 불가(동네생활에서도 아이디만 누르면 판매글도 볼 수 있던 예전이 더 편했어요) 2. 동네걷기는 위치가 전혀 안 맞음. 보통 한 블럭이상 차이가남. 3 동네걷기 이후에 캐시삭제 하라는 알림과 당근 자체가 종료가 됨',\n",
              " '나눔으로 해놓고 내용에 얼마라고 적혀있던디.. 1원이라고 해놓고 내용에 적혀있던지.. 숫자 대충해놓고 내용에 제시를 하라던지.. 이건 너무나도 혼란을 주고 또한 중고거래라는 부분에서 맞지 않는것 같습니더 좀더 편하고 명확히 한번에 볼 수 있었으면 좋겠고 이러한 행위를 신고 할 수 있는 방법이 생겼으면 합니다',\n",
              " '잘쓰고 있었는데요 업데이트하고 뒤로가기라도 누르려다 구매하고싶다고 채팅 보내기 잘못눌려가지고 서로 민망하고 미안하지도 않은일을 사과해야하는 일이 발생하네요 저희 부모님들도 요즘 곤란해하시구요 리뷰들보니까 저만 그런반응이 아닌거같구요 판매자분들도 잘못걸려온 채팅때문에 스트레스인가보네요 그냥 전처럼 돌려놔주세요 채팅하는게 급한게 아니잖아요 왜이런 업데이트를 ;',\n",
              " '부당하게 이용이 정지되었는데 수차례 문의를 해도 몇달째 제대로 답변을 못받고 있습니다. 고객센터 제발 일 좀 해라ㅠㅠ 정지되어 로그인 자체를 못하고 있는데 앱에서 채팅 내용 확인해보라는 엉뚱한 답변이나 하고... 아이고...',\n",
              " '이용 제한 5년인데 고객센터는 전화도 안되고 앱에서 문의하기로만 제재 사유 또는 이용 제한 해제 문의 할 수 있는데 답변이 기가막힘. 마치 사람이 아니라 자동응답기가 대답하듯 몇번을 문의해도 같은 내용을 다르게 문의해도 똑같은 답변만 복사 붙여넣기로 받기 전용 문자로 옴. 신고 당한 이용자는 답답해 죽음. 고객센터 하나 제대로 운영 안하는 업체가 돈 독은 올라서 광고는 엄청 받고 신고 아닌 이상 선정적인 판매글에 대해선 필터링을 못함. 이용 제한 5년만 풀어주면 내가 다 신고하고 다닌다. 당근의 운영방식 언론사 취재해라! 어느 기업이든 당근 같은 앱 만든다면 투자한다!',\n",
              " '요즘 비슷한 사진과 내용으로 여기저기 똑같은 상품이 진짜 많이 보이는데 같은 판매자가 수많은 계정으로 물품을 등록하는거같아요. \"깔끔하게\", \"싸게\", \"저렴이\", \"간편하게\", \"헤어졌어요\", \"파혼\", \"생활비가\", \"월세\" 등 이상한 제목 투성이고 전문판매자로 신고하면 그날은 사라지고 다음날 보면 버젓이 또 다시 올라오고 정말 짜증납니다. 저렴한 가격으로 판매글을 올려놓고는 정작 5박스, 10박스 사면 싸게 준다는 식으로 당근페이나 안전결제를 거부하고 현금으로만 받고 있습니다. 인스타나 텔레그램을 보면 어렵지않게 당근계정을 온도에 따라서 20~60만원을 받고 거래하는 광고를 볼수 있는데 이렇게 개인정보를 사고파는 행위는 엄연한 불법 아닌가요? 이런 계정을 사거나 빌려서 여러계정을 가지고 조직적으로 물건을 사고팔며 GPS위치를 조작해서 실제 그 지역을 가지않고 지역인증을 받아서 전국적으로 판매하는 전문판매자용 카톡 단톡방이 있다는데 당근측에서 강력한 제재가 필요하다고 봅니다!!!',\n",
              " '중고 거래 할때 유용한 맵이긴한데 우리동네 설정을 몇달마다 갱신해야 하는게 힘들어요. 시고 싶은 물건을 직거래도 아니라 택배로 받는것도 우리동네에 포함 되어야 거래를 할 수 있다보니 사고 싶은 물건을 사지 못한적도 많아요.',\n",
              " '당근이 이전의 중고거래 앱에서 동네커뮤니티 앱으로 방향을 바꿔나가고 있는 것은 알겠으나 쓸데없는 기능들이 많이 생겨서 앱이 무거워지고 있는 것 같다고 느낍니다... 당근이네나 식빵굽기, 최근에 나온 ai사진 만들기까지 대체 무슨 의도에서 나온 기능들인지 이해가 되질 않네요.. 아니 사실 알 것만도 같습니다. 앱 사용시간 증가만을 노리는 것밖으로는 생각이 안 들어요. (요전에 했었던 팥빙수 지원금 이벤트도 정말 한정적인 초대/참가횟수로 보여지는 것과 달리 많은 분들이 얻질 못했죠. 저도 그중 하나입니다) 당근은 지역 주민들과 소통하고 나눔의 기쁨을 얻는 곳이지, 쓰잘데기 없는 방해물로 시간을 떼우는 곳이 아닙니다. 당근에서 자주 광고하던 주민 간의 따뜻한 상호작용의 이미지와 같은 그 모습의 당근이 되기를 간절히 희망합니다.',\n",
              " '1. 전문판매업자가 너무 많음. 신고를 수백번 하고있으나 새로운 아이디를 만들어옴. 2. 그럼 본인인증을 해서 새로운 아이디를 쉽게 만들지 못하도록 해야하는데, 그럴 생각은 없어보임. 3. 고객센터 문의글을 남겼으나 10일 이상 답변이 없음. 이 외의 문의방법은 없음. 당근님께서 내 글을 봐주시고 답변해주실때까지 하염없이 기다려야함. 4. 중고나라, 번개장터 등 다른 플랫폼이 걸어온 길을 묵묵히 걷는중. 이제 저는 당근을 떠납니다.',\n",
              " '지금까지도 괜찮았는데 과도하게 ai를 사용한 자동화를 해서 오히려 불편합니다. 의도치 않게 채팅을 보내게 되어 난처해지기도 하고 원하지 않은 문구로 톡을 보내기도 합니다. 과유불급입니다. 좀 줄이시죠.',\n",
              " '전문판매자로 오해받아서 계정정지당했어요!! 문제제기할곳도 없고 ai답변만오고!! 진짜 작정하고 장사하는 사람들은 잘만 파는데 정말 어이가 없네요ㅠㅠ 당근 온도도 50도 이상으로 높았는데 하루 아침에 황당해요!!!! 직접 연결할수있는 고객센터다운 시스템도 없고, 문제 좀 처리해주세요!!',\n",
              " '자동 챗 기능 제발 삭제해주세요. 실수로 나도 모르게 챗이 가서 난감한 적이 한두번이 아닙니다. 챗 보내기 버튼의 위치도 뒤로가기 버튼 누를때나 뒤로가기 스와이프 할 때에 손이 참 많이 가는 위치에 있으니.. 이거 진짜 너무 불편합니다. 다른 사람 같은 불편글에 답글 달린거 보니, 챗 보낸거 취소하는 기능 만든다구요? 내가 챗 보낸지도 모르게 챗이 가버리는게 문제인데, 취소 버튼 만드는게 무슨 의미가 있죠? 보낸 줄 알아야지 취소를 하죠. 구매자 판매자 모두 불편한 기능인데 왜 이상한 옵션까지 만들어서 유지하려 하는건가요? 그냥 제발 좀 없애달라구요.',\n",
              " '안녕하세요 저는 누구의 물품을 사고ㅠ잠적한게 없는데 다시 가입하니 30년까지 정지입니다. 문의를 해놨는데 답이 ai로 오고 또 보내니 답이 없습니다. 정말 억울 하고 답답합니다. 알아보니 탈퇴를 된 상태에서 누가 악성으로신고를 하면 정지가 된다는 말이 있는데 정말 제발 정확하게 확인하고 정지 부탁드립니다. 그 전 아이디로 구매를 한적이 없는데 물품을 받고 잠적이라뇨 . . . 제발 풀어주시기 바랍니다.',\n",
              " '오늘 전문 판매 행위로 한달 판매 정지 당했습니다. 업무폰, 서브폰으로 쓰던 기기 2대를 동일 제목으로 판매 글 올렸습니다. 하지만 시간이 지나도 거래되지 않았고, 기존 글을 끌어올리기보다 삭제 후 동일 제목, 동일 내용으로 새 판매글 등록했습니다. 그렇게 2번 정도 팔리지 않은 기기를 새 판매글 등록했는데 같은 제품 대량 판매한다며 전문 판매 행위로 지정되어 판매 정지 당했습니다. 동일 모델을 대량 보유하고 판매하는 전문 판매자 아닙니다. 거래 실패한 2대의 폰을 계속 새 판매글로 올렸을 뿐입니다. 판매 정지 해제 부탁 드립니다.',\n",
              " '당근 ai 채팅 좀 없애주세요.. 아니면 개선 좀 해주세요. 채팅와서 보면 죄다 잘못눌렀다고 구매 의사도 없으면서 ai 채팅으로 구매가능하냐고 묻는데 너무 피곤해요 ㅡㅡ 그리고 비매너 사용자 제재 좀 강하게 해주세요. 거래 약속 당일 잠수타서 남의 시간 뺏는것들 신고해도 그대로 활동하고 여럿이서 신고해야 정지되는데 그마저도 3일정도 정지라서 전혀 반성을 안하잖아요. 비매너 이용자 때문에 요즘 당근쓰기 너무 싫어져요.',\n",
              " '최악이네요. 1. 휴대폰 바꾸면서 새로 깔았더니 갑작스러운 정지(2번째) 2. 고객센터 없으면서 이메일로 문의사항 보내라하는데 읽고싶은 메일만 답변 / 한달이상 묵묵부답 3. 앱 리뷰 -> 마찬가지로 답변하고싶은 리뷰만 답변 관리하시는분 성인이실텐데 성실하게 일 좀 하세요^^ 저는 어플삭제요 ~',\n",
              " '핸드폰 기기와 번호를 바꿔서 다시 로그인을 했는데 부동산사기때문에 제재당한 닉네임으로 로그인이 됐고,전에 쓰던 닉네임으로 로그인이 안되서 비회원으로 문의를 해서 등기부등본과 신분증을 보내라고 해서 보냈지만 본인이 직접 부동산 사기를 하지 않았다면 제재를 풀수없다고 메일이 왔는데, 저는 아예 이용을 평생 못하는건가요?',\n",
              " '최근 판매글 여러개 올렸는 데 채팅 5개가 전부 자동완성으로 보내진 안녕하세요 구매가능할까요?를 실수로 누른거네요 혹시나 해서 답장하면 실수라고 하거나 무시하거나 🤨 채팅오는 거 마다, 다 실수로 와서 채팅 오는것두 스트레스네요 판매글 오른쪽 밑에 곧바로 채팅보내기가 있어 자기도 모르게 실수로 많이 누르는 거 같습니다 이것 좀 고쳐주세요',\n",
              " '진짜 빡이치네요 10일동안 열심히 찾아서 드디어 맘에 드는거 찾았는데...하...출근해서 연락하려니까 동네인증.... 하...도대체 왜 이렇게 동네인증 자주해야하고 ai도 짜증나는게 실수로 한번누르면 그것만 주구장창 나옴 진짜 동네인증은 한번하면 그만하게 하시져 화가 너무나네ㅡㅡ',\n",
              " '당근 아주 잘 사용하고 있습니다. 헌데 이번 업데이트 후부터인가 새로운 판매글은 안보이고 전에 봤던 판매글만 보이는데 왜 이러는건가요? 업넷 전엔 접속할때마다 새로운 판매글이 보여서 좋았는데.. 이젠 다시 접속해도 며칠 내내 봤던 판매글들만 보이네요',\n",
              " '절차 복잡해도 좋으니 본인인증 더 확실히 해주세요. 제가 당근에서 사기 당했는데 계정주가 연락 오더니 본인이 한 일이 아니라네요? 이렇게 아이디 도용되어 범죄에 이용되는 일 없도록 2중, 3중 인증을 했으면 좋겠어요.',\n",
              " '이용정지 시켜서 정보 1도 모르고 그냥 사기를 당했는데, 사람 놀리는 것도 아니고 문의해도 해결안되면 이어서 문의하기 하라고만 하고. AI를 고객센터로 내세울거면 제대로 검수나 하고 하시지 어플 진짜 유지관리 거지같이 하네',\n",
              " '당근 진짜 운영을 왜 이렇게 하는지 모르겠네요 제가 사기를 쳤다고 아이디가 잠겼습니다 그래서 난 사기 친 적이 없다 사기 당한 분이 있으면 증거를 제시하면 보상을 하겠다 이런 메시지 보내도 ai 가 똑같은 소리만 반복을 합니다 그냥 거래 중 상대방이 기분 나쁘면 신고해버리면 은 사기꾼이 되는 거죠 이런 식으로 운영하시다가. 전국민 50%는 사용 못할 것 같군요 사기를 친 적이 없어서 충분히 해명할 수 있는데. 그냥 들으려고 하지도 않아요. 매너 온도 99도까지 올려도 소용이 없습니다 그냥 상대방이 기분 나빠서 신고하면 사기꾼이 되는 구조입니다',\n",
              " '당근모임 채팅방 나가기가 안되요 갤럭시 사용자입니다. 일주일 전부터 모임의 채팅방나가기가 안됩니다. 일대일 챗은 됩니다. 최신버젼이며 재부팅했어도 역시 안됩니다. 방법 부탁드립니다. 감사합니다.',\n",
              " '다 좋은데 식빵게임에서 황금버터 사용할라 하면 왜 로봇이 아닙니다 본인인증 하라는 문구가 뜹니까? 인증 하고나서 10초동안 시간을 주는 것도 아니고 인증하고 나면 10초가 끝나있던데 조치를 취해주시길 부탁드립니다.',\n",
              " '아니 ai문구추천 해제할 틈도 없이 맘대로 적용해버려서 사진 추가했을 뿐인데 지맘대로 다 써놓은 글 지우고 ai로 다시 씀,,, ai로 문구추천 버튼을 누르면 작성해줘야지 무슨 사진 추가만 해도 다시 작성하는,,, 너무 짜증나네요',\n",
              " 'AI 채팅 전송버튼좀 수정해주세요. 뒤로가기 하려다가 실수로 전송 누르면 바로 채팅 날아갑니다. 벌써 몇번을 실례하는지..ㅠㅠ 차라리 이전처럼 그냥 채팅창 들어가서 직접 쓰게 해 주세요. 문구를 선택하게 해주시던지요.',\n",
              " '얼마전부터 갑자기 모임 단체톡방 나가기 기능이 사라졌어요. 어플문제인가요? 주변 아이폰들은 다 되던데. 갤럭시 기종만 안되는듯하고 일부만 그런듯해요. 이거 해결좀 해주세요',\n",
              " '아진짜 짜증나네 아니무슨 아이패드 동일계정 로그인했다고 정지입니다 ㅋㅋㅋㅋㅋㅋㅋㅋㅋㅋㅋㅋㅋㅋㅋㅋㅋ 말이되나요? 동일계정 로그인 햇다고 뭐라하ㅡ는지 아세요? 선입금 받고 도망갔데여 저보고 거래를 안햇는데 ㅋㅋㅋㅋ 제발 앞으로 이런상황 만들지마시고 수정 부탁드립니다',\n",
              " '판매 3-4번 오래전에 해보고 불용품 올렷는데 전문판매업자라고 5년 정지 먹엇습니다. 문의 올렷는데 일주일 넘도록 회신도 없네요.. AI로 정지 먹은 건지 신고로 먹은건지 모르겟는데 무슨 근거로 한건지도 모르겟고 문의사항 회신도 없네요... 얼마전에 사기 치던 애는 채팅방에 지 사기친거라고 인정하던데 업자보다는 사기꾼 먼저 제보 받아서 막는게 맞는거 같기도 하구요...',\n",
              " '물건을 보고 보내기를 누르면 바로 구매 가능할까요라는 메세지가 가는데요 일단 왜 바로 메세지를 보내게 만들었는지 모르겠고요 기본 메세지는 왜 고정인지 모르겠네요 이것때문에 메세지를 몇번이나 잘못보냈는지..',\n",
              " '채팅 잘못보내는 사람들 때문에 스트레스입니다. 계속 당근채팅에 기대하고 들어갔다 실망한게 몇번째인지.. 정확히는 그렇게 만들어놓은 시스템이 문제인거죠. 개선하거나 기존 시스템으로 돌아가거나 문젯거리좀 해결해주세요. 어지간하면 평점 잘 안남기는데 이번건 최악이네요.',\n",
              " \"분쟁조정 요청했는데 두달째 해결안되고있음 해결도 해결이지만 분쟁조정 중이라고 추가적인 문의할수있는 방법이 아예없음 그냥 수수료 받아먹고 문제생기면 '당사자간 대화로 해결해라' 이게끝 그러면 안전거래 수수료는 왜받아먹는지...\",\n",
              " '가입후 그동안 잘 사용했는데 얼마전 갑자기 로그아웃 되더니 어플 접속중에 갑자기 사용자 차단했습니다. 알림 나와서 내가 잘못누른줄알고 무시했는데 다음날 부터 나도 모르게 내판매글 작성되고 나도 모르는 사이에 채팅도 하고....동네 다른곳으로 찍혀서 나오고 .. .. 해킹 당한거 같아 고객센터 찾아보니 소~~~오~~~름 고객센터 번호는 있지만 연결안되고 AI상담만 존재...무조건 어플에 문의글만 작성가능...비번 변경하려는데 앱에서는 비번 변경 기능 없음 ... 당근페이에 계좌도 연결되고 개인 정보도 털릴까 걱정이 태산인데...당장에 할수 있는게 없음... 문의글 남기고 답변올때까지 하염없이 기다려야함...많은 사람들이 이용하는 어플인데 그래도 실시간 상담원 채팅이라도 해두던지 비번 변경이라도 가능하게 해두던지 해줄것이지....아오 열받아..',\n",
              " '실수로 채팅 잘못 보내는 사람들 많아 넘 스트레스..하루에도 몇명이 그러는.. 오른쪽 아래 되돌아기가 버튼쪽에 자동으로 챗팅창으로 들어가는 인사문구가 있어서 진짜 미치겠슴. 이젠 챗 오면 내 대답 자체가 실수로 보내신거죠?가 되어버림...ㅡㅡ 그것도 없애주세요..진짜 사용자들 다 스트레스일것 같은데...',\n",
              " '당근마켓 제일 위에 돋보기 모양 눌러서 검색해서 물품들을 찾게 될 경우 예전엔 5년전에 올라온것도 찾을수 있었는데요 최근에 자주 올려지는 물품들은 1일전까지 올려진것만 보이고 검색한 상품을 다봤다는 글씨가 뜹니다. 그러면 2일전 3일전 그전에 올려진걸 아예 볼수가 없는건가요? 예전처럼 5년전까지 올려진 상품이 나오게 해주심 좋겠습니다. 당근화면에서 나의 당근 들이가서 서비스 중고거래 카테고리 디지털기기, 반려동물용품, 도서, 여성잡화 등 상품을 한참 몇일전 올린것까지 보고 있는데, 이미 봤던 위에 다시 올려서 보려고 하면 위에 동그라미가 표시되면서 처음 제일 위에 화면으로 올라가 버립니다 많이 불편 합니다. 다시 처음화면으로 올라가면 조금전에 봤던 상품을 찾으려면 또 한참 밑으로 내려가서 찾아야되기 때문입니다. 못찾는 경우도 있고요 너무 내려가서 봐야되기때문...',\n",
              " '언젠가부터 상품페이지 밑에 메시지가 자동으로 등록되어있고 옆에 보내기버튼만 누르면 보내지는데, 그것때문에 자꾸 실수로 메시지가 보내지는 상황이 생깁니다. 나는 안살건데 터치 실수 한번으로 구매 가능하냐는 메시지가 보내지고, 메시지 받은 상대방한텐 또 무슨 민폐입니까? 이 기능은 롤백해주세요...',\n",
              " 'ai 생기고 나서부터 조금이라도 비슷한 게시글 올리면 게시글 노출이 되지 않습니다. 숨김처리 되는것도 아니고 그냥 노출이 안돼요. 고객센터에 문의하기 전까지 이유 알려주지도 않고 그렇다고 노출이 되지 않는다고 알람이 오거나 사유가 뜨는것도 아닙니다. 심지어 고객센터도 전화 문의는 안되고 한번 문의하면 4~5일 뒤에나 답변 오는 수준... 지금까지 잘 사용하다 최근들어 고구마 100개 먹은것 마냥 답답할 지경이네요;; 오류인건지 버그인건지 빠른 수정 부탁드립니다.',\n",
              " '잘 아용하고있는건 맞지만 업데이트 되면서 점점 이상하고 쓰잘데기 없는 별별 것들에 다 이유를 붙여서 알림을 보내는데 진짜 스팸이 따로 없음 예전에는 관심을 누른것에 가격이 내려갈때만 알림을 보내주는게 제일 적절했는데 이제는 뭐 다른사람이 내가 관심가진 물건에 관심 눌렀다고까지 알림을 보내주고 물건 팔고나면 무슨 물건이 나한테 편지를 썼다는 개소리로 알림보내고ㅋㅋ 심지어 이제는 하다하다 관심도 안누르고 보기만했던 물건인데도 조회햇던 물건이 가격을 내렷다면서 알림을 보냄 제정신인가 진짜ㄷ',\n",
              " '당근마켓 여태 잘 썼는데 이번 업데이트 최악이에요; 채팅 바로 보내기 기능 때문에 새벽시간은 물론 잘못 보내는 사람이 너무 많아졌어요. 답장하면 잘못 보낸지 조차 인식 못하던데... 채팅 개수는 늘어가는데 사가는 사람은 없고 대체 왜 이런 업데이트를 한 건지;',\n",
              " '중고판매글을 살펴보다 한번의 터치실수로 구입문의 채팅이 가는 경우가 많습니다. 본의아니게 판매자에게 찔러보기를 하게 되는 셈인데 매우 불편합니다. 미리 작성된 문장을 끌 수 있는 옵션이 필요합니다.',\n",
              " \"갑자기 전문판매업자로 이용제한이 걸렸어요. 그것도 2달이 다 되어가는 거래완료된 글로요ㅡㅡ 사유가 '매장 대리점 물류창고'업자로 나오는데...누적된 세가지 신고건에서 공통점이 있더라구요 사진을 살펴보니 시중에는 이정도 가격이라고 알려주려고, 저말고 인터넷 다른 판매업체가 올린 비슷한 제품 사진과 가격이 나온 컷을 스샷찍어서 같이 올린거 였어요 물론 제방 벽을 배경으로 실제 제 물건 사진도 여러 장 찍어서 같이 올렸는데 이건 반영이 안되는 건지ㅜㅜ 그업체의 이름은 안나오게 지우고 스샷 찍어서 같이 올렸는데 이게 문제가 된거 같습니다. 누가봐도 스샷인지 아는 사진을 매크로가 잡은거 같은데...이럴땐 어떻게 해야하나요?\",\n",
              " '로그아웃 후 다시 로그인했는데 \"루팅, 에뮬레이터 를 이용한 비정상적인 환경에서 앱을 사용할 수 없다\" 고 1년을 제재받았습니다 이게 뭔가요? 로그아웃 1번 하면 1년 정지? 고객센터에 아무리 문의해도 1달이 지나도록 확인도 하지 않는데, 피해당한 사용자들은 어디에 도움을 요청해야합니까? 도대체 당근에서는 관리를 어떻게 하고 있는건지? 황당하네요 빠른 처리가 없으면 그냥 탈퇴하겠습니다',\n",
              " '휴대폰 기계도 바꾸고 번호 변경되서 다시가입하려니 29년 까지 정지라고해서 문의하니까 가입사실확인서 보내달라해서 보냇더니 폰번호 다안나와서 다시보내달래서 7월 4일에 메일다시보냇더니 아직 읽지도 않으면서 왜다시 보내란건가요? 보고 빨리처리좀해주세요 몇번 문의를합니까 답글기다립니다',\n",
              " '물품이 보낸 편지라는거 불필요하고 거래 후기와 헷갈려 너무 불편합니다. 따로 물품이 보낸 편지 알림만 제한하거나 삭제할 수 있는 방법이 있으면 좋겠습니다. 그리고 타인에 의해 신고가 들어왔을 때는 검토를 하고 조치해주시길 바랍니다. 신고 품목도 아니었는데 사용정지되어서 문의드려도 기다리는 수 밖에 없다고 하시고 기분이 너무 나빴네요.',\n",
              " '당근 매너99도임! 저번에 화장품 박스채 새것 유통기한이 조금 지난거 나눔하니 유통기한 지난거라고 정지먹고(판매도 아니고 누군가에게 필요할수 있는거 아닌가요?)이번엔 평소에 잘 안입는옷 올렸더니 전문판매업자로 정지당함 유사제품,대량판매가 사유였는데 같은옷 올린적 없고 대량판매도 아님! 다른 사람들 나보다 더 많이 올려도 잘 이용하는데 복불복도 아니고 억울해서 문의글 남기니 고객센터는 명확하지 않은 AI같은 답변만함! 고객의 소리를 진심으로 듣지 않는 당근센터 개선이 필요할듯!',\n",
              " \"업데이트 되었는지 채팅창에 '안녕하세요. 관심있어서 연락드려요!' 라고 디폴트값으로 입력되어 있는데, 하필이면 보내기 버튼 바로 밑에 되돌아가기 버튼이 있어서 하마터면 보내기 버튼을 누를 뻔 했습니다. 저 문구는 삭제 요청 부탁드립니다. 관심 있는 사람에게 저 문구조차 입력할 수고(?)를 덜어줄 필요가 없다고 생각합니다. 활시위는 고객에게 당기게 놔두시길. 게으름뱅이 만들지 마시길. 애초 잘못 누르기 쉽습니다.\",\n",
              " \"시작한지 일주일도 안되어서 5년 정지당했습니다 문의를 최소 6개는 보냈는데 온 답변이라곤 모두 복붙한 '신고 및 정지 기준은 모든 분들께 동일하게 적용하고 있어요. ~ 정지 기간이 지난 후 서비스 이용을 부탁드려요.' 라고 오더라고요. 알바중이던 곳에서 확인할 일이 있어서 들어갔더니 로그아웃되어있고 다시 로그인하니 30년까지 정지되었어요 이렇게 떴던겁니다. 아직까지 사유는 알려주지 않았고, 시작한지 일주일도 안되어서 5년 정지를 당하니 어이가없습니다. 굉장히 잘쓸것같다고 생각했는데 전혀 아니었네요. 거래자 한분과 연락처를 나눠 다행이었는데 [사기]로 정지당한계정이라되어있더라고요? 그냥 AI가 막무가내로 신고하고 정지시키면 본사는 하는게 없는것같습니다. 저 말고도 여럿 이런식으로 계정 정지시키고 방치하더라고요? 당한 사람은 정말 당황스럽고 화가납니다. 다시는 쓰지 않을것같습니다. 다른 앱 (이런식으로 어이없게 정지시켜버리지않는) 을 찾으려고요. 여러분도 이점 잘 인지하시기 바랍니다.\",\n",
              " '다양한 중고 물품을 구경하기엔 좋으나 사기를 당해도 앱 자체에서 따로 해결할 수 있는 방법이 없고, 무엇보다 이미 거래완료된 상품이 자꾸 반복적으로 올라와서 불편합니다. 거래완료 됐거나 거래중인 물건은 추천목록에 안떴으면 좋겠어요. 그리고 끌어올리기가 15번 밖에 안돼서 15번 안에 팔리지 않으면 게시글을 새로 작성해야하는 번거로움이 있습니다. 끌어올리기 할 수 있는 횟수를 더 늘려주셨으면 해요. 또한 사기 관련 신고 당한 판매자는 패널티를 더 세게 줘야할듯 합니다.',\n",
              " '고객센터 대응.. 별로임. 읽어보면 이용정지등의 기준/기간도 이유없이 되는거 같고. 리뷰 읽어보다 보면 그런거 관리도 잘 못하는게 자명한데...거래에서 오는 불편과 어려움은 다 이용자가 겪는데 고객센터가 하는 일이 뭔지 진짜 의심이 됨.. 1.사람관의 관계가 중요하기에 판매도 정직하게 해왔는데. 매너온도 가지고 사람 농락하는거 같음..계속 거래는 이루어 지나 며칠째 온도 변화 없음 2.판매하면서 오는 불편함에 대해서는 전혀 관심 없는 것 같은 앱 구성 및 관리. 광고에만 점점 신경 쓰는 것 같음. 3. 알림 안울림 - 이런 기본적인것도 못고치는데.. 진심.. 어이상실',\n",
              " '내가 찜한 상품에 다른 사람이 찜버튼 눌렀다고 알림이 오네요. 찜한상품 가격의 변동과 다른사람의 찜버튼누름에 대한 알림을 통합해 놓으니까 피곤하네요. 가격변동시에만 알림받을수 있었는데...예전엔 안그랬는데 왜 한꺼번에 묶어놨지요? 다른사람이 찜버튼 누른게 뭐가 그리 중요해서 그걸 알림씩이나 받고 싶겠어요? 다시한번 재고해주세요',\n",
              " '별 하나도 아까움. 거래 예정되어 있는 상황에서. 갑자기 계정 정지 먹고. 로그아웃됨. 이유도 모르는 상황에서 AI 인식 오류로 정지 된 거 같은데. 고객센터 연락은 안되고. 10분뒤에 물건 구매자하고 만나기로 되어 있었는데. 채팅도 안되니. 구매자도 헛걸음 손해 보게 만들고 누구 책임 인가요? 1시간 뒤에 물건 구매 3일전 예약한거 문고리 거래로 되어 있는데. 계좌이체 해 줘야 되는데. 채팅도 안되고 난감 하게 만드네요. 판매자는 무슨 잘못이고 구매자는 무슨 잘못 인가요? AI 글자 오류로 인한 계정 정지? 무슨 앱 서비스가 이럽니까? 계정정지 2030년까지 5년? 뭐 내가 죄를 지었나? 소비자한테 본인들이 만든 AI 인식 오류 개선 바랍니다. 다시는 이런 피해 없도록 주의 바랍니다. 왠만하면 글 안쓰는데. 진짜 이건 아니지 않습니까? 당근 정 떨어져서 계정 풀어줘도 사용 안 할듯. 주변 사람에게도 다른 앱 많은데 다른거 권유하겠습니다. 진짜 어이가 없네.. 어처구니 없음.',\n",
              " '안녕하세요 당근 잘 쓰고 있습니다만 몇가지 보완할점들을 적어봅니다 이번에 AI채팅기능이 새로 생겼더라고요 빨리 채팅할때에는 유용하게 쓰일거같다고 봅니다만 대체적으로 일반적인 상황에서는 별 쓸일이 없고, 오히려 잘못보내면 판매자에게 오해에 소지가 있을수 있기에 이 부분은 없에거나 고치면 좋겠습니다 다른점은 게시글을 올렸을때, 채팅이 많이 오는경우 채팅온 순서대로 번호표시와 같이 채팅이 나열되었으면 좋겠습니다 보니까 채팅온 순서가 아닌 무작위 순서로 배열해 헷갈리는 부분들이 몇 있습니다 이부분도 보완해 주시면 좋을거같습니다 마지막으로 저의 이야기는 아니나 제 지인이 게시글을 가끔씩 올리긴 하나 갑작스럽게 계정정지를 받았습니다. 이에 지인은 잘못한게 없는데 왜 정지를 당했는지 영문을 몰라 당근에 있는 고객센터 란에 문의를 넣었으나 이것마져 AI로 대체하고 실 상담사 연결은 안되고 답답한 면도 있고 속은터지고 왜 정지 되었는지도 모르겠고 이부분은 진짜 고쳐야합니다',\n",
              " '1. 고객센터가 사람이 있어야 합니다. 그리고 제재를 받을때 소명하려면 고객센터가 있어야 하고, 이메일 보내도 3일이상 걸립니다. 답변 받으려면 . 이거 굉장히 불편합니다. 2. 내 물건 가격찾기는 터무니없는 가격을 보여줍니다. 미사용 이어폰을 12000원인데 3천원으로 가격을 알려 주고 너무 어처구니 없는 가격을 책정하는데 차라리 없는게 낫지 않나 싶습니다. 3. AI응답 바로 원터치로 대화문구 넣게 한거 오히려 번거롭게 보이고 잘못 터치하다가 커뮤니케이션 시작부터 꼬이는 거 같습니다 AI 대답모드 생성은 없애주세요 차라리 그편이 낫겠습니다 예문으로 제시된 응답 들도 표현이 따뜻하고 정중하면서 좋으면 쓰겠는데 그 정도 수준의 문장력은 아니니 없애주시길 건의 드리고. 4. 오늘은 서버 접속이 안됩니다. 접속 장애 이렇게 종종 뜨는거 매끄럽게 원활한 처리 부탁드립니다',\n",
              " '잘사용하고 있었는데 갑자기 다음날 로그인이 튕겨있었고 5년뒤에 로그인이 가능하다고 하네요? 찾아보니 이런경우가 허다한거 같은데 전 제가 잘못한거를 모르겠고 최근 거래한것도 없는데 뭐때문에 이런일이 일어난건지 어떻게 아나요? 바로 밑에 같은 내용글 쓰신 분의 유용하다 버튼이 600명가까이 눌린거면 문제점을 알고 고쳐야하지않을 까요? 팝업으로 뭐때문인지 이유라도 알아야지 통보당하니 기분나쁘네요? 당근으로 문의 남기려고 하면 등록도 안되고 문의할 번호도 없고 잘사용하던 앱인데 실망입니다. 제대로 문의 남길수 있는 창이라던가 전화번호 오픈좀 하세요. 너무 답답합니다.',\n",
              " \"서비스 이용이 제한되어 문의해 주셨네요. 원활하게 서비스를 이용할 수 없어 많이 답답하실 것 같아요. 제재 사유: [전문판매 행위] 사이즈・색상 재고 당근의 중고거래 서비스는 집에서 더 이상 사용하지는 않지만 누군가에게 쓸모 있는 좋은 물품을 저렴하게 판매/나눔 하는 곳이에요. 동일한 카테고리의 물품을 다량으로 판매하는 경우 여러 사용자들에게 신고받을 수 있고 전문판매업자로 제재될 수 있어요. 또한, 1개 게시글이라도 여러 사이즈나 색상을 판매하는 경우도 전문판매업자 행위로 규정하고 있어요. 서비스 이용이 제한되면 글쓰기 작성과 수정이 어렵지만 그 외 서비스는 이용할 수 있어요. 더불어 제재 당시 작성되어 있던 게시글은 정지 해제 후 끌어올리기를 하더라도 보이지 않으며, 새로 작성한 게시글에 한해서만 정상적으로 노출되는 점 안내드려요. 또다시 동일한 사유로 제재 받으실 경우 정지 기간이 늘어나는 점 참고해 주세요. 아울러, 고객센터 상단의 배너와 '자세히 보기' 버튼을 눌러 본인의\",\n",
              " '고객센터 개답답. 채팅상담없어, 전화상담없어. 오로지 문의글 남기기뿐 로그인 중복으로 계정정지 이유 물어봤더니, 이유만 알려주네. 해결방법은 안알려주고. 문의 후에 5일만에 답변온게 ai 답변수준. 기타 다른 플랫폼에 비해 수익모델이 없어서 그런지 고객센터 적극성이 스마트스토어 개인사업자 보다 못하네. 큰 그릇 되기에는 한참 멀었다.',\n",
              " '자동완성 채팅때문에 미칠것같아요. 밤낮으로 안녕하세요,구매가능한가요? 이런식의 자동완성채팅에 보내기를 잘못 누르는 사람들 때문에 밤낮으로 짜증이 너무납니다. 정작 자기들은 채팅이 보내진줄도 몰라요. 이딴기능을 왜 만든건지 이해를 못하겠네. 채팅수만 6~7개로 늘고 답도없고',\n",
              " \"고객센터와 연락하는 수단이 오로지 '문의하기' 하나뿐인데 일주일 전 문의건에 대한 답변이 없을뿐더러, 문의가 하나 들어가있는 상태에서는 추가문의도 되지 않으며, 문제 해결되었습니다. 버튼만 있는 상황입니다. 문의내용 히스토리를 리스트 형식으로 보여준다던지 하는 기능개선이 필요해보입니다. 그리고 고객센터와 연락가능한 수단이 추가되어야 한다고 봅니다. 상황에 맞지않는 이유로 제재당한 상태인데 뭐 해결 할 수 있는 방법이 없네요.\",\n",
              " '당근 앱 덕분에 동네에서 필요한 물건을 저렴하게 구하고, 나에게 필요 없는 물건도 쉽게 나눌 수 있어서 정말 유용하게 사용하고 있어요. 특히 고객센터 응대가 정말 빠르고 친절해서 놀랐습니다. 문의할 일이 있었는데 바로바로 답변을 주셔서 문제를 빠르게 해결할 수 있었어요. 동네 기반 거래 플랫폼 중에서는 단연 최고라고 생각해요!',\n",
              " '아직 시스템적으로 많이 부족하고 고객선터운영도 수준이 많이낮아요.누군가신고하면 한차례경고나 알림도없이 이용정지당해서 본인은 그사실도 모른체 혼자 당근바보놀이 하고있는거에요.차라리본인도 사용정지를 시키는게낫지 이게뭐하는짓인가요 또 고객센터에 이럴글을올리거나 안좋은글을 올리면 이용정지 풀어주지도않고 답변쌩깝니다. 답답한건 고객이니 아주 요런거는 잘이용할줄알아요. 답변도 없고 이용도안되고 저믿고 거래하고 계약금까지 걸고하신분들한테 졸지에 돈받고 먹튀한인간취급만들어요.오히려 당근이 사기꾼을 육성하는 어플입니다. 다들조심하세요 하루빨리 당근 대항마어플이 나왓으면 하는바램입니다. 요즘시대 고객센타 콜센터운영도 없고 시대가어느시대인데 글로만 고객센타운영하는 곳이 당근입니다. 얼마나 떳떳하지못하면 이렇게하는지 정말 찌질한 어플입니다. 당근덕분에 사기꾼취급받고 떠납니다. 곧 ●되길 기원할게요.',\n",
              " '여러개 팔기 기능 쓸모가 없네요. 무한 로딩만 뜨고;; 3번째 시도해 봄. 당근 강종하고 임시저장한 걸 불러와서 등록한 사진 일부가 제대로 안 뜨는 상품만 사진 재업로드 하고 판매버튼 누르니 그제서야 올라감^^ 시간 낭비 오지게 하게 만들어서 기분이 주옥같아요. 해결 안해주면 별 1개 유지합니다 ㅅㄱ요',\n",
              " '당근을 잘 사용했던 이용자입니다. 최소한 이용정지에 대한 정확한 명분을 가지고 이용정지를 해야하는거 아닌가요? 어느순간 갑자기 영구정지라... 리뷰를 보니 나만그런게 아니 많은분들이 억울함을 호소를 하는게 보이는데 개선을 하지를 않고 영구정지만 하네요. 참나',\n",
              " '당근 잘 이용중이었는데 갑자기 로그아웃 되면서 2031년까지 이용 금지라고 뜹니다. 아무런 이유도 모른채 갑자기 차단당하고 사용자는 그냥 그러려니 해아하나요? 연결 가능한 고객센터도 없고 문의는 무조건 앱으로만 가능 너무 답답하네요. 나중에 보니 외부채널 유도로 인한 사기가 이용 정지 사유라는데, 카카오톡 오픈채팅이나 타 사이트로 유도한 적도 없고 한순간에 당근때문에 사기 친 사람 되서 굉장히 기분 나쁩니다. 이용정지 사유가 이게 맞는지요? 리뷰 보니까 억울하게 이유도 모른채 차단 당한 분들이 한 두명이 아닌 것 같은데 괜히 AI 도입해서 사용자들만 불편해지네요. 이용정지 풀어주세요.',\n",
              " '최악임. 영화 대리예매도 아니고 이미 예매된 티켓을 사정상 시간이 안되서 판매하는데, 바로 이용제한 걸어버림 ㅋㅋㅋㅋㅋㅋㅋㅋ 고객센터에 글 남긴지 이틀이나 지나고 3일째인데 답변도 없고, 그렇다고 유선 고객센터가 있는 것도 아니고 잘 이용하다 뒤통수 맞음 ㅋㅋㅋㅋㅋㅋㅋ',\n",
              " '아동물품을 팔아도 성인물품 판매로 신고되어 3일씩정지되는데 고객센터에 문의하면 답변이 오기까지 걸리는 시간이 5일이 넘을때가있고 이용자가 이렇게많으면 전화를 걸수있는 고객센터가 필요함에도 본인들 편의를위해 메세지로 문답을받는 고객센터만있음. 이와 비슷한어플이 나온다면 금새 망할꺼임',\n",
              " '누가 악의적으로 제 상품을 신고한 것 같아요. 저는 그저 상품을 올렸는데 어떤 것에 어긋난? 뭔 신고를 먹었더라고요. 잘 기억은 안납니다. 근데 상품은 그냥 동화책이었습니다. 규정에 어긋나는 거 하나 없고 그냥 중고책만 올렸는데 이상하네요. 몇 주 동안 못 쓰다가 다시 올리고 쓰고 있는 데 온도도 내려가 있고 당황스럽더라고요.',\n",
              " '당근운영이 엉망입니다. 제가 2년 전에 이삿짐 개인용달 이용한 적 있는데 그 사람이 옮기는 과정에서 가구에 구멍내고 심한 기스내서 있는그대로를 후기글 올렸더니 갑자기 전화와서 처음엔 게시물 지워달라 하더니 나중엔 욕까지 하고 허위사실로 경찰신고하겠다더니 진짜 했더군요. 그런데 그 사람 말이 거짓이라 사건처리조차 안됐는데 그게 2년전 일인데 얼마 전에 그 후기글에 혐오 부분 있다며 저의 후기글을 숨김처리한다는 알림이 왔더군요. 참 어이가 없죠. 오히려 그런 악덕 이삿짐 개인용달을 제재해야 할텐데 오히려 저의 사실대로의 후기글을 다른 사람도 못보게 하다니./또 제 기존 폰이 고장나서 중고폰 안드로이드 7버전인데 당근앱 사용 못하네요. 다른 대부분의 앱은 가능한데 당근도 사용가능 버전 올리기보다 더 많은 사람들이 사용할 수 있게 버전을 낮출 것을 제안합니다. 좀 구형 폰 이용자도 사용가능하게 해야지요. 그리고 아직 그런 폰 사용자도 많습니다. 당근 때문에 폰 바꿀 수도 없는 노릇이고요.',\n",
              " '악성 신고자 때문에 거래 금지 물품이 아니고 설명 글에 잘 썼는데 자꾸 정지됩니다. 동일한 걸 파는데 오히려 설명 없이팔아서 거래 금지로 생각되는 사람은 계속 판매중이고 신고 처리도 되지않음. 신고가 자동으로 처리되는 것 같은데 너무 허술하고, 고객센터 답장이나 처리는 엄청 느린데 누가 쓰고 싶겠냐구요. 그동안 많이 거래하고 온도 높여 봤자 이런 식으로 관리하는데 판매나 구매하고 싶겠냐구요',\n",
              " '업데이트 이후로 판매 게시글 올릴때 자동으로 AI가 분석해서 내가 쓴글은 싹없어지고 이상하게 분석한 글로 자동으로 만들어져서 두번이나 다시 입력해야 하고 그리고 최근에 체팅하기는 없어지고 자동으로 안녕하세요.구매가능합니까? 이걸로 되어서 잘못눌릴까봐 매번 조마 조마 하네요 이것좀 없애주세요 너무 불편합니다 가면 갈수록 편해지기 보단 더 불편하게 만들어져서 이용하기가 힘듭니다 개선할거면 이런걸 하지말고 쓸만한걸로 해주세요',\n",
              " '갑자기 정지먹었어서 2030년까지 제한이되었네요 예전에도 한번그랫는데 잘사용하지않아 그러려니했는데 이번에도 이유를알수없이 로그아웃당하고 정지먹었습니다! 고객센터 번호도없고 메일.연락답장도늦으니 너무답답합니다 매너온도49도로 매너있게 잘사용하고있었는데 이게 무슨황당한일이니지 당근사기하는사람이나 잘단속하시지 선량한사람까지 이유없는 계정정지너무기분나쁘네요!',\n",
              " '종종 유용하게 사용중인데 너무 불편하고 찜찜한부분 있어서 리뷰로 의견 남겨요 조금만 오래 검색하면 메모리가 쌓이는지 점점 로딩이나 스크롤 느려지고 나중에는 오류도 발생해서 앱한번씩 나갔다 들어가서 사용중입니다 불편해요 또 게임을 하는것도 아니고 단순 검색인데 폰발열도 발생하는거 같네요 오래 검색한것도 아니에요 10분정도 검색하면 이런 현상이 발생하는거 같습니다 기본기능에 문제가 많은거 같은데 인지는 하고 있는건지 개선은 되는건지 궁금하네요!!',\n",
              " '분명 중고거래어플이고 무료 나눔 옵션이 있는 앱인데 아이러니하게도 나눔을 원한다는 내용의 글은 작성이 안됨. 중고로 쓸만한 물건 구하는게 이 앱의 사용 용도일텐데 그것과 전혀 반대되는 운영정책임. 상품을 내놓으라고 강요하는 것도 아닌데 그걸 문제삼을거면 좀 가격 깎아달라는 네고도 상품가격과 별도로 받아먹는 택배비도 전부 칼같이 이용제한해야겠네? 안그런가? 이 무슨 말도 안되는 운영정책인지 모르겠다. 그리고 당근전화 기능이 있음에도 기능이 제대로 작동하지 않는 것은 물론. 매번 자동으로 통화가 취소당한다. 중간에 응답 없음으로 뜨는 경우가 한 두번 정도 있어 확신은 불가능하지만 아마 거의 분명함. 그리고 노쇼에 대한 대응이 매우 미흡함. 약속 깨고 도망치는 사람은 안잡고 비매너 평가밖에 못하게 해놨으면서 막상 나눔 좀 받겠다는 사람은 일단 막고 보겠다? 이게 사기장려어플인지 중고거래어플인지 정말로 감이 안온다. 차라리 다른 어플로 갈아타야만 할거같다. 만나서 더러웠고 다신 보지 말자.',\n",
              " '당근이용하다가 전문판매행위로 몇번이나 게시글 전부 삭제됐어요. 옷을 너무 좋아해서 많을뿐이고 같은게시글 올려본적도없고요. 규정 잘 지키면서 사용했고 일주일에 70개나 글올릴수있다고 홍보하길래 사용했는데 아무 게시글이나 누가 악의로 신고하면 제재가 되더군요. 가족들꺼까지 총 4개 제재당했구요. 게시글이 몇개없던 계정도 그냥 막 제재가 됩니다. 당근은 고객센터가 없어 cs팀에 문의를 해야하는데 이것마저도 ai 매크로답변이 오구요. 몇십번 계속 문의하다가 포기했습니다. 가족들 계정들까지 여러개있어도 단 한번도 같은 물건 올린적없구요. 퇴근후 3-4시간씩 열심히 사진찍어 치수재고 올렸던 몇백개 글이 사라졌어요. 옷 뿐만이 아닙니다. 네이버검색 해보시면 이런케이스 엄청납니다. 이와중에 진짜 사기치는사람들, 매장있는사람들은 잘만 글 올리더군요. ex) 재고할인해요, 건강식품, 전자기기 등. 그런사람들은 아무리 신고넣어도 아예 제재안받고 잘만 팔아요. 당근 관리 너무 의심스럽습니다.',\n",
              " \"AI 기능 보완이 필요합니다.. 기능 켜져있어도 내가 쓴 건 유지되겠거니 하고 글 다 쓰고 마지막에 사진 업로드 했더니 미리 써놓은 글까지 확인 없이 싹 교체해버려서 기능 끄고 다 다시 작성했어요. 사진 업로드 때 이미 작성해놓은 내용 싹 무시하고 추천 뜨길래 선택했는데도 오류인 건지 확인 버튼도 안 보이고 제대로 기능을 안 했구요. AI 작성 내용을 '추가'할 건지 그걸로 '교체'할 건지 그냥 내가 쓴 내용으로만 갈 건지, 이 세 가지 선택지는 나오게 해주세요..\",\n",
              " '며칠째 고객센터에 문의했지만 아직 답변을 받지 못했습니다. 사용자 문의에 대한 신속한 응대가 이루어지지 않아 매우 아쉽습니다. 더불어, 매장에서 고객 테스트용으로 제공되는 화장품 테스터 제품이 개인 간 거래로 판매되고 있습니다. 이는 위생과 안전 문제로 소비자에게 위험할 수 있는 부분이며, 이러한 게시글이 신고 후 삭제되더라도 해당 판매자가 아무런 제재 없이 계속 활동하는 점도 문제라고 생각합니다. 앱 자체는 편리하지만, 운영과 관리 부분에서 개선이 필요하다고 판단합니다.',\n",
              " '리뷰 처음남겨본다. 최악이다. 아무 이유없이 정지당했는데 말할곳도 없다. 메일 보냈지만 감감무소식이다. 여기서 답변다는놈도 ai인가? .. 메일을 보냈지만 읽기만하고 답변도 없다. 너네들 일좀 똑바로해라. 차라리 유료화를 하고, cs업무 최소인원이라도 배치를 하던가. 당근으로 메일도 보냈고 여기서 컴퓨터처럼 답변하는 앱리뷰 거기로도 메일보냈으니까 빨리확인하고 처리좀해라 진짜..',\n",
              " '당근온도 99도 사용자로 사기 신고 등 당근마켓의 건전한 거래를 위해 활동하고 있습니다. 최근 허위 비매너 활동정지로 확인되어 해제된지 얼마 되지도 않았는데, 또다시 며칠만에 일부 거래자 및 사기꾼들의 보복성 및 반복적인 비매너 신고로 제가 계속 사용정지를 기계적으로 당하고 있는 거 같습니다.(이전 문의내역 참조) 이점을 고려하시어 너그럽게 활동정지 해제를 요청드립니다. 너무 스트레스 받네요. 활동정지 당할때마다 그 기간이 길어지는데, 차라리 계정 탈퇴를 하고 재가입하는게 좋을까요? 항상 기계적인 답변만 하는 당근마켓측이 원망스럽네요. 제발 신중히 검토해 주시고 빠른 조치를 취해 주시면 좋겠습니다.',\n",
              " '전문판매업자 아닌데도 불구하고 정지당했어요;; 정지 풀렸는데도 게시글이 다숨김처리돼서 다시올렸는데 그것때문에 또 전문판매업자라고 정지당했네요 대환장..ㅋㅋ AI도입때문인것같은데 너무 검증도없이 도입한거아닌가요? 지금 리뷰나 네이버 검색만해도 당근문제점이라고 많이나오는데 더 신뢰잃기전에 개선필요해보여요 그리고 당근 홍보기능? 진짜 별로에요',\n",
              " '갑자기 로그아웃되서 다시 로그인하니 그사이에 누군가 제아이디로 다른번호인증받아서 여러게시글에 핸드폰번호 남기면서 문자유도 하는 거래내용이 남았는데 이게 가능한 일입니까 그거때문에 2030년까지 정지 당했고 당근페이에 있는돈도 출금 못하고 있습니다. 로그인도 아예 안되고 고객센터 답변도 못듣고 답답해죽겠는데 방법없습니까 계정도 삭제해버리고싶은데 로그인도 막으면 우짭니까',\n",
              " '부동산 상가매물 끌어올리기 하니까 API 비정상호출내역? 이게뭔 뜬구름잡는소리인지 영문도모르고 갑자기 영구정지를 시킴 문의하니까 복사붙여넣기한 답글달림 다시문의남겼는데 답장이없음 내가뭘했다고 영문도모르는 API 비정상호출인지 나발인지 ?? 내 명의핸드폰으로 내명의계정이고 혼자쓰는당근계정임 고객센터 운영 이따구로하면서 정지제제 띡 하면 끝? 당사자는 하염없이 언제달릴지도모르는 답변만 기다려야하고? 내가 뭘했는데? 부동산 상가매물 끌어올리기 했고 문의들어온체팅 답변했더니 뭔영구정지?',\n",
              " '당근 사기당했는데 8월 16일 거래한 채팅창 아이디 알 수 있을까요 은행이랑 계좌는 알 고있는데. 채팅장 복구 기능도 있으면 좋겠습니다 거래한 아이디 보기 기능이나. 판매 정지 기간은 하면서 고객센터가 없네요',\n",
              " '운영방식이 별로네요. 갑작스럽게 아무런 사유 없이 2025년 4월 22일까지 총 5년간 이용이 제한되었습니다. 거래를 하겠다고 한 분이 거래가 불발되자 악의적으로 무고하게 저를 신고하 것 같습니다. 저는 그분이 거래를 원하지 않는다고 하셔서, 그분께서 보내신 예약금 3만원을 즉시 그분의 계좌로 돌려드렸습니다. 제 채팅 내역을 확인하셔도 됩니다. 그분이 거래를 불발하셔서 다른 분과 내일 오후 3시에 거래하기로 했는데 당근 이용 제한이 되면 저는 거래를 하지 못합니다. 갑자기 이런식으로 한쪽말만 듣고 증거도 없이 이렇게 운영하는건 진짜 바뀌어야 겠네요. 정말 어이가 없어요. 네이버를 찾아보고 이 어플 리뷰도 찾아보니 이런 경우가 참 많네요. 억울한 사람들이 많아요. 이용할 마음도 점차 사라지고요. 억울하고 불안해서 어떻게 사용해요.',\n",
              " '갑자기 이용제재가 되어 문의글 남깁니다. 이용제재 이유가 전문판매 행위로 되어있는데 저는 의류업을 하는 사람도 아니고, 의류와는 전혀 관계없는 제품 디자이너로 일하고 있는 평범한 직장인 입니다. 와이프와 제가 자주 안입는 옷들이 많아 당근으로 판매하고 있는거고, 같거나 비슷한 다량의 옷을 판매하고 있는것도 아닌데 전문판매행위 사유로 이용제재당했네요. 누군가 허위신고를 한 것 같은데, 제 판매내역들을 확인도 안해보고 신고만 들어왔다고 판매제재를 하는건가요? 판매내역만 확인해봐도 전문판매업자가 아니라는것이 확인 되실텐데요.... 매너온도도 떨어졌구 가족의 당근에서 확인 해 보니 제 판매물건들도 노출이 안되네요... 그동안 매너있게 거래하고, 나눔도 꾸준히 해서 몇몇 단골분들도 생기고 나름 좋은 이미지 였었는데 이런일을 당하니 억울하고 속상하네요.. 빠른 해결 부탁드립니다...',\n",
              " '직장에서 일하던 중 알림이 오거나 짬 날 때 보던 중에 사고 싶은 물건을 발견해서 연락하려고 하면, 번번이 동네 인증에 막힙니다... 도대체 이 멍청한 시스템을 누가 무엇을 위해서 설계한 건지 모르겠지만, 이건 판매자를 위해서도 구매 희망자를 위해서도 좋지 못합니다. 대체 왜 대화도 못하게 막습니까?',\n",
              " '사용잘만하다 담날에 앱 켰더니 갑자기 29년까지 정지통보를당해 이유라도 들어보려고 고객센터에 두번정도 문의넣었었는데 뭐가 문제인지는 아무것도 안알려주고 29년까지 사용정지라고만하네요 심지어 2번이나 문의를 남겼는데 두개다 같은 답변ㅋㅋ 최근일도 아니고 2년전인일이지만 진짜 어이가없어서 리뷰에라도 적어봅니다',\n",
              " '당근 알림이 떠서 알림창에서 클릭을 하면 관련 글이 안뜨네요. 버그인지 모르겠지만 개선이 필요합니다. 판매상품 키워드를 설정해두고 알람이 떴을 때 그 알람을 클릭하면 알람으로 뜬 판매상품 게시글이 바로 떠야하는 게 아닌가요? 안뜹니다 안떠요. 그냥 앱이 실행되고 메인페이지가 뜹니다. 그럴꺼면 뭐하러 알람을 설정하겠어요. 25년 7월 7일 기준 아직도 알림설정 판매글 올라온거 앱푸시 눌러봐야 이동도 안함 별 한개로 수정',\n",
              " '정말 최악의 앱. 사기가 너무 빈번하고 고객센터 대응도 한참 부족함. 다른 서비스 이것저것 만들고 광고하고 수익화 할시간에 기본적인거 부터 보완하세요. 괜히 평점 1점이 많은게 아님. 진짜 이해가 안가는게 사기치는 놈들은 주기적으로 탈퇴했다가 가입하더라 도대체 정책이 어떻게 되는건지 진짜 최악이다. 신고시스템 좀 뜯어고쳐라. 개발에 돈 좀 쓰라고 맨날 광고해서 돈 벌생각말고 기본적인게 안되는데 수익만 추구하고 있네',\n",
              " '비즈프로필 후기를 작성할때 , 실제로 구매 확인이 된 사람들만 후기를 작성할 수 있었으면 좋겠습니다. 구매하지 않고도 허위적으로 악의적 댓글을 작성하는사람들이 있는데 제 마음대로 바로 삭제도 못하는 상황과, 점 세개를 눌러서 항의하는 과정 자체가 답답해요. 영구삭제도 아닌 30일 보류라니요? 게다가 의의 신청을 하게되면 다시 업로드하고, 방통위에 심위접수를 직접해야하는 상황까지 참 어이가없습니다. 그리고 그런 거래 없는 후기 및 허위성 후기를 남기신 분들의 제제가 필요하다고 생각합니다. 확인 후 조치 부탁드립니다. 감사합니다.',\n",
              " '며칠전부터 알림이 너무 많이떠서 보니 관심해둔 물품에 불필요한 알림들이 추가됐네요. 곧팔릴지도모른다 누가채팅을했다 누가관심을눌렀다등등 삭제좀해주세요ㅡㅡ아니면 알림설정에서 끄게해주세요. 관심물품 가격변동 알림 제외하고는 저런알림 전혀필요가 없어요. 불편해요. ----------------- 최근 업데이트 됐다고 답변 주셔서 설정에 들어가보니 \"관심 게시글의 가격 하락, 새 관심 등\" 이라고 통합되있어서 누가 채팅을 했어요 관심수가 높아지고있어요 팔릴지도몰라요 이런알림은 어디서 끄나요...? 가격하락만 알림받고싶어요 ㅜ',\n",
              " '무고정지시켜놓고 답변은 이따구로 주고 \"부정 호출이란, 당근 최신 앱 버전에서는 이미 삭제 되어 사용할 수 없는 기 능을 사용하려고 시도했다는 의미입니다. 이는 해당 기능이 아직 사용되고 있었던 과거의 앱 버전에서 보안 조치를 우회하기 위해 최신 버전으로 버전을 조작하는 것 이외에는 발생할 수 없는 상황입니다.\" 일반 사용자가 중고거래 어플 해킹해서 뭐한다고 이딴소리 하는거?ㅋㅋㅋㅋ 이래놓고 정지 절대 안풀어준다고 못질까지 하네 ㅋㅋㅋㅋㅋ 재문의해도 답 절대 안오고 쓰레기같은놈들',\n",
              " '번호를 바꾸고 다시 깔아 예전 계정으로 로그인 했어요 그리고 거래 후 잠시 앱을 지웠다 다시 깔았는데 그 이후로 로그인도 회원가입도 되지 않아요 거래 하나 했고 그 거래도 제가 구매한것이며 건전하게 잘 끝냈는데 왜 정지당한건지 모르겠어요 앱 자체는 정말 좋은데..',\n",
              " '안녕하세요 당근 앱을 사용하고 있는 사람입니다. 다름이 아니라 당근 채팅에서 글을 읽으려고 하는데 새 거리 두 개가 있는데 표시만 돼 있고 채팅 상황 문제 있는 거 같습니다. 읽은 표시가 안 돼 있고 제 핸드폰에도 문제 있나 싶어서 저는 다시 껐다 켰거든요. 당근 앱에서 서버가 접촉이 잘 원하지 않은 것 같습니다. 앱을 제거하고 다시 실행했는데 접속이 불가능하다고 안 되네요 . 버그수정 좀 부탁드리겠습니다. 그리고 답변 기다리겠습니다.',\n",
              " '다른 문장으로 채팅을 시작하고 싶은데, 기본 문장을 지우면 보내기 버튼 자체가 막혀서 채팅을 할 수도 없고..... 대체 이게 무슨 쓸데없는 기능인가요?????? 쉬운 거래 예문을 주시려면 일단 채팅창을 만들어 들어간 후에 키보드 위에서 누르게 해주시면 좋을 것 같네요.',\n",
              " '당근을 굉장히 잘쓰고있는 유저입니다 이번에 나온 ai로 상품 올리기에 할말이 많은데요 첫번째는 상품과 관련이 없는 글이 입력된다는겁니다 이렇게 되면 글을 두번이나 써야해서 번거롭습니다 두번째는 ai를 껏다 켰다하는 버튼이 있다는겁니다 이건 굉장히 좋지만 문제는 계속 유지가 되는게 아니라 글 한개당 버튼을 눌러야 한다는겁니다 이거때문에 버튼 누르는걸까먹고 ai작성을 한지 2~3번은 넘는거같습니다 만약 정식으로 나온다면 설정에 on off를 하는기능이 추가되면 합니다',\n",
              " '항상 잘 이용하고 있는데 계정에 억울한 이용제재를 당해서 고객센터에 문의했는데 일주일 넘게 답변을 안주시는건 뭐죠? 그리고 제 문의글을 다시 확인해보려하면 계속 오류나면서 앱 자체가 튕깁니다 제 문의 내역좀 확인 부탁드리고 빠른 답변 좀 부탁드립니다 답답해서 죽을지경입니다',\n",
              " '갑자기 로그아웃이 되길래 다시 로그인하려고 시도했는데 안돼서 문의를 넣었더니 답변이 와서 고유아이디를 알려달라고해서 닉네임만 알고 고유아이디를 몰라서 웹으로 당근에 접속해서 올려놓은 글을 찾아서 고유아이디를 알아보려고 했는데 글이 삭제되어있고 제가 제재를 당한거더라구요? 그래서 다시 문의를 했더니 외부 채팅앱이나 링크로 유도를 했다는데 그런적이 없어서 그런적이 없는거 같은데 내가 그랬다는 게시글이나 그런걸 보여줄수있냐고 문의를 여러번 넣었는데 감감 무소식이네요 4월 21일부터 지금까지 이게 무슨일인지.. 여기 고객센터 정말 최악입니다 전화 상담은 커녕 톡으로 실시간으로 상담할 수 없는데다가 문의 남겨놓고 기다려도 답도 없고 답은 메일로 주는데 그거에 대한 답장을 하려면 다시 고객센터에 문의 넣어야하고.. 정말 번거롭네요 제재 관련 문의넣은거 언제 답변 받을 수 있죠? 정말 어이없어요 제재를 가한 사유 제대로 증명해주셔야 할겁니다',\n",
              " '내 돈 내놔요. 캐쉬 5만원 넣어 놓은거 계정 없앨거면 왜 넣놓을 수 있게 했고 넣 놓고 며칠만에 계정 삭제했고 기존 채팅으로 기프티콘 거래한거 없어졌는데 다 내놔으라고요. 당신들은 남의 돈 웃읍게 보는거 같은데, 계정 폭파 시킬거면 돈도 내 놓고 알아서 하라고요 메일 알려달라고 했으면서 알려줬는데 왜 메일도 없는 거에요?',\n",
              " '당근마켓이 안전하다는 말도 다 옛말입니다. 특히, 교환권 거래의 경우 사기피해 사례가 급증하고 있습니다. 이에 따라 강력한 대응 및 법적 조치가 필요해 보입니다. 수사기관에서는 소액거래의 경우 수사중지를 해버리는 경우가 많기 때문에 소액거래든 고액거래든 사기피해가 이루어질 수 없도록 당근마켓 자체에서 사용자들을 관리하고 조치를 취해주세요.',\n",
              " '평소 만족하며 잘 쓰고있있었는데 이번 업데이트가 너무 최악이라 리뷰남깁니다 이미 지적한 분이 계신데, 채팅으로 인한 불편이 심각하네요. 그냥 구경만 하고 싶은 상품이었는데 실수로 보내기 버튼이 눌러져서 채팅이 가기도 하고, 원치않는 문구가 발송됩니다. 자동 채팅 기능이 온/오프 되어 사용자가 선택할 수 있도록 하던지, 업데이트 이전으로 돌려놓던지 반드시 개선이 필요하네요 말씀드렸듯 너무 잘쓰고 있었는데 이런..실제로 테스트 해봤나? 싶을 정도로 실사용 하기에 어이없는 업데이트에 화가나서 리뷰 남기게 되었습니다 해당 기능이 개선되면 별점 고치겠습니다 개선 부탁드립니다.',\n",
              " 'AI 도입 이후로 필요없는 기능 생겨서 별로입니다. 추가로 이상한 편지 시스템이 생겼는데 구매자가 보내준 편지도 아니고 AI 가 생성한 글인데 그거 읽는다고 변하는게 있지도 않고요. 별로 후기를 남기고 싶지 않은 구매자. 판매자가 생겼을 때 피드백인줄 알고 후기 남겨버렸네요.',\n",
              " '당근 처음 나올때부터 잘 쓰고있었고 매너지수도 괜찮았는데 얼마전 안입는 옷을 팔려고 택배거래 하기로 했다가 폰을 분실해 연락이 두절되는 바람에 구매자로부터 신고를 당했었어요. 어찌저찌 해서 연락이 되고 사정을 얘기하고 늦어서 미안하다고 새옷 두벌까지 챙겨서 보내드렸더니 구매자분도 이해하고 신고취소 문의를 여러분 했는데도 불구하고 당근측에서는 이유불문하고 사기잠적이라고 2030년까지 영구정지시켜버렸습니다. 당사자끼리 해결이 잘 되서 거래가 완료됐으면 끝인거지. 무슨 횡포부리는것도 아니고 이런 과도한 제재를 왜하는지 모르겠네요. 콘텐츠분쟁위원회에도 분쟁조정신청을 했었는데 조정참여 권고서를 발송해도 당근측이 대꾸도 안한다고 재차 참여 권고 발송을 했다네요. 이제보니 당근마켓이 아주 대단한 벼슬입니다. 이깟 앱 안쓰면 그만인데 저따위로 횡포를 부리는걸 진즉에 모르고 여태껏 저것들 도와준게 분하네요. 당근은 이제 쓰레기통으로 쏙~',\n",
              " '알림 메시지에 :) 이런 이모티콘을 쓰시고 사적인 말투로 알림이 와서, 푸쉬알림으로 봤을때 이용자가 보낸 채팅 메시지인줄 알고, 왜 이용자가 내 이용내역을 아나 싶은 순간 착각에 아주 깜짝 놀랐습니다. 제 착각이긴 한데 무슨 소규모 동호회 카페 공지도 아니고 좀 이상하긴 하네요.',\n",
              " '당근앱을 통해서 거래 지역 범위를 설정하여 편리하게 중고 아이템을 구매 및 판매 또는 나눔을 할 수 있어서 편리합니다. 하지만 당근거래 규칙 중에 거래금지 물품이 당근거래 규정 완화로 거래되고 신고하기 위해 규정을 율법읽듯이 알고 있지 않으면 거래금지품목이 당근거래 리스트에 올라가 금방 거래되곤 합니다. 게다가 외환 화폐를 국내화폐로 수수료 없이 환전 거래 하고 있어서 방치되고 있는점을 보아 당근앱의 모니터링이 굉장히 허술하다고 체감하고 있습니다. 환각성분이 들어 있는 초콜릿도 당근에 올라온 적도 있었습니다. 이 부분도 신경 써주셨으면 좋겠습니다.',\n",
              " 'ㅋㅋㅋ vpn키고 앱 잘못클릭해서 29년까지 계정제한 당한것도 웃긴데 저번주 금요일에 그거 관련해서 조금더 빨리 푸는방법없나요라고 문의했는데 지금까지 답변이 한통도 안오는건 뭔가요? 사람들이 많아서 고객센터 바쁜건 이해하겠는데 저번주 금요일에 문의했는데 화요일 밤까지 연락한통도 없는건 좀 아닌거같습니다. 고객센터가 제일 최악이네요',\n",
              " '당근 고객센터는 어플 이용자를 무슨 뭐 호구로 생각하나요?? 고객센터에 메일 백날 보내도 다 씹히고 무시 당하고.. 진짜 화가나서 욕 나오네요. 메일 3통 보냈습니다. 당근 고객센터에서 제가 평점 낮게 남겨서 그런지 보복 응대 하셨더라구요 ^^ 제가 어플 이용자로써 솔직하게 평점 남기는게 뭐가 잘못되었나요? 어플이 그지 같으니까 솔직하게 후기 남긴거죠. 제 판매글중 대부분이 다 강제 숨김처리 되었어요. 물론 통보 하나 없이요. 더 웃긴건 제 계정으로 볼때는 다 판매중인것 처럼 보이도록 해놔서 제 남편 계정으로 들어가기 전까지는 숨김처리 된줄도 몰랐네요. 아주 어플 이용자를 호구로 아시나봐요ㅎㅎ 숨김처리 된줄도 모르고 3달 동안 곧 이사 예정이라 열심히 판매글 올리고 사진찍고 아주 호구짓 제대로 했네요. 메일 보내도 읽지도 않고 다 씹히고, 그래서 제가 사용하는 모든 온라인 커뮤니티(네x트，네x버 등)에 당근 고객센터측의 보복응대 관련 글 싹 다 올리는 중입니다. 수고하세요~~',\n",
              " '당근앱을 잘 이용하다가 어제부터 이용제한 2029년 4월 11일까지 이용을 못한다고 뜨네요.. 이용하는데 너무 불편합니다 사기공고를 올리지도 않았고 사기업무를 지시한적도 없는데 지시했다는 이유로 영구정지 당했습니다. 고객센터 문의하기로 여러번 문의하였으나 답변은 거의 안오네요 불편한 앱입니다. 조치 부탁드려요',\n",
              " '지역 고르는거 동생이 두번 잘못 눌렀는데 제 쪽에서 잘못한거긴하지만 전화번호같은 중요한거 틀린것도 아닌데 정지먹이는건 좀 심한거같은데요. 정지 아닌 정지 때문에 알바지원했는데 뽑혔는지 안뽑혔는지 알 방법도 없고 뽑혔다해도 답장도 못하게 생겼네요. 깐깐한건 좋은데 너무 꽉 막혀있잖아요. 지역 틀렸다고 1주일 정지는 너무 길어요. 짜증나네요.',\n",
              " '당근 잘 사용합니다. 근데 부동산은 아파트를 올리고 몇개월뒤 부동산 인증을 하라고 해서 주소를 적는데 없다고 뜹니다 . 60일뒤면 글이 없어진다면서.. 저번에 등록한걸 복사를 해서 넣어도 안뜹니다. 그 아파트는 없는 아파트입니까? 저번엔 등록이 되었는데 지금은 왜 도로명이 없다고 뜨는지 똑같은 다른 아파트는 다뜹니다. 지번은 저번에 등록한 주소가 아니라서 등록이 안되네요. 또 1층 ~15층까지 세대 호수 다 포함되어서 너무 많아 밀려서 안나오는건지 이것좀 어떻게 처리 부탁드립니다.',\n",
              " '지역 설정이 이상합니다. 화양동을 두면 거리 최대로 했을 때 화양동이 가운데가 아니라 구석 쪽으로 치우치고 위쪽으로만 범위가 늘어납니다. 영동대교 건너 청담 쪽이 훨씬 가깝고 가기도 더 수월한데 범위가 위쪽으로만 늘어납니다. 더 멀고 가기도 불편해요. 반대로 지역을 청담으로 하면 화양동 구의동까지 포함이 됩니다. 지역 설정 수정해 주시면 좋겠어요.',\n",
              " '계좌번호로 송금요청하는 경우가 있는데 상대자가 계좌입금을 취소하고 현금거래를 원하거나 거래가 취소되는 경우가 있어요. 제 계좌와 이름만 공개되는 상황인데, 개인정보가 저만 공개되는 것 같아 꺼림찍한 기분이 드네요. 개선이 필요합니다. 삭제도 안되네요.',\n",
              " '문의 내용에 대한 답변이 없습니다. 다른 것도 아니고 사기 피해 관련 문의 내용에 답변이 없고, 메일로 보냈더니 어플에서 문의하라는 내용만 돌아옵니다. 어플에서 한 문의는 묵묵무답이네요. 당근이 전화로 고객센터를 운영하지 않는건 선택이지만 문의 내용에 대한 답변은 cs에서 필수라고 생각합니다.',\n",
              " '보이스피싱으로 인해 핸드폰 초기화시킨 이후로 당근앱설치가 안되고 있습니다 30년까지 가입이 안된다고 하는데 무슨일인지 이해가 안됩니다 사용하는 동안 아무 문제없이 잘사용했고 거래도 잘하고 있었던터라 이유가 궁금해 연락드립니다 닉네임:취소',\n",
              " '중고 판매 게시글을 일부 허위신고 악용하는 사용자가 신고해서 해당게시글 미노출 처리되고 제재 당했는데, 확인도 제대로 안하고 잘 이용하는 사용자만 제재 시키는 어플^^, 몇달전부터 허위신고 사용자는 제재도 안시키고 오랜 사용자만 제재시키네 뭐 발전이 있긴한가요?',\n",
              " '최악의 앱. 하지도 않은 운영정책 위반했다고 하면서 막아버리는 악덕업체. skt처럼 보안도 안되서 해킹위험도 있는것 같음. 전혀모르는 아이디로 중복된 로그인으로 인해서 5년동안 접속안된다는 당근ㅋㅋㅋㅋㅋ 어이없다 어이없어. 이용계약등록증 보냈더니 이번엔 정책위반했데 ㅋㅋㅋㅋㅋㅋ ㄷㅅ들 안쓰고말지',\n",
              " '최악이네요. 매너거래로 매너온도 유지중이었고 심지어 최근 거래도 없었는데 갑자기 계정 잠김되더니 2030년까지 계정 로그인이 안된다고 합니다 사유도 없이 락걸리고 당근페이로 받았던 돈은 로그인이 안되니 인출도 안되는 상황. 고객센터 문의하려고 하는데 수차례 시도해도 어플 오류로 전송화면에서 넘어가 지지도 않음 전화번호 찾으려하는데 고객센터 전화번호도 따로 없음. 회사가 운영을 이렇게 해도 되는건가 싶은 조치네요. 당근 관계자님 이 글을 본다면 문의가 가능한 메일주소 남겨주시고 조치해주시기 바랍니다.',\n",
              " '안녕하세요.당극마켓 거래잘하고 있다가 갑자기 외부채널유도 란 이유로 갑자기 이용정지가 되었는데요.이게 뭡니까..제가 사기를친것도 없는데 어떻게 된일인지요?아무 이유없이 이유하나 딸랑뜨고 정지되었다하네요.무슨 이런저런 이유로 글을잘못썼으면 이유를 얘기해주고정지를 시키든말든 하셔야지요.아무것도사기같은것도 친게없는데 갑자기정지됐다고.정지로인해 로그인도 안되고 뭘어떻게 하라는건지요.답답하고황당하네요..빠른답변 부탁드립니다.',\n",
              " '당근 거래 자체로는 만족합니다만 문의사항에 대한 답변이 너무 부족합니다 최근 영화관람권 거래글로 인해 거래중지가 자꾸 되고 있는데 대리결제로 인한 거래중지라고 안내만 되구요 단순 관람권 판매가 왜 대리결제에 해당되는건지 물어봐도 AI답변인지 엉뚱하게만 답을 하네요 답답합니다 정지를 풀지도 못하고 어쩌나요',\n",
              " '남의 멀쩡했던 물건 못쓰게 만들어도. 말한마디 못하는 곳인가 봅니다 양심없는것들 모아놓고. 꽁양 꽁양 정말 그지같고 넘 좋아요 돈 환불해주고 살때 30만원에사서 1년밖에못쓴걸 되팔지도 쓰지도못하게 만든걸 얘기하는게 감정을 상하게 하는글에 랍니다 명성대로 넘 그지같고 좋은 어플이에요 강력 추천합니다 양심도 중고로 판 양아치집단 어플',\n",
              " '명품 정품여부 확인도 안하고 바로 가품 이미테이션 사유로 이용제한 시키네요 문의글 몇번 올려도 AI답장 똑같은 답장만오고 아무것거 해결되지않네요 해결안되니까 자꾸 문의글 남기고 오히려 여러번 문의글 남겼다고 이제는 답장을 안준다고하네요 명품정품을 판매했는데 왜 증거조사도 없이 활동정지를 시키나요? 이에대한 답변을 몇번 문의글 남겨도독같은AI답장만 오고 이에 대한답변 듣지고 못했어요 너무 억울해미치겠네요 전문판매행위 유사품목 대량판매행위 이용제한 시키네요 집에 사놓고 안입는 신제품 의류 신발을 판매글 올린건데 이것도 제재시키네요 억울해미치겠네요 문의글써도 똑같은AI 잡장만오고 이럴거면 고객센터왜존재하는지모르겠어요',\n",
              " '당근 마켓 사기꾼하고 대화하다 오히려 제가 사기꾼에게 신고를 당하여 억울하게 차단당했습니다. 전후사정을 알고나서 차단을 하였으면 선의의 피해자가 생기지 않았을텐데 아쉽습니다. 확인하여 차단 풀어주시면 감사하겠습니다.',\n",
              " '아진짜 화납니다 업데이트 왜 이렇게 해놨나요 안녕하세요 구매원합니다 이거 왜 해놓은거예요; 잘못누르게되는 위치와 가격제안도 색이 빨간색이랑 회색이있던데 뭐가다른건지 그냥 업데이트 안한게 더 나아요 아 짜증나ㅡㅡ 이런 업데이트 기능때문에 더 당근하기 싫어지고 덜들어옵니다;;',\n",
              " \"진짜 어이없는 경험이었습니다. 별 1개도 아깝네요. 그냥 평범하게 앱만 쓰고 있었는데 'API 비정상 호출'이라는 말도 안 되는 이유로 계정이 영구 정지당했습니다. VPN도 안 썼고, 외부 앱도 설치한 적 없는데, 아무 설명 없이 로그만 보고 '무관용 원칙'이라며 일방적으로 정지. 억울하다고 문의해도 제대로 확인하지도 않고 AI처럼 복붙된 답변만 반복해서 줍니다. 정말 사람이 검토하는 건지 의심될 정도로 복사-붙여넣기된 말만 똑같이 반복되고, 어떤 부분이 문제였는지에 대한 설명조차 없습니다. 당근은 정상 사용자도 언제든지 이런 식으로 영정당할 수 있는 구조입니다. 문제 생겨도 소통 안 되고, 해결도 불가능합니다. 이 앱을 신뢰하고 오래 썼던 제가 바보였다는 생각만 듭니다. 다시는 쓰지 않겠습니다. 주의하세요.\",\n",
              " '규정이 너무 사소한 것에만 일처리가 빠르고 깐깐해요. 합당하지 않은 가격, 악의적으로 플미 붙여서 파는 사람들이나 잡아주셨으면 좋겠고 이런 행위와 관련해 신고 항목을 새로 개설해주셨으면 좋겠어요.',\n",
              " '리뷰만 봐도 이용 정지에 대한 불만이 수두룩빽빽인데 어플 규모 확장하고 이것저것 새로운 영역 늘릴 생각만 하지말고 당근마켓 본질인 중고거래 플랫폼 개선부터 해라. 뭔 비슷한 카테고리 물품 여러개 올리면 전문판매업자라고 신고를 당하지 않나 신고 내용에 대해서 제대로 검토를 하기는 함? 신고만으로 정지가 되는 시스템도 이해가 안 되지만 문의 내용에 대한 답도 무슨 매크로마냥 답하는 게 솔직히 아무짝에도 쓸모 없고 성질만 남. 내가 안 쓸 거 같은 영화관 1+1 쿠폰 올렸는데 전달 가능한 쿠폰이 아니라 예매만 내가 해주겠다고, 내가 돈 벌겠다고 판매글로 올린 것도 아니고 나눔으로 올렸는데 뭐가 아니꼬와서 대리결제로 신고를 하고 정지까지 시키냐? 내가 무슨 영화 티켓값 카드깡해서 부귀영화를 누릴 것도 아니고 진짜 아까운 맘에 누군가라도 쓰면 좋을 거 같아서 올린 건데 당근에 아무튼 배알 꼴려하는 사람들 천지임. 근데 관리하는 사람들도 수준이 똑같음. 리뷰 이렇게 달리는 이유에 대해서 개선할',\n",
              " '당근 고객센터 전화로 할 방법이 없어서 답답합니다. 구매자가 입금한단 말도 없이 당근페이로 입금했고 저는 입금받은지 모른상태에서 쳇을 안 읽고있었는데 그사이 저는 사기꾼이 되어있었고 이용정지당했습니다. 이용정지되어 당근페이돈도 인출도 못하는 시스템이 너무 열받네요. 이용정지를 빨리 풀어주셔서 당근페이 돈 인출되게 해주세요. 당근페이 돈 받기도 수락버튼있으면 좋겠네요. 일방적으로 돈보내고 사기꾼취급 받는것도 기분 더티하네요.',\n",
              " '어제까지 멀쩡했는데 오늘 당근거래하면서 이미지 전달을 하니 이미지가 까맣게 처리되어 보내지네요. 더군다나 다운로드해봐도 실패하고 있습니다. 일부러 막은게 아니라면 테스트 하나없이 앱 배포를 한거 아닌가 싶네요. 원상복구 해주세요',\n",
              " '살면서 앱 리뷰 처음 남기는데 너무 어이가 없고 황당해서 이런 신박한 운영 방식으로 잘 되고 있는게 신기할 정도 임. 악의적인 신고로 전문판매업자로 계속 정지 당하더니 100개가 넘었던 판매글들은 내 앱에서는 다 보여지고 끌어올려지고 검색도 되는데 뭔가 이상해서 보니 다른 사람 앱에서는 모든 항목이 아예 0개. 내 눈에만 보이고 다른 사람한테 안 보이게 다 날려놓으면 누가 뭘 보고 사거나 나눔을 받지? 고객센터 운영이 전화도 아니면서 그럼 제대로 알아보고 써주던가 AI처럼 문의 글에 답변은 다 복사, 붙여넣기에 해결 의지 0.1%도 없고 앵무새처럼 같은 말만 반복. 전문판매업자로 신고 당해서 억울한 사람은 많은데 제대로 해결되었다는 사람은 못 봄. 다들 문의하고 속 터진 사람만 있던데.. 아무나 막 신고하면 검토도 안 하고 자동으로 되는 이런 말 같지도 않은 시스템. 그만 써야 하나 싶다.',\n",
              " '진짜 너무 짜증나네요 고객센터 답변.. 해결되는 것도 없고 뭐 어쩌라는건지 싶은 말만 늘어놓고 끝 진짜 짜증나요 다시 문의하기도 귀찮고 어차피 문의해도 똑같을테니 그냥 짜증나는 상태로 끝내야 해서 너무 짜증납니다 ㅡㅡ 당근 고객센터 문의해서 제대로 해결된 적이 없어요',\n",
              " '당근 채팅 이전 채팅하기 버튼으로 돌려주세요 안드로이드 유저는 뒤로가기 버튼 누르기가 익숙해서 편한데 판매글 볼 때마다 뒤로가기 바로 위에 보내기 있어서 자동 채팅 메세지 보내기 누를까봐 조마조마 합니다;; 이거 대체 누구 아이디어인가요 진짜 실수 한번으로 거래자들끼리 서로 불편하게 만드는 기능 좀 넣지 말았으면 좋겠습니다',\n",
              " '당근 앱을 오랫동안 잘 사용중인데요 새로생긴 AI작성 기능이 불편합니다 글 작성시 제가 쓴 글을 다 지워버리는 점, 사용하기 싫은데 일단 AI작성을 기다려야 하는 점이 너무 불편해요 사용 여부를 선택할 수 있게 해주셨으면 좋겠어요',\n",
              " '판매자에게 구매하려고 채팅 보낼때 자동채팅 기능이 메세지 창에 같이 있으니 다소 불편합니다. 메세지 보내려고 채팅하면 자동 문구가 먼저 보내져 이중으로 채팅이 전송될때가 있습니다. 기능 버튼을 다른 위치에 두고 완성형 문구를 선택해서 보낼수 있도록 하던가.. 이용객이 채팅은 알아서 할수 있도록 선택형으로 했으면 좋겠습니다.',\n",
              " '황당하네요 정말 거래이용제한에 해당사항도없는데 그냥 신고 잘못하는사람들때문에 억울하게 정지를 그냥 당해야하는건가요 ? 고객센터 아무리연락해도 제대로 된 답변없이 ai복붙메세지만 답변받고 2029년꺼지 정지라는말만 되풀이고 결국 더러워서 삭제까지햇더니 한참지난 오늘 문자로 메세지확인하라면서 문자왓네요 ㅋㅋㅋㅋㅋㅋ 진짜 어이가없네 정지시키는건 걍 시켜버리고 알람은 보내서 광고는해야허나보죠? 제 정보 삭제나하세요 알람보내지말고 ㅋㅋㅋ',\n",
              " '유저들의 이용을 바탕으로 성장했는데 고객문의는 남겨도 한달이 지나야 답변이 오는 처리태도에 할말없음. 근데 답변도 사람이 남긴건지 ai복붙수준임. 수년째 개선이 안되는것으로 봐선 개선의 의지가 없다고 봐야함. 광고에 혈안되서 수익창출에 열올리고, 사기꾼들만 잔뜩 양산하는데도 대책은 없음. 오히려 피해자들이 사기조심하라고 올리면 중고거래글이 아니라고 제재하거나 삭제해버림. 그럼 똑바로 관리나 하던가.',\n",
              " '오신고 하는 사용자에게도 제재를 줬으면 좋겠어요. 구매자가 직접 예매하는 관람권이라고 판매글에 사용 방법까지 써놨는데 그걸 누가 대리예매로 신고해서 한달 정지ㅋㅋㅋㅋ 신고 들어온 거 검수도 안하고 막 정지 때리는 게 맞는 건지?',\n",
              " '판매글 하나밖에 없는데 늦은저녘즘에 로그아웃되드니 영구제재당했습니다. 사유는 외부채널유도 사기랍니다. 링크에 링자도 쓴적없고 게시한적도 없는데 갑자기 아무이유없이 정지 당해버리니 정말 난감하고 화도납니다. 당근6년동안 이용하면서 이런적 한번도 없었는데 황당합니다. 아무리 좋은 ai를 쓴다고 하지만 상대방입장은 먼저 들어보고 제재를하던 정지를 하던 하는게 순서이지 않을까요? 저는 위반한내역이 맹세코 한번도 없습니다 주말이라 고객센터 운영도 안하고 상담사연결도 안되어서 제 작은낙이였던 당근을 못하니 정말 답답합니다. 그리고 고객센터 당근문의보내고 이메일도 보내놓은 상태입니다. 빠른조취 부탁드립니다',\n",
              " '당근 정책에 위반되는 어떠한 것도 하지 않았는데 재제당했습니다. 앱으로 문의드렸는데 해결이 되지않아서 리뷰 남겨드립니다. 현재 거래중인 사항이 있어서 빠르게 복구해야 물건을 발송드릴수있습니다. 제발 빠른 처리 부탁드릴게요',\n",
              " '직거래로 일반 소비자가 사용하기에는 좋은 어플이었습디다.. 그런데 최근 들어 점점 상업적으로 빠져들고 장사꾼들이 너무 판치는 것 같습니다.... 그리고 제발 고장 난 것들 올리지 못하게 해주세요 장난하는 것도 아니고',\n",
              " '알바도 채팅으로 들어와서 당근알바랑 당근패팅이랑 다 같이 알림창에 묶여서 너무 불편해요. 전에는 채팅이랑 별도로 알바 알림이 와서 따로 볼 수 있었는데 이제 같은 알림묶음에 있어서 채팅온 줄 모르고 그냥 지우다가 몇시간 후에 채팅확인하고 사과하고...그냥 전처럼 따로 알림이 왔으면 좋겠어요',\n",
              " '앱이 더 이상해짐. 자주쓰는글 선택하면 무조건 아래로 내려가고, 그걸 올리려고 복붙하려고 하면 드래그가 제대로 되지 않음. 그리고 다단계 전문판매업자 엄청 많은데 수십번을 신고 넣어도 제재 안 함',\n",
              " '당근마켓 관계자님, 최근 중고나라와 번개장터 등 경쟁 업체들이 터무니없는 수수료와 갑질 정책, 유료화 및 프로상점 운영 강제를 통한 수수료 뜯어먹기로 인해 유저들이 불만을 표시하고 있습니다. 당근이 처음 생긴 이래로 지금까지 써왔습니다. 당근이 아니라도 괜찮습니다. 회사측에서 온라인 중고플랫폼을 만들어 운영하시면 분명 시장을 선도하실 수 있으리라 생각됩니다!!!!!! 지금이 정말 좋은 기회가 아닐까 생각이 들어 이렇게 리뷰올립니다. 항상 질 좋은 거래와 소비자, 이용자들을 위한 정책을 펼쳐주시어 정말 감사합니다.',\n",
              " '와 진짜같은 계정으로 아들과 장난 쳤는데 미성년자 사유로 잘 쓰고 있던 당근 정지 당하고 손님하고 거래하고 있다가 연락 두절 나참 미리 언지도 없고 냅다정지 그리고 아이는계정 당근도 못만드는데 제계정으로 이중으로 만들어서 쓴건데 ai기능으로 알아보지도 않고 정지 그리고는 고개센터 이용불가 문의해도 12일째 그건 해도 해도 너무함 비슷한 어플 기능 있음 갈아타고 싶을정도임',\n",
              " '판매글에 직접 찍은 사진 한 장이라도 무조건 올리게 해주세요 실물사진없이 물건 판매하는 사람들이 너무 많아요 그리고 내 판매글 관리하는게 예전보다 번거로워졌어요 나의 당근탭에서 서비스항목을 아래쪽으로 내려주세요 내활동 관심목록보다 위에 있어서 너무 불편해요 그리고 채팅보내기 누르면 자꾸 엉뚱한 문구가 전송되서 매번 지워야해요 대체 이런 업데이트는 왜 한건지... 원래대로 돌려주세요',\n",
              " '대체 왜 뭐 때문에 오류로 인해 인증을해도 못 들어가고 다시 지웠다가 깔아도 안들어가지고 업뎃을 하고도 바뀐게 뭐가 있음..? 진짜 사람 짜증나게 하네요^^ 최대한 빨리 처리좀 부탁 드립니다.',\n",
              " '편하고 거래외 정보도 좋은데. 이유없이 정지 먹이고 잘 쓰고있다가 계정 삭제되는 경우는 너무 일방적인듯. 사용자가 많아 질수록 이상한 부정의 이용자가 많아지니 당연히 걸러내는 건 맞지만 통보후 진행되는게 좋은것 같아요 일부 거래중인 경우도 있을테니까. 여튼 당근 덕분에 이것저것 편하긴 합니다',\n",
              " '중고거래 앱중에 가장 나은 앱인것 같습니다.. 쓰기 편하고 정말 잘 만드셨어요. 하지만 별 3개 드리는 이유는 저같은 경우엔 계정이 해킹같은 걸 당해서 정지먹었는데 문의를 해도 답장을 아예 해주질 않거나 ai같은 말투로 계속 똑같은 문자만 와서 문제가 발생해도 해결이 안되요..ㅠ 매너온도 40 넘었는데.. 고객센터는 문의가 불가능한 수준이에요 그점만 빼면 괜찮습니다. 제발 도와주셨으면 하는 마음으로 리뷰 작성해봅니다.',\n",
              " '일반적이지 않은 방식으로 로그인 한적도 없는데 이런식으로 갑자기 영구이용제한을 시키면 저는 어떻게 하라는 건가요. 정확히 어떤 부분이 잘못되어서 정지한 것인지 제대로 답변해주시고, 제시가 안된다면 이용제한을 빨리 풀어주세요. 문의 남긴지 일주일이 되도록 답변이 없어 다시 재문의 님깁니다. 빠른 시일내에 처리 안되면 콘텐츠분쟁조정위원회에 해당 건 접수 할 예정입니다.',\n",
              " '일전에 작성한 리뷰에 기초에 기능 개선을 해주셔서 매우 잘 사용하고 있습니다.^^ 이번에도 이용하며 필요성을 느끼는 부분들 작성드려봅니다. 1. 판매자들에 대해서도 관심 혹은 단골 등록이 가능해지게 기능 추가 - 내 관심사, 목적에 부합하는 좋은 아이템들을 다루고 있는 판매자들의 판매글과 매물을 지속적으로 확인-모니터링 할 수 있게, 판매자들에 대해서도 관심-단골 등록 기능을 추가해주셨으면 합니다. 또한 검색에서도 \"판매자 검색\" 이 가능하게 해주시면 이용이 더 용이해질 것 같습니다. 2. pc 버젼의 이용환경, 인터페이스 를 모바일 수준으로 구현 - 품이 많이 들어가는 작업임이 예상되고, 시간이 많이 걸리기도 하겠으나, 일정 기간을 두고 지속적으로 작업해주셔도 좋으니, pc버젼 또한 모바일 수준으로 이용환경을 구축해주시면 좋겠습니다. 유용한 정보들을 모바일로만 보기엔 눈이 너무 아프고, 노트북-데스크탑으로 이용하기에도 좋아야 활용성-확장성 측면에서 이점이 많다고 봅니다.',\n",
              " '아르바이트나 중고거래 등 약속 공고 올릴때 정확한 장소(주소 번지수)를 알려주지 않아 찾아가고 싶어도 못찾아가는 경우가 종종 있습니다. 저같은 경우도 상대방이 자세한 내용을 전달하지 않아 주소를 몰라서 돌연 취소하거나 심한 경우는 찾아가다 헤매고 결국 헛걸음하는 등 낭패를 본 적 있었습니다. 어플에 건의하기 전에 이곳에 일단 올립니다.',\n",
              " '최근 업뎃 후 비정상 작동되는 현상이 발생하네요. 개인 1:1 채팅창은 우측상단 점 3개 버튼을 클릭 시 나갈 수 있는 경우도 있고 없는 경우도 있고... 일부 채팅창은 점3개 버튼 클릭 시 아무 반응이 없어서 채팅방을 나갈 수가 없네요. 개선이 필요하다 생각합니다! 감사합니다! 언제 저의 문의에 답변을 주실 수 있는지요?',\n",
              " '이 앱 사용하시기 전에 다른 앱 먼저 사용하시고 쓰시는걸 추천드립니다. 이용자 대다수가 너무 불친절 하거나, 기본적인 매너 자체가 안되어 있는 분들이 많습니다. 그리고 불필요한 전화 시스템은 왜 있는지 이해가 안되네요 이 점은 고쳐주시기 바라며, 신고 서비스도 개선 해주셨으면 합니다.',\n",
              " '[오류] 앱이 자꾸 중단됩니다. 백그라운드에 있는데 계속 중단되었다는 팝업이 뜨네요. 앱 실행 시 에도 바로 중단됩니다. 캐시 삭제, 앱 재설치 해봐도 동일합니다. 처음 증상은 글쓰기할 때 발생했습니다. 빠른 해결부탁드립니다...',\n",
              " '아니 다 좋았는데 당근페이 가입하려고 인증하자마자 갑자기 강제로 로그아웃을 해버리고 로그인 하려해도 사용 이력이(계정이) 없다고 합니다 참 어이가없네요 계정 날라갔구요 강제로 로그아웃 시키는건 진짜 아니라고 생각합니다 거래하려고 당근페이 가입했는데 로그아웃되면 제 계정 갑자기 없어져서 대화하던 상대방분이 얼마나 놀라시겠어요 그리고 당근페이로 이미 보내셨던데 물론 못 받았구요 가입하려다가 로그아웃을 당했으니^^ 실망입니다 이거때문에 스트레스 엄청 받았어요']"
            ]
          },
          "execution_count": 18,
          "metadata": {},
          "output_type": "execute_result"
        }
      ],
      "source": [
        "# 반복문을 사용하여 하위요소인 택스트 내용 추출\n",
        "texts = []\n",
        "for review in reviews:\n",
        "    text = review.find_element(By.CSS_SELECTOR, 'div.h3YV2d').get_attribute('innerText')\n",
        "    texts.append(text)\n",
        "texts"
      ]
    },
    {
      "cell_type": "markdown",
      "id": "d9f28247",
      "metadata": {
        "id": "d9f28247"
      },
      "source": [
        "#### 함수와 반복문을 활용하여 모든 요소의 데이터 추출"
      ]
    },
    {
      "cell_type": "code",
      "execution_count": 19,
      "id": "44e97b1d",
      "metadata": {
        "id": "44e97b1d"
      },
      "outputs": [],
      "source": [
        "def get_content(review):\n",
        "    condic = {}\n",
        "    condic['text'] = review.find_element(By.CSS_SELECTOR, 'div.h3YV2d').get_attribute('innerText').strip()\n",
        "    condic['id'] = review.find_element(By.CSS_SELECTOR, 'header.c1bOId').get_attribute('data-review-id')\n",
        "    condic['rat'] = len(review.find_elements(By.CSS_SELECTOR, 'span.Z1Dz7b'))\n",
        "    condic['date'] = review.find_element(By.CSS_SELECTOR, 'span.bp9Aid').get_attribute('innerText').strip()\n",
        "    return condic"
      ]
    },
    {
      "cell_type": "markdown",
      "id": "38b15998-984a-4f84-b108-2d952d4a3749",
      "metadata": {
        "id": "38b15998-984a-4f84-b108-2d952d4a3749"
      },
      "source": [
        "> 요소의 개수를 통해 별점을 산출"
      ]
    },
    {
      "cell_type": "code",
      "execution_count": 23,
      "id": "8e0cb644",
      "metadata": {
        "id": "8e0cb644",
        "outputId": "1e91d69a-cf8e-4726-f873-637177dde3a8",
        "scrolled": true
      },
      "outputs": [
        {
          "data": {
            "text/html": [
              "<div>\n",
              "<style scoped>\n",
              "    .dataframe tbody tr th:only-of-type {\n",
              "        vertical-align: middle;\n",
              "    }\n",
              "\n",
              "    .dataframe tbody tr th {\n",
              "        vertical-align: top;\n",
              "    }\n",
              "\n",
              "    .dataframe thead th {\n",
              "        text-align: right;\n",
              "    }\n",
              "</style>\n",
              "<table border=\"1\" class=\"dataframe\">\n",
              "  <thead>\n",
              "    <tr style=\"text-align: right;\">\n",
              "      <th></th>\n",
              "      <th>text</th>\n",
              "      <th>id</th>\n",
              "      <th>rat</th>\n",
              "      <th>date</th>\n",
              "    </tr>\n",
              "  </thead>\n",
              "  <tbody>\n",
              "    <tr>\n",
              "      <th>0</th>\n",
              "      <td>요증 업뎃하고 당근을 잘 사용하고 있습니다. 특히 ai 도움으로 사진만 올리면 내용...</td>\n",
              "      <td>ecc09086-6e94-4a9d-a34f-4c0f17818a0c</td>\n",
              "      <td>4</td>\n",
              "      <td>2025년 7월 22일</td>\n",
              "    </tr>\n",
              "    <tr>\n",
              "      <th>1</th>\n",
              "      <td>판매중인 물건에다가 안녕하세요 관심있어요 대화걸기 기능 너무 불필요합니다 구매자들의...</td>\n",
              "      <td>f503d3c7-c6d0-42b5-ab40-d59045611200</td>\n",
              "      <td>1</td>\n",
              "      <td>2025년 9월 8일</td>\n",
              "    </tr>\n",
              "    <tr>\n",
              "      <th>2</th>\n",
              "      <td>ai 채팅기능? 게시글에서 채팅 바로 보내는 새로 생긴 그 기능 채팅 설정에서 쓸 ...</td>\n",
              "      <td>7299e6f6-da21-41a4-b47d-a6b1aa2b8fcc</td>\n",
              "      <td>3</td>\n",
              "      <td>2025년 7월 25일</td>\n",
              "    </tr>\n",
              "    <tr>\n",
              "      <th>3</th>\n",
              "      <td>일단 서비스운영자체 팀이나 인원이 있는지 의문임. 고객센터 연락처는 커녕 사람이 없...</td>\n",
              "      <td>c298cd3c-b929-47c0-a53d-149493e77980</td>\n",
              "      <td>1</td>\n",
              "      <td>2025년 9월 10일</td>\n",
              "    </tr>\n",
              "    <tr>\n",
              "      <th>4</th>\n",
              "      <td>1. 제가 상품권판매를 부정하게 한 것도 아니고, 영화티켓 '나눔'글을 올렸을 뿐인...</td>\n",
              "      <td>0af07de5-f236-4a8b-98ff-ae8f6b212632</td>\n",
              "      <td>2</td>\n",
              "      <td>2024년 10월 11일</td>\n",
              "    </tr>\n",
              "    <tr>\n",
              "      <th>...</th>\n",
              "      <td>...</td>\n",
              "      <td>...</td>\n",
              "      <td>...</td>\n",
              "      <td>...</td>\n",
              "    </tr>\n",
              "    <tr>\n",
              "      <th>215</th>\n",
              "      <td>아르바이트나 중고거래 등 약속 공고 올릴때 정확한 장소(주소 번지수)를 알려주지 않...</td>\n",
              "      <td>b0935f5e-182b-4c33-ac72-6678abeb324a</td>\n",
              "      <td>4</td>\n",
              "      <td>2025년 8월 16일</td>\n",
              "    </tr>\n",
              "    <tr>\n",
              "      <th>216</th>\n",
              "      <td>최근 업뎃 후 비정상 작동되는 현상이 발생하네요. 개인 1:1 채팅창은 우측상단 점...</td>\n",
              "      <td>eb3ceb0c-88e4-4b1c-8f32-2d6a004c4971</td>\n",
              "      <td>3</td>\n",
              "      <td>2025년 8월 24일</td>\n",
              "    </tr>\n",
              "    <tr>\n",
              "      <th>217</th>\n",
              "      <td>이 앱 사용하시기 전에 다른 앱 먼저 사용하시고 쓰시는걸 추천드립니다. 이용자 대다...</td>\n",
              "      <td>002cc792-ddf0-4b8f-8429-4a7538f6cd64</td>\n",
              "      <td>2</td>\n",
              "      <td>2025년 9월 19일</td>\n",
              "    </tr>\n",
              "    <tr>\n",
              "      <th>218</th>\n",
              "      <td>[오류] 앱이 자꾸 중단됩니다. 백그라운드에 있는데 계속 중단되었다는 팝업이 뜨네요...</td>\n",
              "      <td>4cfc029c-61c3-4998-852b-98e940d4155b</td>\n",
              "      <td>3</td>\n",
              "      <td>2025년 10월 1일</td>\n",
              "    </tr>\n",
              "    <tr>\n",
              "      <th>219</th>\n",
              "      <td>아니 다 좋았는데 당근페이 가입하려고 인증하자마자 갑자기 강제로 로그아웃을 해버리고...</td>\n",
              "      <td>2351da72-4c24-4c02-bc87-be0404dccf93</td>\n",
              "      <td>1</td>\n",
              "      <td>2025년 10월 3일</td>\n",
              "    </tr>\n",
              "  </tbody>\n",
              "</table>\n",
              "<p>220 rows × 4 columns</p>\n",
              "</div>"
            ],
            "text/plain": [
              "                                                  text  \\\n",
              "0    요증 업뎃하고 당근을 잘 사용하고 있습니다. 특히 ai 도움으로 사진만 올리면 내용...   \n",
              "1    판매중인 물건에다가 안녕하세요 관심있어요 대화걸기 기능 너무 불필요합니다 구매자들의...   \n",
              "2    ai 채팅기능? 게시글에서 채팅 바로 보내는 새로 생긴 그 기능 채팅 설정에서 쓸 ...   \n",
              "3    일단 서비스운영자체 팀이나 인원이 있는지 의문임. 고객센터 연락처는 커녕 사람이 없...   \n",
              "4    1. 제가 상품권판매를 부정하게 한 것도 아니고, 영화티켓 '나눔'글을 올렸을 뿐인...   \n",
              "..                                                 ...   \n",
              "215  아르바이트나 중고거래 등 약속 공고 올릴때 정확한 장소(주소 번지수)를 알려주지 않...   \n",
              "216  최근 업뎃 후 비정상 작동되는 현상이 발생하네요. 개인 1:1 채팅창은 우측상단 점...   \n",
              "217  이 앱 사용하시기 전에 다른 앱 먼저 사용하시고 쓰시는걸 추천드립니다. 이용자 대다...   \n",
              "218  [오류] 앱이 자꾸 중단됩니다. 백그라운드에 있는데 계속 중단되었다는 팝업이 뜨네요...   \n",
              "219  아니 다 좋았는데 당근페이 가입하려고 인증하자마자 갑자기 강제로 로그아웃을 해버리고...   \n",
              "\n",
              "                                       id  rat           date  \n",
              "0    ecc09086-6e94-4a9d-a34f-4c0f17818a0c    4   2025년 7월 22일  \n",
              "1    f503d3c7-c6d0-42b5-ab40-d59045611200    1    2025년 9월 8일  \n",
              "2    7299e6f6-da21-41a4-b47d-a6b1aa2b8fcc    3   2025년 7월 25일  \n",
              "3    c298cd3c-b929-47c0-a53d-149493e77980    1   2025년 9월 10일  \n",
              "4    0af07de5-f236-4a8b-98ff-ae8f6b212632    2  2024년 10월 11일  \n",
              "..                                    ...  ...            ...  \n",
              "215  b0935f5e-182b-4c33-ac72-6678abeb324a    4   2025년 8월 16일  \n",
              "216  eb3ceb0c-88e4-4b1c-8f32-2d6a004c4971    3   2025년 8월 24일  \n",
              "217  002cc792-ddf0-4b8f-8429-4a7538f6cd64    2   2025년 9월 19일  \n",
              "218  4cfc029c-61c3-4998-852b-98e940d4155b    3   2025년 10월 1일  \n",
              "219  2351da72-4c24-4c02-bc87-be0404dccf93    1   2025년 10월 3일  \n",
              "\n",
              "[220 rows x 4 columns]"
            ]
          },
          "execution_count": 23,
          "metadata": {},
          "output_type": "execute_result"
        }
      ],
      "source": [
        "import pandas as pd\n",
        "result = []\n",
        "\n",
        "for content in driver.find_elements(By.CSS_SELECTOR, 'div.RHo1pe'):\n",
        "    try:\n",
        "        dic = get_content(content)\n",
        "        result.append(dic)\n",
        "    except:\n",
        "        print('error')\n",
        "        pass\n",
        "\n",
        "df = pd.DataFrame(result)\n",
        "df"
      ]
    },
    {
      "cell_type": "code",
      "execution_count": null,
      "id": "7e27b407",
      "metadata": {
        "id": "7e27b407"
      },
      "outputs": [],
      "source": [
        "# 데이터 폴더 생성 후\n",
        "import os\n",
        "os.makedirs('data', exist_ok=True)  # 디렉토리 생성 (이미 존재하면 무시)\n",
        "\n",
        "df.to_csv('./data/reviews.csv', index=False)"
      ]
    }
  ],
  "metadata": {
    "colab": {
      "provenance": [],
      "toc_visible": true
    },
    "kernelspec": {
      "display_name": "python 3.12",
      "language": "python",
      "name": "py312_jupyter"
    },
    "language_info": {
      "codemirror_mode": {
        "name": "ipython",
        "version": 3
      },
      "file_extension": ".py",
      "mimetype": "text/x-python",
      "name": "python",
      "nbconvert_exporter": "python",
      "pygments_lexer": "ipython3",
      "version": "3.12.11"
    }
  },
  "nbformat": 4,
  "nbformat_minor": 5
}
